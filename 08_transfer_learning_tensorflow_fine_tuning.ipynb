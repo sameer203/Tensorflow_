{
  "nbformat": 4,
  "nbformat_minor": 0,
  "metadata": {
    "colab": {
      "name": "08_transfer_learning_tensorflow_fine_tuning.ipynb",
      "provenance": [],
      "collapsed_sections": [],
      "authorship_tag": "ABX9TyPf+X3xr/1DrFEA7h5hBi7U",
      "include_colab_link": true
    },
    "kernelspec": {
      "name": "python3",
      "display_name": "Python 3"
    },
    "language_info": {
      "name": "python"
    },
    "accelerator": "GPU"
  },
  "cells": [
    {
      "cell_type": "markdown",
      "metadata": {
        "id": "view-in-github",
        "colab_type": "text"
      },
      "source": [
        "<a href=\"https://colab.research.google.com/github/sameer203/Tensorflow_/blob/main/08_transfer_learning_tensorflow_fine_tuning.ipynb\" target=\"_parent\"><img src=\"https://colab.research.google.com/assets/colab-badge.svg\" alt=\"Open In Colab\"/></a>"
      ]
    },
    {
      "cell_type": "code",
      "metadata": {
        "colab": {
          "base_uri": "https://localhost:8080/"
        },
        "id": "t1Hajmxz_rN5",
        "outputId": "9c794d1a-e165-427c-dae2-a210ec35a5ee"
      },
      "source": [
        "!nvidia-smi"
      ],
      "execution_count": 2,
      "outputs": [
        {
          "output_type": "stream",
          "name": "stdout",
          "text": [
            "NVIDIA-SMI has failed because it couldn't communicate with the NVIDIA driver. Make sure that the latest NVIDIA driver is installed and running.\n",
            "\n"
          ]
        }
      ]
    },
    {
      "cell_type": "markdown",
      "metadata": {
        "id": "URT-JIuU_8ws"
      },
      "source": [
        "### Creating the Helper function"
      ]
    },
    {
      "cell_type": "code",
      "metadata": {
        "colab": {
          "base_uri": "https://localhost:8080/"
        },
        "id": "DdSBka5hALtp",
        "outputId": "b8a9b077-4d0e-492c-d9ee-4a37b00b990f"
      },
      "source": [
        "!wget https://raw.githubusercontent.com/mrdbourke/tensorflow-deep-learning/main/extras/helper_functions.py"
      ],
      "execution_count": 3,
      "outputs": [
        {
          "output_type": "stream",
          "name": "stdout",
          "text": [
            "--2021-10-25 07:02:55--  https://raw.githubusercontent.com/mrdbourke/tensorflow-deep-learning/main/extras/helper_functions.py\n",
            "Resolving raw.githubusercontent.com (raw.githubusercontent.com)... 185.199.108.133, 185.199.111.133, 185.199.110.133, ...\n",
            "Connecting to raw.githubusercontent.com (raw.githubusercontent.com)|185.199.108.133|:443... connected.\n",
            "HTTP request sent, awaiting response... 200 OK\n",
            "Length: 10246 (10K) [text/plain]\n",
            "Saving to: ‘helper_functions.py’\n",
            "\n",
            "\rhelper_functions.py   0%[                    ]       0  --.-KB/s               \rhelper_functions.py 100%[===================>]  10.01K  --.-KB/s    in 0s      \n",
            "\n",
            "2021-10-25 07:02:55 (55.0 MB/s) - ‘helper_functions.py’ saved [10246/10246]\n",
            "\n"
          ]
        }
      ]
    },
    {
      "cell_type": "code",
      "metadata": {
        "id": "IDM6KgDjAeZp"
      },
      "source": [
        "# import helper functions\n",
        "import helper_functions"
      ],
      "execution_count": 4,
      "outputs": []
    },
    {
      "cell_type": "code",
      "metadata": {
        "id": "LplohZZBA4I5"
      },
      "source": [
        "from helper_functions import create_tensorboard_callback, plot_loss_curves, unzip_data, walk_through_dir"
      ],
      "execution_count": 5,
      "outputs": []
    },
    {
      "cell_type": "markdown",
      "metadata": {
        "id": "HbbQ-IvXBdgL"
      },
      "source": [
        "### Input Data"
      ]
    },
    {
      "cell_type": "code",
      "metadata": {
        "colab": {
          "base_uri": "https://localhost:8080/"
        },
        "id": "Gra0Zn2FBC2m",
        "outputId": "0dc4f1b3-7cb8-4e37-fc45-b36a25fed204"
      },
      "source": [
        "# Input Data\n",
        "!wget https://storage.googleapis.com/ztm_tf_course/food_vision/10_food_classes_10_percent.zip\n",
        "\n",
        "unzip_data(\"10_food_classes_10_percent.zip\")"
      ],
      "execution_count": 6,
      "outputs": [
        {
          "output_type": "stream",
          "name": "stdout",
          "text": [
            "--2021-10-25 07:03:12--  https://storage.googleapis.com/ztm_tf_course/food_vision/10_food_classes_10_percent.zip\n",
            "Resolving storage.googleapis.com (storage.googleapis.com)... 142.251.8.128, 74.125.23.128, 74.125.203.128, ...\n",
            "Connecting to storage.googleapis.com (storage.googleapis.com)|142.251.8.128|:443... connected.\n",
            "HTTP request sent, awaiting response... 200 OK\n",
            "Length: 168546183 (161M) [application/zip]\n",
            "Saving to: ‘10_food_classes_10_percent.zip’\n",
            "\n",
            "10_food_classes_10_ 100%[===================>] 160.74M  54.1MB/s    in 3.0s    \n",
            "\n",
            "2021-10-25 07:03:16 (54.1 MB/s) - ‘10_food_classes_10_percent.zip’ saved [168546183/168546183]\n",
            "\n"
          ]
        }
      ]
    },
    {
      "cell_type": "code",
      "metadata": {
        "colab": {
          "base_uri": "https://localhost:8080/"
        },
        "id": "RM-wb9M5CCW0",
        "outputId": "cf566a5f-b8bf-42fa-88ee-62cdb04cff64"
      },
      "source": [
        "walk_through_dir(\"10_food_classes_10_percent\")"
      ],
      "execution_count": 7,
      "outputs": [
        {
          "output_type": "stream",
          "name": "stdout",
          "text": [
            "There are 2 directories and 0 images in '10_food_classes_10_percent'.\n",
            "There are 10 directories and 0 images in '10_food_classes_10_percent/train'.\n",
            "There are 0 directories and 75 images in '10_food_classes_10_percent/train/sushi'.\n",
            "There are 0 directories and 75 images in '10_food_classes_10_percent/train/ramen'.\n",
            "There are 0 directories and 75 images in '10_food_classes_10_percent/train/ice_cream'.\n",
            "There are 0 directories and 75 images in '10_food_classes_10_percent/train/steak'.\n",
            "There are 0 directories and 75 images in '10_food_classes_10_percent/train/pizza'.\n",
            "There are 0 directories and 75 images in '10_food_classes_10_percent/train/fried_rice'.\n",
            "There are 0 directories and 75 images in '10_food_classes_10_percent/train/chicken_wings'.\n",
            "There are 0 directories and 75 images in '10_food_classes_10_percent/train/grilled_salmon'.\n",
            "There are 0 directories and 75 images in '10_food_classes_10_percent/train/chicken_curry'.\n",
            "There are 0 directories and 75 images in '10_food_classes_10_percent/train/hamburger'.\n",
            "There are 10 directories and 0 images in '10_food_classes_10_percent/test'.\n",
            "There are 0 directories and 250 images in '10_food_classes_10_percent/test/sushi'.\n",
            "There are 0 directories and 250 images in '10_food_classes_10_percent/test/ramen'.\n",
            "There are 0 directories and 250 images in '10_food_classes_10_percent/test/ice_cream'.\n",
            "There are 0 directories and 250 images in '10_food_classes_10_percent/test/steak'.\n",
            "There are 0 directories and 250 images in '10_food_classes_10_percent/test/pizza'.\n",
            "There are 0 directories and 250 images in '10_food_classes_10_percent/test/fried_rice'.\n",
            "There are 0 directories and 250 images in '10_food_classes_10_percent/test/chicken_wings'.\n",
            "There are 0 directories and 250 images in '10_food_classes_10_percent/test/grilled_salmon'.\n",
            "There are 0 directories and 250 images in '10_food_classes_10_percent/test/chicken_curry'.\n",
            "There are 0 directories and 250 images in '10_food_classes_10_percent/test/hamburger'.\n"
          ]
        }
      ]
    },
    {
      "cell_type": "code",
      "metadata": {
        "id": "i-sUd8UKCOWE"
      },
      "source": [
        "#Create training and test directory paths\n",
        "\n",
        "train_dir = \"10_food_classes_10_percent/train/\"\n",
        "test_dir = \"10_food_classes_10_percent/test/\""
      ],
      "execution_count": 8,
      "outputs": []
    },
    {
      "cell_type": "code",
      "metadata": {
        "colab": {
          "base_uri": "https://localhost:8080/"
        },
        "id": "BY8RyjifCnQB",
        "outputId": "5d92d386-2f3e-4da4-c703-7127f64564c0"
      },
      "source": [
        "import tensorflow as tf\n",
        "\n",
        "IMG_SIZE = (224, 224)\n",
        "BATCH_SIZE = 32\n",
        "train_data_10_percent = tf.keras.preprocessing.image_dataset_from_directory(directory=train_dir,\n",
        "                                                                            image_size=IMG_SIZE,\n",
        "                                                                            label_mode=\"categorical\",\n",
        "                                                                            batch_size=BATCH_SIZE)\n",
        "test_data = tf.keras.preprocessing.image_dataset_from_directory(directory=test_dir,\n",
        "                                                                            image_size=IMG_SIZE,\n",
        "                                                                            label_mode=\"categorical\",\n",
        "                                                                            batch_size=BATCH_SIZE)"
      ],
      "execution_count": 9,
      "outputs": [
        {
          "output_type": "stream",
          "name": "stdout",
          "text": [
            "Found 750 files belonging to 10 classes.\n",
            "Found 2500 files belonging to 10 classes.\n"
          ]
        }
      ]
    },
    {
      "cell_type": "code",
      "metadata": {
        "colab": {
          "base_uri": "https://localhost:8080/"
        },
        "id": "jwHf_HjDDrOX",
        "outputId": "5108bba6-ffb3-420e-b4e7-12ff65fc4ef6"
      },
      "source": [
        "train_data_10_percent"
      ],
      "execution_count": 10,
      "outputs": [
        {
          "output_type": "execute_result",
          "data": {
            "text/plain": [
              "<BatchDataset shapes: ((None, 224, 224, 3), (None, 10)), types: (tf.float32, tf.float32)>"
            ]
          },
          "metadata": {},
          "execution_count": 10
        }
      ]
    },
    {
      "cell_type": "code",
      "metadata": {
        "colab": {
          "base_uri": "https://localhost:8080/"
        },
        "id": "N1dDITy1D09u",
        "outputId": "6c63638e-2f77-4065-a9db-aba814ccbf03"
      },
      "source": [
        "train_data_10_percent.class_names"
      ],
      "execution_count": 11,
      "outputs": [
        {
          "output_type": "execute_result",
          "data": {
            "text/plain": [
              "['chicken_curry',\n",
              " 'chicken_wings',\n",
              " 'fried_rice',\n",
              " 'grilled_salmon',\n",
              " 'hamburger',\n",
              " 'ice_cream',\n",
              " 'pizza',\n",
              " 'ramen',\n",
              " 'steak',\n",
              " 'sushi']"
            ]
          },
          "metadata": {},
          "execution_count": 11
        }
      ]
    },
    {
      "cell_type": "code",
      "metadata": {
        "id": "bvxjx39UESrq"
      },
      "source": [
        "#for images, labels in train_data_10_percent.take(1):\n",
        "  #print(images, labels)"
      ],
      "execution_count": 12,
      "outputs": []
    },
    {
      "cell_type": "markdown",
      "metadata": {
        "id": "Opr7efpoEbpa"
      },
      "source": [
        "### Model 0: Building a transfer learning model using the Keras Function"
      ]
    },
    {
      "cell_type": "code",
      "metadata": {
        "colab": {
          "base_uri": "https://localhost:8080/"
        },
        "id": "CbJWAWQpOdla",
        "outputId": "134b31dc-5410-4d6b-87ab-db3c2e60fff8"
      },
      "source": [
        "# Create the base model\n",
        "base_model = tf.keras.applications.EfficientNetB0(include_top=False)\n",
        "\n",
        "# Freeze the base model\n",
        "base_model.trainable = False\n",
        "\n",
        "# Create inputs into model\n",
        "inputs = tf.keras.layers.Input(shape=(224, 224,3), name=\"input_layer\")\n",
        "\n",
        "# Normalize the inputs\n",
        "#x = tf.keras.experimental.preprosessing.Rescaling(1./255)(inputs)\n",
        "\n",
        "# Pass the inputs to base model\n",
        "x = base_model(inputs)\n",
        "print(f\"Shapes after passing inputs through base model:{x.shape}\")\n",
        "\n",
        "# Average pool the outputs of the base model\n",
        "x = tf.keras.layers.GlobalAveragePooling2D(name=\"global_average_pooling_layer\")(x)\n",
        "print(f\"Shapes after GlobalAveragePooling2D:{x.shape}\")\n",
        "\n",
        "# Create the output activation layer\n",
        "outputs = tf.keras.layers.Dense(10, activation=\"softmax\", name=\"output_layer\")(x)\n",
        "\n",
        "# Combine the inputs and outputs\n",
        "model_0 = tf.keras.Model(inputs, outputs)\n"
      ],
      "execution_count": 13,
      "outputs": [
        {
          "output_type": "stream",
          "name": "stdout",
          "text": [
            "Downloading data from https://storage.googleapis.com/keras-applications/efficientnetb0_notop.h5\n",
            "16711680/16705208 [==============================] - 0s 0us/step\n",
            "16719872/16705208 [==============================] - 0s 0us/step\n",
            "Shapes after passing inputs through base model:(None, 7, 7, 1280)\n",
            "Shapes after GlobalAveragePooling2D:(None, 1280)\n"
          ]
        }
      ]
    },
    {
      "cell_type": "code",
      "metadata": {
        "id": "Ixz8f_XnQgs0"
      },
      "source": [
        "# Compile the model\n",
        "model_0.compile(loss=\"categorical_crossentropy\",\n",
        "                optimizer=tf.keras.optimizers.Adam(),\n",
        "                metrics=[\"accuracy\"])"
      ],
      "execution_count": 15,
      "outputs": []
    },
    {
      "cell_type": "code",
      "metadata": {
        "colab": {
          "base_uri": "https://localhost:8080/"
        },
        "id": "It05j9hvRLhA",
        "outputId": "85f0930d-d1c1-424b-a8a7-8c96597b2a19"
      },
      "source": [
        "# Fit the model\n",
        "history_0 = model_0.fit(train_data_10_percent,\n",
        "            epochs=5,\n",
        "            steps_per_epoch=len(train_data_10_percent),\n",
        "            validation_data=test_data,\n",
        "            validation_steps=int(0.25 * len(test_data)),\n",
        "            callbacks=[create_tensorboard_callback(dir_name=\"tensorflow_hub\",\n",
        "                                                   experiment_name=\"model_0\")])"
      ],
      "execution_count": 16,
      "outputs": [
        {
          "output_type": "stream",
          "name": "stdout",
          "text": [
            "Saving TensorBoard log files to: tensorflow_hub/model_0/20211025-071031\n",
            "Epoch 1/5\n"
          ]
        },
        {
          "output_type": "stream",
          "name": "stderr",
          "text": [
            "/usr/local/lib/python3.7/dist-packages/keras/utils/generic_utils.py:497: CustomMaskWarning: Custom mask layers require a config and must override get_config. When loading, the custom mask layer must be passed to the custom_objects argument.\n",
            "  category=CustomMaskWarning)\n"
          ]
        },
        {
          "output_type": "stream",
          "name": "stdout",
          "text": [
            "24/24 [==============================] - 87s 3s/step - loss: 1.9266 - accuracy: 0.3880 - val_loss: 1.3668 - val_accuracy: 0.7056\n",
            "Epoch 2/5\n",
            "24/24 [==============================] - 78s 3s/step - loss: 1.1700 - accuracy: 0.7333 - val_loss: 0.9460 - val_accuracy: 0.7961\n",
            "Epoch 3/5\n",
            "24/24 [==============================] - 79s 3s/step - loss: 0.8521 - accuracy: 0.8080 - val_loss: 0.7803 - val_accuracy: 0.8109\n",
            "Epoch 4/5\n",
            "24/24 [==============================] - 78s 3s/step - loss: 0.6965 - accuracy: 0.8333 - val_loss: 0.6743 - val_accuracy: 0.8289\n",
            "Epoch 5/5\n",
            "24/24 [==============================] - 77s 3s/step - loss: 0.5891 - accuracy: 0.8733 - val_loss: 0.6239 - val_accuracy: 0.8405\n"
          ]
        }
      ]
    },
    {
      "cell_type": "code",
      "metadata": {
        "colab": {
          "base_uri": "https://localhost:8080/"
        },
        "id": "3VgGmr85SVG2",
        "outputId": "9ece07c8-3004-4193-ab8b-1f82c02ca849"
      },
      "source": [
        "# Check the layersin base model\n",
        "for layer_number, layer in enumerate(base_model.layers):\n",
        "  print(layer_number, layer)"
      ],
      "execution_count": 17,
      "outputs": [
        {
          "output_type": "stream",
          "name": "stdout",
          "text": [
            "0 <keras.engine.input_layer.InputLayer object at 0x7fe14e11d610>\n",
            "1 <keras.layers.preprocessing.image_preprocessing.Rescaling object at 0x7fe14e0d4f10>\n",
            "2 <keras.layers.preprocessing.normalization.Normalization object at 0x7fe14d717e50>\n",
            "3 <keras.layers.convolutional.ZeroPadding2D object at 0x7fe14d717ed0>\n",
            "4 <keras.layers.convolutional.Conv2D object at 0x7fe14d6cf150>\n",
            "5 <keras.layers.normalization.batch_normalization.BatchNormalization object at 0x7fe14d6d9dd0>\n",
            "6 <keras.layers.core.Activation object at 0x7fe14d698bd0>\n",
            "7 <keras.layers.convolutional.DepthwiseConv2D object at 0x7fe14d66a690>\n",
            "8 <keras.layers.normalization.batch_normalization.BatchNormalization object at 0x7fe14d64f450>\n",
            "9 <keras.layers.core.Activation object at 0x7fe14d67ec90>\n",
            "10 <keras.layers.pooling.GlobalAveragePooling2D object at 0x7fe14e45e210>\n",
            "11 <keras.layers.core.Reshape object at 0x7fe14d616290>\n",
            "12 <keras.layers.convolutional.Conv2D object at 0x7fe14e0d4c90>\n",
            "13 <keras.layers.convolutional.Conv2D object at 0x7fe14d621510>\n",
            "14 <keras.layers.merge.Multiply object at 0x7fe14d62bdd0>\n",
            "15 <keras.layers.convolutional.Conv2D object at 0x7fe14d632dd0>\n",
            "16 <keras.layers.normalization.batch_normalization.BatchNormalization object at 0x7fe14d62d8d0>\n",
            "17 <keras.layers.convolutional.Conv2D object at 0x7fe14d63b290>\n",
            "18 <keras.layers.normalization.batch_normalization.BatchNormalization object at 0x7fe14d5c8350>\n",
            "19 <keras.layers.core.Activation object at 0x7fe14d5c3090>\n",
            "20 <keras.layers.convolutional.ZeroPadding2D object at 0x7fe14d5cd210>\n",
            "21 <keras.layers.convolutional.DepthwiseConv2D object at 0x7fe14d5df310>\n",
            "22 <keras.layers.normalization.batch_normalization.BatchNormalization object at 0x7fe14d5dfe50>\n",
            "23 <keras.layers.core.Activation object at 0x7fe14d5cdf50>\n",
            "24 <keras.layers.pooling.GlobalAveragePooling2D object at 0x7fe14d5c3c90>\n",
            "25 <keras.layers.core.Reshape object at 0x7fe14d604ed0>\n",
            "26 <keras.layers.convolutional.Conv2D object at 0x7fe14d616650>\n",
            "27 <keras.layers.convolutional.Conv2D object at 0x7fe14d644d50>\n",
            "28 <keras.layers.merge.Multiply object at 0x7fe14d698d90>\n",
            "29 <keras.layers.convolutional.Conv2D object at 0x7fe14d644310>\n",
            "30 <keras.layers.normalization.batch_normalization.BatchNormalization object at 0x7fe14d5eb050>\n",
            "31 <keras.layers.convolutional.Conv2D object at 0x7fe14d88c410>\n",
            "32 <keras.layers.normalization.batch_normalization.BatchNormalization object at 0x7fe14d5fbd10>\n",
            "33 <keras.layers.core.Activation object at 0x7fe14d582c50>\n",
            "34 <keras.layers.convolutional.DepthwiseConv2D object at 0x7fe14d58e690>\n",
            "35 <keras.layers.normalization.batch_normalization.BatchNormalization object at 0x7fe14d58e490>\n",
            "36 <keras.layers.core.Activation object at 0x7fe14d5933d0>\n",
            "37 <keras.layers.pooling.GlobalAveragePooling2D object at 0x7fe14d59ba10>\n",
            "38 <keras.layers.core.Reshape object at 0x7fe14d5a2350>\n",
            "39 <keras.layers.convolutional.Conv2D object at 0x7fe14d7fb310>\n",
            "40 <keras.layers.convolutional.Conv2D object at 0x7fe14d5aab90>\n",
            "41 <keras.layers.merge.Multiply object at 0x7fe14d5b7650>\n",
            "42 <keras.layers.convolutional.Conv2D object at 0x7fe14d5aaa50>\n",
            "43 <keras.layers.normalization.batch_normalization.BatchNormalization object at 0x7fe14d542590>\n",
            "44 <keras.layers.core.Dropout object at 0x7fe14d54b0d0>\n",
            "45 <keras.layers.merge.Add object at 0x7fe14d5aab10>\n",
            "46 <keras.layers.convolutional.Conv2D object at 0x7fe14d553f50>\n",
            "47 <keras.layers.normalization.batch_normalization.BatchNormalization object at 0x7fe14d565190>\n",
            "48 <keras.layers.core.Activation object at 0x7fe14d5bcb10>\n",
            "49 <keras.layers.convolutional.ZeroPadding2D object at 0x7fe14d562a10>\n",
            "50 <keras.layers.convolutional.DepthwiseConv2D object at 0x7fe14d57e310>\n",
            "51 <keras.layers.normalization.batch_normalization.BatchNormalization object at 0x7fe14d57e850>\n",
            "52 <keras.layers.core.Activation object at 0x7fe14d553850>\n",
            "53 <keras.layers.pooling.GlobalAveragePooling2D object at 0x7fe14d507590>\n",
            "54 <keras.layers.core.Reshape object at 0x7fe14d50f950>\n",
            "55 <keras.layers.convolutional.Conv2D object at 0x7fe14d50ab10>\n",
            "56 <keras.layers.convolutional.Conv2D object at 0x7fe14d51a390>\n",
            "57 <keras.layers.merge.Multiply object at 0x7fe14d526e90>\n",
            "58 <keras.layers.convolutional.Conv2D object at 0x7fe14d553d90>\n",
            "59 <keras.layers.normalization.batch_normalization.BatchNormalization object at 0x7fe14d52ed50>\n",
            "60 <keras.layers.convolutional.Conv2D object at 0x7fe14d540950>\n",
            "61 <keras.layers.normalization.batch_normalization.BatchNormalization object at 0x7fe14d53ae10>\n",
            "62 <keras.layers.core.Activation object at 0x7fe14d529b50>\n",
            "63 <keras.layers.convolutional.DepthwiseConv2D object at 0x7fe14d562790>\n",
            "64 <keras.layers.normalization.batch_normalization.BatchNormalization object at 0x7fe14d550d10>\n",
            "65 <keras.layers.core.Activation object at 0x7fe14d529c90>\n",
            "66 <keras.layers.pooling.GlobalAveragePooling2D object at 0x7fe14d59d990>\n",
            "67 <keras.layers.core.Reshape object at 0x7fe14d5e9510>\n",
            "68 <keras.layers.convolutional.Conv2D object at 0x7fe14d6579d0>\n",
            "69 <keras.layers.convolutional.Conv2D object at 0x7fe14d4c4bd0>\n",
            "70 <keras.layers.merge.Multiply object at 0x7fe14d4cd610>\n",
            "71 <keras.layers.convolutional.Conv2D object at 0x7fe14d4c4090>\n",
            "72 <keras.layers.normalization.batch_normalization.BatchNormalization object at 0x7fe14d4d6550>\n",
            "73 <keras.layers.core.Dropout object at 0x7fe14d4dead0>\n",
            "74 <keras.layers.merge.Add object at 0x7fe14d4de350>\n",
            "75 <keras.layers.convolutional.Conv2D object at 0x7fe14d582110>\n",
            "76 <keras.layers.normalization.batch_normalization.BatchNormalization object at 0x7fe14d4ed2d0>\n",
            "77 <keras.layers.core.Activation object at 0x7fe14d4f26d0>\n",
            "78 <keras.layers.convolutional.ZeroPadding2D object at 0x7fe14d4d1f50>\n",
            "79 <keras.layers.convolutional.DepthwiseConv2D object at 0x7fe14d4fed10>\n",
            "80 <keras.layers.normalization.batch_normalization.BatchNormalization object at 0x7fe14d4fef10>\n",
            "81 <keras.layers.core.Activation object at 0x7fe14d483ad0>\n",
            "82 <keras.layers.pooling.GlobalAveragePooling2D object at 0x7fe14d489950>\n",
            "83 <keras.layers.core.Reshape object at 0x7fe14d493490>\n",
            "84 <keras.layers.convolutional.Conv2D object at 0x7fe14d49fc90>\n",
            "85 <keras.layers.convolutional.Conv2D object at 0x7fe14d499ad0>\n",
            "86 <keras.layers.merge.Multiply object at 0x7fe14d4ad4d0>\n",
            "87 <keras.layers.convolutional.Conv2D object at 0x7fe14d4b6590>\n",
            "88 <keras.layers.normalization.batch_normalization.BatchNormalization object at 0x7fe14d4b1910>\n",
            "89 <keras.layers.convolutional.Conv2D object at 0x7fe14d4bba50>\n",
            "90 <keras.layers.normalization.batch_normalization.BatchNormalization object at 0x7fe14d448f90>\n",
            "91 <keras.layers.core.Activation object at 0x7fe14d448950>\n",
            "92 <keras.layers.convolutional.DepthwiseConv2D object at 0x7fe14d44f250>\n",
            "93 <keras.layers.normalization.batch_normalization.BatchNormalization object at 0x7fe14d458850>\n",
            "94 <keras.layers.core.Activation object at 0x7fe14d454b50>\n",
            "95 <keras.layers.pooling.GlobalAveragePooling2D object at 0x7fe14d44fb50>\n",
            "96 <keras.layers.core.Reshape object at 0x7fe14d46e550>\n",
            "97 <keras.layers.convolutional.Conv2D object at 0x7fe14d4756d0>\n",
            "98 <keras.layers.convolutional.Conv2D object at 0x7fe14d468490>\n",
            "99 <keras.layers.merge.Multiply object at 0x7fe14d402190>\n",
            "100 <keras.layers.convolutional.Conv2D object at 0x7fe14d405490>\n",
            "101 <keras.layers.normalization.batch_normalization.BatchNormalization object at 0x7fe14d4681d0>\n",
            "102 <keras.layers.core.Dropout object at 0x7fe14d460d90>\n",
            "103 <keras.layers.merge.Add object at 0x7fe14d4b6450>\n",
            "104 <keras.layers.convolutional.Conv2D object at 0x7fe14d491fd0>\n",
            "105 <keras.layers.normalization.batch_normalization.BatchNormalization object at 0x7fe14d4f29d0>\n",
            "106 <keras.layers.core.Activation object at 0x7fe14d499390>\n",
            "107 <keras.layers.convolutional.DepthwiseConv2D object at 0x7fe14d460690>\n",
            "108 <keras.layers.normalization.batch_normalization.BatchNormalization object at 0x7fe14d4d1110>\n",
            "109 <keras.layers.core.Activation object at 0x7fe14d44f190>\n",
            "110 <keras.layers.pooling.GlobalAveragePooling2D object at 0x7fe14d4f27d0>\n",
            "111 <keras.layers.core.Reshape object at 0x7fe14d4111d0>\n",
            "112 <keras.layers.convolutional.Conv2D object at 0x7fe14d553cd0>\n",
            "113 <keras.layers.convolutional.Conv2D object at 0x7fe14d499c50>\n",
            "114 <keras.layers.merge.Multiply object at 0x7fe14d4178d0>\n",
            "115 <keras.layers.convolutional.Conv2D object at 0x7fe14d419210>\n",
            "116 <keras.layers.normalization.batch_normalization.BatchNormalization object at 0x7fe14d41d3d0>\n",
            "117 <keras.layers.core.Dropout object at 0x7fe14d424610>\n",
            "118 <keras.layers.merge.Add object at 0x7fe14d42fc90>\n",
            "119 <keras.layers.convolutional.Conv2D object at 0x7fe14d42fd90>\n",
            "120 <keras.layers.normalization.batch_normalization.BatchNormalization object at 0x7fe14d41fb50>\n",
            "121 <keras.layers.core.Activation object at 0x7fe14d436e50>\n",
            "122 <keras.layers.convolutional.DepthwiseConv2D object at 0x7fe14d439850>\n",
            "123 <keras.layers.normalization.batch_normalization.BatchNormalization object at 0x7fe14d424590>\n",
            "124 <keras.layers.core.Activation object at 0x7fe14d3c8210>\n",
            "125 <keras.layers.pooling.GlobalAveragePooling2D object at 0x7fe14d3d0850>\n",
            "126 <keras.layers.core.Reshape object at 0x7fe14d3d03d0>\n",
            "127 <keras.layers.convolutional.Conv2D object at 0x7fe14d3c8450>\n",
            "128 <keras.layers.convolutional.Conv2D object at 0x7fe14d3dc410>\n",
            "129 <keras.layers.merge.Multiply object at 0x7fe14d3e6e10>\n",
            "130 <keras.layers.convolutional.Conv2D object at 0x7fe14d3c8810>\n",
            "131 <keras.layers.normalization.batch_normalization.BatchNormalization object at 0x7fe14d3ee450>\n",
            "132 <keras.layers.convolutional.Conv2D object at 0x7fe14d3f5110>\n",
            "133 <keras.layers.normalization.batch_normalization.BatchNormalization object at 0x7fe14d3fd290>\n",
            "134 <keras.layers.core.Activation object at 0x7fe14d3fe350>\n",
            "135 <keras.layers.convolutional.DepthwiseConv2D object at 0x7fe14d38b710>\n",
            "136 <keras.layers.normalization.batch_normalization.BatchNormalization object at 0x7fe14d3fec50>\n",
            "137 <keras.layers.core.Activation object at 0x7fe14d393410>\n",
            "138 <keras.layers.pooling.GlobalAveragePooling2D object at 0x7fe14d393a50>\n",
            "139 <keras.layers.core.Reshape object at 0x7fe14d39e990>\n",
            "140 <keras.layers.convolutional.Conv2D object at 0x7fe14d39eed0>\n",
            "141 <keras.layers.convolutional.Conv2D object at 0x7fe14d3aa110>\n",
            "142 <keras.layers.merge.Multiply object at 0x7fe14d3b4c10>\n",
            "143 <keras.layers.convolutional.Conv2D object at 0x7fe14d38f5d0>\n",
            "144 <keras.layers.normalization.batch_normalization.BatchNormalization object at 0x7fe14d3f2910>\n",
            "145 <keras.layers.core.Dropout object at 0x7fe14d41d110>\n",
            "146 <keras.layers.merge.Add object at 0x7fe14d5b7a90>\n",
            "147 <keras.layers.convolutional.Conv2D object at 0x7fe14d3f2550>\n",
            "148 <keras.layers.normalization.batch_normalization.BatchNormalization object at 0x7fe14d3b7290>\n",
            "149 <keras.layers.core.Activation object at 0x7fe14d3bd4d0>\n",
            "150 <keras.layers.convolutional.DepthwiseConv2D object at 0x7fe14d4d1c50>\n",
            "151 <keras.layers.normalization.batch_normalization.BatchNormalization object at 0x7fe14d3ee790>\n",
            "152 <keras.layers.core.Activation object at 0x7fe14d350810>\n",
            "153 <keras.layers.pooling.GlobalAveragePooling2D object at 0x7fe14d34c490>\n",
            "154 <keras.layers.core.Reshape object at 0x7fe14d357490>\n",
            "155 <keras.layers.convolutional.Conv2D object at 0x7fe14d35d610>\n",
            "156 <keras.layers.convolutional.Conv2D object at 0x7fe14d367390>\n",
            "157 <keras.layers.merge.Multiply object at 0x7fe14d36e2d0>\n",
            "158 <keras.layers.convolutional.Conv2D object at 0x7fe14d370750>\n",
            "159 <keras.layers.normalization.batch_normalization.BatchNormalization object at 0x7fe14d37c4d0>\n",
            "160 <keras.layers.core.Dropout object at 0x7fe14d36e590>\n",
            "161 <keras.layers.merge.Add object at 0x7fe14d3809d0>\n",
            "162 <keras.layers.convolutional.Conv2D object at 0x7fe14d307250>\n",
            "163 <keras.layers.normalization.batch_normalization.BatchNormalization object at 0x7fe14d30fb90>\n",
            "164 <keras.layers.core.Activation object at 0x7fe14d380ed0>\n",
            "165 <keras.layers.convolutional.ZeroPadding2D object at 0x7fe14d303d50>\n",
            "166 <keras.layers.convolutional.DepthwiseConv2D object at 0x7fe14d31cad0>\n",
            "167 <keras.layers.normalization.batch_normalization.BatchNormalization object at 0x7fe14d3153d0>\n",
            "168 <keras.layers.core.Activation object at 0x7fe14d303f10>\n",
            "169 <keras.layers.pooling.GlobalAveragePooling2D object at 0x7fe14d324750>\n",
            "170 <keras.layers.core.Reshape object at 0x7fe14d336690>\n",
            "171 <keras.layers.convolutional.Conv2D object at 0x7fe14d336d90>\n",
            "172 <keras.layers.convolutional.Conv2D object at 0x7fe14d33c290>\n",
            "173 <keras.layers.merge.Multiply object at 0x7fe14d321310>\n",
            "174 <keras.layers.convolutional.Conv2D object at 0x7fe14d33c690>\n",
            "175 <keras.layers.normalization.batch_normalization.BatchNormalization object at 0x7fe14d2cc090>\n",
            "176 <keras.layers.convolutional.Conv2D object at 0x7fe14d2dd490>\n",
            "177 <keras.layers.normalization.batch_normalization.BatchNormalization object at 0x7fe14d2d8f50>\n",
            "178 <keras.layers.core.Activation object at 0x7fe14d2e6110>\n",
            "179 <keras.layers.convolutional.DepthwiseConv2D object at 0x7fe14d2efb50>\n",
            "180 <keras.layers.normalization.batch_normalization.BatchNormalization object at 0x7fe14d2ebc90>\n",
            "181 <keras.layers.core.Activation object at 0x7fe14d2f3110>\n",
            "182 <keras.layers.pooling.GlobalAveragePooling2D object at 0x7fe14d2f9b90>\n",
            "183 <keras.layers.core.Reshape object at 0x7fe14d2825d0>\n",
            "184 <keras.layers.convolutional.Conv2D object at 0x7fe14d282950>\n",
            "185 <keras.layers.convolutional.Conv2D object at 0x7fe14d2e4fd0>\n",
            "186 <keras.layers.merge.Multiply object at 0x7fe14d31c410>\n",
            "187 <keras.layers.convolutional.Conv2D object at 0x7fe14d312710>\n",
            "188 <keras.layers.normalization.batch_normalization.BatchNormalization object at 0x7fe14d37ced0>\n",
            "189 <keras.layers.core.Dropout object at 0x7fe14d3b7e90>\n",
            "190 <keras.layers.merge.Add object at 0x7fe14d347510>\n",
            "191 <keras.layers.convolutional.Conv2D object at 0x7fe14d41db90>\n",
            "192 <keras.layers.normalization.batch_normalization.BatchNormalization object at 0x7fe14d294750>\n",
            "193 <keras.layers.core.Activation object at 0x7fe14d297a50>\n",
            "194 <keras.layers.convolutional.DepthwiseConv2D object at 0x7fe14d3ea0d0>\n",
            "195 <keras.layers.normalization.batch_normalization.BatchNormalization object at 0x7fe14d2a36d0>\n",
            "196 <keras.layers.core.Activation object at 0x7fe14d2a9b10>\n",
            "197 <keras.layers.pooling.GlobalAveragePooling2D object at 0x7fe14d2a9090>\n",
            "198 <keras.layers.core.Reshape object at 0x7fe14d2ba210>\n",
            "199 <keras.layers.convolutional.Conv2D object at 0x7fe14d2be390>\n",
            "200 <keras.layers.convolutional.Conv2D object at 0x7fe14d245a50>\n",
            "201 <keras.layers.merge.Multiply object at 0x7fe14d251350>\n",
            "202 <keras.layers.convolutional.Conv2D object at 0x7fe14d2567d0>\n",
            "203 <keras.layers.normalization.batch_normalization.BatchNormalization object at 0x7fe14d25b810>\n",
            "204 <keras.layers.core.Dropout object at 0x7fe14d25bad0>\n",
            "205 <keras.layers.merge.Add object at 0x7fe14d26c0d0>\n",
            "206 <keras.layers.convolutional.Conv2D object at 0x7fe14d270ad0>\n",
            "207 <keras.layers.normalization.batch_normalization.BatchNormalization object at 0x7fe14d26cb10>\n",
            "208 <keras.layers.core.Activation object at 0x7fe14d26b1d0>\n",
            "209 <keras.layers.convolutional.DepthwiseConv2D object at 0x7fe14d27abd0>\n",
            "210 <keras.layers.normalization.batch_normalization.BatchNormalization object at 0x7fe14d26b850>\n",
            "211 <keras.layers.core.Activation object at 0x7fe14d202050>\n",
            "212 <keras.layers.pooling.GlobalAveragePooling2D object at 0x7fe14d20c4d0>\n",
            "213 <keras.layers.core.Reshape object at 0x7fe14d2085d0>\n",
            "214 <keras.layers.convolutional.Conv2D object at 0x7fe14d202390>\n",
            "215 <keras.layers.convolutional.Conv2D object at 0x7fe14d206610>\n",
            "216 <keras.layers.merge.Multiply object at 0x7fe14d206690>\n",
            "217 <keras.layers.convolutional.Conv2D object at 0x7fe14d26cd50>\n",
            "218 <keras.layers.normalization.batch_normalization.BatchNormalization object at 0x7fe14d22a750>\n",
            "219 <keras.layers.core.Dropout object at 0x7fe14d233b10>\n",
            "220 <keras.layers.merge.Add object at 0x7fe14d22cf90>\n",
            "221 <keras.layers.convolutional.Conv2D object at 0x7fe14d238ad0>\n",
            "222 <keras.layers.normalization.batch_normalization.BatchNormalization object at 0x7fe14d1c24d0>\n",
            "223 <keras.layers.core.Activation object at 0x7fe14d1c7810>\n",
            "224 <keras.layers.convolutional.DepthwiseConv2D object at 0x7fe14d23ca90>\n",
            "225 <keras.layers.normalization.batch_normalization.BatchNormalization object at 0x7fe14d206090>\n",
            "226 <keras.layers.core.Activation object at 0x7fe14d2be110>\n",
            "227 <keras.layers.pooling.GlobalAveragePooling2D object at 0x7fe14d2b0610>\n",
            "228 <keras.layers.core.Reshape object at 0x7fe14d29b9d0>\n",
            "229 <keras.layers.convolutional.Conv2D object at 0x7fe14d297dd0>\n",
            "230 <keras.layers.convolutional.Conv2D object at 0x7fe14d303890>\n",
            "231 <keras.layers.merge.Multiply object at 0x7fe14d29b690>\n",
            "232 <keras.layers.convolutional.Conv2D object at 0x7fe14d1d4310>\n",
            "233 <keras.layers.normalization.batch_normalization.BatchNormalization object at 0x7fe14d2022d0>\n",
            "234 <keras.layers.convolutional.Conv2D object at 0x7fe14d644c50>\n",
            "235 <keras.layers.normalization.batch_normalization.BatchNormalization object at 0x7fe14d1d36d0>\n",
            "236 <keras.layers.core.Activation object at 0x7fe14d1ecad0>\n"
          ]
        }
      ]
    },
    {
      "cell_type": "code",
      "metadata": {
        "colab": {
          "base_uri": "https://localhost:8080/"
        },
        "id": "08AhA5YlUlM1",
        "outputId": "ecebbaa5-1b80-4ec4-9f18-4063823ccda2"
      },
      "source": [
        "# summary\n",
        "base_model.summary()"
      ],
      "execution_count": 18,
      "outputs": [
        {
          "output_type": "stream",
          "name": "stdout",
          "text": [
            "Model: \"efficientnetb0\"\n",
            "__________________________________________________________________________________________________\n",
            "Layer (type)                    Output Shape         Param #     Connected to                     \n",
            "==================================================================================================\n",
            "input_1 (InputLayer)            [(None, None, None,  0                                            \n",
            "__________________________________________________________________________________________________\n",
            "rescaling (Rescaling)           (None, None, None, 3 0           input_1[0][0]                    \n",
            "__________________________________________________________________________________________________\n",
            "normalization (Normalization)   (None, None, None, 3 7           rescaling[0][0]                  \n",
            "__________________________________________________________________________________________________\n",
            "stem_conv_pad (ZeroPadding2D)   (None, None, None, 3 0           normalization[0][0]              \n",
            "__________________________________________________________________________________________________\n",
            "stem_conv (Conv2D)              (None, None, None, 3 864         stem_conv_pad[0][0]              \n",
            "__________________________________________________________________________________________________\n",
            "stem_bn (BatchNormalization)    (None, None, None, 3 128         stem_conv[0][0]                  \n",
            "__________________________________________________________________________________________________\n",
            "stem_activation (Activation)    (None, None, None, 3 0           stem_bn[0][0]                    \n",
            "__________________________________________________________________________________________________\n",
            "block1a_dwconv (DepthwiseConv2D (None, None, None, 3 288         stem_activation[0][0]            \n",
            "__________________________________________________________________________________________________\n",
            "block1a_bn (BatchNormalization) (None, None, None, 3 128         block1a_dwconv[0][0]             \n",
            "__________________________________________________________________________________________________\n",
            "block1a_activation (Activation) (None, None, None, 3 0           block1a_bn[0][0]                 \n",
            "__________________________________________________________________________________________________\n",
            "block1a_se_squeeze (GlobalAvera (None, 32)           0           block1a_activation[0][0]         \n",
            "__________________________________________________________________________________________________\n",
            "block1a_se_reshape (Reshape)    (None, 1, 1, 32)     0           block1a_se_squeeze[0][0]         \n",
            "__________________________________________________________________________________________________\n",
            "block1a_se_reduce (Conv2D)      (None, 1, 1, 8)      264         block1a_se_reshape[0][0]         \n",
            "__________________________________________________________________________________________________\n",
            "block1a_se_expand (Conv2D)      (None, 1, 1, 32)     288         block1a_se_reduce[0][0]          \n",
            "__________________________________________________________________________________________________\n",
            "block1a_se_excite (Multiply)    (None, None, None, 3 0           block1a_activation[0][0]         \n",
            "                                                                 block1a_se_expand[0][0]          \n",
            "__________________________________________________________________________________________________\n",
            "block1a_project_conv (Conv2D)   (None, None, None, 1 512         block1a_se_excite[0][0]          \n",
            "__________________________________________________________________________________________________\n",
            "block1a_project_bn (BatchNormal (None, None, None, 1 64          block1a_project_conv[0][0]       \n",
            "__________________________________________________________________________________________________\n",
            "block2a_expand_conv (Conv2D)    (None, None, None, 9 1536        block1a_project_bn[0][0]         \n",
            "__________________________________________________________________________________________________\n",
            "block2a_expand_bn (BatchNormali (None, None, None, 9 384         block2a_expand_conv[0][0]        \n",
            "__________________________________________________________________________________________________\n",
            "block2a_expand_activation (Acti (None, None, None, 9 0           block2a_expand_bn[0][0]          \n",
            "__________________________________________________________________________________________________\n",
            "block2a_dwconv_pad (ZeroPadding (None, None, None, 9 0           block2a_expand_activation[0][0]  \n",
            "__________________________________________________________________________________________________\n",
            "block2a_dwconv (DepthwiseConv2D (None, None, None, 9 864         block2a_dwconv_pad[0][0]         \n",
            "__________________________________________________________________________________________________\n",
            "block2a_bn (BatchNormalization) (None, None, None, 9 384         block2a_dwconv[0][0]             \n",
            "__________________________________________________________________________________________________\n",
            "block2a_activation (Activation) (None, None, None, 9 0           block2a_bn[0][0]                 \n",
            "__________________________________________________________________________________________________\n",
            "block2a_se_squeeze (GlobalAvera (None, 96)           0           block2a_activation[0][0]         \n",
            "__________________________________________________________________________________________________\n",
            "block2a_se_reshape (Reshape)    (None, 1, 1, 96)     0           block2a_se_squeeze[0][0]         \n",
            "__________________________________________________________________________________________________\n",
            "block2a_se_reduce (Conv2D)      (None, 1, 1, 4)      388         block2a_se_reshape[0][0]         \n",
            "__________________________________________________________________________________________________\n",
            "block2a_se_expand (Conv2D)      (None, 1, 1, 96)     480         block2a_se_reduce[0][0]          \n",
            "__________________________________________________________________________________________________\n",
            "block2a_se_excite (Multiply)    (None, None, None, 9 0           block2a_activation[0][0]         \n",
            "                                                                 block2a_se_expand[0][0]          \n",
            "__________________________________________________________________________________________________\n",
            "block2a_project_conv (Conv2D)   (None, None, None, 2 2304        block2a_se_excite[0][0]          \n",
            "__________________________________________________________________________________________________\n",
            "block2a_project_bn (BatchNormal (None, None, None, 2 96          block2a_project_conv[0][0]       \n",
            "__________________________________________________________________________________________________\n",
            "block2b_expand_conv (Conv2D)    (None, None, None, 1 3456        block2a_project_bn[0][0]         \n",
            "__________________________________________________________________________________________________\n",
            "block2b_expand_bn (BatchNormali (None, None, None, 1 576         block2b_expand_conv[0][0]        \n",
            "__________________________________________________________________________________________________\n",
            "block2b_expand_activation (Acti (None, None, None, 1 0           block2b_expand_bn[0][0]          \n",
            "__________________________________________________________________________________________________\n",
            "block2b_dwconv (DepthwiseConv2D (None, None, None, 1 1296        block2b_expand_activation[0][0]  \n",
            "__________________________________________________________________________________________________\n",
            "block2b_bn (BatchNormalization) (None, None, None, 1 576         block2b_dwconv[0][0]             \n",
            "__________________________________________________________________________________________________\n",
            "block2b_activation (Activation) (None, None, None, 1 0           block2b_bn[0][0]                 \n",
            "__________________________________________________________________________________________________\n",
            "block2b_se_squeeze (GlobalAvera (None, 144)          0           block2b_activation[0][0]         \n",
            "__________________________________________________________________________________________________\n",
            "block2b_se_reshape (Reshape)    (None, 1, 1, 144)    0           block2b_se_squeeze[0][0]         \n",
            "__________________________________________________________________________________________________\n",
            "block2b_se_reduce (Conv2D)      (None, 1, 1, 6)      870         block2b_se_reshape[0][0]         \n",
            "__________________________________________________________________________________________________\n",
            "block2b_se_expand (Conv2D)      (None, 1, 1, 144)    1008        block2b_se_reduce[0][0]          \n",
            "__________________________________________________________________________________________________\n",
            "block2b_se_excite (Multiply)    (None, None, None, 1 0           block2b_activation[0][0]         \n",
            "                                                                 block2b_se_expand[0][0]          \n",
            "__________________________________________________________________________________________________\n",
            "block2b_project_conv (Conv2D)   (None, None, None, 2 3456        block2b_se_excite[0][0]          \n",
            "__________________________________________________________________________________________________\n",
            "block2b_project_bn (BatchNormal (None, None, None, 2 96          block2b_project_conv[0][0]       \n",
            "__________________________________________________________________________________________________\n",
            "block2b_drop (Dropout)          (None, None, None, 2 0           block2b_project_bn[0][0]         \n",
            "__________________________________________________________________________________________________\n",
            "block2b_add (Add)               (None, None, None, 2 0           block2b_drop[0][0]               \n",
            "                                                                 block2a_project_bn[0][0]         \n",
            "__________________________________________________________________________________________________\n",
            "block3a_expand_conv (Conv2D)    (None, None, None, 1 3456        block2b_add[0][0]                \n",
            "__________________________________________________________________________________________________\n",
            "block3a_expand_bn (BatchNormali (None, None, None, 1 576         block3a_expand_conv[0][0]        \n",
            "__________________________________________________________________________________________________\n",
            "block3a_expand_activation (Acti (None, None, None, 1 0           block3a_expand_bn[0][0]          \n",
            "__________________________________________________________________________________________________\n",
            "block3a_dwconv_pad (ZeroPadding (None, None, None, 1 0           block3a_expand_activation[0][0]  \n",
            "__________________________________________________________________________________________________\n",
            "block3a_dwconv (DepthwiseConv2D (None, None, None, 1 3600        block3a_dwconv_pad[0][0]         \n",
            "__________________________________________________________________________________________________\n",
            "block3a_bn (BatchNormalization) (None, None, None, 1 576         block3a_dwconv[0][0]             \n",
            "__________________________________________________________________________________________________\n",
            "block3a_activation (Activation) (None, None, None, 1 0           block3a_bn[0][0]                 \n",
            "__________________________________________________________________________________________________\n",
            "block3a_se_squeeze (GlobalAvera (None, 144)          0           block3a_activation[0][0]         \n",
            "__________________________________________________________________________________________________\n",
            "block3a_se_reshape (Reshape)    (None, 1, 1, 144)    0           block3a_se_squeeze[0][0]         \n",
            "__________________________________________________________________________________________________\n",
            "block3a_se_reduce (Conv2D)      (None, 1, 1, 6)      870         block3a_se_reshape[0][0]         \n",
            "__________________________________________________________________________________________________\n",
            "block3a_se_expand (Conv2D)      (None, 1, 1, 144)    1008        block3a_se_reduce[0][0]          \n",
            "__________________________________________________________________________________________________\n",
            "block3a_se_excite (Multiply)    (None, None, None, 1 0           block3a_activation[0][0]         \n",
            "                                                                 block3a_se_expand[0][0]          \n",
            "__________________________________________________________________________________________________\n",
            "block3a_project_conv (Conv2D)   (None, None, None, 4 5760        block3a_se_excite[0][0]          \n",
            "__________________________________________________________________________________________________\n",
            "block3a_project_bn (BatchNormal (None, None, None, 4 160         block3a_project_conv[0][0]       \n",
            "__________________________________________________________________________________________________\n",
            "block3b_expand_conv (Conv2D)    (None, None, None, 2 9600        block3a_project_bn[0][0]         \n",
            "__________________________________________________________________________________________________\n",
            "block3b_expand_bn (BatchNormali (None, None, None, 2 960         block3b_expand_conv[0][0]        \n",
            "__________________________________________________________________________________________________\n",
            "block3b_expand_activation (Acti (None, None, None, 2 0           block3b_expand_bn[0][0]          \n",
            "__________________________________________________________________________________________________\n",
            "block3b_dwconv (DepthwiseConv2D (None, None, None, 2 6000        block3b_expand_activation[0][0]  \n",
            "__________________________________________________________________________________________________\n",
            "block3b_bn (BatchNormalization) (None, None, None, 2 960         block3b_dwconv[0][0]             \n",
            "__________________________________________________________________________________________________\n",
            "block3b_activation (Activation) (None, None, None, 2 0           block3b_bn[0][0]                 \n",
            "__________________________________________________________________________________________________\n",
            "block3b_se_squeeze (GlobalAvera (None, 240)          0           block3b_activation[0][0]         \n",
            "__________________________________________________________________________________________________\n",
            "block3b_se_reshape (Reshape)    (None, 1, 1, 240)    0           block3b_se_squeeze[0][0]         \n",
            "__________________________________________________________________________________________________\n",
            "block3b_se_reduce (Conv2D)      (None, 1, 1, 10)     2410        block3b_se_reshape[0][0]         \n",
            "__________________________________________________________________________________________________\n",
            "block3b_se_expand (Conv2D)      (None, 1, 1, 240)    2640        block3b_se_reduce[0][0]          \n",
            "__________________________________________________________________________________________________\n",
            "block3b_se_excite (Multiply)    (None, None, None, 2 0           block3b_activation[0][0]         \n",
            "                                                                 block3b_se_expand[0][0]          \n",
            "__________________________________________________________________________________________________\n",
            "block3b_project_conv (Conv2D)   (None, None, None, 4 9600        block3b_se_excite[0][0]          \n",
            "__________________________________________________________________________________________________\n",
            "block3b_project_bn (BatchNormal (None, None, None, 4 160         block3b_project_conv[0][0]       \n",
            "__________________________________________________________________________________________________\n",
            "block3b_drop (Dropout)          (None, None, None, 4 0           block3b_project_bn[0][0]         \n",
            "__________________________________________________________________________________________________\n",
            "block3b_add (Add)               (None, None, None, 4 0           block3b_drop[0][0]               \n",
            "                                                                 block3a_project_bn[0][0]         \n",
            "__________________________________________________________________________________________________\n",
            "block4a_expand_conv (Conv2D)    (None, None, None, 2 9600        block3b_add[0][0]                \n",
            "__________________________________________________________________________________________________\n",
            "block4a_expand_bn (BatchNormali (None, None, None, 2 960         block4a_expand_conv[0][0]        \n",
            "__________________________________________________________________________________________________\n",
            "block4a_expand_activation (Acti (None, None, None, 2 0           block4a_expand_bn[0][0]          \n",
            "__________________________________________________________________________________________________\n",
            "block4a_dwconv_pad (ZeroPadding (None, None, None, 2 0           block4a_expand_activation[0][0]  \n",
            "__________________________________________________________________________________________________\n",
            "block4a_dwconv (DepthwiseConv2D (None, None, None, 2 2160        block4a_dwconv_pad[0][0]         \n",
            "__________________________________________________________________________________________________\n",
            "block4a_bn (BatchNormalization) (None, None, None, 2 960         block4a_dwconv[0][0]             \n",
            "__________________________________________________________________________________________________\n",
            "block4a_activation (Activation) (None, None, None, 2 0           block4a_bn[0][0]                 \n",
            "__________________________________________________________________________________________________\n",
            "block4a_se_squeeze (GlobalAvera (None, 240)          0           block4a_activation[0][0]         \n",
            "__________________________________________________________________________________________________\n",
            "block4a_se_reshape (Reshape)    (None, 1, 1, 240)    0           block4a_se_squeeze[0][0]         \n",
            "__________________________________________________________________________________________________\n",
            "block4a_se_reduce (Conv2D)      (None, 1, 1, 10)     2410        block4a_se_reshape[0][0]         \n",
            "__________________________________________________________________________________________________\n",
            "block4a_se_expand (Conv2D)      (None, 1, 1, 240)    2640        block4a_se_reduce[0][0]          \n",
            "__________________________________________________________________________________________________\n",
            "block4a_se_excite (Multiply)    (None, None, None, 2 0           block4a_activation[0][0]         \n",
            "                                                                 block4a_se_expand[0][0]          \n",
            "__________________________________________________________________________________________________\n",
            "block4a_project_conv (Conv2D)   (None, None, None, 8 19200       block4a_se_excite[0][0]          \n",
            "__________________________________________________________________________________________________\n",
            "block4a_project_bn (BatchNormal (None, None, None, 8 320         block4a_project_conv[0][0]       \n",
            "__________________________________________________________________________________________________\n",
            "block4b_expand_conv (Conv2D)    (None, None, None, 4 38400       block4a_project_bn[0][0]         \n",
            "__________________________________________________________________________________________________\n",
            "block4b_expand_bn (BatchNormali (None, None, None, 4 1920        block4b_expand_conv[0][0]        \n",
            "__________________________________________________________________________________________________\n",
            "block4b_expand_activation (Acti (None, None, None, 4 0           block4b_expand_bn[0][0]          \n",
            "__________________________________________________________________________________________________\n",
            "block4b_dwconv (DepthwiseConv2D (None, None, None, 4 4320        block4b_expand_activation[0][0]  \n",
            "__________________________________________________________________________________________________\n",
            "block4b_bn (BatchNormalization) (None, None, None, 4 1920        block4b_dwconv[0][0]             \n",
            "__________________________________________________________________________________________________\n",
            "block4b_activation (Activation) (None, None, None, 4 0           block4b_bn[0][0]                 \n",
            "__________________________________________________________________________________________________\n",
            "block4b_se_squeeze (GlobalAvera (None, 480)          0           block4b_activation[0][0]         \n",
            "__________________________________________________________________________________________________\n",
            "block4b_se_reshape (Reshape)    (None, 1, 1, 480)    0           block4b_se_squeeze[0][0]         \n",
            "__________________________________________________________________________________________________\n",
            "block4b_se_reduce (Conv2D)      (None, 1, 1, 20)     9620        block4b_se_reshape[0][0]         \n",
            "__________________________________________________________________________________________________\n",
            "block4b_se_expand (Conv2D)      (None, 1, 1, 480)    10080       block4b_se_reduce[0][0]          \n",
            "__________________________________________________________________________________________________\n",
            "block4b_se_excite (Multiply)    (None, None, None, 4 0           block4b_activation[0][0]         \n",
            "                                                                 block4b_se_expand[0][0]          \n",
            "__________________________________________________________________________________________________\n",
            "block4b_project_conv (Conv2D)   (None, None, None, 8 38400       block4b_se_excite[0][0]          \n",
            "__________________________________________________________________________________________________\n",
            "block4b_project_bn (BatchNormal (None, None, None, 8 320         block4b_project_conv[0][0]       \n",
            "__________________________________________________________________________________________________\n",
            "block4b_drop (Dropout)          (None, None, None, 8 0           block4b_project_bn[0][0]         \n",
            "__________________________________________________________________________________________________\n",
            "block4b_add (Add)               (None, None, None, 8 0           block4b_drop[0][0]               \n",
            "                                                                 block4a_project_bn[0][0]         \n",
            "__________________________________________________________________________________________________\n",
            "block4c_expand_conv (Conv2D)    (None, None, None, 4 38400       block4b_add[0][0]                \n",
            "__________________________________________________________________________________________________\n",
            "block4c_expand_bn (BatchNormali (None, None, None, 4 1920        block4c_expand_conv[0][0]        \n",
            "__________________________________________________________________________________________________\n",
            "block4c_expand_activation (Acti (None, None, None, 4 0           block4c_expand_bn[0][0]          \n",
            "__________________________________________________________________________________________________\n",
            "block4c_dwconv (DepthwiseConv2D (None, None, None, 4 4320        block4c_expand_activation[0][0]  \n",
            "__________________________________________________________________________________________________\n",
            "block4c_bn (BatchNormalization) (None, None, None, 4 1920        block4c_dwconv[0][0]             \n",
            "__________________________________________________________________________________________________\n",
            "block4c_activation (Activation) (None, None, None, 4 0           block4c_bn[0][0]                 \n",
            "__________________________________________________________________________________________________\n",
            "block4c_se_squeeze (GlobalAvera (None, 480)          0           block4c_activation[0][0]         \n",
            "__________________________________________________________________________________________________\n",
            "block4c_se_reshape (Reshape)    (None, 1, 1, 480)    0           block4c_se_squeeze[0][0]         \n",
            "__________________________________________________________________________________________________\n",
            "block4c_se_reduce (Conv2D)      (None, 1, 1, 20)     9620        block4c_se_reshape[0][0]         \n",
            "__________________________________________________________________________________________________\n",
            "block4c_se_expand (Conv2D)      (None, 1, 1, 480)    10080       block4c_se_reduce[0][0]          \n",
            "__________________________________________________________________________________________________\n",
            "block4c_se_excite (Multiply)    (None, None, None, 4 0           block4c_activation[0][0]         \n",
            "                                                                 block4c_se_expand[0][0]          \n",
            "__________________________________________________________________________________________________\n",
            "block4c_project_conv (Conv2D)   (None, None, None, 8 38400       block4c_se_excite[0][0]          \n",
            "__________________________________________________________________________________________________\n",
            "block4c_project_bn (BatchNormal (None, None, None, 8 320         block4c_project_conv[0][0]       \n",
            "__________________________________________________________________________________________________\n",
            "block4c_drop (Dropout)          (None, None, None, 8 0           block4c_project_bn[0][0]         \n",
            "__________________________________________________________________________________________________\n",
            "block4c_add (Add)               (None, None, None, 8 0           block4c_drop[0][0]               \n",
            "                                                                 block4b_add[0][0]                \n",
            "__________________________________________________________________________________________________\n",
            "block5a_expand_conv (Conv2D)    (None, None, None, 4 38400       block4c_add[0][0]                \n",
            "__________________________________________________________________________________________________\n",
            "block5a_expand_bn (BatchNormali (None, None, None, 4 1920        block5a_expand_conv[0][0]        \n",
            "__________________________________________________________________________________________________\n",
            "block5a_expand_activation (Acti (None, None, None, 4 0           block5a_expand_bn[0][0]          \n",
            "__________________________________________________________________________________________________\n",
            "block5a_dwconv (DepthwiseConv2D (None, None, None, 4 12000       block5a_expand_activation[0][0]  \n",
            "__________________________________________________________________________________________________\n",
            "block5a_bn (BatchNormalization) (None, None, None, 4 1920        block5a_dwconv[0][0]             \n",
            "__________________________________________________________________________________________________\n",
            "block5a_activation (Activation) (None, None, None, 4 0           block5a_bn[0][0]                 \n",
            "__________________________________________________________________________________________________\n",
            "block5a_se_squeeze (GlobalAvera (None, 480)          0           block5a_activation[0][0]         \n",
            "__________________________________________________________________________________________________\n",
            "block5a_se_reshape (Reshape)    (None, 1, 1, 480)    0           block5a_se_squeeze[0][0]         \n",
            "__________________________________________________________________________________________________\n",
            "block5a_se_reduce (Conv2D)      (None, 1, 1, 20)     9620        block5a_se_reshape[0][0]         \n",
            "__________________________________________________________________________________________________\n",
            "block5a_se_expand (Conv2D)      (None, 1, 1, 480)    10080       block5a_se_reduce[0][0]          \n",
            "__________________________________________________________________________________________________\n",
            "block5a_se_excite (Multiply)    (None, None, None, 4 0           block5a_activation[0][0]         \n",
            "                                                                 block5a_se_expand[0][0]          \n",
            "__________________________________________________________________________________________________\n",
            "block5a_project_conv (Conv2D)   (None, None, None, 1 53760       block5a_se_excite[0][0]          \n",
            "__________________________________________________________________________________________________\n",
            "block5a_project_bn (BatchNormal (None, None, None, 1 448         block5a_project_conv[0][0]       \n",
            "__________________________________________________________________________________________________\n",
            "block5b_expand_conv (Conv2D)    (None, None, None, 6 75264       block5a_project_bn[0][0]         \n",
            "__________________________________________________________________________________________________\n",
            "block5b_expand_bn (BatchNormali (None, None, None, 6 2688        block5b_expand_conv[0][0]        \n",
            "__________________________________________________________________________________________________\n",
            "block5b_expand_activation (Acti (None, None, None, 6 0           block5b_expand_bn[0][0]          \n",
            "__________________________________________________________________________________________________\n",
            "block5b_dwconv (DepthwiseConv2D (None, None, None, 6 16800       block5b_expand_activation[0][0]  \n",
            "__________________________________________________________________________________________________\n",
            "block5b_bn (BatchNormalization) (None, None, None, 6 2688        block5b_dwconv[0][0]             \n",
            "__________________________________________________________________________________________________\n",
            "block5b_activation (Activation) (None, None, None, 6 0           block5b_bn[0][0]                 \n",
            "__________________________________________________________________________________________________\n",
            "block5b_se_squeeze (GlobalAvera (None, 672)          0           block5b_activation[0][0]         \n",
            "__________________________________________________________________________________________________\n",
            "block5b_se_reshape (Reshape)    (None, 1, 1, 672)    0           block5b_se_squeeze[0][0]         \n",
            "__________________________________________________________________________________________________\n",
            "block5b_se_reduce (Conv2D)      (None, 1, 1, 28)     18844       block5b_se_reshape[0][0]         \n",
            "__________________________________________________________________________________________________\n",
            "block5b_se_expand (Conv2D)      (None, 1, 1, 672)    19488       block5b_se_reduce[0][0]          \n",
            "__________________________________________________________________________________________________\n",
            "block5b_se_excite (Multiply)    (None, None, None, 6 0           block5b_activation[0][0]         \n",
            "                                                                 block5b_se_expand[0][0]          \n",
            "__________________________________________________________________________________________________\n",
            "block5b_project_conv (Conv2D)   (None, None, None, 1 75264       block5b_se_excite[0][0]          \n",
            "__________________________________________________________________________________________________\n",
            "block5b_project_bn (BatchNormal (None, None, None, 1 448         block5b_project_conv[0][0]       \n",
            "__________________________________________________________________________________________________\n",
            "block5b_drop (Dropout)          (None, None, None, 1 0           block5b_project_bn[0][0]         \n",
            "__________________________________________________________________________________________________\n",
            "block5b_add (Add)               (None, None, None, 1 0           block5b_drop[0][0]               \n",
            "                                                                 block5a_project_bn[0][0]         \n",
            "__________________________________________________________________________________________________\n",
            "block5c_expand_conv (Conv2D)    (None, None, None, 6 75264       block5b_add[0][0]                \n",
            "__________________________________________________________________________________________________\n",
            "block5c_expand_bn (BatchNormali (None, None, None, 6 2688        block5c_expand_conv[0][0]        \n",
            "__________________________________________________________________________________________________\n",
            "block5c_expand_activation (Acti (None, None, None, 6 0           block5c_expand_bn[0][0]          \n",
            "__________________________________________________________________________________________________\n",
            "block5c_dwconv (DepthwiseConv2D (None, None, None, 6 16800       block5c_expand_activation[0][0]  \n",
            "__________________________________________________________________________________________________\n",
            "block5c_bn (BatchNormalization) (None, None, None, 6 2688        block5c_dwconv[0][0]             \n",
            "__________________________________________________________________________________________________\n",
            "block5c_activation (Activation) (None, None, None, 6 0           block5c_bn[0][0]                 \n",
            "__________________________________________________________________________________________________\n",
            "block5c_se_squeeze (GlobalAvera (None, 672)          0           block5c_activation[0][0]         \n",
            "__________________________________________________________________________________________________\n",
            "block5c_se_reshape (Reshape)    (None, 1, 1, 672)    0           block5c_se_squeeze[0][0]         \n",
            "__________________________________________________________________________________________________\n",
            "block5c_se_reduce (Conv2D)      (None, 1, 1, 28)     18844       block5c_se_reshape[0][0]         \n",
            "__________________________________________________________________________________________________\n",
            "block5c_se_expand (Conv2D)      (None, 1, 1, 672)    19488       block5c_se_reduce[0][0]          \n",
            "__________________________________________________________________________________________________\n",
            "block5c_se_excite (Multiply)    (None, None, None, 6 0           block5c_activation[0][0]         \n",
            "                                                                 block5c_se_expand[0][0]          \n",
            "__________________________________________________________________________________________________\n",
            "block5c_project_conv (Conv2D)   (None, None, None, 1 75264       block5c_se_excite[0][0]          \n",
            "__________________________________________________________________________________________________\n",
            "block5c_project_bn (BatchNormal (None, None, None, 1 448         block5c_project_conv[0][0]       \n",
            "__________________________________________________________________________________________________\n",
            "block5c_drop (Dropout)          (None, None, None, 1 0           block5c_project_bn[0][0]         \n",
            "__________________________________________________________________________________________________\n",
            "block5c_add (Add)               (None, None, None, 1 0           block5c_drop[0][0]               \n",
            "                                                                 block5b_add[0][0]                \n",
            "__________________________________________________________________________________________________\n",
            "block6a_expand_conv (Conv2D)    (None, None, None, 6 75264       block5c_add[0][0]                \n",
            "__________________________________________________________________________________________________\n",
            "block6a_expand_bn (BatchNormali (None, None, None, 6 2688        block6a_expand_conv[0][0]        \n",
            "__________________________________________________________________________________________________\n",
            "block6a_expand_activation (Acti (None, None, None, 6 0           block6a_expand_bn[0][0]          \n",
            "__________________________________________________________________________________________________\n",
            "block6a_dwconv_pad (ZeroPadding (None, None, None, 6 0           block6a_expand_activation[0][0]  \n",
            "__________________________________________________________________________________________________\n",
            "block6a_dwconv (DepthwiseConv2D (None, None, None, 6 16800       block6a_dwconv_pad[0][0]         \n",
            "__________________________________________________________________________________________________\n",
            "block6a_bn (BatchNormalization) (None, None, None, 6 2688        block6a_dwconv[0][0]             \n",
            "__________________________________________________________________________________________________\n",
            "block6a_activation (Activation) (None, None, None, 6 0           block6a_bn[0][0]                 \n",
            "__________________________________________________________________________________________________\n",
            "block6a_se_squeeze (GlobalAvera (None, 672)          0           block6a_activation[0][0]         \n",
            "__________________________________________________________________________________________________\n",
            "block6a_se_reshape (Reshape)    (None, 1, 1, 672)    0           block6a_se_squeeze[0][0]         \n",
            "__________________________________________________________________________________________________\n",
            "block6a_se_reduce (Conv2D)      (None, 1, 1, 28)     18844       block6a_se_reshape[0][0]         \n",
            "__________________________________________________________________________________________________\n",
            "block6a_se_expand (Conv2D)      (None, 1, 1, 672)    19488       block6a_se_reduce[0][0]          \n",
            "__________________________________________________________________________________________________\n",
            "block6a_se_excite (Multiply)    (None, None, None, 6 0           block6a_activation[0][0]         \n",
            "                                                                 block6a_se_expand[0][0]          \n",
            "__________________________________________________________________________________________________\n",
            "block6a_project_conv (Conv2D)   (None, None, None, 1 129024      block6a_se_excite[0][0]          \n",
            "__________________________________________________________________________________________________\n",
            "block6a_project_bn (BatchNormal (None, None, None, 1 768         block6a_project_conv[0][0]       \n",
            "__________________________________________________________________________________________________\n",
            "block6b_expand_conv (Conv2D)    (None, None, None, 1 221184      block6a_project_bn[0][0]         \n",
            "__________________________________________________________________________________________________\n",
            "block6b_expand_bn (BatchNormali (None, None, None, 1 4608        block6b_expand_conv[0][0]        \n",
            "__________________________________________________________________________________________________\n",
            "block6b_expand_activation (Acti (None, None, None, 1 0           block6b_expand_bn[0][0]          \n",
            "__________________________________________________________________________________________________\n",
            "block6b_dwconv (DepthwiseConv2D (None, None, None, 1 28800       block6b_expand_activation[0][0]  \n",
            "__________________________________________________________________________________________________\n",
            "block6b_bn (BatchNormalization) (None, None, None, 1 4608        block6b_dwconv[0][0]             \n",
            "__________________________________________________________________________________________________\n",
            "block6b_activation (Activation) (None, None, None, 1 0           block6b_bn[0][0]                 \n",
            "__________________________________________________________________________________________________\n",
            "block6b_se_squeeze (GlobalAvera (None, 1152)         0           block6b_activation[0][0]         \n",
            "__________________________________________________________________________________________________\n",
            "block6b_se_reshape (Reshape)    (None, 1, 1, 1152)   0           block6b_se_squeeze[0][0]         \n",
            "__________________________________________________________________________________________________\n",
            "block6b_se_reduce (Conv2D)      (None, 1, 1, 48)     55344       block6b_se_reshape[0][0]         \n",
            "__________________________________________________________________________________________________\n",
            "block6b_se_expand (Conv2D)      (None, 1, 1, 1152)   56448       block6b_se_reduce[0][0]          \n",
            "__________________________________________________________________________________________________\n",
            "block6b_se_excite (Multiply)    (None, None, None, 1 0           block6b_activation[0][0]         \n",
            "                                                                 block6b_se_expand[0][0]          \n",
            "__________________________________________________________________________________________________\n",
            "block6b_project_conv (Conv2D)   (None, None, None, 1 221184      block6b_se_excite[0][0]          \n",
            "__________________________________________________________________________________________________\n",
            "block6b_project_bn (BatchNormal (None, None, None, 1 768         block6b_project_conv[0][0]       \n",
            "__________________________________________________________________________________________________\n",
            "block6b_drop (Dropout)          (None, None, None, 1 0           block6b_project_bn[0][0]         \n",
            "__________________________________________________________________________________________________\n",
            "block6b_add (Add)               (None, None, None, 1 0           block6b_drop[0][0]               \n",
            "                                                                 block6a_project_bn[0][0]         \n",
            "__________________________________________________________________________________________________\n",
            "block6c_expand_conv (Conv2D)    (None, None, None, 1 221184      block6b_add[0][0]                \n",
            "__________________________________________________________________________________________________\n",
            "block6c_expand_bn (BatchNormali (None, None, None, 1 4608        block6c_expand_conv[0][0]        \n",
            "__________________________________________________________________________________________________\n",
            "block6c_expand_activation (Acti (None, None, None, 1 0           block6c_expand_bn[0][0]          \n",
            "__________________________________________________________________________________________________\n",
            "block6c_dwconv (DepthwiseConv2D (None, None, None, 1 28800       block6c_expand_activation[0][0]  \n",
            "__________________________________________________________________________________________________\n",
            "block6c_bn (BatchNormalization) (None, None, None, 1 4608        block6c_dwconv[0][0]             \n",
            "__________________________________________________________________________________________________\n",
            "block6c_activation (Activation) (None, None, None, 1 0           block6c_bn[0][0]                 \n",
            "__________________________________________________________________________________________________\n",
            "block6c_se_squeeze (GlobalAvera (None, 1152)         0           block6c_activation[0][0]         \n",
            "__________________________________________________________________________________________________\n",
            "block6c_se_reshape (Reshape)    (None, 1, 1, 1152)   0           block6c_se_squeeze[0][0]         \n",
            "__________________________________________________________________________________________________\n",
            "block6c_se_reduce (Conv2D)      (None, 1, 1, 48)     55344       block6c_se_reshape[0][0]         \n",
            "__________________________________________________________________________________________________\n",
            "block6c_se_expand (Conv2D)      (None, 1, 1, 1152)   56448       block6c_se_reduce[0][0]          \n",
            "__________________________________________________________________________________________________\n",
            "block6c_se_excite (Multiply)    (None, None, None, 1 0           block6c_activation[0][0]         \n",
            "                                                                 block6c_se_expand[0][0]          \n",
            "__________________________________________________________________________________________________\n",
            "block6c_project_conv (Conv2D)   (None, None, None, 1 221184      block6c_se_excite[0][0]          \n",
            "__________________________________________________________________________________________________\n",
            "block6c_project_bn (BatchNormal (None, None, None, 1 768         block6c_project_conv[0][0]       \n",
            "__________________________________________________________________________________________________\n",
            "block6c_drop (Dropout)          (None, None, None, 1 0           block6c_project_bn[0][0]         \n",
            "__________________________________________________________________________________________________\n",
            "block6c_add (Add)               (None, None, None, 1 0           block6c_drop[0][0]               \n",
            "                                                                 block6b_add[0][0]                \n",
            "__________________________________________________________________________________________________\n",
            "block6d_expand_conv (Conv2D)    (None, None, None, 1 221184      block6c_add[0][0]                \n",
            "__________________________________________________________________________________________________\n",
            "block6d_expand_bn (BatchNormali (None, None, None, 1 4608        block6d_expand_conv[0][0]        \n",
            "__________________________________________________________________________________________________\n",
            "block6d_expand_activation (Acti (None, None, None, 1 0           block6d_expand_bn[0][0]          \n",
            "__________________________________________________________________________________________________\n",
            "block6d_dwconv (DepthwiseConv2D (None, None, None, 1 28800       block6d_expand_activation[0][0]  \n",
            "__________________________________________________________________________________________________\n",
            "block6d_bn (BatchNormalization) (None, None, None, 1 4608        block6d_dwconv[0][0]             \n",
            "__________________________________________________________________________________________________\n",
            "block6d_activation (Activation) (None, None, None, 1 0           block6d_bn[0][0]                 \n",
            "__________________________________________________________________________________________________\n",
            "block6d_se_squeeze (GlobalAvera (None, 1152)         0           block6d_activation[0][0]         \n",
            "__________________________________________________________________________________________________\n",
            "block6d_se_reshape (Reshape)    (None, 1, 1, 1152)   0           block6d_se_squeeze[0][0]         \n",
            "__________________________________________________________________________________________________\n",
            "block6d_se_reduce (Conv2D)      (None, 1, 1, 48)     55344       block6d_se_reshape[0][0]         \n",
            "__________________________________________________________________________________________________\n",
            "block6d_se_expand (Conv2D)      (None, 1, 1, 1152)   56448       block6d_se_reduce[0][0]          \n",
            "__________________________________________________________________________________________________\n",
            "block6d_se_excite (Multiply)    (None, None, None, 1 0           block6d_activation[0][0]         \n",
            "                                                                 block6d_se_expand[0][0]          \n",
            "__________________________________________________________________________________________________\n",
            "block6d_project_conv (Conv2D)   (None, None, None, 1 221184      block6d_se_excite[0][0]          \n",
            "__________________________________________________________________________________________________\n",
            "block6d_project_bn (BatchNormal (None, None, None, 1 768         block6d_project_conv[0][0]       \n",
            "__________________________________________________________________________________________________\n",
            "block6d_drop (Dropout)          (None, None, None, 1 0           block6d_project_bn[0][0]         \n",
            "__________________________________________________________________________________________________\n",
            "block6d_add (Add)               (None, None, None, 1 0           block6d_drop[0][0]               \n",
            "                                                                 block6c_add[0][0]                \n",
            "__________________________________________________________________________________________________\n",
            "block7a_expand_conv (Conv2D)    (None, None, None, 1 221184      block6d_add[0][0]                \n",
            "__________________________________________________________________________________________________\n",
            "block7a_expand_bn (BatchNormali (None, None, None, 1 4608        block7a_expand_conv[0][0]        \n",
            "__________________________________________________________________________________________________\n",
            "block7a_expand_activation (Acti (None, None, None, 1 0           block7a_expand_bn[0][0]          \n",
            "__________________________________________________________________________________________________\n",
            "block7a_dwconv (DepthwiseConv2D (None, None, None, 1 10368       block7a_expand_activation[0][0]  \n",
            "__________________________________________________________________________________________________\n",
            "block7a_bn (BatchNormalization) (None, None, None, 1 4608        block7a_dwconv[0][0]             \n",
            "__________________________________________________________________________________________________\n",
            "block7a_activation (Activation) (None, None, None, 1 0           block7a_bn[0][0]                 \n",
            "__________________________________________________________________________________________________\n",
            "block7a_se_squeeze (GlobalAvera (None, 1152)         0           block7a_activation[0][0]         \n",
            "__________________________________________________________________________________________________\n",
            "block7a_se_reshape (Reshape)    (None, 1, 1, 1152)   0           block7a_se_squeeze[0][0]         \n",
            "__________________________________________________________________________________________________\n",
            "block7a_se_reduce (Conv2D)      (None, 1, 1, 48)     55344       block7a_se_reshape[0][0]         \n",
            "__________________________________________________________________________________________________\n",
            "block7a_se_expand (Conv2D)      (None, 1, 1, 1152)   56448       block7a_se_reduce[0][0]          \n",
            "__________________________________________________________________________________________________\n",
            "block7a_se_excite (Multiply)    (None, None, None, 1 0           block7a_activation[0][0]         \n",
            "                                                                 block7a_se_expand[0][0]          \n",
            "__________________________________________________________________________________________________\n",
            "block7a_project_conv (Conv2D)   (None, None, None, 3 368640      block7a_se_excite[0][0]          \n",
            "__________________________________________________________________________________________________\n",
            "block7a_project_bn (BatchNormal (None, None, None, 3 1280        block7a_project_conv[0][0]       \n",
            "__________________________________________________________________________________________________\n",
            "top_conv (Conv2D)               (None, None, None, 1 409600      block7a_project_bn[0][0]         \n",
            "__________________________________________________________________________________________________\n",
            "top_bn (BatchNormalization)     (None, None, None, 1 5120        top_conv[0][0]                   \n",
            "__________________________________________________________________________________________________\n",
            "top_activation (Activation)     (None, None, None, 1 0           top_bn[0][0]                     \n",
            "==================================================================================================\n",
            "Total params: 4,049,571\n",
            "Trainable params: 0\n",
            "Non-trainable params: 4,049,571\n",
            "__________________________________________________________________________________________________\n"
          ]
        }
      ]
    },
    {
      "cell_type": "code",
      "metadata": {
        "colab": {
          "base_uri": "https://localhost:8080/"
        },
        "id": "m-g0xciGVNVT",
        "outputId": "5ff481f3-ec40-40cd-fe3f-a830ca49d197"
      },
      "source": [
        "model_0.summary()"
      ],
      "execution_count": 19,
      "outputs": [
        {
          "output_type": "stream",
          "name": "stdout",
          "text": [
            "Model: \"model\"\n",
            "_________________________________________________________________\n",
            "Layer (type)                 Output Shape              Param #   \n",
            "=================================================================\n",
            "input_layer (InputLayer)     [(None, 224, 224, 3)]     0         \n",
            "_________________________________________________________________\n",
            "efficientnetb0 (Functional)  (None, None, None, 1280)  4049571   \n",
            "_________________________________________________________________\n",
            "global_average_pooling_layer (None, 1280)              0         \n",
            "_________________________________________________________________\n",
            "output_layer (Dense)         (None, 10)                12810     \n",
            "=================================================================\n",
            "Total params: 4,062,381\n",
            "Trainable params: 12,810\n",
            "Non-trainable params: 4,049,571\n",
            "_________________________________________________________________\n"
          ]
        }
      ]
    },
    {
      "cell_type": "code",
      "metadata": {
        "colab": {
          "base_uri": "https://localhost:8080/",
          "height": 573
        },
        "id": "-eGvPPtgVmrB",
        "outputId": "b96f2d7b-3d96-42b0-e0b9-013a9dda6100"
      },
      "source": [
        "plot_loss_curves(history_0)"
      ],
      "execution_count": 20,
      "outputs": [
        {
          "output_type": "display_data",
          "data": {
            "image/png": "[encoded data removed]",
            "text/plain": [
              "<Figure size 432x288 with 1 Axes>"
            ]
          },
          "metadata": {
            "needs_background": "light"
          }
        },
        {
          "output_type": "display_data",
          "data": {
            "image/png": "[encoded data removed]",
            "text/plain": [
              "<Figure size 432x288 with 1 Axes>"
            ]
          },
          "metadata": {
            "needs_background": "light"
          }
        }
      ]
    },
    {
      "cell_type": "code",
      "metadata": {
        "id": "wi-Kyp7GVymg"
      },
      "source": [
        ""
      ],
      "execution_count": null,
      "outputs": []
    }
  ]
}