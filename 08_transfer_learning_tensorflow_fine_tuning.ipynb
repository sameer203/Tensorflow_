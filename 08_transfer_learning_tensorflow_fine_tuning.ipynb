{
  "nbformat": 4,
  "nbformat_minor": 0,
  "metadata": {
    "colab": {
      "name": "08_transfer_learning_tensorflow_fine_tuning.ipynb",
      "provenance": [],
      "collapsed_sections": [],
      "authorship_tag": "ABX9TyNS2WV1Nc2VBraaS53PNqrJ",
      "include_colab_link": true
    },
    "kernelspec": {
      "name": "python3",
      "display_name": "Python 3"
    },
    "language_info": {
      "name": "python"
    },
    "accelerator": "GPU"
  },
  "cells": [
    {
      "cell_type": "markdown",
      "metadata": {
        "id": "view-in-github",
        "colab_type": "text"
      },
      "source": [
        "<a href=\"https://colab.research.google.com/github/sameer203/Tensorflow_/blob/main/08_transfer_learning_tensorflow_fine_tuning.ipynb\" target=\"_parent\"><img src=\"https://colab.research.google.com/assets/colab-badge.svg\" alt=\"Open In Colab\"/></a>"
      ]
    },
    {
      "cell_type": "code",
      "metadata": {
        "colab": {
          "base_uri": "https://localhost:8080/"
        },
        "id": "t1Hajmxz_rN5",
        "outputId": "361842b4-25ab-46b7-b3b8-a3e50938d775"
      },
      "source": [
        "!nvidia-smi"
      ],
      "execution_count": 2,
      "outputs": [
        {
          "output_type": "stream",
          "name": "stdout",
          "text": [
            "Mon Oct 25 10:37:10 2021       \n",
            "+-----------------------------------------------------------------------------+\n",
            "| NVIDIA-SMI 470.74       Driver Version: 460.32.03    CUDA Version: 11.2     |\n",
            "|-------------------------------+----------------------+----------------------+\n",
            "| GPU  Name        Persistence-M| Bus-Id        Disp.A | Volatile Uncorr. ECC |\n",
            "| Fan  Temp  Perf  Pwr:Usage/Cap|         Memory-Usage | GPU-Util  Compute M. |\n",
            "|                               |                      |               MIG M. |\n",
            "|===============================+======================+======================|\n",
            "|   0  Tesla P100-PCIE...  Off  | 00000000:00:04.0 Off |                    0 |\n",
            "| N/A   34C    P0    25W / 250W |      0MiB / 16280MiB |      0%      Default |\n",
            "|                               |                      |                  N/A |\n",
            "+-------------------------------+----------------------+----------------------+\n",
            "                                                                               \n",
            "+-----------------------------------------------------------------------------+\n",
            "| Processes:                                                                  |\n",
            "|  GPU   GI   CI        PID   Type   Process name                  GPU Memory |\n",
            "|        ID   ID                                                   Usage      |\n",
            "|=============================================================================|\n",
            "|  No running processes found                                                 |\n",
            "+-----------------------------------------------------------------------------+\n"
          ]
        }
      ]
    },
    {
      "cell_type": "markdown",
      "metadata": {
        "id": "URT-JIuU_8ws"
      },
      "source": [
        "### Creating the Helper function"
      ]
    },
    {
      "cell_type": "code",
      "metadata": {
        "colab": {
          "base_uri": "https://localhost:8080/"
        },
        "id": "DdSBka5hALtp",
        "outputId": "e2c74a8e-89fe-44fb-b003-50ca16dfef43"
      },
      "source": [
        "!wget https://raw.githubusercontent.com/mrdbourke/tensorflow-deep-learning/main/extras/helper_functions.py"
      ],
      "execution_count": 3,
      "outputs": [
        {
          "output_type": "stream",
          "name": "stdout",
          "text": [
            "--2021-10-25 10:37:11--  https://raw.githubusercontent.com/mrdbourke/tensorflow-deep-learning/main/extras/helper_functions.py\n",
            "Resolving raw.githubusercontent.com (raw.githubusercontent.com)... 185.199.108.133, 185.199.109.133, 185.199.110.133, ...\n",
            "Connecting to raw.githubusercontent.com (raw.githubusercontent.com)|185.199.108.133|:443... connected.\n",
            "HTTP request sent, awaiting response... 200 OK\n",
            "Length: 10246 (10K) [text/plain]\n",
            "Saving to: ‘helper_functions.py’\n",
            "\n",
            "\rhelper_functions.py   0%[                    ]       0  --.-KB/s               \rhelper_functions.py 100%[===================>]  10.01K  --.-KB/s    in 0s      \n",
            "\n",
            "2021-10-25 10:37:11 (98.5 MB/s) - ‘helper_functions.py’ saved [10246/10246]\n",
            "\n"
          ]
        }
      ]
    },
    {
      "cell_type": "code",
      "metadata": {
        "id": "IDM6KgDjAeZp"
      },
      "source": [
        "# import helper functions\n",
        "import helper_functions"
      ],
      "execution_count": 4,
      "outputs": []
    },
    {
      "cell_type": "code",
      "metadata": {
        "id": "LplohZZBA4I5"
      },
      "source": [
        "from helper_functions import create_tensorboard_callback, plot_loss_curves, unzip_data, walk_through_dir"
      ],
      "execution_count": 5,
      "outputs": []
    },
    {
      "cell_type": "markdown",
      "metadata": {
        "id": "HbbQ-IvXBdgL"
      },
      "source": [
        "### Input Data"
      ]
    },
    {
      "cell_type": "code",
      "metadata": {
        "colab": {
          "base_uri": "https://localhost:8080/"
        },
        "id": "Gra0Zn2FBC2m",
        "outputId": "ead8967f-3a97-4a31-8645-5574321a4503"
      },
      "source": [
        "# Input Data\n",
        "!wget https://storage.googleapis.com/ztm_tf_course/food_vision/10_food_classes_10_percent.zip\n",
        "\n",
        "unzip_data(\"10_food_classes_10_percent.zip\")"
      ],
      "execution_count": 6,
      "outputs": [
        {
          "output_type": "stream",
          "name": "stdout",
          "text": [
            "--2021-10-25 10:37:13--  https://storage.googleapis.com/ztm_tf_course/food_vision/10_food_classes_10_percent.zip\n",
            "Resolving storage.googleapis.com (storage.googleapis.com)... 74.125.143.128, 173.194.79.128, 108.177.119.128, ...\n",
            "Connecting to storage.googleapis.com (storage.googleapis.com)|74.125.143.128|:443... connected.\n",
            "HTTP request sent, awaiting response... 200 OK\n",
            "Length: 168546183 (161M) [application/zip]\n",
            "Saving to: ‘10_food_classes_10_percent.zip’\n",
            "\n",
            "10_food_classes_10_ 100%[===================>] 160.74M   105MB/s    in 1.5s    \n",
            "\n",
            "2021-10-25 10:37:16 (105 MB/s) - ‘10_food_classes_10_percent.zip’ saved [168546183/168546183]\n",
            "\n"
          ]
        }
      ]
    },
    {
      "cell_type": "code",
      "metadata": {
        "colab": {
          "base_uri": "https://localhost:8080/"
        },
        "id": "RM-wb9M5CCW0",
        "outputId": "12c41a00-424b-443c-c823-37d5c36f5ac4"
      },
      "source": [
        "walk_through_dir(\"10_food_classes_10_percent\")"
      ],
      "execution_count": 7,
      "outputs": [
        {
          "output_type": "stream",
          "name": "stdout",
          "text": [
            "There are 2 directories and 0 images in '10_food_classes_10_percent'.\n",
            "There are 10 directories and 0 images in '10_food_classes_10_percent/train'.\n",
            "There are 0 directories and 75 images in '10_food_classes_10_percent/train/chicken_wings'.\n",
            "There are 0 directories and 75 images in '10_food_classes_10_percent/train/pizza'.\n",
            "There are 0 directories and 75 images in '10_food_classes_10_percent/train/steak'.\n",
            "There are 0 directories and 75 images in '10_food_classes_10_percent/train/ice_cream'.\n",
            "There are 0 directories and 75 images in '10_food_classes_10_percent/train/ramen'.\n",
            "There are 0 directories and 75 images in '10_food_classes_10_percent/train/chicken_curry'.\n",
            "There are 0 directories and 75 images in '10_food_classes_10_percent/train/grilled_salmon'.\n",
            "There are 0 directories and 75 images in '10_food_classes_10_percent/train/sushi'.\n",
            "There are 0 directories and 75 images in '10_food_classes_10_percent/train/fried_rice'.\n",
            "There are 0 directories and 75 images in '10_food_classes_10_percent/train/hamburger'.\n",
            "There are 10 directories and 0 images in '10_food_classes_10_percent/test'.\n",
            "There are 0 directories and 250 images in '10_food_classes_10_percent/test/chicken_wings'.\n",
            "There are 0 directories and 250 images in '10_food_classes_10_percent/test/pizza'.\n",
            "There are 0 directories and 250 images in '10_food_classes_10_percent/test/steak'.\n",
            "There are 0 directories and 250 images in '10_food_classes_10_percent/test/ice_cream'.\n",
            "There are 0 directories and 250 images in '10_food_classes_10_percent/test/ramen'.\n",
            "There are 0 directories and 250 images in '10_food_classes_10_percent/test/chicken_curry'.\n",
            "There are 0 directories and 250 images in '10_food_classes_10_percent/test/grilled_salmon'.\n",
            "There are 0 directories and 250 images in '10_food_classes_10_percent/test/sushi'.\n",
            "There are 0 directories and 250 images in '10_food_classes_10_percent/test/fried_rice'.\n",
            "There are 0 directories and 250 images in '10_food_classes_10_percent/test/hamburger'.\n"
          ]
        }
      ]
    },
    {
      "cell_type": "code",
      "metadata": {
        "id": "i-sUd8UKCOWE"
      },
      "source": [
        "#Create training and test directory paths\n",
        "\n",
        "train_dir = \"10_food_classes_10_percent/train/\"\n",
        "test_dir = \"10_food_classes_10_percent/test/\""
      ],
      "execution_count": 8,
      "outputs": []
    },
    {
      "cell_type": "code",
      "metadata": {
        "colab": {
          "base_uri": "https://localhost:8080/"
        },
        "id": "BY8RyjifCnQB",
        "outputId": "0dde247a-5beb-411e-d8b8-d68d40b99fe4"
      },
      "source": [
        "import tensorflow as tf\n",
        "\n",
        "IMG_SIZE = (224, 224)\n",
        "BATCH_SIZE = 32\n",
        "train_data_10_percent = tf.keras.preprocessing.image_dataset_from_directory(directory=train_dir,\n",
        "                                                                            image_size=IMG_SIZE,\n",
        "                                                                            label_mode=\"categorical\",\n",
        "                                                                            batch_size=BATCH_SIZE)\n",
        "test_data = tf.keras.preprocessing.image_dataset_from_directory(directory=test_dir,\n",
        "                                                                            image_size=IMG_SIZE,\n",
        "                                                                            label_mode=\"categorical\",\n",
        "                                                                            batch_size=BATCH_SIZE)"
      ],
      "execution_count": 9,
      "outputs": [
        {
          "output_type": "stream",
          "name": "stdout",
          "text": [
            "Found 750 files belonging to 10 classes.\n",
            "Found 2500 files belonging to 10 classes.\n"
          ]
        }
      ]
    },
    {
      "cell_type": "code",
      "metadata": {
        "colab": {
          "base_uri": "https://localhost:8080/"
        },
        "id": "jwHf_HjDDrOX",
        "outputId": "50401104-ec13-4361-8ea5-3d9cca07a461"
      },
      "source": [
        "train_data_10_percent"
      ],
      "execution_count": 10,
      "outputs": [
        {
          "output_type": "execute_result",
          "data": {
            "text/plain": [
              "<BatchDataset shapes: ((None, 224, 224, 3), (None, 10)), types: (tf.float32, tf.float32)>"
            ]
          },
          "metadata": {},
          "execution_count": 10
        }
      ]
    },
    {
      "cell_type": "code",
      "metadata": {
        "colab": {
          "base_uri": "https://localhost:8080/"
        },
        "id": "N1dDITy1D09u",
        "outputId": "622ad7b2-0407-4ae0-8e98-35fe113ed17b"
      },
      "source": [
        "train_data_10_percent.class_names"
      ],
      "execution_count": 11,
      "outputs": [
        {
          "output_type": "execute_result",
          "data": {
            "text/plain": [
              "['chicken_curry',\n",
              " 'chicken_wings',\n",
              " 'fried_rice',\n",
              " 'grilled_salmon',\n",
              " 'hamburger',\n",
              " 'ice_cream',\n",
              " 'pizza',\n",
              " 'ramen',\n",
              " 'steak',\n",
              " 'sushi']"
            ]
          },
          "metadata": {},
          "execution_count": 11
        }
      ]
    },
    {
      "cell_type": "code",
      "metadata": {
        "id": "bvxjx39UESrq"
      },
      "source": [
        "#for images, labels in train_data_10_percent.take(1):\n",
        "  #print(images, labels)"
      ],
      "execution_count": 12,
      "outputs": []
    },
    {
      "cell_type": "markdown",
      "metadata": {
        "id": "Opr7efpoEbpa"
      },
      "source": [
        "### Model 0: Building a transfer learning model using the Keras Function"
      ]
    },
    {
      "cell_type": "code",
      "metadata": {
        "colab": {
          "base_uri": "https://localhost:8080/"
        },
        "id": "CbJWAWQpOdla",
        "outputId": "d8ce2819-66c0-4bff-ffa3-05221d5c0595"
      },
      "source": [
        "# Create the base model\n",
        "base_model = tf.keras.applications.EfficientNetB0(include_top=False)\n",
        "\n",
        "# Freeze the base model\n",
        "base_model.trainable = False\n",
        "\n",
        "# Create inputs into model\n",
        "inputs = tf.keras.layers.Input(shape=(224, 224,3), name=\"input_layer\")\n",
        "\n",
        "# Normalize the inputs\n",
        "#x = tf.keras.experimental.preprosessing.Rescaling(1./255)(inputs)\n",
        "\n",
        "# Pass the inputs to base model\n",
        "x = base_model(inputs)\n",
        "print(f\"Shapes after passing inputs through base model:{x.shape}\")\n",
        "\n",
        "# Average pool the outputs of the base model\n",
        "x = tf.keras.layers.GlobalAveragePooling2D(name=\"global_average_pooling_layer\")(x)\n",
        "print(f\"Shapes after GlobalAveragePooling2D:{x.shape}\")\n",
        "\n",
        "# Create the output activation layer\n",
        "outputs = tf.keras.layers.Dense(10, activation=\"softmax\", name=\"output_layer\")(x)\n",
        "\n",
        "# Combine the inputs and outputs\n",
        "model_0 = tf.keras.Model(inputs, outputs)\n"
      ],
      "execution_count": 13,
      "outputs": [
        {
          "output_type": "stream",
          "name": "stdout",
          "text": [
            "Downloading data from https://storage.googleapis.com/keras-applications/efficientnetb0_notop.h5\n",
            "16711680/16705208 [==============================] - 0s 0us/step\n",
            "16719872/16705208 [==============================] - 0s 0us/step\n",
            "Shapes after passing inputs through base model:(None, 7, 7, 1280)\n",
            "Shapes after GlobalAveragePooling2D:(None, 1280)\n"
          ]
        }
      ]
    },
    {
      "cell_type": "code",
      "metadata": {
        "id": "Ixz8f_XnQgs0"
      },
      "source": [
        "# Compile the model\n",
        "model_0.compile(loss=\"categorical_crossentropy\",\n",
        "                optimizer=tf.keras.optimizers.Adam(),\n",
        "                metrics=[\"accuracy\"])"
      ],
      "execution_count": 14,
      "outputs": []
    },
    {
      "cell_type": "code",
      "metadata": {
        "colab": {
          "base_uri": "https://localhost:8080/"
        },
        "id": "It05j9hvRLhA",
        "outputId": "6c265f94-7349-40a6-f58d-e1a5687d6736"
      },
      "source": [
        "# Fit the model\n",
        "history_0 = model_0.fit(train_data_10_percent,\n",
        "            epochs=5,\n",
        "            steps_per_epoch=len(train_data_10_percent),\n",
        "            validation_data=test_data,\n",
        "            validation_steps=int(0.25 * len(test_data)),\n",
        "            callbacks=[create_tensorboard_callback(dir_name=\"tensorflow_hub\",\n",
        "                                                   experiment_name=\"model_0\")])"
      ],
      "execution_count": 15,
      "outputs": [
        {
          "output_type": "stream",
          "name": "stdout",
          "text": [
            "Saving TensorBoard log files to: tensorflow_hub/model_0/20211025-103723\n",
            "Epoch 1/5\n"
          ]
        },
        {
          "output_type": "stream",
          "name": "stderr",
          "text": [
            "/usr/local/lib/python3.7/dist-packages/keras/utils/generic_utils.py:497: CustomMaskWarning: Custom mask layers require a config and must override get_config. When loading, the custom mask layer must be passed to the custom_objects argument.\n",
            "  category=CustomMaskWarning)\n"
          ]
        },
        {
          "output_type": "stream",
          "name": "stdout",
          "text": [
            "24/24 [==============================] - 26s 252ms/step - loss: 1.9776 - accuracy: 0.3333 - val_loss: 1.4008 - val_accuracy: 0.6678\n",
            "Epoch 2/5\n",
            "24/24 [==============================] - 3s 129ms/step - loss: 1.1800 - accuracy: 0.7400 - val_loss: 0.9473 - val_accuracy: 0.7780\n",
            "Epoch 3/5\n",
            "24/24 [==============================] - 4s 171ms/step - loss: 0.8569 - accuracy: 0.8107 - val_loss: 0.7748 - val_accuracy: 0.8059\n",
            "Epoch 4/5\n",
            "24/24 [==============================] - 3s 130ms/step - loss: 0.7029 - accuracy: 0.8187 - val_loss: 0.6637 - val_accuracy: 0.8043\n",
            "Epoch 5/5\n",
            "24/24 [==============================] - 3s 128ms/step - loss: 0.6023 - accuracy: 0.8587 - val_loss: 0.6323 - val_accuracy: 0.8174\n"
          ]
        }
      ]
    },
    {
      "cell_type": "code",
      "metadata": {
        "colab": {
          "base_uri": "https://localhost:8080/"
        },
        "id": "3VgGmr85SVG2",
        "outputId": "d4146add-1d04-470e-f4d9-a4be166a6dea"
      },
      "source": [
        "# Check the layersin base model\n",
        "for layer_number, layer in enumerate(base_model.layers):\n",
        "  print(layer_number, layer)"
      ],
      "execution_count": 16,
      "outputs": [
        {
          "output_type": "stream",
          "name": "stdout",
          "text": [
            "0 <keras.engine.input_layer.InputLayer object at 0x7fadfc7a1410>\n",
            "1 <keras.layers.preprocessing.image_preprocessing.Rescaling object at 0x7fadfb96c810>\n",
            "2 <keras.layers.preprocessing.normalization.Normalization object at 0x7fadfb96cb10>\n",
            "3 <keras.layers.convolutional.ZeroPadding2D object at 0x7fadfb96cd90>\n",
            "4 <keras.layers.convolutional.Conv2D object at 0x7fadfb99c450>\n",
            "5 <keras.layers.normalization.batch_normalization.BatchNormalization object at 0x7fadfb95df50>\n",
            "6 <keras.layers.core.Activation object at 0x7fadfb95d550>\n",
            "7 <keras.layers.convolutional.DepthwiseConv2D object at 0x7fadfb8b2390>\n",
            "8 <keras.layers.normalization.batch_normalization.BatchNormalization object at 0x7fadfb8b2b90>\n",
            "9 <keras.layers.core.Activation object at 0x7fadfb90c590>\n",
            "10 <keras.layers.pooling.GlobalAveragePooling2D object at 0x7fadfb8ce110>\n",
            "11 <keras.layers.core.Reshape object at 0x7fadfb8da890>\n",
            "12 <keras.layers.convolutional.Conv2D object at 0x7fadfb8df9d0>\n",
            "13 <keras.layers.convolutional.Conv2D object at 0x7fadfb86ba10>\n",
            "14 <keras.layers.merge.Multiply object at 0x7fadfb870810>\n",
            "15 <keras.layers.convolutional.Conv2D object at 0x7fadfb874e10>\n",
            "16 <keras.layers.normalization.batch_normalization.BatchNormalization object at 0x7fadfb87da50>\n",
            "17 <keras.layers.convolutional.Conv2D object at 0x7fadfb8749d0>\n",
            "18 <keras.layers.normalization.batch_normalization.BatchNormalization object at 0x7fadfb8866d0>\n",
            "19 <keras.layers.core.Activation object at 0x7fadfb8922d0>\n",
            "20 <keras.layers.convolutional.ZeroPadding2D object at 0x7fadfb892f10>\n",
            "21 <keras.layers.convolutional.DepthwiseConv2D object at 0x7fadfb89b510>\n",
            "22 <keras.layers.normalization.batch_normalization.BatchNormalization object at 0x7fadfb8a1a10>\n",
            "23 <keras.layers.core.Activation object at 0x7fadfb8a5c50>\n",
            "24 <keras.layers.pooling.GlobalAveragePooling2D object at 0x7fadfb96c510>\n",
            "25 <keras.layers.core.Reshape object at 0x7fadfb831950>\n",
            "26 <keras.layers.convolutional.Conv2D object at 0x7fadfb839590>\n",
            "27 <keras.layers.convolutional.Conv2D object at 0x7fadfb835550>\n",
            "28 <keras.layers.merge.Multiply object at 0x7fadfb84ac10>\n",
            "29 <keras.layers.convolutional.Conv2D object at 0x7fadfb853c90>\n",
            "30 <keras.layers.normalization.batch_normalization.BatchNormalization object at 0x7fadfb84ea10>\n",
            "31 <keras.layers.convolutional.Conv2D object at 0x7fadfb85c210>\n",
            "32 <keras.layers.normalization.batch_normalization.BatchNormalization object at 0x7fadfb865c90>\n",
            "33 <keras.layers.core.Activation object at 0x7fadfb865b90>\n",
            "34 <keras.layers.convolutional.DepthwiseConv2D object at 0x7fadfb7ec190>\n",
            "35 <keras.layers.normalization.batch_normalization.BatchNormalization object at 0x7fadfb7fc0d0>\n",
            "36 <keras.layers.core.Activation object at 0x7fadfb85c250>\n",
            "37 <keras.layers.pooling.GlobalAveragePooling2D object at 0x7fadfb8693d0>\n",
            "38 <keras.layers.core.Reshape object at 0x7fadfb8099d0>\n",
            "39 <keras.layers.convolutional.Conv2D object at 0x7fadfb80fbd0>\n",
            "40 <keras.layers.convolutional.Conv2D object at 0x7fadfb869f50>\n",
            "41 <keras.layers.merge.Multiply object at 0x7fadfb83e7d0>\n",
            "42 <keras.layers.convolutional.Conv2D object at 0x7fadfb831690>\n",
            "43 <keras.layers.normalization.batch_normalization.BatchNormalization object at 0x7fadfb83e750>\n",
            "44 <keras.layers.core.Dropout object at 0x7fadfb886210>\n",
            "45 <keras.layers.merge.Add object at 0x7fadfb8d5450>\n",
            "46 <keras.layers.convolutional.Conv2D object at 0x7fadfb8ce9d0>\n",
            "47 <keras.layers.normalization.batch_normalization.BatchNormalization object at 0x7fadfbad7ad0>\n",
            "48 <keras.layers.core.Activation object at 0x7fadfb816990>\n",
            "49 <keras.layers.convolutional.ZeroPadding2D object at 0x7fadfb9c1f90>\n",
            "50 <keras.layers.convolutional.DepthwiseConv2D object at 0x7fadfb81d3d0>\n",
            "51 <keras.layers.normalization.batch_normalization.BatchNormalization object at 0x7fadfb83e090>\n",
            "52 <keras.layers.core.Activation object at 0x7fadfb828110>\n",
            "53 <keras.layers.pooling.GlobalAveragePooling2D object at 0x7fadfb828c10>\n",
            "54 <keras.layers.core.Reshape object at 0x7fadfb816a90>\n",
            "55 <keras.layers.convolutional.Conv2D object at 0x7fadfb7acbd0>\n",
            "56 <keras.layers.convolutional.Conv2D object at 0x7fadfb7b9a90>\n",
            "57 <keras.layers.merge.Multiply object at 0x7fadfb816d50>\n",
            "58 <keras.layers.convolutional.Conv2D object at 0x7fadfb7b0b10>\n",
            "59 <keras.layers.normalization.batch_normalization.BatchNormalization object at 0x7fadfb7c8ad0>\n",
            "60 <keras.layers.convolutional.Conv2D object at 0x7fadfb7d1610>\n",
            "61 <keras.layers.normalization.batch_normalization.BatchNormalization object at 0x7fadfb7cc710>\n",
            "62 <keras.layers.core.Activation object at 0x7fadfb7dc410>\n",
            "63 <keras.layers.convolutional.DepthwiseConv2D object at 0x7fadfb7d6fd0>\n",
            "64 <keras.layers.normalization.batch_normalization.BatchNormalization object at 0x7fadfb7e52d0>\n",
            "65 <keras.layers.core.Activation object at 0x7fadfb76e590>\n",
            "66 <keras.layers.pooling.GlobalAveragePooling2D object at 0x7fadfb7790d0>\n",
            "67 <keras.layers.core.Reshape object at 0x7fadfb7727d0>\n",
            "68 <keras.layers.convolutional.Conv2D object at 0x7fadfb76e410>\n",
            "69 <keras.layers.convolutional.Conv2D object at 0x7fadfb783850>\n",
            "70 <keras.layers.merge.Multiply object at 0x7fadfb7835d0>\n",
            "71 <keras.layers.convolutional.Conv2D object at 0x7fadfb77d510>\n",
            "72 <keras.layers.normalization.batch_normalization.BatchNormalization object at 0x7fadfb797890>\n",
            "73 <keras.layers.core.Dropout object at 0x7fadfb7a0550>\n",
            "74 <keras.layers.merge.Add object at 0x7fadfb7a6510>\n",
            "75 <keras.layers.convolutional.Conv2D object at 0x7fadfb73b350>\n",
            "76 <keras.layers.normalization.batch_normalization.BatchNormalization object at 0x7fadfb73ba90>\n",
            "77 <keras.layers.core.Activation object at 0x7fadfb743650>\n",
            "78 <keras.layers.convolutional.ZeroPadding2D object at 0x7fadfa704410>\n",
            "79 <keras.layers.convolutional.DepthwiseConv2D object at 0x7fadfb752490>\n",
            "80 <keras.layers.normalization.batch_normalization.BatchNormalization object at 0x7fadfb752ad0>\n",
            "81 <keras.layers.core.Activation object at 0x7fadfa704310>\n",
            "82 <keras.layers.pooling.GlobalAveragePooling2D object at 0x7fadfb96c910>\n",
            "83 <keras.layers.core.Reshape object at 0x7fadfb76ad50>\n",
            "84 <keras.layers.convolutional.Conv2D object at 0x7fadfb7d6c10>\n",
            "85 <keras.layers.convolutional.Conv2D object at 0x7fadfb797c10>\n",
            "86 <keras.layers.merge.Multiply object at 0x7fadfb831390>\n",
            "87 <keras.layers.convolutional.Conv2D object at 0x7fadfb73d7d0>\n",
            "88 <keras.layers.normalization.batch_normalization.BatchNormalization object at 0x7fadfb746b90>\n",
            "89 <keras.layers.convolutional.Conv2D object at 0x7fadfb73da10>\n",
            "90 <keras.layers.normalization.batch_normalization.BatchNormalization object at 0x7fadfb75da10>\n",
            "91 <keras.layers.core.Activation object at 0x7fadf07a55d0>\n",
            "92 <keras.layers.convolutional.DepthwiseConv2D object at 0x7fadfb761390>\n",
            "93 <keras.layers.normalization.batch_normalization.BatchNormalization object at 0x7fadf07a7550>\n",
            "94 <keras.layers.core.Activation object at 0x7fadf07b1950>\n",
            "95 <keras.layers.pooling.GlobalAveragePooling2D object at 0x7fadf07a74d0>\n",
            "96 <keras.layers.core.Reshape object at 0x7fadf07c20d0>\n",
            "97 <keras.layers.convolutional.Conv2D object at 0x7fadf07ce9d0>\n",
            "98 <keras.layers.convolutional.Conv2D object at 0x7fadf07c9550>\n",
            "99 <keras.layers.merge.Multiply object at 0x7fadf07dc210>\n",
            "100 <keras.layers.convolutional.Conv2D object at 0x7fadf07df910>\n",
            "101 <keras.layers.normalization.batch_normalization.BatchNormalization object at 0x7fadf07dc890>\n",
            "102 <keras.layers.core.Dropout object at 0x7fadf076af50>\n",
            "103 <keras.layers.merge.Add object at 0x7fadf0775110>\n",
            "104 <keras.layers.convolutional.Conv2D object at 0x7fadf0776990>\n",
            "105 <keras.layers.normalization.batch_normalization.BatchNormalization object at 0x7fadf0775b50>\n",
            "106 <keras.layers.core.Activation object at 0x7fadf0780490>\n",
            "107 <keras.layers.convolutional.DepthwiseConv2D object at 0x7fadf0788c10>\n",
            "108 <keras.layers.normalization.batch_normalization.BatchNormalization object at 0x7fadf0783150>\n",
            "109 <keras.layers.core.Activation object at 0x7fadf078c110>\n",
            "110 <keras.layers.pooling.GlobalAveragePooling2D object at 0x7fadf0791b90>\n",
            "111 <keras.layers.core.Reshape object at 0x7fadf079a5d0>\n",
            "112 <keras.layers.convolutional.Conv2D object at 0x7fadf079a950>\n",
            "113 <keras.layers.convolutional.Conv2D object at 0x7fadf07a1f10>\n",
            "114 <keras.layers.merge.Multiply object at 0x7fadf072d850>\n",
            "115 <keras.layers.convolutional.Conv2D object at 0x7fadf0780290>\n",
            "116 <keras.layers.normalization.batch_normalization.BatchNormalization object at 0x7fadf0738750>\n",
            "117 <keras.layers.core.Dropout object at 0x7fadf0744290>\n",
            "118 <keras.layers.merge.Add object at 0x7fadf0748450>\n",
            "119 <keras.layers.convolutional.Conv2D object at 0x7fadf0738c50>\n",
            "120 <keras.layers.normalization.batch_normalization.BatchNormalization object at 0x7fadf0750510>\n",
            "121 <keras.layers.core.Activation object at 0x7fadf075b050>\n",
            "122 <keras.layers.convolutional.DepthwiseConv2D object at 0x7fadf0748e90>\n",
            "123 <keras.layers.normalization.batch_normalization.BatchNormalization object at 0x7fadf078cfd0>\n",
            "124 <keras.layers.core.Activation object at 0x7fadf07a1cd0>\n",
            "125 <keras.layers.pooling.GlobalAveragePooling2D object at 0x7fadf07766d0>\n",
            "126 <keras.layers.core.Reshape object at 0x7fadf07bc590>\n",
            "127 <keras.layers.convolutional.Conv2D object at 0x7fadf07b6ed0>\n",
            "128 <keras.layers.convolutional.Conv2D object at 0x7fadfb746ed0>\n",
            "129 <keras.layers.merge.Multiply object at 0x7fadf07bca50>\n",
            "130 <keras.layers.convolutional.Conv2D object at 0x7fadf0762d10>\n",
            "131 <keras.layers.normalization.batch_normalization.BatchNormalization object at 0x7fadf06e6850>\n",
            "132 <keras.layers.convolutional.Conv2D object at 0x7fadf06e5710>\n",
            "133 <keras.layers.normalization.batch_normalization.BatchNormalization object at 0x7fadf06e8d50>\n",
            "134 <keras.layers.core.Activation object at 0x7fadf06e8f50>\n",
            "135 <keras.layers.convolutional.DepthwiseConv2D object at 0x7fadf06f5a10>\n",
            "136 <keras.layers.normalization.batch_normalization.BatchNormalization object at 0x7fadf07008d0>\n",
            "137 <keras.layers.core.Activation object at 0x7fadf0700a10>\n",
            "138 <keras.layers.pooling.GlobalAveragePooling2D object at 0x7fadf0707c90>\n",
            "139 <keras.layers.core.Reshape object at 0x7fadf07142d0>\n",
            "140 <keras.layers.convolutional.Conv2D object at 0x7fadf07183d0>\n",
            "141 <keras.layers.convolutional.Conv2D object at 0x7fadf0722450>\n",
            "142 <keras.layers.merge.Multiply object at 0x7fadf06a8250>\n",
            "143 <keras.layers.convolutional.Conv2D object at 0x7fadf06aa950>\n",
            "144 <keras.layers.normalization.batch_normalization.BatchNormalization object at 0x7fadf06b4490>\n",
            "145 <keras.layers.core.Dropout object at 0x7fadf06a8590>\n",
            "146 <keras.layers.merge.Add object at 0x7fadf06b99d0>\n",
            "147 <keras.layers.convolutional.Conv2D object at 0x7fadf06c2210>\n",
            "148 <keras.layers.normalization.batch_normalization.BatchNormalization object at 0x7fadf06c9b50>\n",
            "149 <keras.layers.core.Activation object at 0x7fadf06b9ad0>\n",
            "150 <keras.layers.convolutional.DepthwiseConv2D object at 0x7fadf06d3d10>\n",
            "151 <keras.layers.normalization.batch_normalization.BatchNormalization object at 0x7fadf06d7fd0>\n",
            "152 <keras.layers.core.Activation object at 0x7fadf06bd290>\n",
            "153 <keras.layers.pooling.GlobalAveragePooling2D object at 0x7fadf06dba10>\n",
            "154 <keras.layers.core.Reshape object at 0x7fadf0669350>\n",
            "155 <keras.layers.convolutional.Conv2D object at 0x7fadf0669e10>\n",
            "156 <keras.layers.convolutional.Conv2D object at 0x7fadf0671e90>\n",
            "157 <keras.layers.merge.Multiply object at 0x7fadf06800d0>\n",
            "158 <keras.layers.convolutional.Conv2D object at 0x7fadf06837d0>\n",
            "159 <keras.layers.normalization.batch_normalization.BatchNormalization object at 0x7fadf0688290>\n",
            "160 <keras.layers.core.Dropout object at 0x7fadf068dd90>\n",
            "161 <keras.layers.merge.Add object at 0x7fadf06962d0>\n",
            "162 <keras.layers.convolutional.Conv2D object at 0x7fadf0696b10>\n",
            "163 <keras.layers.normalization.batch_normalization.BatchNormalization object at 0x7fadf0688f90>\n",
            "164 <keras.layers.core.Activation object at 0x7fadf0671cd0>\n",
            "165 <keras.layers.convolutional.ZeroPadding2D object at 0x7fadf06c9f10>\n",
            "166 <keras.layers.convolutional.DepthwiseConv2D object at 0x7fadf06d3950>\n",
            "167 <keras.layers.normalization.batch_normalization.BatchNormalization object at 0x7fadf070cdd0>\n",
            "168 <keras.layers.core.Activation object at 0x7fadf06eb850>\n",
            "169 <keras.layers.pooling.GlobalAveragePooling2D object at 0x7fadfb7d1dd0>\n",
            "170 <keras.layers.core.Reshape object at 0x7fadf0696450>\n",
            "171 <keras.layers.convolutional.Conv2D object at 0x7fadf069ec10>\n",
            "172 <keras.layers.convolutional.Conv2D object at 0x7fadf0625390>\n",
            "173 <keras.layers.merge.Multiply object at 0x7fadf069ea10>\n",
            "174 <keras.layers.convolutional.Conv2D object at 0x7fadf062a890>\n",
            "175 <keras.layers.normalization.batch_normalization.BatchNormalization object at 0x7fadf06333d0>\n",
            "176 <keras.layers.convolutional.Conv2D object at 0x7fadf069e850>\n",
            "177 <keras.layers.normalization.batch_normalization.BatchNormalization object at 0x7fadf0638b50>\n",
            "178 <keras.layers.core.Activation object at 0x7fadf0645490>\n",
            "179 <keras.layers.convolutional.DepthwiseConv2D object at 0x7fadf062f0d0>\n",
            "180 <keras.layers.normalization.batch_normalization.BatchNormalization object at 0x7fadf063fc10>\n",
            "181 <keras.layers.core.Activation object at 0x7fadf0659090>\n",
            "182 <keras.layers.pooling.GlobalAveragePooling2D object at 0x7fadf064f510>\n",
            "183 <keras.layers.core.Reshape object at 0x7fadf05e5550>\n",
            "184 <keras.layers.convolutional.Conv2D object at 0x7fadf05e9410>\n",
            "185 <keras.layers.convolutional.Conv2D object at 0x7fadf05f0b90>\n",
            "186 <keras.layers.merge.Multiply object at 0x7fadf05f5d90>\n",
            "187 <keras.layers.convolutional.Conv2D object at 0x7fadf05fc4d0>\n",
            "188 <keras.layers.normalization.batch_normalization.BatchNormalization object at 0x7fadf0604450>\n",
            "189 <keras.layers.core.Dropout object at 0x7fadf05f6210>\n",
            "190 <keras.layers.merge.Add object at 0x7fadf060c350>\n",
            "191 <keras.layers.convolutional.Conv2D object at 0x7fadf0610ed0>\n",
            "192 <keras.layers.normalization.batch_normalization.BatchNormalization object at 0x7fadf06155d0>\n",
            "193 <keras.layers.core.Activation object at 0x7fadf0615a90>\n",
            "194 <keras.layers.convolutional.DepthwiseConv2D object at 0x7fadf05fcbd0>\n",
            "195 <keras.layers.normalization.batch_normalization.BatchNormalization object at 0x7fadf0612f50>\n",
            "196 <keras.layers.core.Activation object at 0x7fadf0620a10>\n",
            "197 <keras.layers.pooling.GlobalAveragePooling2D object at 0x7fadf05af9d0>\n",
            "198 <keras.layers.core.Reshape object at 0x7fadf05bd5d0>\n",
            "199 <keras.layers.convolutional.Conv2D object at 0x7fadf05bdf50>\n",
            "200 <keras.layers.convolutional.Conv2D object at 0x7fadf06207d0>\n",
            "201 <keras.layers.merge.Multiply object at 0x7fadf05cdc10>\n",
            "202 <keras.layers.convolutional.Conv2D object at 0x7fadf05d6a10>\n",
            "203 <keras.layers.normalization.batch_normalization.BatchNormalization object at 0x7fadf0563650>\n",
            "204 <keras.layers.core.Dropout object at 0x7fadf05b5210>\n",
            "205 <keras.layers.merge.Add object at 0x7fadf0610850>\n",
            "206 <keras.layers.convolutional.Conv2D object at 0x7fadf065b590>\n",
            "207 <keras.layers.normalization.batch_normalization.BatchNormalization object at 0x7fadf0645310>\n",
            "208 <keras.layers.core.Activation object at 0x7fadfb96c650>\n",
            "209 <keras.layers.convolutional.DepthwiseConv2D object at 0x7fadfb835990>\n",
            "210 <keras.layers.normalization.batch_normalization.BatchNormalization object at 0x7fadfb892b50>\n",
            "211 <keras.layers.core.Activation object at 0x7fadfb824b50>\n",
            "212 <keras.layers.pooling.GlobalAveragePooling2D object at 0x7fadfb828ad0>\n",
            "213 <keras.layers.core.Reshape object at 0x7fadfb7bfc10>\n",
            "214 <keras.layers.convolutional.Conv2D object at 0x7fadfb76acd0>\n",
            "215 <keras.layers.convolutional.Conv2D object at 0x7fadfb7613d0>\n",
            "216 <keras.layers.merge.Multiply object at 0x7fadf07d1110>\n",
            "217 <keras.layers.convolutional.Conv2D object at 0x7fadf07a7790>\n",
            "218 <keras.layers.normalization.batch_normalization.BatchNormalization object at 0x7fadfb766190>\n",
            "219 <keras.layers.core.Dropout object at 0x7fadfbf1c710>\n",
            "220 <keras.layers.merge.Add object at 0x7fadf07a5810>\n",
            "221 <keras.layers.convolutional.Conv2D object at 0x7fadf0669050>\n",
            "222 <keras.layers.normalization.batch_normalization.BatchNormalization object at 0x7fadfb7d6dd0>\n",
            "223 <keras.layers.core.Activation object at 0x7fadf06ce310>\n",
            "224 <keras.layers.convolutional.DepthwiseConv2D object at 0x7fadf070c9d0>\n",
            "225 <keras.layers.normalization.batch_normalization.BatchNormalization object at 0x7fadf0703b90>\n",
            "226 <keras.layers.core.Activation object at 0x7fadf078cf50>\n",
            "227 <keras.layers.pooling.GlobalAveragePooling2D object at 0x7fadf06c20d0>\n",
            "228 <keras.layers.core.Reshape object at 0x7fadf064fc90>\n",
            "229 <keras.layers.convolutional.Conv2D object at 0x7fadf0600150>\n",
            "230 <keras.layers.convolutional.Conv2D object at 0x7fadf0645d50>\n",
            "231 <keras.layers.merge.Multiply object at 0x7fadf05638d0>\n",
            "232 <keras.layers.convolutional.Conv2D object at 0x7fadf0696090>\n",
            "233 <keras.layers.normalization.batch_normalization.BatchNormalization object at 0x7fadf07488d0>\n",
            "234 <keras.layers.convolutional.Conv2D object at 0x7fadfb934c90>\n",
            "235 <keras.layers.normalization.batch_normalization.BatchNormalization object at 0x7fadfb752510>\n",
            "236 <keras.layers.core.Activation object at 0x7fadfb805cd0>\n"
          ]
        }
      ]
    },
    {
      "cell_type": "code",
      "metadata": {
        "colab": {
          "base_uri": "https://localhost:8080/"
        },
        "id": "08AhA5YlUlM1",
        "outputId": "69bae06f-2dce-44ef-afcf-814acaba3315"
      },
      "source": [
        "# summary\n",
        "base_model.summary()"
      ],
      "execution_count": 17,
      "outputs": [
        {
          "output_type": "stream",
          "name": "stdout",
          "text": [
            "Model: \"efficientnetb0\"\n",
            "__________________________________________________________________________________________________\n",
            "Layer (type)                    Output Shape         Param #     Connected to                     \n",
            "==================================================================================================\n",
            "input_1 (InputLayer)            [(None, None, None,  0                                            \n",
            "__________________________________________________________________________________________________\n",
            "rescaling (Rescaling)           (None, None, None, 3 0           input_1[0][0]                    \n",
            "__________________________________________________________________________________________________\n",
            "normalization (Normalization)   (None, None, None, 3 7           rescaling[0][0]                  \n",
            "__________________________________________________________________________________________________\n",
            "stem_conv_pad (ZeroPadding2D)   (None, None, None, 3 0           normalization[0][0]              \n",
            "__________________________________________________________________________________________________\n",
            "stem_conv (Conv2D)              (None, None, None, 3 864         stem_conv_pad[0][0]              \n",
            "__________________________________________________________________________________________________\n",
            "stem_bn (BatchNormalization)    (None, None, None, 3 128         stem_conv[0][0]                  \n",
            "__________________________________________________________________________________________________\n",
            "stem_activation (Activation)    (None, None, None, 3 0           stem_bn[0][0]                    \n",
            "__________________________________________________________________________________________________\n",
            "block1a_dwconv (DepthwiseConv2D (None, None, None, 3 288         stem_activation[0][0]            \n",
            "__________________________________________________________________________________________________\n",
            "block1a_bn (BatchNormalization) (None, None, None, 3 128         block1a_dwconv[0][0]             \n",
            "__________________________________________________________________________________________________\n",
            "block1a_activation (Activation) (None, None, None, 3 0           block1a_bn[0][0]                 \n",
            "__________________________________________________________________________________________________\n",
            "block1a_se_squeeze (GlobalAvera (None, 32)           0           block1a_activation[0][0]         \n",
            "__________________________________________________________________________________________________\n",
            "block1a_se_reshape (Reshape)    (None, 1, 1, 32)     0           block1a_se_squeeze[0][0]         \n",
            "__________________________________________________________________________________________________\n",
            "block1a_se_reduce (Conv2D)      (None, 1, 1, 8)      264         block1a_se_reshape[0][0]         \n",
            "__________________________________________________________________________________________________\n",
            "block1a_se_expand (Conv2D)      (None, 1, 1, 32)     288         block1a_se_reduce[0][0]          \n",
            "__________________________________________________________________________________________________\n",
            "block1a_se_excite (Multiply)    (None, None, None, 3 0           block1a_activation[0][0]         \n",
            "                                                                 block1a_se_expand[0][0]          \n",
            "__________________________________________________________________________________________________\n",
            "block1a_project_conv (Conv2D)   (None, None, None, 1 512         block1a_se_excite[0][0]          \n",
            "__________________________________________________________________________________________________\n",
            "block1a_project_bn (BatchNormal (None, None, None, 1 64          block1a_project_conv[0][0]       \n",
            "__________________________________________________________________________________________________\n",
            "block2a_expand_conv (Conv2D)    (None, None, None, 9 1536        block1a_project_bn[0][0]         \n",
            "__________________________________________________________________________________________________\n",
            "block2a_expand_bn (BatchNormali (None, None, None, 9 384         block2a_expand_conv[0][0]        \n",
            "__________________________________________________________________________________________________\n",
            "block2a_expand_activation (Acti (None, None, None, 9 0           block2a_expand_bn[0][0]          \n",
            "__________________________________________________________________________________________________\n",
            "block2a_dwconv_pad (ZeroPadding (None, None, None, 9 0           block2a_expand_activation[0][0]  \n",
            "__________________________________________________________________________________________________\n",
            "block2a_dwconv (DepthwiseConv2D (None, None, None, 9 864         block2a_dwconv_pad[0][0]         \n",
            "__________________________________________________________________________________________________\n",
            "block2a_bn (BatchNormalization) (None, None, None, 9 384         block2a_dwconv[0][0]             \n",
            "__________________________________________________________________________________________________\n",
            "block2a_activation (Activation) (None, None, None, 9 0           block2a_bn[0][0]                 \n",
            "__________________________________________________________________________________________________\n",
            "block2a_se_squeeze (GlobalAvera (None, 96)           0           block2a_activation[0][0]         \n",
            "__________________________________________________________________________________________________\n",
            "block2a_se_reshape (Reshape)    (None, 1, 1, 96)     0           block2a_se_squeeze[0][0]         \n",
            "__________________________________________________________________________________________________\n",
            "block2a_se_reduce (Conv2D)      (None, 1, 1, 4)      388         block2a_se_reshape[0][0]         \n",
            "__________________________________________________________________________________________________\n",
            "block2a_se_expand (Conv2D)      (None, 1, 1, 96)     480         block2a_se_reduce[0][0]          \n",
            "__________________________________________________________________________________________________\n",
            "block2a_se_excite (Multiply)    (None, None, None, 9 0           block2a_activation[0][0]         \n",
            "                                                                 block2a_se_expand[0][0]          \n",
            "__________________________________________________________________________________________________\n",
            "block2a_project_conv (Conv2D)   (None, None, None, 2 2304        block2a_se_excite[0][0]          \n",
            "__________________________________________________________________________________________________\n",
            "block2a_project_bn (BatchNormal (None, None, None, 2 96          block2a_project_conv[0][0]       \n",
            "__________________________________________________________________________________________________\n",
            "block2b_expand_conv (Conv2D)    (None, None, None, 1 3456        block2a_project_bn[0][0]         \n",
            "__________________________________________________________________________________________________\n",
            "block2b_expand_bn (BatchNormali (None, None, None, 1 576         block2b_expand_conv[0][0]        \n",
            "__________________________________________________________________________________________________\n",
            "block2b_expand_activation (Acti (None, None, None, 1 0           block2b_expand_bn[0][0]          \n",
            "__________________________________________________________________________________________________\n",
            "block2b_dwconv (DepthwiseConv2D (None, None, None, 1 1296        block2b_expand_activation[0][0]  \n",
            "__________________________________________________________________________________________________\n",
            "block2b_bn (BatchNormalization) (None, None, None, 1 576         block2b_dwconv[0][0]             \n",
            "__________________________________________________________________________________________________\n",
            "block2b_activation (Activation) (None, None, None, 1 0           block2b_bn[0][0]                 \n",
            "__________________________________________________________________________________________________\n",
            "block2b_se_squeeze (GlobalAvera (None, 144)          0           block2b_activation[0][0]         \n",
            "__________________________________________________________________________________________________\n",
            "block2b_se_reshape (Reshape)    (None, 1, 1, 144)    0           block2b_se_squeeze[0][0]         \n",
            "__________________________________________________________________________________________________\n",
            "block2b_se_reduce (Conv2D)      (None, 1, 1, 6)      870         block2b_se_reshape[0][0]         \n",
            "__________________________________________________________________________________________________\n",
            "block2b_se_expand (Conv2D)      (None, 1, 1, 144)    1008        block2b_se_reduce[0][0]          \n",
            "__________________________________________________________________________________________________\n",
            "block2b_se_excite (Multiply)    (None, None, None, 1 0           block2b_activation[0][0]         \n",
            "                                                                 block2b_se_expand[0][0]          \n",
            "__________________________________________________________________________________________________\n",
            "block2b_project_conv (Conv2D)   (None, None, None, 2 3456        block2b_se_excite[0][0]          \n",
            "__________________________________________________________________________________________________\n",
            "block2b_project_bn (BatchNormal (None, None, None, 2 96          block2b_project_conv[0][0]       \n",
            "__________________________________________________________________________________________________\n",
            "block2b_drop (Dropout)          (None, None, None, 2 0           block2b_project_bn[0][0]         \n",
            "__________________________________________________________________________________________________\n",
            "block2b_add (Add)               (None, None, None, 2 0           block2b_drop[0][0]               \n",
            "                                                                 block2a_project_bn[0][0]         \n",
            "__________________________________________________________________________________________________\n",
            "block3a_expand_conv (Conv2D)    (None, None, None, 1 3456        block2b_add[0][0]                \n",
            "__________________________________________________________________________________________________\n",
            "block3a_expand_bn (BatchNormali (None, None, None, 1 576         block3a_expand_conv[0][0]        \n",
            "__________________________________________________________________________________________________\n",
            "block3a_expand_activation (Acti (None, None, None, 1 0           block3a_expand_bn[0][0]          \n",
            "__________________________________________________________________________________________________\n",
            "block3a_dwconv_pad (ZeroPadding (None, None, None, 1 0           block3a_expand_activation[0][0]  \n",
            "__________________________________________________________________________________________________\n",
            "block3a_dwconv (DepthwiseConv2D (None, None, None, 1 3600        block3a_dwconv_pad[0][0]         \n",
            "__________________________________________________________________________________________________\n",
            "block3a_bn (BatchNormalization) (None, None, None, 1 576         block3a_dwconv[0][0]             \n",
            "__________________________________________________________________________________________________\n",
            "block3a_activation (Activation) (None, None, None, 1 0           block3a_bn[0][0]                 \n",
            "__________________________________________________________________________________________________\n",
            "block3a_se_squeeze (GlobalAvera (None, 144)          0           block3a_activation[0][0]         \n",
            "__________________________________________________________________________________________________\n",
            "block3a_se_reshape (Reshape)    (None, 1, 1, 144)    0           block3a_se_squeeze[0][0]         \n",
            "__________________________________________________________________________________________________\n",
            "block3a_se_reduce (Conv2D)      (None, 1, 1, 6)      870         block3a_se_reshape[0][0]         \n",
            "__________________________________________________________________________________________________\n",
            "block3a_se_expand (Conv2D)      (None, 1, 1, 144)    1008        block3a_se_reduce[0][0]          \n",
            "__________________________________________________________________________________________________\n",
            "block3a_se_excite (Multiply)    (None, None, None, 1 0           block3a_activation[0][0]         \n",
            "                                                                 block3a_se_expand[0][0]          \n",
            "__________________________________________________________________________________________________\n",
            "block3a_project_conv (Conv2D)   (None, None, None, 4 5760        block3a_se_excite[0][0]          \n",
            "__________________________________________________________________________________________________\n",
            "block3a_project_bn (BatchNormal (None, None, None, 4 160         block3a_project_conv[0][0]       \n",
            "__________________________________________________________________________________________________\n",
            "block3b_expand_conv (Conv2D)    (None, None, None, 2 9600        block3a_project_bn[0][0]         \n",
            "__________________________________________________________________________________________________\n",
            "block3b_expand_bn (BatchNormali (None, None, None, 2 960         block3b_expand_conv[0][0]        \n",
            "__________________________________________________________________________________________________\n",
            "block3b_expand_activation (Acti (None, None, None, 2 0           block3b_expand_bn[0][0]          \n",
            "__________________________________________________________________________________________________\n",
            "block3b_dwconv (DepthwiseConv2D (None, None, None, 2 6000        block3b_expand_activation[0][0]  \n",
            "__________________________________________________________________________________________________\n",
            "block3b_bn (BatchNormalization) (None, None, None, 2 960         block3b_dwconv[0][0]             \n",
            "__________________________________________________________________________________________________\n",
            "block3b_activation (Activation) (None, None, None, 2 0           block3b_bn[0][0]                 \n",
            "__________________________________________________________________________________________________\n",
            "block3b_se_squeeze (GlobalAvera (None, 240)          0           block3b_activation[0][0]         \n",
            "__________________________________________________________________________________________________\n",
            "block3b_se_reshape (Reshape)    (None, 1, 1, 240)    0           block3b_se_squeeze[0][0]         \n",
            "__________________________________________________________________________________________________\n",
            "block3b_se_reduce (Conv2D)      (None, 1, 1, 10)     2410        block3b_se_reshape[0][0]         \n",
            "__________________________________________________________________________________________________\n",
            "block3b_se_expand (Conv2D)      (None, 1, 1, 240)    2640        block3b_se_reduce[0][0]          \n",
            "__________________________________________________________________________________________________\n",
            "block3b_se_excite (Multiply)    (None, None, None, 2 0           block3b_activation[0][0]         \n",
            "                                                                 block3b_se_expand[0][0]          \n",
            "__________________________________________________________________________________________________\n",
            "block3b_project_conv (Conv2D)   (None, None, None, 4 9600        block3b_se_excite[0][0]          \n",
            "__________________________________________________________________________________________________\n",
            "block3b_project_bn (BatchNormal (None, None, None, 4 160         block3b_project_conv[0][0]       \n",
            "__________________________________________________________________________________________________\n",
            "block3b_drop (Dropout)          (None, None, None, 4 0           block3b_project_bn[0][0]         \n",
            "__________________________________________________________________________________________________\n",
            "block3b_add (Add)               (None, None, None, 4 0           block3b_drop[0][0]               \n",
            "                                                                 block3a_project_bn[0][0]         \n",
            "__________________________________________________________________________________________________\n",
            "block4a_expand_conv (Conv2D)    (None, None, None, 2 9600        block3b_add[0][0]                \n",
            "__________________________________________________________________________________________________\n",
            "block4a_expand_bn (BatchNormali (None, None, None, 2 960         block4a_expand_conv[0][0]        \n",
            "__________________________________________________________________________________________________\n",
            "block4a_expand_activation (Acti (None, None, None, 2 0           block4a_expand_bn[0][0]          \n",
            "__________________________________________________________________________________________________\n",
            "block4a_dwconv_pad (ZeroPadding (None, None, None, 2 0           block4a_expand_activation[0][0]  \n",
            "__________________________________________________________________________________________________\n",
            "block4a_dwconv (DepthwiseConv2D (None, None, None, 2 2160        block4a_dwconv_pad[0][0]         \n",
            "__________________________________________________________________________________________________\n",
            "block4a_bn (BatchNormalization) (None, None, None, 2 960         block4a_dwconv[0][0]             \n",
            "__________________________________________________________________________________________________\n",
            "block4a_activation (Activation) (None, None, None, 2 0           block4a_bn[0][0]                 \n",
            "__________________________________________________________________________________________________\n",
            "block4a_se_squeeze (GlobalAvera (None, 240)          0           block4a_activation[0][0]         \n",
            "__________________________________________________________________________________________________\n",
            "block4a_se_reshape (Reshape)    (None, 1, 1, 240)    0           block4a_se_squeeze[0][0]         \n",
            "__________________________________________________________________________________________________\n",
            "block4a_se_reduce (Conv2D)      (None, 1, 1, 10)     2410        block4a_se_reshape[0][0]         \n",
            "__________________________________________________________________________________________________\n",
            "block4a_se_expand (Conv2D)      (None, 1, 1, 240)    2640        block4a_se_reduce[0][0]          \n",
            "__________________________________________________________________________________________________\n",
            "block4a_se_excite (Multiply)    (None, None, None, 2 0           block4a_activation[0][0]         \n",
            "                                                                 block4a_se_expand[0][0]          \n",
            "__________________________________________________________________________________________________\n",
            "block4a_project_conv (Conv2D)   (None, None, None, 8 19200       block4a_se_excite[0][0]          \n",
            "__________________________________________________________________________________________________\n",
            "block4a_project_bn (BatchNormal (None, None, None, 8 320         block4a_project_conv[0][0]       \n",
            "__________________________________________________________________________________________________\n",
            "block4b_expand_conv (Conv2D)    (None, None, None, 4 38400       block4a_project_bn[0][0]         \n",
            "__________________________________________________________________________________________________\n",
            "block4b_expand_bn (BatchNormali (None, None, None, 4 1920        block4b_expand_conv[0][0]        \n",
            "__________________________________________________________________________________________________\n",
            "block4b_expand_activation (Acti (None, None, None, 4 0           block4b_expand_bn[0][0]          \n",
            "__________________________________________________________________________________________________\n",
            "block4b_dwconv (DepthwiseConv2D (None, None, None, 4 4320        block4b_expand_activation[0][0]  \n",
            "__________________________________________________________________________________________________\n",
            "block4b_bn (BatchNormalization) (None, None, None, 4 1920        block4b_dwconv[0][0]             \n",
            "__________________________________________________________________________________________________\n",
            "block4b_activation (Activation) (None, None, None, 4 0           block4b_bn[0][0]                 \n",
            "__________________________________________________________________________________________________\n",
            "block4b_se_squeeze (GlobalAvera (None, 480)          0           block4b_activation[0][0]         \n",
            "__________________________________________________________________________________________________\n",
            "block4b_se_reshape (Reshape)    (None, 1, 1, 480)    0           block4b_se_squeeze[0][0]         \n",
            "__________________________________________________________________________________________________\n",
            "block4b_se_reduce (Conv2D)      (None, 1, 1, 20)     9620        block4b_se_reshape[0][0]         \n",
            "__________________________________________________________________________________________________\n",
            "block4b_se_expand (Conv2D)      (None, 1, 1, 480)    10080       block4b_se_reduce[0][0]          \n",
            "__________________________________________________________________________________________________\n",
            "block4b_se_excite (Multiply)    (None, None, None, 4 0           block4b_activation[0][0]         \n",
            "                                                                 block4b_se_expand[0][0]          \n",
            "__________________________________________________________________________________________________\n",
            "block4b_project_conv (Conv2D)   (None, None, None, 8 38400       block4b_se_excite[0][0]          \n",
            "__________________________________________________________________________________________________\n",
            "block4b_project_bn (BatchNormal (None, None, None, 8 320         block4b_project_conv[0][0]       \n",
            "__________________________________________________________________________________________________\n",
            "block4b_drop (Dropout)          (None, None, None, 8 0           block4b_project_bn[0][0]         \n",
            "__________________________________________________________________________________________________\n",
            "block4b_add (Add)               (None, None, None, 8 0           block4b_drop[0][0]               \n",
            "                                                                 block4a_project_bn[0][0]         \n",
            "__________________________________________________________________________________________________\n",
            "block4c_expand_conv (Conv2D)    (None, None, None, 4 38400       block4b_add[0][0]                \n",
            "__________________________________________________________________________________________________\n",
            "block4c_expand_bn (BatchNormali (None, None, None, 4 1920        block4c_expand_conv[0][0]        \n",
            "__________________________________________________________________________________________________\n",
            "block4c_expand_activation (Acti (None, None, None, 4 0           block4c_expand_bn[0][0]          \n",
            "__________________________________________________________________________________________________\n",
            "block4c_dwconv (DepthwiseConv2D (None, None, None, 4 4320        block4c_expand_activation[0][0]  \n",
            "__________________________________________________________________________________________________\n",
            "block4c_bn (BatchNormalization) (None, None, None, 4 1920        block4c_dwconv[0][0]             \n",
            "__________________________________________________________________________________________________\n",
            "block4c_activation (Activation) (None, None, None, 4 0           block4c_bn[0][0]                 \n",
            "__________________________________________________________________________________________________\n",
            "block4c_se_squeeze (GlobalAvera (None, 480)          0           block4c_activation[0][0]         \n",
            "__________________________________________________________________________________________________\n",
            "block4c_se_reshape (Reshape)    (None, 1, 1, 480)    0           block4c_se_squeeze[0][0]         \n",
            "__________________________________________________________________________________________________\n",
            "block4c_se_reduce (Conv2D)      (None, 1, 1, 20)     9620        block4c_se_reshape[0][0]         \n",
            "__________________________________________________________________________________________________\n",
            "block4c_se_expand (Conv2D)      (None, 1, 1, 480)    10080       block4c_se_reduce[0][0]          \n",
            "__________________________________________________________________________________________________\n",
            "block4c_se_excite (Multiply)    (None, None, None, 4 0           block4c_activation[0][0]         \n",
            "                                                                 block4c_se_expand[0][0]          \n",
            "__________________________________________________________________________________________________\n",
            "block4c_project_conv (Conv2D)   (None, None, None, 8 38400       block4c_se_excite[0][0]          \n",
            "__________________________________________________________________________________________________\n",
            "block4c_project_bn (BatchNormal (None, None, None, 8 320         block4c_project_conv[0][0]       \n",
            "__________________________________________________________________________________________________\n",
            "block4c_drop (Dropout)          (None, None, None, 8 0           block4c_project_bn[0][0]         \n",
            "__________________________________________________________________________________________________\n",
            "block4c_add (Add)               (None, None, None, 8 0           block4c_drop[0][0]               \n",
            "                                                                 block4b_add[0][0]                \n",
            "__________________________________________________________________________________________________\n",
            "block5a_expand_conv (Conv2D)    (None, None, None, 4 38400       block4c_add[0][0]                \n",
            "__________________________________________________________________________________________________\n",
            "block5a_expand_bn (BatchNormali (None, None, None, 4 1920        block5a_expand_conv[0][0]        \n",
            "__________________________________________________________________________________________________\n",
            "block5a_expand_activation (Acti (None, None, None, 4 0           block5a_expand_bn[0][0]          \n",
            "__________________________________________________________________________________________________\n",
            "block5a_dwconv (DepthwiseConv2D (None, None, None, 4 12000       block5a_expand_activation[0][0]  \n",
            "__________________________________________________________________________________________________\n",
            "block5a_bn (BatchNormalization) (None, None, None, 4 1920        block5a_dwconv[0][0]             \n",
            "__________________________________________________________________________________________________\n",
            "block5a_activation (Activation) (None, None, None, 4 0           block5a_bn[0][0]                 \n",
            "__________________________________________________________________________________________________\n",
            "block5a_se_squeeze (GlobalAvera (None, 480)          0           block5a_activation[0][0]         \n",
            "__________________________________________________________________________________________________\n",
            "block5a_se_reshape (Reshape)    (None, 1, 1, 480)    0           block5a_se_squeeze[0][0]         \n",
            "__________________________________________________________________________________________________\n",
            "block5a_se_reduce (Conv2D)      (None, 1, 1, 20)     9620        block5a_se_reshape[0][0]         \n",
            "__________________________________________________________________________________________________\n",
            "block5a_se_expand (Conv2D)      (None, 1, 1, 480)    10080       block5a_se_reduce[0][0]          \n",
            "__________________________________________________________________________________________________\n",
            "block5a_se_excite (Multiply)    (None, None, None, 4 0           block5a_activation[0][0]         \n",
            "                                                                 block5a_se_expand[0][0]          \n",
            "__________________________________________________________________________________________________\n",
            "block5a_project_conv (Conv2D)   (None, None, None, 1 53760       block5a_se_excite[0][0]          \n",
            "__________________________________________________________________________________________________\n",
            "block5a_project_bn (BatchNormal (None, None, None, 1 448         block5a_project_conv[0][0]       \n",
            "__________________________________________________________________________________________________\n",
            "block5b_expand_conv (Conv2D)    (None, None, None, 6 75264       block5a_project_bn[0][0]         \n",
            "__________________________________________________________________________________________________\n",
            "block5b_expand_bn (BatchNormali (None, None, None, 6 2688        block5b_expand_conv[0][0]        \n",
            "__________________________________________________________________________________________________\n",
            "block5b_expand_activation (Acti (None, None, None, 6 0           block5b_expand_bn[0][0]          \n",
            "__________________________________________________________________________________________________\n",
            "block5b_dwconv (DepthwiseConv2D (None, None, None, 6 16800       block5b_expand_activation[0][0]  \n",
            "__________________________________________________________________________________________________\n",
            "block5b_bn (BatchNormalization) (None, None, None, 6 2688        block5b_dwconv[0][0]             \n",
            "__________________________________________________________________________________________________\n",
            "block5b_activation (Activation) (None, None, None, 6 0           block5b_bn[0][0]                 \n",
            "__________________________________________________________________________________________________\n",
            "block5b_se_squeeze (GlobalAvera (None, 672)          0           block5b_activation[0][0]         \n",
            "__________________________________________________________________________________________________\n",
            "block5b_se_reshape (Reshape)    (None, 1, 1, 672)    0           block5b_se_squeeze[0][0]         \n",
            "__________________________________________________________________________________________________\n",
            "block5b_se_reduce (Conv2D)      (None, 1, 1, 28)     18844       block5b_se_reshape[0][0]         \n",
            "__________________________________________________________________________________________________\n",
            "block5b_se_expand (Conv2D)      (None, 1, 1, 672)    19488       block5b_se_reduce[0][0]          \n",
            "__________________________________________________________________________________________________\n",
            "block5b_se_excite (Multiply)    (None, None, None, 6 0           block5b_activation[0][0]         \n",
            "                                                                 block5b_se_expand[0][0]          \n",
            "__________________________________________________________________________________________________\n",
            "block5b_project_conv (Conv2D)   (None, None, None, 1 75264       block5b_se_excite[0][0]          \n",
            "__________________________________________________________________________________________________\n",
            "block5b_project_bn (BatchNormal (None, None, None, 1 448         block5b_project_conv[0][0]       \n",
            "__________________________________________________________________________________________________\n",
            "block5b_drop (Dropout)          (None, None, None, 1 0           block5b_project_bn[0][0]         \n",
            "__________________________________________________________________________________________________\n",
            "block5b_add (Add)               (None, None, None, 1 0           block5b_drop[0][0]               \n",
            "                                                                 block5a_project_bn[0][0]         \n",
            "__________________________________________________________________________________________________\n",
            "block5c_expand_conv (Conv2D)    (None, None, None, 6 75264       block5b_add[0][0]                \n",
            "__________________________________________________________________________________________________\n",
            "block5c_expand_bn (BatchNormali (None, None, None, 6 2688        block5c_expand_conv[0][0]        \n",
            "__________________________________________________________________________________________________\n",
            "block5c_expand_activation (Acti (None, None, None, 6 0           block5c_expand_bn[0][0]          \n",
            "__________________________________________________________________________________________________\n",
            "block5c_dwconv (DepthwiseConv2D (None, None, None, 6 16800       block5c_expand_activation[0][0]  \n",
            "__________________________________________________________________________________________________\n",
            "block5c_bn (BatchNormalization) (None, None, None, 6 2688        block5c_dwconv[0][0]             \n",
            "__________________________________________________________________________________________________\n",
            "block5c_activation (Activation) (None, None, None, 6 0           block5c_bn[0][0]                 \n",
            "__________________________________________________________________________________________________\n",
            "block5c_se_squeeze (GlobalAvera (None, 672)          0           block5c_activation[0][0]         \n",
            "__________________________________________________________________________________________________\n",
            "block5c_se_reshape (Reshape)    (None, 1, 1, 672)    0           block5c_se_squeeze[0][0]         \n",
            "__________________________________________________________________________________________________\n",
            "block5c_se_reduce (Conv2D)      (None, 1, 1, 28)     18844       block5c_se_reshape[0][0]         \n",
            "__________________________________________________________________________________________________\n",
            "block5c_se_expand (Conv2D)      (None, 1, 1, 672)    19488       block5c_se_reduce[0][0]          \n",
            "__________________________________________________________________________________________________\n",
            "block5c_se_excite (Multiply)    (None, None, None, 6 0           block5c_activation[0][0]         \n",
            "                                                                 block5c_se_expand[0][0]          \n",
            "__________________________________________________________________________________________________\n",
            "block5c_project_conv (Conv2D)   (None, None, None, 1 75264       block5c_se_excite[0][0]          \n",
            "__________________________________________________________________________________________________\n",
            "block5c_project_bn (BatchNormal (None, None, None, 1 448         block5c_project_conv[0][0]       \n",
            "__________________________________________________________________________________________________\n",
            "block5c_drop (Dropout)          (None, None, None, 1 0           block5c_project_bn[0][0]         \n",
            "__________________________________________________________________________________________________\n",
            "block5c_add (Add)               (None, None, None, 1 0           block5c_drop[0][0]               \n",
            "                                                                 block5b_add[0][0]                \n",
            "__________________________________________________________________________________________________\n",
            "block6a_expand_conv (Conv2D)    (None, None, None, 6 75264       block5c_add[0][0]                \n",
            "__________________________________________________________________________________________________\n",
            "block6a_expand_bn (BatchNormali (None, None, None, 6 2688        block6a_expand_conv[0][0]        \n",
            "__________________________________________________________________________________________________\n",
            "block6a_expand_activation (Acti (None, None, None, 6 0           block6a_expand_bn[0][0]          \n",
            "__________________________________________________________________________________________________\n",
            "block6a_dwconv_pad (ZeroPadding (None, None, None, 6 0           block6a_expand_activation[0][0]  \n",
            "__________________________________________________________________________________________________\n",
            "block6a_dwconv (DepthwiseConv2D (None, None, None, 6 16800       block6a_dwconv_pad[0][0]         \n",
            "__________________________________________________________________________________________________\n",
            "block6a_bn (BatchNormalization) (None, None, None, 6 2688        block6a_dwconv[0][0]             \n",
            "__________________________________________________________________________________________________\n",
            "block6a_activation (Activation) (None, None, None, 6 0           block6a_bn[0][0]                 \n",
            "__________________________________________________________________________________________________\n",
            "block6a_se_squeeze (GlobalAvera (None, 672)          0           block6a_activation[0][0]         \n",
            "__________________________________________________________________________________________________\n",
            "block6a_se_reshape (Reshape)    (None, 1, 1, 672)    0           block6a_se_squeeze[0][0]         \n",
            "__________________________________________________________________________________________________\n",
            "block6a_se_reduce (Conv2D)      (None, 1, 1, 28)     18844       block6a_se_reshape[0][0]         \n",
            "__________________________________________________________________________________________________\n",
            "block6a_se_expand (Conv2D)      (None, 1, 1, 672)    19488       block6a_se_reduce[0][0]          \n",
            "__________________________________________________________________________________________________\n",
            "block6a_se_excite (Multiply)    (None, None, None, 6 0           block6a_activation[0][0]         \n",
            "                                                                 block6a_se_expand[0][0]          \n",
            "__________________________________________________________________________________________________\n",
            "block6a_project_conv (Conv2D)   (None, None, None, 1 129024      block6a_se_excite[0][0]          \n",
            "__________________________________________________________________________________________________\n",
            "block6a_project_bn (BatchNormal (None, None, None, 1 768         block6a_project_conv[0][0]       \n",
            "__________________________________________________________________________________________________\n",
            "block6b_expand_conv (Conv2D)    (None, None, None, 1 221184      block6a_project_bn[0][0]         \n",
            "__________________________________________________________________________________________________\n",
            "block6b_expand_bn (BatchNormali (None, None, None, 1 4608        block6b_expand_conv[0][0]        \n",
            "__________________________________________________________________________________________________\n",
            "block6b_expand_activation (Acti (None, None, None, 1 0           block6b_expand_bn[0][0]          \n",
            "__________________________________________________________________________________________________\n",
            "block6b_dwconv (DepthwiseConv2D (None, None, None, 1 28800       block6b_expand_activation[0][0]  \n",
            "__________________________________________________________________________________________________\n",
            "block6b_bn (BatchNormalization) (None, None, None, 1 4608        block6b_dwconv[0][0]             \n",
            "__________________________________________________________________________________________________\n",
            "block6b_activation (Activation) (None, None, None, 1 0           block6b_bn[0][0]                 \n",
            "__________________________________________________________________________________________________\n",
            "block6b_se_squeeze (GlobalAvera (None, 1152)         0           block6b_activation[0][0]         \n",
            "__________________________________________________________________________________________________\n",
            "block6b_se_reshape (Reshape)    (None, 1, 1, 1152)   0           block6b_se_squeeze[0][0]         \n",
            "__________________________________________________________________________________________________\n",
            "block6b_se_reduce (Conv2D)      (None, 1, 1, 48)     55344       block6b_se_reshape[0][0]         \n",
            "__________________________________________________________________________________________________\n",
            "block6b_se_expand (Conv2D)      (None, 1, 1, 1152)   56448       block6b_se_reduce[0][0]          \n",
            "__________________________________________________________________________________________________\n",
            "block6b_se_excite (Multiply)    (None, None, None, 1 0           block6b_activation[0][0]         \n",
            "                                                                 block6b_se_expand[0][0]          \n",
            "__________________________________________________________________________________________________\n",
            "block6b_project_conv (Conv2D)   (None, None, None, 1 221184      block6b_se_excite[0][0]          \n",
            "__________________________________________________________________________________________________\n",
            "block6b_project_bn (BatchNormal (None, None, None, 1 768         block6b_project_conv[0][0]       \n",
            "__________________________________________________________________________________________________\n",
            "block6b_drop (Dropout)          (None, None, None, 1 0           block6b_project_bn[0][0]         \n",
            "__________________________________________________________________________________________________\n",
            "block6b_add (Add)               (None, None, None, 1 0           block6b_drop[0][0]               \n",
            "                                                                 block6a_project_bn[0][0]         \n",
            "__________________________________________________________________________________________________\n",
            "block6c_expand_conv (Conv2D)    (None, None, None, 1 221184      block6b_add[0][0]                \n",
            "__________________________________________________________________________________________________\n",
            "block6c_expand_bn (BatchNormali (None, None, None, 1 4608        block6c_expand_conv[0][0]        \n",
            "__________________________________________________________________________________________________\n",
            "block6c_expand_activation (Acti (None, None, None, 1 0           block6c_expand_bn[0][0]          \n",
            "__________________________________________________________________________________________________\n",
            "block6c_dwconv (DepthwiseConv2D (None, None, None, 1 28800       block6c_expand_activation[0][0]  \n",
            "__________________________________________________________________________________________________\n",
            "block6c_bn (BatchNormalization) (None, None, None, 1 4608        block6c_dwconv[0][0]             \n",
            "__________________________________________________________________________________________________\n",
            "block6c_activation (Activation) (None, None, None, 1 0           block6c_bn[0][0]                 \n",
            "__________________________________________________________________________________________________\n",
            "block6c_se_squeeze (GlobalAvera (None, 1152)         0           block6c_activation[0][0]         \n",
            "__________________________________________________________________________________________________\n",
            "block6c_se_reshape (Reshape)    (None, 1, 1, 1152)   0           block6c_se_squeeze[0][0]         \n",
            "__________________________________________________________________________________________________\n",
            "block6c_se_reduce (Conv2D)      (None, 1, 1, 48)     55344       block6c_se_reshape[0][0]         \n",
            "__________________________________________________________________________________________________\n",
            "block6c_se_expand (Conv2D)      (None, 1, 1, 1152)   56448       block6c_se_reduce[0][0]          \n",
            "__________________________________________________________________________________________________\n",
            "block6c_se_excite (Multiply)    (None, None, None, 1 0           block6c_activation[0][0]         \n",
            "                                                                 block6c_se_expand[0][0]          \n",
            "__________________________________________________________________________________________________\n",
            "block6c_project_conv (Conv2D)   (None, None, None, 1 221184      block6c_se_excite[0][0]          \n",
            "__________________________________________________________________________________________________\n",
            "block6c_project_bn (BatchNormal (None, None, None, 1 768         block6c_project_conv[0][0]       \n",
            "__________________________________________________________________________________________________\n",
            "block6c_drop (Dropout)          (None, None, None, 1 0           block6c_project_bn[0][0]         \n",
            "__________________________________________________________________________________________________\n",
            "block6c_add (Add)               (None, None, None, 1 0           block6c_drop[0][0]               \n",
            "                                                                 block6b_add[0][0]                \n",
            "__________________________________________________________________________________________________\n",
            "block6d_expand_conv (Conv2D)    (None, None, None, 1 221184      block6c_add[0][0]                \n",
            "__________________________________________________________________________________________________\n",
            "block6d_expand_bn (BatchNormali (None, None, None, 1 4608        block6d_expand_conv[0][0]        \n",
            "__________________________________________________________________________________________________\n",
            "block6d_expand_activation (Acti (None, None, None, 1 0           block6d_expand_bn[0][0]          \n",
            "__________________________________________________________________________________________________\n",
            "block6d_dwconv (DepthwiseConv2D (None, None, None, 1 28800       block6d_expand_activation[0][0]  \n",
            "__________________________________________________________________________________________________\n",
            "block6d_bn (BatchNormalization) (None, None, None, 1 4608        block6d_dwconv[0][0]             \n",
            "__________________________________________________________________________________________________\n",
            "block6d_activation (Activation) (None, None, None, 1 0           block6d_bn[0][0]                 \n",
            "__________________________________________________________________________________________________\n",
            "block6d_se_squeeze (GlobalAvera (None, 1152)         0           block6d_activation[0][0]         \n",
            "__________________________________________________________________________________________________\n",
            "block6d_se_reshape (Reshape)    (None, 1, 1, 1152)   0           block6d_se_squeeze[0][0]         \n",
            "__________________________________________________________________________________________________\n",
            "block6d_se_reduce (Conv2D)      (None, 1, 1, 48)     55344       block6d_se_reshape[0][0]         \n",
            "__________________________________________________________________________________________________\n",
            "block6d_se_expand (Conv2D)      (None, 1, 1, 1152)   56448       block6d_se_reduce[0][0]          \n",
            "__________________________________________________________________________________________________\n",
            "block6d_se_excite (Multiply)    (None, None, None, 1 0           block6d_activation[0][0]         \n",
            "                                                                 block6d_se_expand[0][0]          \n",
            "__________________________________________________________________________________________________\n",
            "block6d_project_conv (Conv2D)   (None, None, None, 1 221184      block6d_se_excite[0][0]          \n",
            "__________________________________________________________________________________________________\n",
            "block6d_project_bn (BatchNormal (None, None, None, 1 768         block6d_project_conv[0][0]       \n",
            "__________________________________________________________________________________________________\n",
            "block6d_drop (Dropout)          (None, None, None, 1 0           block6d_project_bn[0][0]         \n",
            "__________________________________________________________________________________________________\n",
            "block6d_add (Add)               (None, None, None, 1 0           block6d_drop[0][0]               \n",
            "                                                                 block6c_add[0][0]                \n",
            "__________________________________________________________________________________________________\n",
            "block7a_expand_conv (Conv2D)    (None, None, None, 1 221184      block6d_add[0][0]                \n",
            "__________________________________________________________________________________________________\n",
            "block7a_expand_bn (BatchNormali (None, None, None, 1 4608        block7a_expand_conv[0][0]        \n",
            "__________________________________________________________________________________________________\n",
            "block7a_expand_activation (Acti (None, None, None, 1 0           block7a_expand_bn[0][0]          \n",
            "__________________________________________________________________________________________________\n",
            "block7a_dwconv (DepthwiseConv2D (None, None, None, 1 10368       block7a_expand_activation[0][0]  \n",
            "__________________________________________________________________________________________________\n",
            "block7a_bn (BatchNormalization) (None, None, None, 1 4608        block7a_dwconv[0][0]             \n",
            "__________________________________________________________________________________________________\n",
            "block7a_activation (Activation) (None, None, None, 1 0           block7a_bn[0][0]                 \n",
            "__________________________________________________________________________________________________\n",
            "block7a_se_squeeze (GlobalAvera (None, 1152)         0           block7a_activation[0][0]         \n",
            "__________________________________________________________________________________________________\n",
            "block7a_se_reshape (Reshape)    (None, 1, 1, 1152)   0           block7a_se_squeeze[0][0]         \n",
            "__________________________________________________________________________________________________\n",
            "block7a_se_reduce (Conv2D)      (None, 1, 1, 48)     55344       block7a_se_reshape[0][0]         \n",
            "__________________________________________________________________________________________________\n",
            "block7a_se_expand (Conv2D)      (None, 1, 1, 1152)   56448       block7a_se_reduce[0][0]          \n",
            "__________________________________________________________________________________________________\n",
            "block7a_se_excite (Multiply)    (None, None, None, 1 0           block7a_activation[0][0]         \n",
            "                                                                 block7a_se_expand[0][0]          \n",
            "__________________________________________________________________________________________________\n",
            "block7a_project_conv (Conv2D)   (None, None, None, 3 368640      block7a_se_excite[0][0]          \n",
            "__________________________________________________________________________________________________\n",
            "block7a_project_bn (BatchNormal (None, None, None, 3 1280        block7a_project_conv[0][0]       \n",
            "__________________________________________________________________________________________________\n",
            "top_conv (Conv2D)               (None, None, None, 1 409600      block7a_project_bn[0][0]         \n",
            "__________________________________________________________________________________________________\n",
            "top_bn (BatchNormalization)     (None, None, None, 1 5120        top_conv[0][0]                   \n",
            "__________________________________________________________________________________________________\n",
            "top_activation (Activation)     (None, None, None, 1 0           top_bn[0][0]                     \n",
            "==================================================================================================\n",
            "Total params: 4,049,571\n",
            "Trainable params: 0\n",
            "Non-trainable params: 4,049,571\n",
            "__________________________________________________________________________________________________\n"
          ]
        }
      ]
    },
    {
      "cell_type": "code",
      "metadata": {
        "colab": {
          "base_uri": "https://localhost:8080/"
        },
        "id": "m-g0xciGVNVT",
        "outputId": "b35fdfc4-5dfe-478e-9fe9-72f33cec8091"
      },
      "source": [
        "model_0.summary()"
      ],
      "execution_count": 18,
      "outputs": [
        {
          "output_type": "stream",
          "name": "stdout",
          "text": [
            "Model: \"model\"\n",
            "_________________________________________________________________\n",
            "Layer (type)                 Output Shape              Param #   \n",
            "=================================================================\n",
            "input_layer (InputLayer)     [(None, 224, 224, 3)]     0         \n",
            "_________________________________________________________________\n",
            "efficientnetb0 (Functional)  (None, None, None, 1280)  4049571   \n",
            "_________________________________________________________________\n",
            "global_average_pooling_layer (None, 1280)              0         \n",
            "_________________________________________________________________\n",
            "output_layer (Dense)         (None, 10)                12810     \n",
            "=================================================================\n",
            "Total params: 4,062,381\n",
            "Trainable params: 12,810\n",
            "Non-trainable params: 4,049,571\n",
            "_________________________________________________________________\n"
          ]
        }
      ]
    },
    {
      "cell_type": "code",
      "metadata": {
        "colab": {
          "base_uri": "https://localhost:8080/",
          "height": 573
        },
        "id": "-eGvPPtgVmrB",
        "outputId": "7baae3e8-eece-4277-9fec-6277dc4b2a54"
      },
      "source": [
        "plot_loss_curves(history_0)"
      ],
      "execution_count": 19,
      "outputs": [
        {
          "output_type": "display_data",
          "data": {
            "image/png": "[encoded data removed]",
            "text/plain": [
              "<Figure size 432x288 with 1 Axes>"
            ]
          },
          "metadata": {
            "needs_background": "light"
          }
        },
        {
          "output_type": "display_data",
          "data": {
            "image/png": "[encoded data removed]",
            "text/plain": [
              "<Figure size 432x288 with 1 Axes>"
            ]
          },
          "metadata": {
            "needs_background": "light"
          }
        }
      ]
    },
    {
      "cell_type": "markdown",
      "metadata": {
        "id": "wi-Kyp7GVymg"
      },
      "source": [
        "### Getting a feature vector from a trained model"
      ]
    },
    {
      "cell_type": "code",
      "metadata": {
        "colab": {
          "base_uri": "https://localhost:8080/"
        },
        "id": "TP1god8BDRrb",
        "outputId": "228604ad-0364-4c8b-d4ac-a0e264241373"
      },
      "source": [
        "# Create a random tensor\n",
        "input_shape = (1,4,4,3)\n",
        "\n",
        "tf.random.set_seed(42)\n",
        "input_tensor = tf.random.normal(input_shape)\n",
        "print(f\"Random input tensor: \\n {input_tensor}\\n\")"
      ],
      "execution_count": 24,
      "outputs": [
        {
          "output_type": "stream",
          "name": "stdout",
          "text": [
            "Random input tensor: \n",
            " [[[[ 0.3274685  -0.8426258   0.3194337 ]\n",
            "   [-1.4075519  -2.3880599  -1.0392479 ]\n",
            "   [-0.5573232   0.539707    1.6994323 ]\n",
            "   [ 0.28893656 -1.5066116  -0.2645474 ]]\n",
            "\n",
            "  [[-0.59722406 -1.9171132  -0.62044144]\n",
            "   [ 0.8504023  -0.40604794 -3.0258412 ]\n",
            "   [ 0.9058464   0.29855987 -0.22561555]\n",
            "   [-0.7616443  -1.8917141  -0.93847126]]\n",
            "\n",
            "  [[ 0.77852213 -0.47338897  0.97772694]\n",
            "   [ 0.24694404  0.20573747 -0.5256233 ]\n",
            "   [ 0.32410017  0.02545409 -0.10638497]\n",
            "   [-0.6369475   1.1603122   0.2507359 ]]\n",
            "\n",
            "  [[-0.41728503  0.4012578  -1.4145443 ]\n",
            "   [-0.5931857  -1.6617213   0.33567193]\n",
            "   [ 0.10815629  0.23479682 -0.56668764]\n",
            "   [-0.35819843  0.88698614  0.52744764]]]]\n",
            "\n"
          ]
        }
      ]
    },
    {
      "cell_type": "code",
      "metadata": {
        "colab": {
          "base_uri": "https://localhost:8080/"
        },
        "id": "t0RZbd0jDkOD",
        "outputId": "e4a11c82-f0d5-40da-8f5a-01797cfd8480"
      },
      "source": [
        "#pass the random tensor to the global average pooling 2d\n",
        "global_average_pooled_tensor = tf.keras.layers.GlobalAveragePooling2D()(input_tensor)\n",
        "print(f\"2D global Average pooled Tensor: \\n {global_average_pooled_tensor}\\n\")"
      ],
      "execution_count": 25,
      "outputs": [
        {
          "output_type": "stream",
          "name": "stdout",
          "text": [
            "2D global Average pooled Tensor: \n",
            " [[-0.09368646 -0.45840448 -0.2885598 ]]\n",
            "\n"
          ]
        }
      ]
    },
    {
      "cell_type": "code",
      "metadata": {
        "colab": {
          "base_uri": "https://localhost:8080/"
        },
        "id": "FiqSJQbtExG-",
        "outputId": "49782c54-8537-4176-9f70-4ff61d00dc0d"
      },
      "source": [
        "global_average_pooled_tensor.shape"
      ],
      "execution_count": 26,
      "outputs": [
        {
          "output_type": "execute_result",
          "data": {
            "text/plain": [
              "TensorShape([1, 3])"
            ]
          },
          "metadata": {},
          "execution_count": 26
        }
      ]
    },
    {
      "cell_type": "code",
      "metadata": {
        "colab": {
          "base_uri": "https://localhost:8080/"
        },
        "id": "wU4L_NwxE3Bl",
        "outputId": "42c90581-711c-4e99-fa5e-ef370f92d0ba"
      },
      "source": [
        "#replicate the GlobalAveragePool2D layer\n",
        "tf.reduce_mean(input_tensor, axis=[1,2])"
      ],
      "execution_count": 27,
      "outputs": [
        {
          "output_type": "execute_result",
          "data": {
            "text/plain": [
              "<tf.Tensor: shape=(1, 3), dtype=float32, numpy=array([[-0.09368646, -0.45840448, -0.2885598 ]], dtype=float32)>"
            ]
          },
          "metadata": {},
          "execution_count": 27
        }
      ]
    },
    {
      "cell_type": "code",
      "metadata": {
        "id": "B0ke8ziCFs-U"
      },
      "source": [
        ""
      ],
      "execution_count": null,
      "outputs": []
    }
  ]
}