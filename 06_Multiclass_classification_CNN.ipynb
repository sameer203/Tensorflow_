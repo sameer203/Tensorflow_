{
  "nbformat": 4,
  "nbformat_minor": 0,
  "metadata": {
    "colab": {
      "name": "06_Multiclass_classification_CNN.ipynb",
      "provenance": [],
      "collapsed_sections": [],
      "mount_file_id": "1bgIOeUDEhaW9AW_biZvg24Yd41TttFnp",
      "authorship_tag": "ABX9TyPKPxMPyGjrzVKa2JETI2Rx",
      "include_colab_link": true
    },
    "kernelspec": {
      "name": "python3",
      "display_name": "Python 3"
    },
    "language_info": {
      "name": "python"
    }
  },
  "cells": [
    {
      "cell_type": "markdown",
      "metadata": {
        "id": "view-in-github",
        "colab_type": "text"
      },
      "source": [
        "<a href=\"https://colab.research.google.com/github/sameer203/Tensorflow_/blob/main/06_Multiclass_classification_CNN.ipynb\" target=\"_parent\"><img src=\"https://colab.research.google.com/assets/colab-badge.svg\" alt=\"Open In Colab\"/></a>"
      ]
    },
    {
      "cell_type": "code",
      "metadata": {
        "colab": {
          "base_uri": "https://localhost:8080/",
          "height": 35
        },
        "id": "QS5KPyah1rrH",
        "outputId": "1bd893cf-4111-4b57-e65c-f858dffd8a0d"
      },
      "source": [
        "import os\n",
        "\n",
        "ROOT = \"/content/drive/MyDrive/Tensorflow\"\n",
        "\n",
        "os.chdir(ROOT)\n",
        "os.getcwd()"
      ],
      "execution_count": 1,
      "outputs": [
        {
          "output_type": "execute_result",
          "data": {
            "application/vnd.google.colaboratory.intrinsic+json": {
              "type": "string"
            },
            "text/plain": [
              "'/content/drive/MyDrive/Tensorflow'"
            ]
          },
          "metadata": {},
          "execution_count": 1
        }
      ]
    },
    {
      "cell_type": "code",
      "metadata": {
        "id": "VSmJbMxg1_LA"
      },
      "source": [
        "import tensorflow as tf\n",
        "import numpy as np\n",
        "import matplotlib.pyplot as plt\n",
        "import pandas as pd"
      ],
      "execution_count": 2,
      "outputs": []
    },
    {
      "cell_type": "markdown",
      "metadata": {
        "id": "hLxDPTfF2AzM"
      },
      "source": [
        "### Import the Data"
      ]
    },
    {
      "cell_type": "code",
      "metadata": {
        "colab": {
          "base_uri": "https://localhost:8080/"
        },
        "id": "F3L8XQAS2OT7",
        "outputId": "89d7cc78-a1cf-48d9-ffe3-4740cddbfa1b"
      },
      "source": [
        "import zipfile\n",
        "\n",
        "!wget https://storage.googleapis.com/ztm_tf_course/food_vision/10_food_classes_all_data.zip"
      ],
      "execution_count": 10,
      "outputs": [
        {
          "output_type": "stream",
          "name": "stdout",
          "text": [
            "--2021-10-23 08:00:02--  https://storage.googleapis.com/ztm_tf_course/food_vision/10_food_classes_all_data.zip\n",
            "Resolving storage.googleapis.com (storage.googleapis.com)... 142.250.73.208, 142.251.45.112, 142.250.73.240, ...\n",
            "Connecting to storage.googleapis.com (storage.googleapis.com)|142.250.73.208|:443... connected.\n",
            "HTTP request sent, awaiting response... 200 OK\n",
            "Length: 519183241 (495M) [application/zip]\n",
            "Saving to: ‘10_food_classes_all_data.zip’\n",
            "\n",
            "10_food_classes_all 100%[===================>] 495.13M  46.2MB/s    in 11s     \n",
            "\n",
            "2021-10-23 08:00:13 (43.5 MB/s) - ‘10_food_classes_all_data.zip’ saved [519183241/519183241]\n",
            "\n"
          ]
        }
      ]
    },
    {
      "cell_type": "code",
      "metadata": {
        "id": "KiGXcGJpKdk_"
      },
      "source": [
        "# Unzip the downladed file\n",
        "\n",
        "zip_ref = zipfile.ZipFile(\"10_food_classes_all_data.zip\")\n",
        "zip_ref.extractall()\n",
        "zip_ref.close()"
      ],
      "execution_count": 11,
      "outputs": []
    },
    {
      "cell_type": "code",
      "metadata": {
        "colab": {
          "base_uri": "https://localhost:8080/"
        },
        "id": "THvTmx8z2X0K",
        "outputId": "be2cc050-5ebf-44b9-d54e-b2f35f46f59c"
      },
      "source": [
        "for dirpath, dirnames, filenames in os.walk(\"10_food_classes_all_data\"):\n",
        "  print(f\"There are {len(dirnames)} directories and {len(filenames)} images in {dirpath}\")"
      ],
      "execution_count": 12,
      "outputs": [
        {
          "output_type": "stream",
          "name": "stdout",
          "text": [
            "There are 2 directories and 0 images in 10_food_classes_all_data\n",
            "There are 10 directories and 0 images in 10_food_classes_all_data/test\n",
            "There are 0 directories and 250 images in 10_food_classes_all_data/test/ice_cream\n",
            "There are 0 directories and 250 images in 10_food_classes_all_data/test/chicken_curry\n",
            "There are 0 directories and 250 images in 10_food_classes_all_data/test/steak\n",
            "There are 0 directories and 250 images in 10_food_classes_all_data/test/sushi\n",
            "There are 0 directories and 250 images in 10_food_classes_all_data/test/chicken_wings\n",
            "There are 0 directories and 250 images in 10_food_classes_all_data/test/grilled_salmon\n",
            "There are 0 directories and 250 images in 10_food_classes_all_data/test/hamburger\n",
            "There are 0 directories and 250 images in 10_food_classes_all_data/test/pizza\n",
            "There are 0 directories and 250 images in 10_food_classes_all_data/test/ramen\n",
            "There are 0 directories and 250 images in 10_food_classes_all_data/test/fried_rice\n",
            "There are 10 directories and 0 images in 10_food_classes_all_data/train\n",
            "There are 0 directories and 750 images in 10_food_classes_all_data/train/ice_cream\n",
            "There are 0 directories and 750 images in 10_food_classes_all_data/train/chicken_curry\n",
            "There are 0 directories and 750 images in 10_food_classes_all_data/train/steak\n",
            "There are 0 directories and 750 images in 10_food_classes_all_data/train/sushi\n",
            "There are 0 directories and 750 images in 10_food_classes_all_data/train/chicken_wings\n",
            "There are 0 directories and 750 images in 10_food_classes_all_data/train/grilled_salmon\n",
            "There are 0 directories and 750 images in 10_food_classes_all_data/train/hamburger\n",
            "There are 0 directories and 750 images in 10_food_classes_all_data/train/pizza\n",
            "There are 0 directories and 750 images in 10_food_classes_all_data/train/ramen\n",
            "There are 0 directories and 750 images in 10_food_classes_all_data/train/fried_rice\n"
          ]
        }
      ]
    },
    {
      "cell_type": "code",
      "metadata": {
        "id": "PUR8A-ZK2tI5"
      },
      "source": [
        "#setup the train and test directories\n",
        "train_dir = \"10_food_classes_all_data/train\"\n",
        "test_dir = \"10_food_classes_all_data/test\""
      ],
      "execution_count": 13,
      "outputs": []
    },
    {
      "cell_type": "code",
      "metadata": {
        "id": "CBIGdqlRNldr"
      },
      "source": [
        ""
      ],
      "execution_count": null,
      "outputs": []
    }
  ]
}