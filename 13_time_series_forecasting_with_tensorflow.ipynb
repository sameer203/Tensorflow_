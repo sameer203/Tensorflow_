{
  "nbformat": 4,
  "nbformat_minor": 0,
  "metadata": {
    "colab": {
      "name": "13_time_series_forecasting_with_tensorflow.ipynb",
      "provenance": [],
      "collapsed_sections": [],
      "mount_file_id": "1PDbx2OlsfPm5LrgzGZcU9dwZLD05DlLr",
      "authorship_tag": "ABX9TyPyYv5dpH4KPzF+yjLtTaK3",
      "include_colab_link": true
    },
    "kernelspec": {
      "name": "python3",
      "display_name": "Python 3"
    },
    "language_info": {
      "name": "python"
    }
  },
  "cells": [
    {
      "cell_type": "markdown",
      "metadata": {
        "id": "view-in-github",
        "colab_type": "text"
      },
      "source": [
        "<a href=\"https://colab.research.google.com/github/sameer203/Tensorflow_/blob/main/13_time_series_forecasting_with_tensorflow.ipynb\" target=\"_parent\"><img src=\"https://colab.research.google.com/assets/colab-badge.svg\" alt=\"Open In Colab\"/></a>"
      ]
    },
    {
      "cell_type": "markdown",
      "metadata": {
        "id": "cZsBXK56ybw9"
      },
      "source": [
        "### Import Data"
      ]
    },
    {
      "cell_type": "code",
      "metadata": {
        "id": "cgAIcVJQy9ca"
      },
      "source": [
        "import os\n",
        "\n",
        "ROOT = \"/content/drive/MyDrive/Tensorflow\"\n",
        "\n",
        "os.chdir(ROOT)"
      ],
      "execution_count": 2,
      "outputs": []
    },
    {
      "cell_type": "code",
      "metadata": {
        "id": "CHGHdkftze3F"
      },
      "source": [
        "import pandas as pd\n",
        "import matplotlib.pyplot as plt\n"
      ],
      "execution_count": 3,
      "outputs": []
    },
    {
      "cell_type": "code",
      "metadata": {
        "id": "2pTF1KQG0mQa"
      },
      "source": [
        "df = pd.read_csv(\"/content/drive/MyDrive/Tensorflow/BTC_USD_2014-11-02_2021-11-11-CoinDesk.csv\",\n",
        "                 parse_dates=[\"Date\"],\n",
        "                 index_col=[\"Date\"])"
      ],
      "execution_count": 4,
      "outputs": []
    },
    {
      "cell_type": "code",
      "metadata": {
        "colab": {
          "base_uri": "https://localhost:8080/",
          "height": 235
        },
        "id": "u_lMXrtE1g1w",
        "outputId": "aa1a3c99-926e-4f61-cd28-aa96f67f4606"
      },
      "source": [
        "df.head()"
      ],
      "execution_count": 5,
      "outputs": [
        {
          "output_type": "execute_result",
          "data": {
            "text/html": [
              "<div>\n",
              "<style scoped>\n",
              "    .dataframe tbody tr th:only-of-type {\n",
              "        vertical-align: middle;\n",
              "    }\n",
              "\n",
              "    .dataframe tbody tr th {\n",
              "        vertical-align: top;\n",
              "    }\n",
              "\n",
              "    .dataframe thead th {\n",
              "        text-align: right;\n",
              "    }\n",
              "</style>\n",
              "<table border=\"1\" class=\"dataframe\">\n",
              "  <thead>\n",
              "    <tr style=\"text-align: right;\">\n",
              "      <th></th>\n",
              "      <th>Currency</th>\n",
              "      <th>Closing Price (USD)</th>\n",
              "      <th>24h Open (USD)</th>\n",
              "      <th>24h High (USD)</th>\n",
              "      <th>24h Low (USD)</th>\n",
              "    </tr>\n",
              "    <tr>\n",
              "      <th>Date</th>\n",
              "      <th></th>\n",
              "      <th></th>\n",
              "      <th></th>\n",
              "      <th></th>\n",
              "      <th></th>\n",
              "    </tr>\n",
              "  </thead>\n",
              "  <tbody>\n",
              "    <tr>\n",
              "      <th>2014-11-02</th>\n",
              "      <td>BTC</td>\n",
              "      <td>325.22633</td>\n",
              "      <td>338.01050</td>\n",
              "      <td>338.12950</td>\n",
              "      <td>319.36700</td>\n",
              "    </tr>\n",
              "    <tr>\n",
              "      <th>2014-11-03</th>\n",
              "      <td>BTC</td>\n",
              "      <td>331.60083</td>\n",
              "      <td>325.22633</td>\n",
              "      <td>333.75983</td>\n",
              "      <td>319.04350</td>\n",
              "    </tr>\n",
              "    <tr>\n",
              "      <th>2014-11-04</th>\n",
              "      <td>BTC</td>\n",
              "      <td>324.71833</td>\n",
              "      <td>331.60083</td>\n",
              "      <td>332.75133</td>\n",
              "      <td>323.06333</td>\n",
              "    </tr>\n",
              "    <tr>\n",
              "      <th>2014-11-05</th>\n",
              "      <td>BTC</td>\n",
              "      <td>332.45666</td>\n",
              "      <td>324.71833</td>\n",
              "      <td>335.81166</td>\n",
              "      <td>320.93333</td>\n",
              "    </tr>\n",
              "    <tr>\n",
              "      <th>2014-11-06</th>\n",
              "      <td>BTC</td>\n",
              "      <td>336.58500</td>\n",
              "      <td>332.45666</td>\n",
              "      <td>341.49000</td>\n",
              "      <td>328.56166</td>\n",
              "    </tr>\n",
              "  </tbody>\n",
              "</table>\n",
              "</div>"
            ],
            "text/plain": [
              "           Currency  Closing Price (USD)  ...  24h High (USD)  24h Low (USD)\n",
              "Date                                      ...                               \n",
              "2014-11-02      BTC            325.22633  ...       338.12950      319.36700\n",
              "2014-11-03      BTC            331.60083  ...       333.75983      319.04350\n",
              "2014-11-04      BTC            324.71833  ...       332.75133      323.06333\n",
              "2014-11-05      BTC            332.45666  ...       335.81166      320.93333\n",
              "2014-11-06      BTC            336.58500  ...       341.49000      328.56166\n",
              "\n",
              "[5 rows x 5 columns]"
            ]
          },
          "metadata": {},
          "execution_count": 5
        }
      ]
    },
    {
      "cell_type": "code",
      "metadata": {
        "colab": {
          "base_uri": "https://localhost:8080/"
        },
        "id": "1hRS1AKk1jX-",
        "outputId": "0eb56ddd-018c-4865-9812-100858ba3115"
      },
      "source": [
        "df.info()"
      ],
      "execution_count": 6,
      "outputs": [
        {
          "output_type": "stream",
          "name": "stdout",
          "text": [
            "<class 'pandas.core.frame.DataFrame'>\n",
            "DatetimeIndex: 2562 entries, 2014-11-02 to 2021-11-11\n",
            "Data columns (total 5 columns):\n",
            " #   Column               Non-Null Count  Dtype  \n",
            "---  ------               --------------  -----  \n",
            " 0   Currency             2562 non-null   object \n",
            " 1   Closing Price (USD)  2562 non-null   float64\n",
            " 2   24h Open (USD)       2562 non-null   float64\n",
            " 3   24h High (USD)       2562 non-null   float64\n",
            " 4   24h Low (USD)        2562 non-null   float64\n",
            "dtypes: float64(4), object(1)\n",
            "memory usage: 120.1+ KB\n"
          ]
        }
      ]
    },
    {
      "cell_type": "code",
      "metadata": {
        "colab": {
          "base_uri": "https://localhost:8080/"
        },
        "id": "xsKnLhW41oMe",
        "outputId": "bc9469bf-f299-4c33-cb43-bf7d147c96eb"
      },
      "source": [
        "len(df)"
      ],
      "execution_count": 7,
      "outputs": [
        {
          "output_type": "execute_result",
          "data": {
            "text/plain": [
              "2562"
            ]
          },
          "metadata": {},
          "execution_count": 7
        }
      ]
    },
    {
      "cell_type": "code",
      "metadata": {
        "id": "sPAFgfn61vmu"
      },
      "source": [
        "bitcoin_prices = pd.DataFrame(df[\"Closing Price (USD)\"]).rename(columns={\"Closing Price (USD)\": \"Price\"})"
      ],
      "execution_count": 8,
      "outputs": []
    },
    {
      "cell_type": "code",
      "metadata": {
        "colab": {
          "base_uri": "https://localhost:8080/",
          "height": 235
        },
        "id": "KK3wNc_y9GKX",
        "outputId": "b407c9df-6ba6-4c30-cf7f-ec7c3718d8a2"
      },
      "source": [
        "bitcoin_prices.head()"
      ],
      "execution_count": 9,
      "outputs": [
        {
          "output_type": "execute_result",
          "data": {
            "text/html": [
              "<div>\n",
              "<style scoped>\n",
              "    .dataframe tbody tr th:only-of-type {\n",
              "        vertical-align: middle;\n",
              "    }\n",
              "\n",
              "    .dataframe tbody tr th {\n",
              "        vertical-align: top;\n",
              "    }\n",
              "\n",
              "    .dataframe thead th {\n",
              "        text-align: right;\n",
              "    }\n",
              "</style>\n",
              "<table border=\"1\" class=\"dataframe\">\n",
              "  <thead>\n",
              "    <tr style=\"text-align: right;\">\n",
              "      <th></th>\n",
              "      <th>Price</th>\n",
              "    </tr>\n",
              "    <tr>\n",
              "      <th>Date</th>\n",
              "      <th></th>\n",
              "    </tr>\n",
              "  </thead>\n",
              "  <tbody>\n",
              "    <tr>\n",
              "      <th>2014-11-02</th>\n",
              "      <td>325.22633</td>\n",
              "    </tr>\n",
              "    <tr>\n",
              "      <th>2014-11-03</th>\n",
              "      <td>331.60083</td>\n",
              "    </tr>\n",
              "    <tr>\n",
              "      <th>2014-11-04</th>\n",
              "      <td>324.71833</td>\n",
              "    </tr>\n",
              "    <tr>\n",
              "      <th>2014-11-05</th>\n",
              "      <td>332.45666</td>\n",
              "    </tr>\n",
              "    <tr>\n",
              "      <th>2014-11-06</th>\n",
              "      <td>336.58500</td>\n",
              "    </tr>\n",
              "  </tbody>\n",
              "</table>\n",
              "</div>"
            ],
            "text/plain": [
              "                Price\n",
              "Date                 \n",
              "2014-11-02  325.22633\n",
              "2014-11-03  331.60083\n",
              "2014-11-04  324.71833\n",
              "2014-11-05  332.45666\n",
              "2014-11-06  336.58500"
            ]
          },
          "metadata": {},
          "execution_count": 9
        }
      ]
    },
    {
      "cell_type": "code",
      "metadata": {
        "colab": {
          "base_uri": "https://localhost:8080/"
        },
        "id": "j783DopM_7wK",
        "outputId": "08f66817-9451-4d2b-9590-c724980a0585"
      },
      "source": [
        "len(bitcoin_prices)"
      ],
      "execution_count": 10,
      "outputs": [
        {
          "output_type": "execute_result",
          "data": {
            "text/plain": [
              "2562"
            ]
          },
          "metadata": {},
          "execution_count": 10
        }
      ]
    },
    {
      "cell_type": "code",
      "metadata": {
        "colab": {
          "base_uri": "https://localhost:8080/",
          "height": 449
        },
        "id": "BmUOEg559ZOc",
        "outputId": "fca1651e-814a-45b1-c59f-16a9198dff15"
      },
      "source": [
        "bitcoin_prices.plot(figsize=(10,7))\n",
        "plt.xlabel(\"Time\")\n",
        "plt.ylabel(\"BTC Price\")\n",
        "plt.title(\"BTC historical Data\")"
      ],
      "execution_count": 11,
      "outputs": [
        {
          "output_type": "execute_result",
          "data": {
            "text/plain": [
              "Text(0.5, 1.0, 'BTC historical Data')"
            ]
          },
          "metadata": {},
          "execution_count": 11
        },
        {
          "output_type": "display_data",
          "data": {
            "image/png": "[encoded data removed]",
            "text/plain": [
              "<Figure size 720x504 with 1 Axes>"
            ]
          },
          "metadata": {
            "needs_background": "light"
          }
        }
      ]
    },
    {
      "cell_type": "code",
      "metadata": {
        "id": "J2gsxBB9_hUz"
      },
      "source": [
        "bitcoin_prices = bitcoin_prices.iloc[:-100]"
      ],
      "execution_count": 12,
      "outputs": []
    },
    {
      "cell_type": "code",
      "metadata": {
        "id": "2hAGaCFU9rhL"
      },
      "source": [
        "# Deleting last 100 rows\n",
        "#bitcoin_prices_new = bitcoin_prices.drop(bitcoin_prices.tail(100).index,\n",
        "                                     #inplace=True)"
      ],
      "execution_count": 13,
      "outputs": []
    },
    {
      "cell_type": "code",
      "metadata": {
        "colab": {
          "base_uri": "https://localhost:8080/"
        },
        "id": "8MAQ7P7G_Q8N",
        "outputId": "c3a709d5-9229-4408-f54a-2e63d7d678c0"
      },
      "source": [
        "len(bitcoin_prices)"
      ],
      "execution_count": 14,
      "outputs": [
        {
          "output_type": "execute_result",
          "data": {
            "text/plain": [
              "2462"
            ]
          },
          "metadata": {},
          "execution_count": 14
        }
      ]
    },
    {
      "cell_type": "code",
      "metadata": {
        "colab": {
          "base_uri": "https://localhost:8080/",
          "height": 449
        },
        "id": "fWHLxlbr-bc7",
        "outputId": "536b24ae-75b1-4e48-90ab-e93aa33d6db6"
      },
      "source": [
        "bitcoin_prices.plot(figsize=(10,7))\n",
        "plt.xlabel(\"Time\")\n",
        "plt.ylabel(\"BTC Price\")\n",
        "plt.title(\"BTC historical Data\")"
      ],
      "execution_count": 15,
      "outputs": [
        {
          "output_type": "execute_result",
          "data": {
            "text/plain": [
              "Text(0.5, 1.0, 'BTC historical Data')"
            ]
          },
          "metadata": {},
          "execution_count": 15
        },
        {
          "output_type": "display_data",
          "data": {
            "image/png": "[encoded data removed]",
            "text/plain": [
              "<Figure size 720x504 with 1 Axes>"
            ]
          },
          "metadata": {
            "needs_background": "light"
          }
        }
      ]
    },
    {
      "cell_type": "markdown",
      "metadata": {
        "id": "MDi9LhbR_FHs"
      },
      "source": [
        "### Train Test split"
      ]
    },
    {
      "cell_type": "code",
      "metadata": {
        "colab": {
          "base_uri": "https://localhost:8080/"
        },
        "id": "rYmKTaSp-dyY",
        "outputId": "70dd32d3-c11d-448c-e80a-ea932ca7af3b"
      },
      "source": [
        "# bitcoin date array\n",
        "timesteps = bitcoin_prices.index.to_numpy()\n",
        "prices = bitcoin_prices[\"Price\"].to_numpy()\n",
        "\n",
        "timesteps[-10:], prices[-10:]"
      ],
      "execution_count": 16,
      "outputs": [
        {
          "output_type": "execute_result",
          "data": {
            "text/plain": [
              "(array(['2021-07-21T00:00:00.000000000', '2021-07-22T00:00:00.000000000',\n",
              "        '2021-07-23T00:00:00.000000000', '2021-07-24T00:00:00.000000000',\n",
              "        '2021-07-25T00:00:00.000000000', '2021-07-26T00:00:00.000000000',\n",
              "        '2021-07-27T00:00:00.000000000', '2021-07-28T00:00:00.000000000',\n",
              "        '2021-07-29T00:00:00.000000000', '2021-07-30T00:00:00.000000000'],\n",
              "       dtype='datetime64[ns]'),\n",
              " array([29608.59725347, 32014.43603389, 32203.3656377 , 33117.75146222,\n",
              "        34014.618359  , 34574.67066093, 37114.29662368, 38963.92285736,\n",
              "        39917.4493694 , 39810.51797108]))"
            ]
          },
          "metadata": {},
          "execution_count": 16
        }
      ]
    },
    {
      "cell_type": "code",
      "metadata": {
        "colab": {
          "base_uri": "https://localhost:8080/"
        },
        "id": "s4luNYMe7hwc",
        "outputId": "7e318d9a-b163-4f0d-c321-2ca52d145438"
      },
      "source": [
        "len(prices)"
      ],
      "execution_count": 17,
      "outputs": [
        {
          "output_type": "execute_result",
          "data": {
            "text/plain": [
              "2462"
            ]
          },
          "metadata": {},
          "execution_count": 17
        }
      ]
    },
    {
      "cell_type": "code",
      "metadata": {
        "id": "qmAKGgZ9A0Xk"
      },
      "source": [
        "from sklearn.model_selection import train_test_split"
      ],
      "execution_count": 18,
      "outputs": []
    },
    {
      "cell_type": "code",
      "metadata": {
        "colab": {
          "base_uri": "https://localhost:8080/"
        },
        "id": "so9zP-4_BH-C",
        "outputId": "164ba343-7a29-45e7-937f-943f775bf08b"
      },
      "source": [
        "split_size = int(0.8 * len(prices))\n",
        "\n",
        "X_train, y_train = timesteps[:split_size], prices[:split_size]\n",
        "\n",
        "X_test, y_test = timesteps[split_size:], prices[split_size:]\n",
        "\n",
        "len(X_train), len(X_test), len(y_train), len(y_test)"
      ],
      "execution_count": 19,
      "outputs": [
        {
          "output_type": "execute_result",
          "data": {
            "text/plain": [
              "(1969, 493, 1969, 493)"
            ]
          },
          "metadata": {},
          "execution_count": 19
        }
      ]
    },
    {
      "cell_type": "code",
      "metadata": {
        "colab": {
          "base_uri": "https://localhost:8080/",
          "height": 442
        },
        "id": "Py5IgSlJDuS9",
        "outputId": "58d41947-b0f5-4849-9c50-4575b7332912"
      },
      "source": [
        "plt.figure(figsize=(10,7))\n",
        "plt.scatter(X_train, y_train, s=5, label=\"Train data\")\n",
        "plt.scatter(X_test, y_test, s=5, label=\"Test data\")\n",
        "plt.xlabel(\"Date\")\n",
        "plt.ylabel(\"BTC price\")\n",
        "plt.legend(fontsize=14)\n",
        "plt.show()"
      ],
      "execution_count": 20,
      "outputs": [
        {
          "output_type": "display_data",
          "data": {
            "image/png": "[encoded data removed]",
            "text/plain": [
              "<Figure size 720x504 with 1 Axes>"
            ]
          },
          "metadata": {
            "needs_background": "light"
          }
        }
      ]
    },
    {
      "cell_type": "code",
      "metadata": {
        "id": "1J65POXsEU47"
      },
      "source": [
        "# Create a function to plot time series data\n",
        "def plot_time_series(timesteps, values, format='.', start=0, end=None, label=None):\n",
        "  # Plot the series\n",
        "  plt.plot(timesteps[start:end], values[start:end], format, label=label)\n",
        "  plt.xlabel(\"Time\")\n",
        "  plt.ylabel(\"BTC Price\")\n",
        "  if label:\n",
        "    plt.legend(fontsize=14) # make label bigger\n",
        "  plt.grid(True)"
      ],
      "execution_count": 21,
      "outputs": []
    },
    {
      "cell_type": "code",
      "metadata": {
        "colab": {
          "base_uri": "https://localhost:8080/",
          "height": 442
        },
        "id": "F_EPuiLUFpd5",
        "outputId": "a10919a4-8c29-4526-904b-8d311cdd0db0"
      },
      "source": [
        "plt.figure(figsize=(10, 7))\n",
        "plot_time_series(timesteps=X_train, values=y_train, label=\"Train data\")\n",
        "plot_time_series(timesteps=X_test, values=y_test, label=\"Test data\")"
      ],
      "execution_count": 22,
      "outputs": [
        {
          "output_type": "display_data",
          "data": {
            "image/png": "[encoded data removed]",
            "text/plain": [
              "<Figure size 720x504 with 1 Axes>"
            ]
          },
          "metadata": {
            "needs_background": "light"
          }
        }
      ]
    },
    {
      "cell_type": "markdown",
      "metadata": {
        "id": "dtBjQ35wFtzI"
      },
      "source": [
        "### Model 0: Naive Forecast (Baseline)"
      ]
    },
    {
      "cell_type": "code",
      "metadata": {
        "id": "KfL_Z6ltCzHK"
      },
      "source": [
        "naive_forecast = y_test[:-1]"
      ],
      "execution_count": 23,
      "outputs": []
    },
    {
      "cell_type": "code",
      "metadata": {
        "colab": {
          "base_uri": "https://localhost:8080/"
        },
        "id": "YFvVLuGuDLsy",
        "outputId": "eb3f5b23-9350-42a3-a206-2be843a3390b"
      },
      "source": [
        "naive_forecast[:10], naive_forecast[-10:]"
      ],
      "execution_count": 24,
      "outputs": [
        {
          "output_type": "execute_result",
          "data": {
            "text/plain": [
              "(array([6784.31801143, 6706.98508913, 6721.49539238, 6682.7800492 ,\n",
              "        6229.48834283, 5922.48983509, 6483.73944553, 6446.42134684,\n",
              "        6537.3364615 , 6850.55871169]),\n",
              " array([30940.28728402, 29608.59725347, 32014.43603389, 32203.3656377 ,\n",
              "        33117.75146222, 34014.618359  , 34574.67066093, 37114.29662368,\n",
              "        38963.92285736, 39917.4493694 ]))"
            ]
          },
          "metadata": {},
          "execution_count": 24
        }
      ]
    },
    {
      "cell_type": "code",
      "metadata": {
        "colab": {
          "base_uri": "https://localhost:8080/"
        },
        "id": "2-Smu7FCDRzJ",
        "outputId": "17a37ce9-cbb4-4a72-e144-547d05d3fe70"
      },
      "source": [
        "y_test[-10:]"
      ],
      "execution_count": 25,
      "outputs": [
        {
          "output_type": "execute_result",
          "data": {
            "text/plain": [
              "array([29608.59725347, 32014.43603389, 32203.3656377 , 33117.75146222,\n",
              "       34014.618359  , 34574.67066093, 37114.29662368, 38963.92285736,\n",
              "       39917.4493694 , 39810.51797108])"
            ]
          },
          "metadata": {},
          "execution_count": 25
        }
      ]
    },
    {
      "cell_type": "code",
      "metadata": {
        "colab": {
          "base_uri": "https://localhost:8080/",
          "height": 446
        },
        "id": "CvXqyQd2Dnl4",
        "outputId": "601eaae7-9a24-4dc9-eaf7-7492d7e9e3ff"
      },
      "source": [
        "# plot\n",
        "plt.figure(figsize=(10,7))\n",
        "#plot_time_series(X_train, y_train, label=\"Train data\")\n",
        "plot_time_series(X_test, y_test, start=350, format=\"-\" ,label=\"Test data\")\n",
        "plot_time_series(X_test[1:], naive_forecast, start=350, format=\"-\", label=\"Naive Forecast\")"
      ],
      "execution_count": 26,
      "outputs": [
        {
          "output_type": "display_data",
          "data": {
            "image/png": "[encoded data removed]",
            "text/plain": [
              "<Figure size 720x504 with 1 Axes>"
            ]
          },
          "metadata": {
            "needs_background": "light"
          }
        }
      ]
    },
    {
      "cell_type": "code",
      "metadata": {
        "id": "rUX3i7fWEh3v"
      },
      "source": [
        "import tensorflow as tf"
      ],
      "execution_count": 27,
      "outputs": []
    },
    {
      "cell_type": "code",
      "metadata": {
        "id": "KYR4vOGeWdKM"
      },
      "source": [
        "# implementing MASE: Mean Absolute Scaled Error\n",
        "\n",
        "def mean_absolute_scaled_error(y_true, y_pred):\n",
        "\n",
        "  mae = tf.reduce_mean(tf.abs(y_true-y_pred))\n",
        "\n",
        "  mae_naive_no_season = tf.reduce_mean(tf.abs(y_true[1:] - y_true[:-1]))\n",
        "\n",
        "  return mae/mae_naive_no_season"
      ],
      "execution_count": 28,
      "outputs": []
    },
    {
      "cell_type": "code",
      "metadata": {
        "colab": {
          "base_uri": "https://localhost:8080/"
        },
        "id": "t3LfuzZgXtTJ",
        "outputId": "448a5700-11d4-4a7f-8bed-4c186faf3063"
      },
      "source": [
        "mean_absolute_scaled_error(y_test[1:], naive_forecast).numpy()"
      ],
      "execution_count": 29,
      "outputs": [
        {
          "output_type": "execute_result",
          "data": {
            "text/plain": [
              "0.9981720899380154"
            ]
          },
          "metadata": {},
          "execution_count": 29
        }
      ]
    },
    {
      "cell_type": "code",
      "metadata": {
        "id": "miDAuYlDXzjY"
      },
      "source": [
        "# evaluation values\n",
        "\n",
        "def evaluate_pred(y_true, y_pred):\n",
        "  y_true = tf.cast(y_true, dtype=tf.float32)\n",
        "  y_pred = tf.cast(y_pred, dtype=tf.float32)\n",
        "\n",
        "  mae = tf.keras.metrics.mean_absolute_error(y_true, y_pred)\n",
        "\n",
        "  mse = tf.keras.metrics.mean_squared_error(y_true, y_pred)\n",
        "\n",
        "  rmse = tf.sqrt(mse)\n",
        "\n",
        "  mape = tf.keras.metrics.mean_absolute_percentage_error(y_true, y_pred)\n",
        "\n",
        "  mase = mean_absolute_scaled_error(y_true, y_pred)\n",
        "\n",
        "  return {\"mae\": mae.numpy(),\n",
        "          \"mse\": mse.numpy(),\n",
        "          \"rmse\": rmse.numpy(),\n",
        "          \"mape\": mape.numpy(),\n",
        "          \"mase\": mase.numpy()}"
      ],
      "execution_count": 73,
      "outputs": []
    },
    {
      "cell_type": "code",
      "metadata": {
        "colab": {
          "base_uri": "https://localhost:8080/"
        },
        "id": "pbWAteE2aCn0",
        "outputId": "0e4787b8-4918-46d1-d22d-2653f74400ee"
      },
      "source": [
        "naive_result = evaluate_pred(y_test[1:], naive_forecast)\n",
        "naive_result"
      ],
      "execution_count": 81,
      "outputs": [
        {
          "output_type": "execute_result",
          "data": {
            "text/plain": [
              "{'mae': 766.7916,\n",
              " 'mape': 2.6282535,\n",
              " 'mase': 0.9981721,\n",
              " 'mse': 1660526.2,\n",
              " 'rmse': 1288.6141}"
            ]
          },
          "metadata": {},
          "execution_count": 81
        }
      ]
    },
    {
      "cell_type": "markdown",
      "metadata": {
        "id": "cnYzGq1YaJty"
      },
      "source": [
        "### Formatting Data: Windowing dataset"
      ]
    },
    {
      "cell_type": "code",
      "metadata": {
        "id": "7C4rbd2So8Bi"
      },
      "source": [
        "HORIZON = 1\n",
        "WINDOW_SIZE = 7"
      ],
      "execution_count": 32,
      "outputs": []
    },
    {
      "cell_type": "code",
      "metadata": {
        "colab": {
          "base_uri": "https://localhost:8080/"
        },
        "id": "jNpQAt5cpBEx",
        "outputId": "a18b7271-aaa4-4519-c54d-1fc8ca3d8b2f"
      },
      "source": [
        "prices[:10]"
      ],
      "execution_count": 33,
      "outputs": [
        {
          "output_type": "execute_result",
          "data": {
            "text/plain": [
              "array([325.22633, 331.60083, 324.71833, 332.45666, 336.585  , 346.775  ,\n",
              "       344.81166, 343.065  , 358.50166, 368.07666])"
            ]
          },
          "metadata": {},
          "execution_count": 33
        }
      ]
    },
    {
      "cell_type": "code",
      "metadata": {
        "id": "iZmeThxopRK_"
      },
      "source": [
        "def get_labelled_windows(x, horizon=HORIZON):\n",
        "\n",
        "  return x[:, :-horizon], x[:, -horizon:]"
      ],
      "execution_count": 34,
      "outputs": []
    },
    {
      "cell_type": "code",
      "metadata": {
        "id": "4Ah8H0ufqq-1"
      },
      "source": [
        "test_window, test_label = get_labelled_windows(tf.expand_dims(tf.range(8), axis=0))"
      ],
      "execution_count": 35,
      "outputs": []
    },
    {
      "cell_type": "code",
      "metadata": {
        "colab": {
          "base_uri": "https://localhost:8080/"
        },
        "id": "b0kQTqwUq8Kb",
        "outputId": "bbb1de40-4b99-49df-c6d9-47c74ce45381"
      },
      "source": [
        "tf.squeeze(test_window).numpy()"
      ],
      "execution_count": 36,
      "outputs": [
        {
          "output_type": "execute_result",
          "data": {
            "text/plain": [
              "array([0, 1, 2, 3, 4, 5, 6], dtype=int32)"
            ]
          },
          "metadata": {},
          "execution_count": 36
        }
      ]
    },
    {
      "cell_type": "code",
      "metadata": {
        "colab": {
          "base_uri": "https://localhost:8080/"
        },
        "id": "PFKboHvnq-07",
        "outputId": "28323e88-ade0-449a-f4ef-36f55ca63adc"
      },
      "source": [
        "tf.squeeze(test_label).numpy()"
      ],
      "execution_count": 37,
      "outputs": [
        {
          "output_type": "execute_result",
          "data": {
            "text/plain": [
              "7"
            ]
          },
          "metadata": {},
          "execution_count": 37
        }
      ]
    },
    {
      "cell_type": "code",
      "metadata": {
        "id": "bFiZJly0wZRv"
      },
      "source": [
        "import numpy as np"
      ],
      "execution_count": 38,
      "outputs": []
    },
    {
      "cell_type": "code",
      "metadata": {
        "id": "ZLCnjqWSr9Ep"
      },
      "source": [
        "# create a function to view Numpy arrays as windows\n",
        "def make_windows(x, window_size=WINDOW_SIZE, horizon=HORIZON):\n",
        "\n",
        "  #1. create a window of specific window_size(add the horizon on the end for labelling later)\n",
        "  window_step = np.expand_dims(np.arange(window_size+horizon), axis=0)\n",
        "\n",
        "  #2. create a 2D array of multiple window steps (minus 1 to account for 0 indexing)\n",
        "  window_indexes = window_step + np.expand_dims(np.arange(len(x) - (window_size+horizon-1)), axis=0).T\n",
        "  #print(f\"{window_indexes, window_indexes.shape}\")\n",
        "\n",
        "  #3. Index on the target array (a time series) with 2D array of multiple window steps\n",
        "  windowed_array = x[window_indexes]\n",
        "  #print(f\"{window_indexes, window_indexes.shape}\")\n",
        "\n",
        "  #4. Get labelled windows\n",
        "  windows, labels = get_labelled_windows(windowed_array, horizon=horizon)\n",
        "\n",
        "  return windows, labels"
      ],
      "execution_count": 41,
      "outputs": []
    },
    {
      "cell_type": "code",
      "metadata": {
        "colab": {
          "base_uri": "https://localhost:8080/"
        },
        "id": "T5emp7LozCEI",
        "outputId": "88ab50f5-2532-4f89-be2b-c66ac7344e5c"
      },
      "source": [
        "full_windows, full_labels = make_windows(prices)\n",
        "len(full_windows), len(full_labels)"
      ],
      "execution_count": 42,
      "outputs": [
        {
          "output_type": "execute_result",
          "data": {
            "text/plain": [
              "(2455, 2455)"
            ]
          },
          "metadata": {},
          "execution_count": 42
        }
      ]
    },
    {
      "cell_type": "code",
      "metadata": {
        "colab": {
          "base_uri": "https://localhost:8080/"
        },
        "id": "QqspdS0Jzazq",
        "outputId": "c933acc1-24f4-4f71-99d5-15a53dcd18a1"
      },
      "source": [
        "# view 1st 3 windows/labels\n",
        "for i in range(3):\n",
        "  print(f\"Window: {full_windows[i]} --> Label {full_labels[i]}\")"
      ],
      "execution_count": 43,
      "outputs": [
        {
          "output_type": "stream",
          "name": "stdout",
          "text": [
            "Window: [325.22633 331.60083 324.71833 332.45666 336.585   346.775   344.81166] --> Label [343.065]\n",
            "Window: [331.60083 324.71833 332.45666 336.585   346.775   344.81166 343.065  ] --> Label [358.50166]\n",
            "Window: [324.71833 332.45666 336.585   346.775   344.81166 343.065   358.50166] --> Label [368.07666]\n"
          ]
        }
      ]
    },
    {
      "cell_type": "code",
      "metadata": {
        "colab": {
          "base_uri": "https://localhost:8080/"
        },
        "id": "EvDNARYF0IFn",
        "outputId": "3476f5c4-bbeb-4899-9e44-5fcc00a9027a"
      },
      "source": [
        "# view last 3 windows/labels\n",
        "for i in range(3):\n",
        "  print(f\"Window: {full_windows[i-3]} --> Label {full_labels[i-3]}\")"
      ],
      "execution_count": 44,
      "outputs": [
        {
          "output_type": "stream",
          "name": "stdout",
          "text": [
            "Window: [29608.59725347 32014.43603389 32203.3656377  33117.75146222\n",
            " 34014.618359   34574.67066093 37114.29662368] --> Label [38963.92285736]\n",
            "Window: [32014.43603389 32203.3656377  33117.75146222 34014.618359\n",
            " 34574.67066093 37114.29662368 38963.92285736] --> Label [39917.4493694]\n",
            "Window: [32203.3656377  33117.75146222 34014.618359   34574.67066093\n",
            " 37114.29662368 38963.92285736 39917.4493694 ] --> Label [39810.51797108]\n"
          ]
        }
      ]
    },
    {
      "cell_type": "code",
      "metadata": {
        "colab": {
          "base_uri": "https://localhost:8080/"
        },
        "id": "lO8E0-1P0ceF",
        "outputId": "9c37dd70-03e0-4485-90c5-949a31d697f6"
      },
      "source": [
        "prices[-1]"
      ],
      "execution_count": 45,
      "outputs": [
        {
          "output_type": "execute_result",
          "data": {
            "text/plain": [
              "39810.5179710787"
            ]
          },
          "metadata": {},
          "execution_count": 45
        }
      ]
    },
    {
      "cell_type": "markdown",
      "metadata": {
        "id": "elRNbi_x0hlU"
      },
      "source": [
        "### Turining windows into training and test sets"
      ]
    },
    {
      "cell_type": "code",
      "metadata": {
        "id": "BJ9pH3FW22wP"
      },
      "source": [
        "def make_train_test_split(windows, labels, test_split=0.2):\n",
        " \n",
        "  splits_size = int(len(windows) * (1-test_split))\n",
        "  train_windows = windows[:split_size]\n",
        "  train_labels = labels[:split_size]\n",
        "  test_windows = windows[split_size:]\n",
        "  test_labels = labels[split_size:]\n",
        "  return train_windows, test_windows, train_labels, test_labels"
      ],
      "execution_count": 46,
      "outputs": []
    },
    {
      "cell_type": "code",
      "metadata": {
        "id": "iqF0bulL3sgd"
      },
      "source": [
        "train_windows, test_windows, train_labels, test_labels = make_train_test_split(full_windows, full_labels)"
      ],
      "execution_count": 47,
      "outputs": []
    },
    {
      "cell_type": "code",
      "metadata": {
        "colab": {
          "base_uri": "https://localhost:8080/"
        },
        "id": "3Txitp_U4V3L",
        "outputId": "547317cb-ad5e-4138-cd13-afee620583f0"
      },
      "source": [
        "len(train_windows), len(test_windows), len(train_labels), len(test_labels)"
      ],
      "execution_count": 48,
      "outputs": [
        {
          "output_type": "execute_result",
          "data": {
            "text/plain": [
              "(1969, 486, 1969, 486)"
            ]
          },
          "metadata": {},
          "execution_count": 48
        }
      ]
    },
    {
      "cell_type": "code",
      "metadata": {
        "colab": {
          "base_uri": "https://localhost:8080/"
        },
        "id": "3zWRYy0q6U9n",
        "outputId": "3f1af561-920d-436d-ae95-db407e080b77"
      },
      "source": [
        "train_windows[:5], train_labels[:5]"
      ],
      "execution_count": 49,
      "outputs": [
        {
          "output_type": "execute_result",
          "data": {
            "text/plain": [
              "(array([[325.22633, 331.60083, 324.71833, 332.45666, 336.585  , 346.775  ,\n",
              "         344.81166],\n",
              "        [331.60083, 324.71833, 332.45666, 336.585  , 346.775  , 344.81166,\n",
              "         343.065  ],\n",
              "        [324.71833, 332.45666, 336.585  , 346.775  , 344.81166, 343.065  ,\n",
              "         358.50166],\n",
              "        [332.45666, 336.585  , 346.775  , 344.81166, 343.065  , 358.50166,\n",
              "         368.07666],\n",
              "        [336.585  , 346.775  , 344.81166, 343.065  , 358.50166, 368.07666,\n",
              "         376.99666]]), array([[343.065  ],\n",
              "        [358.50166],\n",
              "        [368.07666],\n",
              "        [376.99666],\n",
              "        [442.10666]]))"
            ]
          },
          "metadata": {},
          "execution_count": 49
        }
      ]
    },
    {
      "cell_type": "code",
      "metadata": {
        "colab": {
          "base_uri": "https://localhost:8080/"
        },
        "id": "548EPcrB6ei2",
        "outputId": "920923ae-9548-4a22-c63c-fdfd2e4689d1"
      },
      "source": [
        "np.array_equal(np.squeeze(train_labels[:-HORIZON-1]), y_train[WINDOW_SIZE:])"
      ],
      "execution_count": 50,
      "outputs": [
        {
          "output_type": "execute_result",
          "data": {
            "text/plain": [
              "False"
            ]
          },
          "metadata": {},
          "execution_count": 50
        }
      ]
    },
    {
      "cell_type": "code",
      "metadata": {
        "colab": {
          "base_uri": "https://localhost:8080/"
        },
        "id": "t8R9uEfH8yyi",
        "outputId": "ade10d30-9c7f-4b13-d325-4c69357fd1b5"
      },
      "source": [
        "len(train_labels[:-HORIZON-1]), len(y_train[WINDOW_SIZE:])"
      ],
      "execution_count": 51,
      "outputs": [
        {
          "output_type": "execute_result",
          "data": {
            "text/plain": [
              "(1967, 1962)"
            ]
          },
          "metadata": {},
          "execution_count": 51
        }
      ]
    },
    {
      "cell_type": "markdown",
      "metadata": {
        "id": "pzKKBH8N7HTl"
      },
      "source": [
        "### Make modelling checkpoint"
      ]
    },
    {
      "cell_type": "code",
      "metadata": {
        "id": "FL1HGfwf76b0"
      },
      "source": [
        "import os\n",
        "\n",
        "# Function to implement a Modelcheckpoint with a specific filename\n",
        "\n",
        "def create_model_checkpoint(model_name, save_path=\"model_experiments\"):\n",
        "  return tf.keras.callbacks.ModelCheckpoint(filepath=os.path.join(save_path, model_name),\n",
        "                                            verbose=0,\n",
        "                                            save_best_only=True)"
      ],
      "execution_count": 62,
      "outputs": []
    },
    {
      "cell_type": "code",
      "metadata": {
        "colab": {
          "base_uri": "https://localhost:8080/",
          "height": 35
        },
        "id": "O3u3Hqt_sAmh",
        "outputId": "06786185-ffb3-4cb9-cbae-383ece6dc3c6"
      },
      "source": [
        "os.getcwd()"
      ],
      "execution_count": 54,
      "outputs": [
        {
          "output_type": "execute_result",
          "data": {
            "application/vnd.google.colaboratory.intrinsic+json": {
              "type": "string"
            },
            "text/plain": [
              "'/content/drive/My Drive/Tensorflow'"
            ]
          },
          "metadata": {},
          "execution_count": 54
        }
      ]
    },
    {
      "cell_type": "markdown",
      "metadata": {
        "id": "WCOO5GcnsNWf"
      },
      "source": [
        "### Model 1: Dense Model (window=7, horizon=1)"
      ]
    },
    {
      "cell_type": "code",
      "metadata": {
        "colab": {
          "base_uri": "https://localhost:8080/"
        },
        "id": "xyKQiQzVsw1O",
        "outputId": "f0ef373b-f116-48d4-8d68-247d5d7b7903"
      },
      "source": [
        "# set random seed\n",
        "tf.random.set_seed(42)\n",
        "\n",
        "#1. construct model\n",
        "model_1 = tf.keras.Sequential([\n",
        "                               tf.keras.layers.Dense(128, activation=\"relu\"),\n",
        "                               tf.keras.layers.Dense(HORIZON, activation=\"linear\")\n",
        "],name=\"model_1_dense\")\n",
        "\n",
        "#2. Compile the model\n",
        "model_1.compile(loss=\"mae\",\n",
        "                optimizer=tf.keras.optimizers.Adam(),\n",
        "                metrics=[\"mae\", \"mse\"])\n",
        "\n",
        "#3.Fit the model\n",
        "history_1 = model_1.fit(train_windows,\n",
        "                        train_labels,\n",
        "                        epochs=100,\n",
        "                        verbose=1,\n",
        "                        batch_size=128,\n",
        "                        validation_data=(test_windows, test_labels),\n",
        "                        callbacks=[create_model_checkpoint(model_name=model_1.name)])\n"
      ],
      "execution_count": 63,
      "outputs": [
        {
          "output_type": "stream",
          "name": "stdout",
          "text": [
            "Epoch 1/100\n",
            " 1/16 [>.............................] - ETA: 6s - loss: 2301.8364 - mae: 2301.8364 - mse: 11071037.0000INFO:tensorflow:Assets written to: model_experiments/model_1_dense/assets\n",
            "16/16 [==============================] - 1s 61ms/step - loss: 1032.8871 - mae: 1032.8871 - mse: 3229557.2500 - val_loss: 3140.8562 - val_mae: 3140.8562 - val_mse: 20273508.0000\n",
            "Epoch 2/100\n",
            " 1/16 [>.............................] - ETA: 0s - loss: 509.4172 - mae: 509.4172 - mse: 714162.7500INFO:tensorflow:Assets written to: model_experiments/model_1_dense/assets\n",
            "16/16 [==============================] - 1s 50ms/step - loss: 351.4597 - mae: 351.4597 - mse: 394944.9375 - val_loss: 1664.2784 - val_mae: 1664.2784 - val_mse: 6150904.0000\n",
            "Epoch 3/100\n",
            " 1/16 [>.............................] - ETA: 0s - loss: 247.2664 - mae: 247.2664 - mse: 191027.8750INFO:tensorflow:Assets written to: model_experiments/model_1_dense/assets\n",
            "16/16 [==============================] - 1s 51ms/step - loss: 241.4506 - mae: 241.4506 - mse: 235117.1406 - val_loss: 1541.5391 - val_mae: 1541.5391 - val_mse: 5382165.5000\n",
            "Epoch 4/100\n",
            " 1/16 [>.............................] - ETA: 0s - loss: 206.9273 - mae: 206.9273 - mse: 169508.0156INFO:tensorflow:Assets written to: model_experiments/model_1_dense/assets\n",
            "16/16 [==============================] - 1s 49ms/step - loss: 222.5931 - mae: 222.5931 - mse: 210323.5000 - val_loss: 1364.6715 - val_mae: 1364.6715 - val_mse: 4591108.5000\n",
            "Epoch 5/100\n",
            " 1/16 [>.............................] - ETA: 0s - loss: 234.9257 - mae: 234.9257 - mse: 206263.0625INFO:tensorflow:Assets written to: model_experiments/model_1_dense/assets\n",
            "16/16 [==============================] - 1s 48ms/step - loss: 211.6067 - mae: 211.6067 - mse: 193107.8281 - val_loss: 1275.9647 - val_mae: 1275.9647 - val_mse: 4290351.0000\n",
            "Epoch 6/100\n",
            " 1/16 [>.............................] - ETA: 0s - loss: 149.2388 - mae: 149.2388 - mse: 118260.0703INFO:tensorflow:Assets written to: model_experiments/model_1_dense/assets\n",
            "16/16 [==============================] - 1s 51ms/step - loss: 210.0855 - mae: 210.0855 - mse: 190344.0156 - val_loss: 1244.6528 - val_mae: 1244.6528 - val_mse: 4229033.5000\n",
            "Epoch 7/100\n",
            " 1/16 [>.............................] - ETA: 0s - loss: 256.6895 - mae: 256.6895 - mse: 318959.6875INFO:tensorflow:Assets written to: model_experiments/model_1_dense/assets\n",
            "16/16 [==============================] - 1s 49ms/step - loss: 202.6106 - mae: 202.6106 - mse: 179367.4062 - val_loss: 1208.5098 - val_mae: 1208.5098 - val_mse: 3856331.0000\n",
            "Epoch 8/100\n",
            " 1/16 [>.............................] - ETA: 0s - loss: 197.3291 - mae: 197.3291 - mse: 230791.5938INFO:tensorflow:Assets written to: model_experiments/model_1_dense/assets\n",
            "16/16 [==============================] - 1s 52ms/step - loss: 193.5853 - mae: 193.5853 - mse: 165153.0312 - val_loss: 1180.5002 - val_mae: 1180.5002 - val_mse: 3567681.5000\n",
            "Epoch 9/100\n",
            " 1/16 [>.............................] - ETA: 0s - loss: 202.5970 - mae: 202.5970 - mse: 173851.5312INFO:tensorflow:Assets written to: model_experiments/model_1_dense/assets\n",
            "16/16 [==============================] - 1s 49ms/step - loss: 187.5148 - mae: 187.5148 - mse: 157143.4688 - val_loss: 1158.8799 - val_mae: 1158.8799 - val_mse: 3376000.7500\n",
            "Epoch 10/100\n",
            " 1/16 [>.............................] - ETA: 0s - loss: 269.1226 - mae: 269.1226 - mse: 287417.1875INFO:tensorflow:Assets written to: model_experiments/model_1_dense/assets\n",
            "16/16 [==============================] - 1s 48ms/step - loss: 183.8510 - mae: 183.8510 - mse: 150207.2344 - val_loss: 1115.7688 - val_mae: 1115.7688 - val_mse: 3187277.2500\n",
            "Epoch 11/100\n",
            "16/16 [==============================] - 0s 4ms/step - loss: 180.3753 - mae: 180.3753 - mse: 145800.9062 - val_loss: 1216.5732 - val_mae: 1216.5732 - val_mse: 3377517.5000\n",
            "Epoch 12/100\n",
            " 1/16 [>.............................] - ETA: 0s - loss: 220.1067 - mae: 220.1067 - mse: 161681.4688INFO:tensorflow:Assets written to: model_experiments/model_1_dense/assets\n",
            "16/16 [==============================] - 1s 67ms/step - loss: 180.5310 - mae: 180.5310 - mse: 143815.7188 - val_loss: 1068.3212 - val_mae: 1068.3212 - val_mse: 2920267.5000\n",
            "Epoch 13/100\n",
            " 1/16 [>.............................] - ETA: 0s - loss: 176.3135 - mae: 176.3135 - mse: 130319.7344INFO:tensorflow:Assets written to: model_experiments/model_1_dense/assets\n",
            "16/16 [==============================] - 1s 48ms/step - loss: 172.1990 - mae: 172.1990 - mse: 133957.5312 - val_loss: 1047.2976 - val_mae: 1047.2976 - val_mse: 2804620.0000\n",
            "Epoch 14/100\n",
            " 1/16 [>.............................] - ETA: 0s - loss: 135.9319 - mae: 135.9319 - mse: 103396.3750INFO:tensorflow:Assets written to: model_experiments/model_1_dense/assets\n",
            "16/16 [==============================] - 1s 51ms/step - loss: 168.7647 - mae: 168.7647 - mse: 129164.1641 - val_loss: 1040.2698 - val_mae: 1040.2698 - val_mse: 2710291.5000\n",
            "Epoch 15/100\n",
            " 1/16 [>.............................] - ETA: 0s - loss: 137.1435 - mae: 137.1435 - mse: 82533.7188INFO:tensorflow:Assets written to: model_experiments/model_1_dense/assets\n",
            "16/16 [==============================] - 1s 48ms/step - loss: 166.2012 - mae: 166.2012 - mse: 126267.9688 - val_loss: 1006.4968 - val_mae: 1006.4968 - val_mse: 2576775.2500\n",
            "Epoch 16/100\n",
            " 1/16 [>.............................] - ETA: 0s - loss: 222.3281 - mae: 222.3281 - mse: 184141.6875INFO:tensorflow:Assets written to: model_experiments/model_1_dense/assets\n",
            "16/16 [==============================] - 1s 51ms/step - loss: 163.1069 - mae: 163.1069 - mse: 121766.9531 - val_loss: 985.7628 - val_mae: 985.7628 - val_mse: 2551765.2500\n",
            "Epoch 17/100\n",
            " 1/16 [>.............................] - ETA: 0s - loss: 140.4662 - mae: 140.4662 - mse: 84515.2266INFO:tensorflow:Assets written to: model_experiments/model_1_dense/assets\n",
            "16/16 [==============================] - 1s 48ms/step - loss: 161.1544 - mae: 161.1544 - mse: 117245.5938 - val_loss: 973.5729 - val_mae: 973.5729 - val_mse: 2402676.5000\n",
            "Epoch 18/100\n",
            "16/16 [==============================] - 0s 5ms/step - loss: 159.9366 - mae: 159.9366 - mse: 116329.2812 - val_loss: 980.7292 - val_mae: 980.7292 - val_mse: 2384201.7500\n",
            "Epoch 19/100\n",
            " 1/16 [>.............................] - ETA: 0s - loss: 124.3622 - mae: 124.3622 - mse: 71167.5781INFO:tensorflow:Assets written to: model_experiments/model_1_dense/assets\n",
            "16/16 [==============================] - 1s 53ms/step - loss: 162.2513 - mae: 162.2513 - mse: 119326.3828 - val_loss: 962.8463 - val_mae: 962.8463 - val_mse: 2451280.0000\n",
            "Epoch 20/100\n",
            " 1/16 [>.............................] - ETA: 0s - loss: 152.1717 - mae: 152.1717 - mse: 105939.1641INFO:tensorflow:Assets written to: model_experiments/model_1_dense/assets\n",
            "16/16 [==============================] - 1s 52ms/step - loss: 158.8437 - mae: 158.8437 - mse: 115683.6328 - val_loss: 936.0085 - val_mae: 936.0085 - val_mse: 2246607.2500\n",
            "Epoch 21/100\n",
            " 1/16 [>.............................] - ETA: 0s - loss: 159.9890 - mae: 159.9890 - mse: 110513.2266INFO:tensorflow:Assets written to: model_experiments/model_1_dense/assets\n",
            "16/16 [==============================] - 1s 50ms/step - loss: 155.3251 - mae: 155.3251 - mse: 109879.5781 - val_loss: 924.8110 - val_mae: 924.8110 - val_mse: 2202735.0000\n",
            "Epoch 22/100\n",
            " 1/16 [>.............................] - ETA: 0s - loss: 174.3616 - mae: 174.3616 - mse: 114874.3281INFO:tensorflow:Assets written to: model_experiments/model_1_dense/assets\n",
            "16/16 [==============================] - 1s 50ms/step - loss: 157.2904 - mae: 157.2904 - mse: 110384.6562 - val_loss: 923.8629 - val_mae: 923.8629 - val_mse: 2265462.5000\n",
            "Epoch 23/100\n",
            "16/16 [==============================] - 0s 4ms/step - loss: 156.1037 - mae: 156.1037 - mse: 108788.1250 - val_loss: 937.4535 - val_mae: 937.4535 - val_mse: 2324877.7500\n",
            "Epoch 24/100\n",
            "16/16 [==============================] - 0s 4ms/step - loss: 153.9103 - mae: 153.9103 - mse: 106931.5859 - val_loss: 1039.6965 - val_mae: 1039.6965 - val_mse: 2771009.5000\n",
            "Epoch 25/100\n",
            " 1/16 [>.............................] - ETA: 0s - loss: 195.3960 - mae: 195.3960 - mse: 162318.8438INFO:tensorflow:Assets written to: model_experiments/model_1_dense/assets\n",
            "16/16 [==============================] - 1s 49ms/step - loss: 163.4660 - mae: 163.4660 - mse: 115572.8047 - val_loss: 904.0978 - val_mae: 904.0978 - val_mse: 2183198.5000\n",
            "Epoch 26/100\n",
            " 1/16 [>.............................] - ETA: 0s - loss: 159.2774 - mae: 159.2774 - mse: 113660.2812INFO:tensorflow:Assets written to: model_experiments/model_1_dense/assets\n",
            "16/16 [==============================] - 1s 50ms/step - loss: 149.0410 - mae: 149.0410 - mse: 103397.0781 - val_loss: 899.8920 - val_mae: 899.8920 - val_mse: 2072556.0000\n",
            "Epoch 27/100\n",
            " 1/16 [>.............................] - ETA: 0s - loss: 143.7080 - mae: 143.7080 - mse: 91600.6641INFO:tensorflow:Assets written to: model_experiments/model_1_dense/assets\n",
            "16/16 [==============================] - 1s 48ms/step - loss: 147.7359 - mae: 147.7359 - mse: 102492.3438 - val_loss: 887.4896 - val_mae: 887.4896 - val_mse: 2039347.6250\n",
            "Epoch 28/100\n",
            "16/16 [==============================] - 0s 4ms/step - loss: 144.5267 - mae: 144.5267 - mse: 99501.1875 - val_loss: 937.5548 - val_mae: 937.5548 - val_mse: 2157091.7500\n",
            "Epoch 29/100\n",
            "16/16 [==============================] - 0s 4ms/step - loss: 149.3656 - mae: 149.3656 - mse: 101287.8750 - val_loss: 977.0312 - val_mae: 977.0312 - val_mse: 2278048.2500\n",
            "Epoch 30/100\n",
            "16/16 [==============================] - 0s 5ms/step - loss: 154.9521 - mae: 154.9521 - mse: 109153.7031 - val_loss: 944.4395 - val_mae: 944.4395 - val_mse: 2173180.2500\n",
            "Epoch 31/100\n",
            " 1/16 [>.............................] - ETA: 0s - loss: 147.0652 - mae: 147.0652 - mse: 85450.5469INFO:tensorflow:Assets written to: model_experiments/model_1_dense/assets\n",
            "16/16 [==============================] - 1s 52ms/step - loss: 145.7323 - mae: 145.7323 - mse: 99192.5078 - val_loss: 884.9972 - val_mae: 884.9972 - val_mse: 2005892.5000\n",
            "Epoch 32/100\n",
            " 1/16 [>.............................] - ETA: 0s - loss: 141.4395 - mae: 141.4395 - mse: 92960.9531INFO:tensorflow:Assets written to: model_experiments/model_1_dense/assets\n",
            "16/16 [==============================] - 1s 51ms/step - loss: 143.4305 - mae: 143.4305 - mse: 98579.7422 - val_loss: 859.6455 - val_mae: 859.6455 - val_mse: 1986932.6250\n",
            "Epoch 33/100\n",
            " 1/16 [>.............................] - ETA: 0s - loss: 163.3127 - mae: 163.3127 - mse: 110308.5625INFO:tensorflow:Assets written to: model_experiments/model_1_dense/assets\n",
            "16/16 [==============================] - 1s 47ms/step - loss: 144.4794 - mae: 144.4794 - mse: 99546.4609 - val_loss: 855.9361 - val_mae: 855.9361 - val_mse: 1971653.8750\n",
            "Epoch 34/100\n",
            "16/16 [==============================] - 0s 5ms/step - loss: 145.7489 - mae: 145.7489 - mse: 98749.9141 - val_loss: 888.7703 - val_mae: 888.7703 - val_mse: 2005434.5000\n",
            "Epoch 35/100\n",
            " 1/16 [>.............................] - ETA: 0s - loss: 157.9901 - mae: 157.9901 - mse: 133933.6875INFO:tensorflow:Assets written to: model_experiments/model_1_dense/assets\n",
            "16/16 [==============================] - 1s 53ms/step - loss: 145.7463 - mae: 145.7463 - mse: 99112.2734 - val_loss: 852.2140 - val_mae: 852.2140 - val_mse: 1918776.6250\n",
            "Epoch 36/100\n",
            "16/16 [==============================] - 0s 4ms/step - loss: 141.4846 - mae: 141.4846 - mse: 97366.9141 - val_loss: 862.0698 - val_mae: 862.0698 - val_mse: 1998364.1250\n",
            "Epoch 37/100\n",
            " 1/16 [>.............................] - ETA: 0s - loss: 148.2617 - mae: 148.2617 - mse: 70746.0000INFO:tensorflow:Assets written to: model_experiments/model_1_dense/assets\n",
            "16/16 [==============================] - 1s 63ms/step - loss: 145.5778 - mae: 145.5778 - mse: 99493.7422 - val_loss: 839.3591 - val_mae: 839.3591 - val_mse: 1898357.2500\n",
            "Epoch 38/100\n",
            "16/16 [==============================] - 0s 5ms/step - loss: 149.1893 - mae: 149.1893 - mse: 101795.3125 - val_loss: 928.7697 - val_mae: 928.7697 - val_mse: 2113188.5000\n",
            "Epoch 39/100\n",
            " 1/16 [>.............................] - ETA: 0s - loss: 119.6289 - mae: 119.6289 - mse: 57417.5547INFO:tensorflow:Assets written to: model_experiments/model_1_dense/assets\n",
            "16/16 [==============================] - 1s 47ms/step - loss: 146.5056 - mae: 146.5056 - mse: 98500.3984 - val_loss: 835.1110 - val_mae: 835.1110 - val_mse: 1877097.3750\n",
            "Epoch 40/100\n",
            " 1/16 [>.............................] - ETA: 0s - loss: 106.9254 - mae: 106.9254 - mse: 53715.7344INFO:tensorflow:Assets written to: model_experiments/model_1_dense/assets\n",
            "16/16 [==============================] - 1s 52ms/step - loss: 141.5099 - mae: 141.5099 - mse: 95604.1328 - val_loss: 833.1370 - val_mae: 833.1370 - val_mse: 1868164.5000\n",
            "Epoch 41/100\n",
            "16/16 [==============================] - 0s 4ms/step - loss: 140.0921 - mae: 140.0921 - mse: 94498.2656 - val_loss: 845.3928 - val_mae: 845.3928 - val_mse: 1880102.2500\n",
            "Epoch 42/100\n",
            " 1/16 [>.............................] - ETA: 0s - loss: 164.3537 - mae: 164.3537 - mse: 130041.5312INFO:tensorflow:Assets written to: model_experiments/model_1_dense/assets\n",
            "16/16 [==============================] - 1s 49ms/step - loss: 138.2833 - mae: 138.2833 - mse: 92622.9062 - val_loss: 826.9249 - val_mae: 826.9249 - val_mse: 1852407.6250\n",
            "Epoch 43/100\n",
            "16/16 [==============================] - 0s 4ms/step - loss: 138.2925 - mae: 138.2925 - mse: 93407.1172 - val_loss: 847.6710 - val_mae: 847.6710 - val_mse: 1936527.5000\n",
            "Epoch 44/100\n",
            "16/16 [==============================] - 0s 4ms/step - loss: 142.3690 - mae: 142.3690 - mse: 94410.8203 - val_loss: 829.5346 - val_mae: 829.5346 - val_mse: 1841291.6250\n",
            "Epoch 45/100\n",
            "16/16 [==============================] - 0s 4ms/step - loss: 138.0014 - mae: 138.0014 - mse: 92653.8594 - val_loss: 879.7257 - val_mae: 879.7257 - val_mse: 1955510.2500\n",
            "Epoch 46/100\n",
            "16/16 [==============================] - 0s 5ms/step - loss: 138.4547 - mae: 138.4547 - mse: 92250.6094 - val_loss: 833.3894 - val_mae: 833.3894 - val_mse: 1885843.5000\n",
            "Epoch 47/100\n",
            " 1/16 [>.............................] - ETA: 0s - loss: 129.3562 - mae: 129.3562 - mse: 65447.1406INFO:tensorflow:Assets written to: model_experiments/model_1_dense/assets\n",
            "16/16 [==============================] - 1s 52ms/step - loss: 138.3948 - mae: 138.3948 - mse: 92413.1094 - val_loss: 815.9078 - val_mae: 815.9078 - val_mse: 1811669.0000\n",
            "Epoch 48/100\n",
            "16/16 [==============================] - 0s 4ms/step - loss: 137.3776 - mae: 137.3776 - mse: 91977.0625 - val_loss: 826.3243 - val_mae: 826.3243 - val_mse: 1822595.1250\n",
            "Epoch 49/100\n",
            "16/16 [==============================] - 0s 4ms/step - loss: 138.3587 - mae: 138.3587 - mse: 90923.7734 - val_loss: 865.0447 - val_mae: 865.0447 - val_mse: 1909271.0000\n",
            "Epoch 50/100\n",
            "16/16 [==============================] - 0s 5ms/step - loss: 139.6008 - mae: 139.6008 - mse: 91846.0234 - val_loss: 817.1131 - val_mae: 817.1131 - val_mse: 1832380.3750\n",
            "Epoch 51/100\n",
            "16/16 [==============================] - 0s 5ms/step - loss: 141.0456 - mae: 141.0456 - mse: 91873.6797 - val_loss: 834.8843 - val_mae: 834.8843 - val_mse: 1884621.1250\n",
            "Epoch 52/100\n",
            "16/16 [==============================] - 0s 4ms/step - loss: 142.3547 - mae: 142.3547 - mse: 94698.6641 - val_loss: 823.4514 - val_mae: 823.4514 - val_mse: 1810154.3750\n",
            "Epoch 53/100\n",
            " 1/16 [>.............................] - ETA: 0s - loss: 152.6182 - mae: 152.6182 - mse: 117686.9609INFO:tensorflow:Assets written to: model_experiments/model_1_dense/assets\n",
            "16/16 [==============================] - 1s 53ms/step - loss: 139.6477 - mae: 139.6477 - mse: 93177.4844 - val_loss: 803.5254 - val_mae: 803.5254 - val_mse: 1788008.8750\n",
            "Epoch 54/100\n",
            "16/16 [==============================] - 0s 4ms/step - loss: 134.9893 - mae: 134.9893 - mse: 89600.0000 - val_loss: 991.3262 - val_mae: 991.3262 - val_mse: 2426316.7500\n",
            "Epoch 55/100\n",
            " 1/16 [>.............................] - ETA: 0s - loss: 178.0212 - mae: 178.0212 - mse: 110238.8594INFO:tensorflow:Assets written to: model_experiments/model_1_dense/assets\n",
            "16/16 [==============================] - 1s 51ms/step - loss: 142.8886 - mae: 142.8886 - mse: 93439.1406 - val_loss: 802.3965 - val_mae: 802.3965 - val_mse: 1771465.6250\n",
            "Epoch 56/100\n",
            "16/16 [==============================] - 0s 5ms/step - loss: 138.3439 - mae: 138.3439 - mse: 88976.3906 - val_loss: 807.6014 - val_mae: 807.6014 - val_mse: 1801450.3750\n",
            "Epoch 57/100\n",
            "16/16 [==============================] - 0s 4ms/step - loss: 135.3309 - mae: 135.3309 - mse: 89256.4922 - val_loss: 915.3425 - val_mae: 915.3425 - val_mse: 2128595.0000\n",
            "Epoch 58/100\n",
            "16/16 [==============================] - 0s 4ms/step - loss: 147.6825 - mae: 147.6825 - mse: 96860.2656 - val_loss: 889.8040 - val_mae: 889.8040 - val_mse: 2037924.3750\n",
            "Epoch 59/100\n",
            "16/16 [==============================] - 0s 4ms/step - loss: 142.7408 - mae: 142.7408 - mse: 93788.7031 - val_loss: 835.5764 - val_mae: 835.5764 - val_mse: 1875838.3750\n",
            "Epoch 60/100\n",
            "16/16 [==============================] - 0s 5ms/step - loss: 138.5095 - mae: 138.5095 - mse: 90756.3828 - val_loss: 838.1911 - val_mae: 838.1911 - val_mse: 1832619.0000\n",
            "Epoch 61/100\n",
            " 1/16 [>.............................] - ETA: 0s - loss: 141.0266 - mae: 141.0266 - mse: 84692.1953INFO:tensorflow:Assets written to: model_experiments/model_1_dense/assets\n",
            "16/16 [==============================] - 1s 51ms/step - loss: 137.3216 - mae: 137.3216 - mse: 89936.3750 - val_loss: 795.4156 - val_mae: 795.4156 - val_mse: 1763307.5000\n",
            "Epoch 62/100\n",
            " 1/16 [>.............................] - ETA: 0s - loss: 140.1223 - mae: 140.1223 - mse: 107664.0312INFO:tensorflow:Assets written to: model_experiments/model_1_dense/assets\n",
            "16/16 [==============================] - 1s 50ms/step - loss: 134.8388 - mae: 134.8388 - mse: 90291.7188 - val_loss: 792.7587 - val_mae: 792.7587 - val_mse: 1755547.1250\n",
            "Epoch 63/100\n",
            "16/16 [==============================] - 0s 5ms/step - loss: 136.3613 - mae: 136.3613 - mse: 90437.0078 - val_loss: 853.0699 - val_mae: 853.0699 - val_mse: 1864406.8750\n",
            "Epoch 64/100\n",
            "16/16 [==============================] - 0s 5ms/step - loss: 141.1513 - mae: 141.1513 - mse: 91789.8203 - val_loss: 806.1766 - val_mae: 806.1766 - val_mse: 1763690.8750\n",
            "Epoch 65/100\n",
            " 1/16 [>.............................] - ETA: 0s - loss: 132.5745 - mae: 132.5745 - mse: 93599.3281INFO:tensorflow:Assets written to: model_experiments/model_1_dense/assets\n",
            "16/16 [==============================] - 1s 53ms/step - loss: 133.5073 - mae: 133.5073 - mse: 88170.8281 - val_loss: 791.3454 - val_mae: 791.3454 - val_mse: 1740952.0000\n",
            "Epoch 66/100\n",
            "16/16 [==============================] - 0s 4ms/step - loss: 132.8781 - mae: 132.8781 - mse: 87388.7109 - val_loss: 794.2551 - val_mae: 794.2551 - val_mse: 1742641.3750\n",
            "Epoch 67/100\n",
            " 1/16 [>.............................] - ETA: 0s - loss: 118.4975 - mae: 118.4975 - mse: 55073.5195INFO:tensorflow:Assets written to: model_experiments/model_1_dense/assets\n",
            "16/16 [==============================] - 1s 49ms/step - loss: 133.7434 - mae: 133.7434 - mse: 87837.1250 - val_loss: 789.2407 - val_mae: 789.2407 - val_mse: 1746684.0000\n",
            "Epoch 68/100\n",
            "16/16 [==============================] - 0s 4ms/step - loss: 143.4148 - mae: 143.4148 - mse: 92804.3359 - val_loss: 805.5637 - val_mae: 805.5637 - val_mse: 1791140.1250\n",
            "Epoch 69/100\n",
            "16/16 [==============================] - 0s 5ms/step - loss: 133.9799 - mae: 133.9799 - mse: 87487.4297 - val_loss: 800.4972 - val_mae: 800.4972 - val_mse: 1750302.2500\n",
            "Epoch 70/100\n",
            " 1/16 [>.............................] - ETA: 0s - loss: 129.1688 - mae: 129.1688 - mse: 69640.3281INFO:tensorflow:Assets written to: model_experiments/model_1_dense/assets\n",
            "16/16 [==============================] - 1s 54ms/step - loss: 134.2558 - mae: 134.2558 - mse: 87516.4062 - val_loss: 787.2278 - val_mae: 787.2278 - val_mse: 1733910.3750\n",
            "Epoch 71/100\n",
            "16/16 [==============================] - 0s 4ms/step - loss: 132.4837 - mae: 132.4837 - mse: 86552.9688 - val_loss: 789.5493 - val_mae: 789.5493 - val_mse: 1748970.3750\n",
            "Epoch 72/100\n",
            "16/16 [==============================] - 0s 4ms/step - loss: 136.3186 - mae: 136.3186 - mse: 88365.8828 - val_loss: 790.3834 - val_mae: 790.3834 - val_mse: 1751783.5000\n",
            "Epoch 73/100\n",
            "16/16 [==============================] - 0s 4ms/step - loss: 134.7349 - mae: 134.7349 - mse: 87562.0000 - val_loss: 850.8448 - val_mae: 850.8448 - val_mse: 1855010.2500\n",
            "Epoch 74/100\n",
            "16/16 [==============================] - 0s 4ms/step - loss: 133.1693 - mae: 133.1693 - mse: 86890.5625 - val_loss: 887.8121 - val_mae: 887.8121 - val_mse: 1946039.0000\n",
            "Epoch 75/100\n",
            "16/16 [==============================] - 0s 4ms/step - loss: 137.9084 - mae: 137.9084 - mse: 88607.4688 - val_loss: 826.8475 - val_mae: 826.8475 - val_mse: 1797879.8750\n",
            "Epoch 76/100\n",
            "16/16 [==============================] - 0s 4ms/step - loss: 132.7579 - mae: 132.7579 - mse: 87071.8125 - val_loss: 840.6690 - val_mae: 840.6690 - val_mse: 1882138.6250\n",
            "Epoch 77/100\n",
            " 1/16 [>.............................] - ETA: 0s - loss: 179.5513 - mae: 179.5513 - mse: 161541.0156INFO:tensorflow:Assets written to: model_experiments/model_1_dense/assets\n",
            "16/16 [==============================] - 1s 50ms/step - loss: 133.8362 - mae: 133.8362 - mse: 88757.8672 - val_loss: 784.8715 - val_mae: 784.8715 - val_mse: 1720949.0000\n",
            "Epoch 78/100\n",
            "16/16 [==============================] - 0s 4ms/step - loss: 133.5860 - mae: 133.5860 - mse: 86667.5312 - val_loss: 831.1951 - val_mae: 831.1951 - val_mse: 1807137.1250\n",
            "Epoch 79/100\n",
            "16/16 [==============================] - 0s 5ms/step - loss: 133.8132 - mae: 133.8132 - mse: 87369.0625 - val_loss: 841.1603 - val_mae: 841.1603 - val_mse: 1884546.8750\n",
            "Epoch 80/100\n",
            " 1/16 [>.............................] - ETA: 0s - loss: 145.7866 - mae: 145.7866 - mse: 86333.9062INFO:tensorflow:Assets written to: model_experiments/model_1_dense/assets\n",
            "16/16 [==============================] - 1s 48ms/step - loss: 137.2893 - mae: 137.2893 - mse: 89552.4062 - val_loss: 784.3696 - val_mae: 784.3696 - val_mse: 1717470.8750\n",
            "Epoch 81/100\n",
            "16/16 [==============================] - 0s 5ms/step - loss: 135.5404 - mae: 135.5404 - mse: 88076.2969 - val_loss: 816.1312 - val_mae: 816.1312 - val_mse: 1814523.2500\n",
            "Epoch 82/100\n",
            "16/16 [==============================] - 0s 4ms/step - loss: 146.6078 - mae: 146.6078 - mse: 97534.1094 - val_loss: 940.3641 - val_mae: 940.3641 - val_mse: 2207245.7500\n",
            "Epoch 83/100\n",
            " 1/16 [>.............................] - ETA: 0s - loss: 157.5388 - mae: 157.5388 - mse: 144353.7969INFO:tensorflow:Assets written to: model_experiments/model_1_dense/assets\n",
            "16/16 [==============================] - 1s 52ms/step - loss: 141.7420 - mae: 141.7420 - mse: 92542.9375 - val_loss: 782.9375 - val_mae: 782.9375 - val_mse: 1713029.0000\n",
            "Epoch 84/100\n",
            "16/16 [==============================] - 0s 5ms/step - loss: 132.7134 - mae: 132.7134 - mse: 86282.7734 - val_loss: 844.3607 - val_mae: 844.3607 - val_mse: 1836442.6250\n",
            "Epoch 85/100\n",
            " 1/16 [>.............................] - ETA: 0s - loss: 138.0824 - mae: 138.0824 - mse: 91592.5312INFO:tensorflow:Assets written to: model_experiments/model_1_dense/assets\n",
            "16/16 [==============================] - 1s 51ms/step - loss: 133.8907 - mae: 133.8907 - mse: 87014.0234 - val_loss: 780.0975 - val_mae: 780.0975 - val_mse: 1709718.5000\n",
            "Epoch 86/100\n",
            "16/16 [==============================] - 0s 4ms/step - loss: 130.9746 - mae: 130.9746 - mse: 85656.7656 - val_loss: 835.2051 - val_mae: 835.2051 - val_mse: 1863463.6250\n",
            "Epoch 87/100\n",
            "16/16 [==============================] - 0s 4ms/step - loss: 135.3176 - mae: 135.3176 - mse: 88925.3516 - val_loss: 808.5755 - val_mae: 808.5755 - val_mse: 1794615.0000\n",
            "Epoch 88/100\n",
            " 1/16 [>.............................] - ETA: 0s - loss: 129.0064 - mae: 129.0064 - mse: 78769.2656INFO:tensorflow:Assets written to: model_experiments/model_1_dense/assets\n",
            "16/16 [==============================] - 1s 50ms/step - loss: 135.4424 - mae: 135.4424 - mse: 86823.3281 - val_loss: 777.1447 - val_mae: 777.1447 - val_mse: 1708545.6250\n",
            "Epoch 89/100\n",
            "16/16 [==============================] - 0s 5ms/step - loss: 133.9549 - mae: 133.9549 - mse: 87783.0625 - val_loss: 810.3855 - val_mae: 810.3855 - val_mse: 1758859.3750\n",
            "Epoch 90/100\n",
            " 1/16 [>.............................] - ETA: 0s - loss: 131.6919 - mae: 131.6919 - mse: 118677.1094INFO:tensorflow:Assets written to: model_experiments/model_1_dense/assets\n",
            "16/16 [==============================] - 1s 51ms/step - loss: 132.8404 - mae: 132.8404 - mse: 86315.7422 - val_loss: 776.6529 - val_mae: 776.6529 - val_mse: 1705817.7500\n",
            "Epoch 91/100\n",
            "16/16 [==============================] - 0s 4ms/step - loss: 132.7588 - mae: 132.7588 - mse: 87373.0000 - val_loss: 780.4913 - val_mae: 780.4913 - val_mse: 1706202.5000\n",
            "Epoch 92/100\n",
            "16/16 [==============================] - 0s 4ms/step - loss: 132.4175 - mae: 132.4175 - mse: 86010.4219 - val_loss: 776.7550 - val_mae: 776.7550 - val_mse: 1708466.1250\n",
            "Epoch 93/100\n",
            "16/16 [==============================] - 0s 4ms/step - loss: 130.4014 - mae: 130.4014 - mse: 85492.1719 - val_loss: 791.0267 - val_mae: 791.0267 - val_mse: 1721151.1250\n",
            "Epoch 94/100\n",
            "16/16 [==============================] - 0s 5ms/step - loss: 131.1177 - mae: 131.1177 - mse: 86258.5078 - val_loss: 815.5356 - val_mae: 815.5356 - val_mse: 1769819.8750\n",
            "Epoch 95/100\n",
            "16/16 [==============================] - 0s 4ms/step - loss: 134.1306 - mae: 134.1306 - mse: 85191.8203 - val_loss: 778.9985 - val_mae: 778.9985 - val_mse: 1716243.1250\n",
            "Epoch 96/100\n",
            "16/16 [==============================] - 0s 4ms/step - loss: 143.3331 - mae: 143.3331 - mse: 92471.4297 - val_loss: 856.2154 - val_mae: 856.2154 - val_mse: 1923459.0000\n",
            "Epoch 97/100\n",
            "16/16 [==============================] - 0s 5ms/step - loss: 136.3276 - mae: 136.3276 - mse: 89383.4219 - val_loss: 806.2154 - val_mae: 806.2154 - val_mse: 1748427.6250\n",
            "Epoch 98/100\n",
            "16/16 [==============================] - 0s 4ms/step - loss: 132.9931 - mae: 132.9931 - mse: 86023.5703 - val_loss: 798.2040 - val_mae: 798.2040 - val_mse: 1731486.2500\n",
            "Epoch 99/100\n",
            "16/16 [==============================] - 0s 4ms/step - loss: 132.4178 - mae: 132.4178 - mse: 86050.7812 - val_loss: 778.4742 - val_mae: 778.4742 - val_mse: 1700685.1250\n",
            "Epoch 100/100\n",
            "16/16 [==============================] - 0s 4ms/step - loss: 130.8179 - mae: 130.8179 - mse: 84683.8203 - val_loss: 777.1994 - val_mae: 777.1994 - val_mse: 1699917.7500\n"
          ]
        }
      ]
    },
    {
      "cell_type": "code",
      "metadata": {
        "colab": {
          "base_uri": "https://localhost:8080/"
        },
        "id": "Y_mJjS1J4L0F",
        "outputId": "5cfb5414-f9b9-4395-be08-0b6a372ec496"
      },
      "source": [
        "model_1.evaluate(test_windows,test_labels)"
      ],
      "execution_count": 64,
      "outputs": [
        {
          "output_type": "stream",
          "name": "stdout",
          "text": [
            "16/16 [==============================] - 0s 2ms/step - loss: 777.1995 - mae: 777.1995 - mse: 1699917.8750\n"
          ]
        },
        {
          "output_type": "execute_result",
          "data": {
            "text/plain": [
              "[777.199462890625, 777.199462890625, 1699917.875]"
            ]
          },
          "metadata": {},
          "execution_count": 64
        }
      ]
    },
    {
      "cell_type": "code",
      "metadata": {
        "colab": {
          "base_uri": "https://localhost:8080/"
        },
        "id": "vQKjjqIN5FMi",
        "outputId": "1b1706de-c191-47b3-cc12-e2e64d1cea8a"
      },
      "source": [
        "# load saved best model\n",
        "model_1 = tf.keras.models.load_model(\"model_experiments/model_1_dense/\")\n",
        "model_1.evaluate(test_windows,test_labels)"
      ],
      "execution_count": 66,
      "outputs": [
        {
          "output_type": "stream",
          "name": "stdout",
          "text": [
            "16/16 [==============================] - 0s 2ms/step - loss: 776.6528 - mae: 776.6528 - mse: 1705818.0000\n"
          ]
        },
        {
          "output_type": "execute_result",
          "data": {
            "text/plain": [
              "[776.6527709960938, 776.6527709960938, 1705818.0]"
            ]
          },
          "metadata": {},
          "execution_count": 66
        }
      ]
    },
    {
      "cell_type": "markdown",
      "metadata": {
        "id": "VeO6iUJE6_y9"
      },
      "source": [
        "### Making forecasting with a model"
      ]
    },
    {
      "cell_type": "code",
      "metadata": {
        "id": "rQr-1U7a771c"
      },
      "source": [
        "def make_preds(model, input_data):\n",
        "  forecast = model.predict(input_data)\n",
        "  return tf.squeeze(forecast)"
      ],
      "execution_count": 67,
      "outputs": []
    },
    {
      "cell_type": "code",
      "metadata": {
        "id": "Hacff_-D8IN7"
      },
      "source": [
        "model_1_preds = make_preds(model_1, test_windows)"
      ],
      "execution_count": 68,
      "outputs": []
    },
    {
      "cell_type": "code",
      "metadata": {
        "colab": {
          "base_uri": "https://localhost:8080/"
        },
        "id": "JpxVX5ui8X-Z",
        "outputId": "0299ef30-9803-4c54-ff18-1cc55f5b94a0"
      },
      "source": [
        "len(model_1_preds)"
      ],
      "execution_count": 69,
      "outputs": [
        {
          "output_type": "execute_result",
          "data": {
            "text/plain": [
              "486"
            ]
          },
          "metadata": {},
          "execution_count": 69
        }
      ]
    },
    {
      "cell_type": "code",
      "metadata": {
        "colab": {
          "base_uri": "https://localhost:8080/"
        },
        "id": "12SvcACR9PxR",
        "outputId": "d258b70f-876b-41a0-883e-45d4ada864a9"
      },
      "source": [
        "test_labels.shape, model_1_preds.shape"
      ],
      "execution_count": 76,
      "outputs": [
        {
          "output_type": "execute_result",
          "data": {
            "text/plain": [
              "((486, 1), TensorShape([486]))"
            ]
          },
          "metadata": {},
          "execution_count": 76
        }
      ]
    },
    {
      "cell_type": "code",
      "metadata": {
        "colab": {
          "base_uri": "https://localhost:8080/"
        },
        "id": "4VnIQ7Ut8Z4Z",
        "outputId": "0f98dfb3-3fe8-4769-8695-fd3a978f8598"
      },
      "source": [
        "model_1_results = evaluate_pred(y_true=tf.squeeze(test_labels), \n",
        "                                y_pred=model_1_preds)\n",
        "model_1_results"
      ],
      "execution_count": 77,
      "outputs": [
        {
          "output_type": "execute_result",
          "data": {
            "text/plain": [
              "{'mae': 776.65283,\n",
              " 'mape': 2.626138,\n",
              " 'mase': 1.0024073,\n",
              " 'mse': 1705817.8,\n",
              " 'rmse': 1306.0696}"
            ]
          },
          "metadata": {},
          "execution_count": 77
        }
      ]
    },
    {
      "cell_type": "code",
      "metadata": {
        "colab": {
          "base_uri": "https://localhost:8080/"
        },
        "id": "inxKICzu8msp",
        "outputId": "f3744be7-341c-4aea-f1ea-6ca7b7a44ada"
      },
      "source": [
        "naive_result"
      ],
      "execution_count": 82,
      "outputs": [
        {
          "output_type": "execute_result",
          "data": {
            "text/plain": [
              "{'mae': 766.7916,\n",
              " 'mape': 2.6282535,\n",
              " 'mase': 0.9981721,\n",
              " 'mse': 1660526.2,\n",
              " 'rmse': 1288.6141}"
            ]
          },
          "metadata": {},
          "execution_count": 82
        }
      ]
    },
    {
      "cell_type": "code",
      "metadata": {
        "colab": {
          "base_uri": "https://localhost:8080/",
          "height": 445
        },
        "id": "n2dj0c4t9c9G",
        "outputId": "196a3ec8-564a-4c16-c6b5-b5ecf8c7356d"
      },
      "source": [
        "#plot prediction\n",
        "offset = 350\n",
        "plt.figure(figsize=(10,7))\n",
        "plot_time_series(timesteps=X_test[-len(test_windows):], \n",
        "                 values=test_labels[:, 0], \n",
        "                 start=offset,\n",
        "                 label=\"Test Data\")\n",
        "plot_time_series(timesteps=X_test[-len(test_windows):], \n",
        "                 values=model_1_preds, \n",
        "                 start=offset,\n",
        "                 format=\"-\",\n",
        "                 label=\"Model_1_preds\")"
      ],
      "execution_count": 90,
      "outputs": [
        {
          "output_type": "display_data",
          "data": {
            "image/png": "[encoded data removed]",
            "text/plain": [
              "<Figure size 720x504 with 1 Axes>"
            ]
          },
          "metadata": {
            "needs_background": "light"
          }
        }
      ]
    },
    {
      "cell_type": "markdown",
      "metadata": {
        "id": "mIrFBpMY-PBu"
      },
      "source": [
        "### Model 2: Dense (window=30, horizon=1)"
      ]
    },
    {
      "cell_type": "code",
      "metadata": {
        "id": "i2rUWvw6_mU7"
      },
      "source": [
        "HORIZON = 1 \n",
        "WINDOW_SIZE = 30"
      ],
      "execution_count": 105,
      "outputs": []
    },
    {
      "cell_type": "code",
      "metadata": {
        "colab": {
          "base_uri": "https://localhost:8080/"
        },
        "id": "hVACOflz_DVT",
        "outputId": "00132a3b-09cf-40f0-d94b-ddf050be5477"
      },
      "source": [
        "full_windows, full_labels = make_windows(prices, window_size=WINDOW_SIZE, horizon=HORIZON)\n",
        "len(full_windows), len(full_labels)"
      ],
      "execution_count": 106,
      "outputs": [
        {
          "output_type": "execute_result",
          "data": {
            "text/plain": [
              "(2432, 2432)"
            ]
          },
          "metadata": {},
          "execution_count": 106
        }
      ]
    },
    {
      "cell_type": "code",
      "metadata": {
        "colab": {
          "base_uri": "https://localhost:8080/"
        },
        "id": "5omJHIUS_cDb",
        "outputId": "0a93f004-5590-4c4f-f5eb-eb101e8afe5e"
      },
      "source": [
        "train_windows, test_windows, train_labels, test_labels = make_train_test_split(full_windows, full_labels)\n",
        "len(train_windows), len(test_windows), len(train_labels), len(test_labels)"
      ],
      "execution_count": 107,
      "outputs": [
        {
          "output_type": "execute_result",
          "data": {
            "text/plain": [
              "(1969, 463, 1969, 463)"
            ]
          },
          "metadata": {},
          "execution_count": 107
        }
      ]
    },
    {
      "cell_type": "code",
      "metadata": {
        "colab": {
          "base_uri": "https://localhost:8080/"
        },
        "id": "HZTyZNYb_hjK",
        "outputId": "d987ca1b-b8a2-4c41-8a1a-939fcdb5fc36"
      },
      "source": [
        "# Model 2\n",
        "# set random seed\n",
        "tf.random.set_seed(42)\n",
        "\n",
        "#1. construct model\n",
        "model_2 = tf.keras.Sequential([\n",
        "                               tf.keras.layers.Dense(128, activation=\"relu\"),\n",
        "                               tf.keras.layers.Dense(HORIZON, activation=\"linear\")\n",
        "],name=\"model_2_dense\")\n",
        "\n",
        "#2. Compile the model\n",
        "model_2.compile(loss=\"mae\",\n",
        "                optimizer=tf.keras.optimizers.Adam(),\n",
        "                metrics=[\"mae\", \"mse\"])\n",
        "\n",
        "#3.Fit the model\n",
        "history_2 = model_2.fit(train_windows,\n",
        "                        train_labels,\n",
        "                        epochs=100,\n",
        "                        verbose=0,\n",
        "                        batch_size=128,\n",
        "                        validation_data=(test_windows, test_labels),\n",
        "                        callbacks=[create_model_checkpoint(model_name=model_2.name)])"
      ],
      "execution_count": 108,
      "outputs": [
        {
          "output_type": "stream",
          "name": "stdout",
          "text": [
            "INFO:tensorflow:Assets written to: model_experiments/model_2_dense/assets\n",
            "INFO:tensorflow:Assets written to: model_experiments/model_2_dense/assets\n",
            "INFO:tensorflow:Assets written to: model_experiments/model_2_dense/assets\n",
            "INFO:tensorflow:Assets written to: model_experiments/model_2_dense/assets\n",
            "INFO:tensorflow:Assets written to: model_experiments/model_2_dense/assets\n",
            "INFO:tensorflow:Assets written to: model_experiments/model_2_dense/assets\n",
            "INFO:tensorflow:Assets written to: model_experiments/model_2_dense/assets\n",
            "INFO:tensorflow:Assets written to: model_experiments/model_2_dense/assets\n",
            "INFO:tensorflow:Assets written to: model_experiments/model_2_dense/assets\n",
            "INFO:tensorflow:Assets written to: model_experiments/model_2_dense/assets\n",
            "INFO:tensorflow:Assets written to: model_experiments/model_2_dense/assets\n",
            "INFO:tensorflow:Assets written to: model_experiments/model_2_dense/assets\n",
            "INFO:tensorflow:Assets written to: model_experiments/model_2_dense/assets\n",
            "INFO:tensorflow:Assets written to: model_experiments/model_2_dense/assets\n",
            "INFO:tensorflow:Assets written to: model_experiments/model_2_dense/assets\n",
            "INFO:tensorflow:Assets written to: model_experiments/model_2_dense/assets\n",
            "INFO:tensorflow:Assets written to: model_experiments/model_2_dense/assets\n",
            "INFO:tensorflow:Assets written to: model_experiments/model_2_dense/assets\n",
            "INFO:tensorflow:Assets written to: model_experiments/model_2_dense/assets\n",
            "INFO:tensorflow:Assets written to: model_experiments/model_2_dense/assets\n",
            "INFO:tensorflow:Assets written to: model_experiments/model_2_dense/assets\n",
            "INFO:tensorflow:Assets written to: model_experiments/model_2_dense/assets\n",
            "INFO:tensorflow:Assets written to: model_experiments/model_2_dense/assets\n",
            "INFO:tensorflow:Assets written to: model_experiments/model_2_dense/assets\n",
            "INFO:tensorflow:Assets written to: model_experiments/model_2_dense/assets\n",
            "INFO:tensorflow:Assets written to: model_experiments/model_2_dense/assets\n",
            "INFO:tensorflow:Assets written to: model_experiments/model_2_dense/assets\n",
            "INFO:tensorflow:Assets written to: model_experiments/model_2_dense/assets\n",
            "INFO:tensorflow:Assets written to: model_experiments/model_2_dense/assets\n",
            "INFO:tensorflow:Assets written to: model_experiments/model_2_dense/assets\n",
            "INFO:tensorflow:Assets written to: model_experiments/model_2_dense/assets\n",
            "INFO:tensorflow:Assets written to: model_experiments/model_2_dense/assets\n",
            "INFO:tensorflow:Assets written to: model_experiments/model_2_dense/assets\n",
            "INFO:tensorflow:Assets written to: model_experiments/model_2_dense/assets\n",
            "INFO:tensorflow:Assets written to: model_experiments/model_2_dense/assets\n",
            "INFO:tensorflow:Assets written to: model_experiments/model_2_dense/assets\n",
            "INFO:tensorflow:Assets written to: model_experiments/model_2_dense/assets\n",
            "INFO:tensorflow:Assets written to: model_experiments/model_2_dense/assets\n",
            "INFO:tensorflow:Assets written to: model_experiments/model_2_dense/assets\n",
            "INFO:tensorflow:Assets written to: model_experiments/model_2_dense/assets\n"
          ]
        }
      ]
    },
    {
      "cell_type": "code",
      "metadata": {
        "colab": {
          "base_uri": "https://localhost:8080/"
        },
        "id": "cCaWFdl9_-C6",
        "outputId": "c94a00b9-c145-412d-a42e-ede86cafa69c"
      },
      "source": [
        "model_2.evaluate(test_windows,test_labels)"
      ],
      "execution_count": 109,
      "outputs": [
        {
          "output_type": "stream",
          "name": "stdout",
          "text": [
            "15/15 [==============================] - 0s 2ms/step - loss: 865.0096 - mae: 865.0096 - mse: 1974435.3750\n"
          ]
        },
        {
          "output_type": "execute_result",
          "data": {
            "text/plain": [
              "[865.0095825195312, 865.0095825195312, 1974435.375]"
            ]
          },
          "metadata": {},
          "execution_count": 109
        }
      ]
    },
    {
      "cell_type": "code",
      "metadata": {
        "colab": {
          "base_uri": "https://localhost:8080/"
        },
        "id": "_2cnWD2cAHMq",
        "outputId": "5145382c-d4e1-43f9-9b22-3b4950d388b0"
      },
      "source": [
        "# load saved best model\n",
        "model_2 = tf.keras.models.load_model(\"model_experiments/model_2_dense/\")\n",
        "model_2.evaluate(test_windows,test_labels)"
      ],
      "execution_count": 111,
      "outputs": [
        {
          "output_type": "stream",
          "name": "stdout",
          "text": [
            "15/15 [==============================] - 0s 2ms/step - loss: 865.0096 - mae: 865.0096 - mse: 1974435.3750\n"
          ]
        },
        {
          "output_type": "execute_result",
          "data": {
            "text/plain": [
              "[865.0095825195312, 865.0095825195312, 1974435.375]"
            ]
          },
          "metadata": {},
          "execution_count": 111
        }
      ]
    },
    {
      "cell_type": "code",
      "metadata": {
        "id": "yPeWcRihAmu-"
      },
      "source": [
        "model_2_preds = make_preds(model_2, test_windows)"
      ],
      "execution_count": 112,
      "outputs": []
    },
    {
      "cell_type": "code",
      "metadata": {
        "colab": {
          "base_uri": "https://localhost:8080/"
        },
        "id": "XVZJMVoqAQqh",
        "outputId": "a7dc7c01-a475-4d58-cca0-d9fa36fbac56"
      },
      "source": [
        "model_2_results = evaluate_pred(y_true=tf.squeeze(test_labels), \n",
        "                                y_pred=model_2_preds)\n",
        "model_2_results"
      ],
      "execution_count": 113,
      "outputs": [
        {
          "output_type": "execute_result",
          "data": {
            "text/plain": [
              "{'mae': 865.00946,\n",
              " 'mape': 2.835078,\n",
              " 'mase': 1.0757153,\n",
              " 'mse': 1974434.9,\n",
              " 'rmse': 1405.1459}"
            ]
          },
          "metadata": {},
          "execution_count": 113
        }
      ]
    },
    {
      "cell_type": "code",
      "metadata": {
        "colab": {
          "base_uri": "https://localhost:8080/"
        },
        "id": "oG18V_5rAXeg",
        "outputId": "07f5c8fe-374f-46e6-8cf2-d8d864ff3827"
      },
      "source": [
        "naive_result"
      ],
      "execution_count": 101,
      "outputs": [
        {
          "output_type": "execute_result",
          "data": {
            "text/plain": [
              "{'mae': 766.7916,\n",
              " 'mape': 2.6282535,\n",
              " 'mase': 0.9981721,\n",
              " 'mse': 1660526.2,\n",
              " 'rmse': 1288.6141}"
            ]
          },
          "metadata": {},
          "execution_count": 101
        }
      ]
    },
    {
      "cell_type": "code",
      "metadata": {
        "colab": {
          "base_uri": "https://localhost:8080/"
        },
        "id": "YzE6saitAsSQ",
        "outputId": "76165901-1f0f-495d-bde1-9820e1518e1f"
      },
      "source": [
        "model_1_results"
      ],
      "execution_count": 102,
      "outputs": [
        {
          "output_type": "execute_result",
          "data": {
            "text/plain": [
              "{'mae': 776.65283,\n",
              " 'mape': 2.626138,\n",
              " 'mase': 1.0024073,\n",
              " 'mse': 1705817.8,\n",
              " 'rmse': 1306.0696}"
            ]
          },
          "metadata": {},
          "execution_count": 102
        }
      ]
    },
    {
      "cell_type": "code",
      "metadata": {
        "colab": {
          "base_uri": "https://localhost:8080/",
          "height": 446
        },
        "id": "h-AhCBNUAZPI",
        "outputId": "6ad0c8fe-036d-45d1-9dfb-6308dadf22b8"
      },
      "source": [
        "#plot prediction\n",
        "offset = 350\n",
        "plt.figure(figsize=(10,7))\n",
        "plot_time_series(timesteps=X_test[-len(test_windows):], \n",
        "                 values=test_labels[:, 0], \n",
        "                 start=offset,\n",
        "                 label=\"Test Data\")\n",
        "plot_time_series(timesteps=X_test[-len(test_windows):], \n",
        "                 values=model_2_preds, \n",
        "                 start=offset,\n",
        "                 format=\"-\",\n",
        "                 label=\"Model_2_preds\")"
      ],
      "execution_count": 114,
      "outputs": [
        {
          "output_type": "display_data",
          "data": {
            "image/png": "[encoded data removed]",
            "text/plain": [
              "<Figure size 720x504 with 1 Axes>"
            ]
          },
          "metadata": {
            "needs_background": "light"
          }
        }
      ]
    },
    {
      "cell_type": "code",
      "metadata": {
        "id": "3OxFRb6zA2dv"
      },
      "source": [
        ""
      ],
      "execution_count": null,
      "outputs": []
    }
  ]
}