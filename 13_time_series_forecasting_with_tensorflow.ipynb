{
  "nbformat": 4,
  "nbformat_minor": 0,
  "metadata": {
    "colab": {
      "name": "13_time_series_forecasting_with_tensorflow.ipynb",
      "provenance": [],
      "collapsed_sections": [],
      "mount_file_id": "1PDbx2OlsfPm5LrgzGZcU9dwZLD05DlLr",
      "authorship_tag": "ABX9TyNw7GzKpYUSLrMnsGUjO60E",
      "include_colab_link": true
    },
    "kernelspec": {
      "name": "python3",
      "display_name": "Python 3"
    },
    "language_info": {
      "name": "python"
    }
  },
  "cells": [
    {
      "cell_type": "markdown",
      "metadata": {
        "id": "view-in-github",
        "colab_type": "text"
      },
      "source": [
        "<a href=\"https://colab.research.google.com/github/sameer203/Tensorflow_/blob/main/13_time_series_forecasting_with_tensorflow.ipynb\" target=\"_parent\"><img src=\"https://colab.research.google.com/assets/colab-badge.svg\" alt=\"Open In Colab\"/></a>"
      ]
    },
    {
      "cell_type": "markdown",
      "metadata": {
        "id": "cZsBXK56ybw9"
      },
      "source": [
        "### Import Data"
      ]
    },
    {
      "cell_type": "code",
      "metadata": {
        "id": "cgAIcVJQy9ca"
      },
      "source": [
        "import os\n",
        "\n",
        "ROOT = \"/content/drive/MyDrive/Tensorflow\"\n",
        "\n",
        "os.chdir(ROOT)"
      ],
      "execution_count": 136,
      "outputs": []
    },
    {
      "cell_type": "code",
      "metadata": {
        "id": "CHGHdkftze3F"
      },
      "source": [
        "import pandas as pd\n",
        "import matplotlib.pyplot as plt\n"
      ],
      "execution_count": 137,
      "outputs": []
    },
    {
      "cell_type": "code",
      "metadata": {
        "id": "2pTF1KQG0mQa"
      },
      "source": [
        "df = pd.read_csv(\"/content/drive/MyDrive/Tensorflow/BTC_USD_2014-11-02_2021-11-11-CoinDesk.csv\",\n",
        "                 parse_dates=[\"Date\"],\n",
        "                 index_col=[\"Date\"])"
      ],
      "execution_count": 138,
      "outputs": []
    },
    {
      "cell_type": "code",
      "metadata": {
        "colab": {
          "base_uri": "https://localhost:8080/",
          "height": 235
        },
        "id": "u_lMXrtE1g1w",
        "outputId": "aad43ea3-a953-4e29-ff1d-fede8d62840d"
      },
      "source": [
        "df.head()"
      ],
      "execution_count": 139,
      "outputs": [
        {
          "output_type": "execute_result",
          "data": {
            "text/html": [
              "<div>\n",
              "<style scoped>\n",
              "    .dataframe tbody tr th:only-of-type {\n",
              "        vertical-align: middle;\n",
              "    }\n",
              "\n",
              "    .dataframe tbody tr th {\n",
              "        vertical-align: top;\n",
              "    }\n",
              "\n",
              "    .dataframe thead th {\n",
              "        text-align: right;\n",
              "    }\n",
              "</style>\n",
              "<table border=\"1\" class=\"dataframe\">\n",
              "  <thead>\n",
              "    <tr style=\"text-align: right;\">\n",
              "      <th></th>\n",
              "      <th>Currency</th>\n",
              "      <th>Closing Price (USD)</th>\n",
              "      <th>24h Open (USD)</th>\n",
              "      <th>24h High (USD)</th>\n",
              "      <th>24h Low (USD)</th>\n",
              "    </tr>\n",
              "    <tr>\n",
              "      <th>Date</th>\n",
              "      <th></th>\n",
              "      <th></th>\n",
              "      <th></th>\n",
              "      <th></th>\n",
              "      <th></th>\n",
              "    </tr>\n",
              "  </thead>\n",
              "  <tbody>\n",
              "    <tr>\n",
              "      <th>2014-11-02</th>\n",
              "      <td>BTC</td>\n",
              "      <td>325.22633</td>\n",
              "      <td>338.01050</td>\n",
              "      <td>338.12950</td>\n",
              "      <td>319.36700</td>\n",
              "    </tr>\n",
              "    <tr>\n",
              "      <th>2014-11-03</th>\n",
              "      <td>BTC</td>\n",
              "      <td>331.60083</td>\n",
              "      <td>325.22633</td>\n",
              "      <td>333.75983</td>\n",
              "      <td>319.04350</td>\n",
              "    </tr>\n",
              "    <tr>\n",
              "      <th>2014-11-04</th>\n",
              "      <td>BTC</td>\n",
              "      <td>324.71833</td>\n",
              "      <td>331.60083</td>\n",
              "      <td>332.75133</td>\n",
              "      <td>323.06333</td>\n",
              "    </tr>\n",
              "    <tr>\n",
              "      <th>2014-11-05</th>\n",
              "      <td>BTC</td>\n",
              "      <td>332.45666</td>\n",
              "      <td>324.71833</td>\n",
              "      <td>335.81166</td>\n",
              "      <td>320.93333</td>\n",
              "    </tr>\n",
              "    <tr>\n",
              "      <th>2014-11-06</th>\n",
              "      <td>BTC</td>\n",
              "      <td>336.58500</td>\n",
              "      <td>332.45666</td>\n",
              "      <td>341.49000</td>\n",
              "      <td>328.56166</td>\n",
              "    </tr>\n",
              "  </tbody>\n",
              "</table>\n",
              "</div>"
            ],
            "text/plain": [
              "           Currency  Closing Price (USD)  ...  24h High (USD)  24h Low (USD)\n",
              "Date                                      ...                               \n",
              "2014-11-02      BTC            325.22633  ...       338.12950      319.36700\n",
              "2014-11-03      BTC            331.60083  ...       333.75983      319.04350\n",
              "2014-11-04      BTC            324.71833  ...       332.75133      323.06333\n",
              "2014-11-05      BTC            332.45666  ...       335.81166      320.93333\n",
              "2014-11-06      BTC            336.58500  ...       341.49000      328.56166\n",
              "\n",
              "[5 rows x 5 columns]"
            ]
          },
          "metadata": {},
          "execution_count": 139
        }
      ]
    },
    {
      "cell_type": "code",
      "metadata": {
        "colab": {
          "base_uri": "https://localhost:8080/"
        },
        "id": "1hRS1AKk1jX-",
        "outputId": "33cf003d-2c83-4690-827f-41bef54c7727"
      },
      "source": [
        "df.info()"
      ],
      "execution_count": 140,
      "outputs": [
        {
          "output_type": "stream",
          "name": "stdout",
          "text": [
            "<class 'pandas.core.frame.DataFrame'>\n",
            "DatetimeIndex: 2562 entries, 2014-11-02 to 2021-11-11\n",
            "Data columns (total 5 columns):\n",
            " #   Column               Non-Null Count  Dtype  \n",
            "---  ------               --------------  -----  \n",
            " 0   Currency             2562 non-null   object \n",
            " 1   Closing Price (USD)  2562 non-null   float64\n",
            " 2   24h Open (USD)       2562 non-null   float64\n",
            " 3   24h High (USD)       2562 non-null   float64\n",
            " 4   24h Low (USD)        2562 non-null   float64\n",
            "dtypes: float64(4), object(1)\n",
            "memory usage: 120.1+ KB\n"
          ]
        }
      ]
    },
    {
      "cell_type": "code",
      "metadata": {
        "colab": {
          "base_uri": "https://localhost:8080/"
        },
        "id": "xsKnLhW41oMe",
        "outputId": "5977b781-119f-4ec5-cbf0-ec13fdcde3bd"
      },
      "source": [
        "len(df)"
      ],
      "execution_count": 141,
      "outputs": [
        {
          "output_type": "execute_result",
          "data": {
            "text/plain": [
              "2562"
            ]
          },
          "metadata": {},
          "execution_count": 141
        }
      ]
    },
    {
      "cell_type": "code",
      "metadata": {
        "id": "sPAFgfn61vmu"
      },
      "source": [
        "bitcoin_prices = pd.DataFrame(df[\"Closing Price (USD)\"]).rename(columns={\"Closing Price (USD)\": \"Price\"})"
      ],
      "execution_count": 142,
      "outputs": []
    },
    {
      "cell_type": "code",
      "metadata": {
        "colab": {
          "base_uri": "https://localhost:8080/",
          "height": 235
        },
        "id": "KK3wNc_y9GKX",
        "outputId": "b64d3de0-2604-4b9e-970b-ee2c27af6dd8"
      },
      "source": [
        "bitcoin_prices.head()"
      ],
      "execution_count": 143,
      "outputs": [
        {
          "output_type": "execute_result",
          "data": {
            "text/html": [
              "<div>\n",
              "<style scoped>\n",
              "    .dataframe tbody tr th:only-of-type {\n",
              "        vertical-align: middle;\n",
              "    }\n",
              "\n",
              "    .dataframe tbody tr th {\n",
              "        vertical-align: top;\n",
              "    }\n",
              "\n",
              "    .dataframe thead th {\n",
              "        text-align: right;\n",
              "    }\n",
              "</style>\n",
              "<table border=\"1\" class=\"dataframe\">\n",
              "  <thead>\n",
              "    <tr style=\"text-align: right;\">\n",
              "      <th></th>\n",
              "      <th>Price</th>\n",
              "    </tr>\n",
              "    <tr>\n",
              "      <th>Date</th>\n",
              "      <th></th>\n",
              "    </tr>\n",
              "  </thead>\n",
              "  <tbody>\n",
              "    <tr>\n",
              "      <th>2014-11-02</th>\n",
              "      <td>325.22633</td>\n",
              "    </tr>\n",
              "    <tr>\n",
              "      <th>2014-11-03</th>\n",
              "      <td>331.60083</td>\n",
              "    </tr>\n",
              "    <tr>\n",
              "      <th>2014-11-04</th>\n",
              "      <td>324.71833</td>\n",
              "    </tr>\n",
              "    <tr>\n",
              "      <th>2014-11-05</th>\n",
              "      <td>332.45666</td>\n",
              "    </tr>\n",
              "    <tr>\n",
              "      <th>2014-11-06</th>\n",
              "      <td>336.58500</td>\n",
              "    </tr>\n",
              "  </tbody>\n",
              "</table>\n",
              "</div>"
            ],
            "text/plain": [
              "                Price\n",
              "Date                 \n",
              "2014-11-02  325.22633\n",
              "2014-11-03  331.60083\n",
              "2014-11-04  324.71833\n",
              "2014-11-05  332.45666\n",
              "2014-11-06  336.58500"
            ]
          },
          "metadata": {},
          "execution_count": 143
        }
      ]
    },
    {
      "cell_type": "code",
      "metadata": {
        "colab": {
          "base_uri": "https://localhost:8080/"
        },
        "id": "j783DopM_7wK",
        "outputId": "59f40d9b-6d62-4548-d804-69345e69b5bf"
      },
      "source": [
        "len(bitcoin_prices)"
      ],
      "execution_count": 144,
      "outputs": [
        {
          "output_type": "execute_result",
          "data": {
            "text/plain": [
              "2562"
            ]
          },
          "metadata": {},
          "execution_count": 144
        }
      ]
    },
    {
      "cell_type": "code",
      "metadata": {
        "colab": {
          "base_uri": "https://localhost:8080/",
          "height": 449
        },
        "id": "BmUOEg559ZOc",
        "outputId": "4d9e7d4f-5aeb-48b2-aa0c-475429ead731"
      },
      "source": [
        "bitcoin_prices.plot(figsize=(10,7))\n",
        "plt.xlabel(\"Time\")\n",
        "plt.ylabel(\"BTC Price\")\n",
        "plt.title(\"BTC historical Data\")"
      ],
      "execution_count": 145,
      "outputs": [
        {
          "output_type": "execute_result",
          "data": {
            "text/plain": [
              "Text(0.5, 1.0, 'BTC historical Data')"
            ]
          },
          "metadata": {},
          "execution_count": 145
        },
        {
          "output_type": "display_data",
          "data": {
            "image/png": "[encoded data removed]",
            "text/plain": [
              "<Figure size 720x504 with 1 Axes>"
            ]
          },
          "metadata": {
            "needs_background": "light"
          }
        }
      ]
    },
    {
      "cell_type": "code",
      "metadata": {
        "id": "J2gsxBB9_hUz"
      },
      "source": [
        "bitcoin_prices = bitcoin_prices.iloc[:-100]"
      ],
      "execution_count": 146,
      "outputs": []
    },
    {
      "cell_type": "code",
      "metadata": {
        "id": "2hAGaCFU9rhL"
      },
      "source": [
        "# Deleting last 100 rows\n",
        "#bitcoin_prices_new = bitcoin_prices.drop(bitcoin_prices.tail(100).index,\n",
        "                                     #inplace=True)"
      ],
      "execution_count": 147,
      "outputs": []
    },
    {
      "cell_type": "code",
      "metadata": {
        "colab": {
          "base_uri": "https://localhost:8080/"
        },
        "id": "8MAQ7P7G_Q8N",
        "outputId": "7d584840-b4ab-4195-f919-34694e19329f"
      },
      "source": [
        "len(bitcoin_prices)"
      ],
      "execution_count": 148,
      "outputs": [
        {
          "output_type": "execute_result",
          "data": {
            "text/plain": [
              "2462"
            ]
          },
          "metadata": {},
          "execution_count": 148
        }
      ]
    },
    {
      "cell_type": "code",
      "metadata": {
        "colab": {
          "base_uri": "https://localhost:8080/",
          "height": 449
        },
        "id": "fWHLxlbr-bc7",
        "outputId": "79d1e3a0-4ee5-4f90-f239-b997725aa3f3"
      },
      "source": [
        "bitcoin_prices.plot(figsize=(10,7))\n",
        "plt.xlabel(\"Time\")\n",
        "plt.ylabel(\"BTC Price\")\n",
        "plt.title(\"BTC historical Data\")"
      ],
      "execution_count": 149,
      "outputs": [
        {
          "output_type": "execute_result",
          "data": {
            "text/plain": [
              "Text(0.5, 1.0, 'BTC historical Data')"
            ]
          },
          "metadata": {},
          "execution_count": 149
        },
        {
          "output_type": "display_data",
          "data": {
            "image/png": "[encoded data removed]",
            "text/plain": [
              "<Figure size 720x504 with 1 Axes>"
            ]
          },
          "metadata": {
            "needs_background": "light"
          }
        }
      ]
    },
    {
      "cell_type": "markdown",
      "metadata": {
        "id": "MDi9LhbR_FHs"
      },
      "source": [
        "### Train Test split"
      ]
    },
    {
      "cell_type": "code",
      "metadata": {
        "colab": {
          "base_uri": "https://localhost:8080/"
        },
        "id": "rYmKTaSp-dyY",
        "outputId": "4a355fee-fe84-4cb8-dcb3-d1251756fb97"
      },
      "source": [
        "# bitcoin date array\n",
        "timesteps = bitcoin_prices.index.to_numpy()\n",
        "prices = bitcoin_prices[\"Price\"].to_numpy()\n",
        "\n",
        "timesteps[-10:], prices[-10:]"
      ],
      "execution_count": 150,
      "outputs": [
        {
          "output_type": "execute_result",
          "data": {
            "text/plain": [
              "(array(['2021-07-21T00:00:00.000000000', '2021-07-22T00:00:00.000000000',\n",
              "        '2021-07-23T00:00:00.000000000', '2021-07-24T00:00:00.000000000',\n",
              "        '2021-07-25T00:00:00.000000000', '2021-07-26T00:00:00.000000000',\n",
              "        '2021-07-27T00:00:00.000000000', '2021-07-28T00:00:00.000000000',\n",
              "        '2021-07-29T00:00:00.000000000', '2021-07-30T00:00:00.000000000'],\n",
              "       dtype='datetime64[ns]'),\n",
              " array([29608.59725347, 32014.43603389, 32203.3656377 , 33117.75146222,\n",
              "        34014.618359  , 34574.67066093, 37114.29662368, 38963.92285736,\n",
              "        39917.4493694 , 39810.51797108]))"
            ]
          },
          "metadata": {},
          "execution_count": 150
        }
      ]
    },
    {
      "cell_type": "code",
      "metadata": {
        "colab": {
          "base_uri": "https://localhost:8080/"
        },
        "id": "s4luNYMe7hwc",
        "outputId": "e9b1a476-f413-42b6-a20d-1076090e5bd1"
      },
      "source": [
        "len(prices)"
      ],
      "execution_count": 151,
      "outputs": [
        {
          "output_type": "execute_result",
          "data": {
            "text/plain": [
              "2462"
            ]
          },
          "metadata": {},
          "execution_count": 151
        }
      ]
    },
    {
      "cell_type": "code",
      "metadata": {
        "id": "qmAKGgZ9A0Xk"
      },
      "source": [
        "from sklearn.model_selection import train_test_split"
      ],
      "execution_count": 152,
      "outputs": []
    },
    {
      "cell_type": "code",
      "metadata": {
        "colab": {
          "base_uri": "https://localhost:8080/"
        },
        "id": "so9zP-4_BH-C",
        "outputId": "4755e463-f7f9-456a-c4a2-40cffdc219da"
      },
      "source": [
        "split_size = int(0.8 * len(prices))\n",
        "\n",
        "X_train, y_train = timesteps[:split_size], prices[:split_size]\n",
        "\n",
        "X_test, y_test = timesteps[split_size:], prices[split_size:]\n",
        "\n",
        "len(X_train), len(X_test), len(y_train), len(y_test)"
      ],
      "execution_count": 153,
      "outputs": [
        {
          "output_type": "execute_result",
          "data": {
            "text/plain": [
              "(1969, 493, 1969, 493)"
            ]
          },
          "metadata": {},
          "execution_count": 153
        }
      ]
    },
    {
      "cell_type": "code",
      "metadata": {
        "colab": {
          "base_uri": "https://localhost:8080/",
          "height": 442
        },
        "id": "Py5IgSlJDuS9",
        "outputId": "49c1696a-2f97-402d-f300-677f64cd45a7"
      },
      "source": [
        "plt.figure(figsize=(10,7))\n",
        "plt.scatter(X_train, y_train, s=5, label=\"Train data\")\n",
        "plt.scatter(X_test, y_test, s=5, label=\"Test data\")\n",
        "plt.xlabel(\"Date\")\n",
        "plt.ylabel(\"BTC price\")\n",
        "plt.legend(fontsize=14)\n",
        "plt.show()"
      ],
      "execution_count": 154,
      "outputs": [
        {
          "output_type": "display_data",
          "data": {
            "image/png": "[encoded data removed]",
            "text/plain": [
              "<Figure size 720x504 with 1 Axes>"
            ]
          },
          "metadata": {
            "needs_background": "light"
          }
        }
      ]
    },
    {
      "cell_type": "code",
      "metadata": {
        "id": "1J65POXsEU47"
      },
      "source": [
        "# Create a function to plot time series data\n",
        "def plot_time_series(timesteps, values, format='.', start=0, end=None, label=None):\n",
        "  # Plot the series\n",
        "  plt.plot(timesteps[start:end], values[start:end], format, label=label)\n",
        "  plt.xlabel(\"Time\")\n",
        "  plt.ylabel(\"BTC Price\")\n",
        "  if label:\n",
        "    plt.legend(fontsize=14) # make label bigger\n",
        "  plt.grid(True)"
      ],
      "execution_count": 155,
      "outputs": []
    },
    {
      "cell_type": "code",
      "metadata": {
        "colab": {
          "base_uri": "https://localhost:8080/",
          "height": 442
        },
        "id": "F_EPuiLUFpd5",
        "outputId": "5fb25a54-0586-4282-85cb-6a208cab927e"
      },
      "source": [
        "plt.figure(figsize=(10, 7))\n",
        "plot_time_series(timesteps=X_train, values=y_train, label=\"Train data\")\n",
        "plot_time_series(timesteps=X_test, values=y_test, label=\"Test data\")"
      ],
      "execution_count": 156,
      "outputs": [
        {
          "output_type": "display_data",
          "data": {
            "image/png": "[encoded data removed]",
            "text/plain": [
              "<Figure size 720x504 with 1 Axes>"
            ]
          },
          "metadata": {
            "needs_background": "light"
          }
        }
      ]
    },
    {
      "cell_type": "markdown",
      "metadata": {
        "id": "dtBjQ35wFtzI"
      },
      "source": [
        "### Model 0: Naive Forecast (Baseline)"
      ]
    },
    {
      "cell_type": "code",
      "metadata": {
        "id": "KfL_Z6ltCzHK"
      },
      "source": [
        "naive_forecast = y_test[:-1]"
      ],
      "execution_count": 157,
      "outputs": []
    },
    {
      "cell_type": "code",
      "metadata": {
        "colab": {
          "base_uri": "https://localhost:8080/"
        },
        "id": "YFvVLuGuDLsy",
        "outputId": "622230fc-4a0c-48b3-91a1-17f756006d78"
      },
      "source": [
        "naive_forecast[:10], naive_forecast[-10:]"
      ],
      "execution_count": 158,
      "outputs": [
        {
          "output_type": "execute_result",
          "data": {
            "text/plain": [
              "(array([6784.31801143, 6706.98508913, 6721.49539238, 6682.7800492 ,\n",
              "        6229.48834283, 5922.48983509, 6483.73944553, 6446.42134684,\n",
              "        6537.3364615 , 6850.55871169]),\n",
              " array([30940.28728402, 29608.59725347, 32014.43603389, 32203.3656377 ,\n",
              "        33117.75146222, 34014.618359  , 34574.67066093, 37114.29662368,\n",
              "        38963.92285736, 39917.4493694 ]))"
            ]
          },
          "metadata": {},
          "execution_count": 158
        }
      ]
    },
    {
      "cell_type": "code",
      "metadata": {
        "colab": {
          "base_uri": "https://localhost:8080/"
        },
        "id": "2-Smu7FCDRzJ",
        "outputId": "84cb683b-1cbf-4797-fd19-c20fd32d09e0"
      },
      "source": [
        "y_test[-10:]"
      ],
      "execution_count": 159,
      "outputs": [
        {
          "output_type": "execute_result",
          "data": {
            "text/plain": [
              "array([29608.59725347, 32014.43603389, 32203.3656377 , 33117.75146222,\n",
              "       34014.618359  , 34574.67066093, 37114.29662368, 38963.92285736,\n",
              "       39917.4493694 , 39810.51797108])"
            ]
          },
          "metadata": {},
          "execution_count": 159
        }
      ]
    },
    {
      "cell_type": "code",
      "metadata": {
        "colab": {
          "base_uri": "https://localhost:8080/",
          "height": 446
        },
        "id": "CvXqyQd2Dnl4",
        "outputId": "39795764-85a8-4057-ee65-18154677a0a1"
      },
      "source": [
        "# plot\n",
        "plt.figure(figsize=(10,7))\n",
        "#plot_time_series(X_train, y_train, label=\"Train data\")\n",
        "plot_time_series(X_test, y_test, start=350, format=\"-\" ,label=\"Test data\")\n",
        "plot_time_series(X_test[1:], naive_forecast, start=350, format=\"-\", label=\"Naive Forecast\")"
      ],
      "execution_count": 160,
      "outputs": [
        {
          "output_type": "display_data",
          "data": {
            "image/png": "[encoded data removed]",
            "text/plain": [
              "<Figure size 720x504 with 1 Axes>"
            ]
          },
          "metadata": {
            "needs_background": "light"
          }
        }
      ]
    },
    {
      "cell_type": "code",
      "metadata": {
        "id": "rUX3i7fWEh3v"
      },
      "source": [
        "import tensorflow as tf"
      ],
      "execution_count": 161,
      "outputs": []
    },
    {
      "cell_type": "code",
      "metadata": {
        "id": "KYR4vOGeWdKM"
      },
      "source": [
        "# implementing MASE: Mean Absolute Scaled Error\n",
        "\n",
        "def mean_absolute_scaled_error(y_true, y_pred):\n",
        "\n",
        "  mae = tf.reduce_mean(tf.abs(y_true-y_pred))\n",
        "\n",
        "  mae_naive_no_season = tf.reduce_mean(tf.abs(y_true[1:] - y_true[:-1]))\n",
        "\n",
        "  return mae/mae_naive_no_season"
      ],
      "execution_count": 162,
      "outputs": []
    },
    {
      "cell_type": "code",
      "metadata": {
        "colab": {
          "base_uri": "https://localhost:8080/"
        },
        "id": "t3LfuzZgXtTJ",
        "outputId": "dfceaf4a-56c5-41dc-c468-bb8fda188c01"
      },
      "source": [
        "mean_absolute_scaled_error(y_test[1:], naive_forecast).numpy()"
      ],
      "execution_count": 163,
      "outputs": [
        {
          "output_type": "execute_result",
          "data": {
            "text/plain": [
              "0.9981720899380154"
            ]
          },
          "metadata": {},
          "execution_count": 163
        }
      ]
    },
    {
      "cell_type": "code",
      "metadata": {
        "id": "miDAuYlDXzjY"
      },
      "source": [
        "# evaluation values\n",
        "\n",
        "def evaluate_pred(y_true, y_pred):\n",
        "  y_true = tf.cast(y_true, dtype=tf.float32)\n",
        "  y_pred = tf.cast(y_pred, dtype=tf.float32)\n",
        "\n",
        "  mae = tf.keras.metrics.mean_absolute_error(y_true, y_pred)\n",
        "\n",
        "  mse = tf.keras.metrics.mean_squared_error(y_true, y_pred)\n",
        "\n",
        "  rmse = tf.sqrt(mse)\n",
        "\n",
        "  mape = tf.keras.metrics.mean_absolute_percentage_error(y_true, y_pred)\n",
        "\n",
        "  mase = mean_absolute_scaled_error(y_true, y_pred)\n",
        "\n",
        "  return {\"mae\": mae.numpy(),\n",
        "          \"mse\": mse.numpy(),\n",
        "          \"rmse\": rmse.numpy(),\n",
        "          \"mape\": mape.numpy(),\n",
        "          \"mase\": mase.numpy()}"
      ],
      "execution_count": 164,
      "outputs": []
    },
    {
      "cell_type": "code",
      "metadata": {
        "colab": {
          "base_uri": "https://localhost:8080/"
        },
        "id": "pbWAteE2aCn0",
        "outputId": "cc8197de-5ac7-46aa-cf17-fb34dda2667b"
      },
      "source": [
        "naive_result = evaluate_pred(y_test[1:], naive_forecast)\n",
        "naive_result"
      ],
      "execution_count": 165,
      "outputs": [
        {
          "output_type": "execute_result",
          "data": {
            "text/plain": [
              "{'mae': 766.7916,\n",
              " 'mape': 2.6282535,\n",
              " 'mase': 0.9981721,\n",
              " 'mse': 1660526.2,\n",
              " 'rmse': 1288.6141}"
            ]
          },
          "metadata": {},
          "execution_count": 165
        }
      ]
    },
    {
      "cell_type": "markdown",
      "metadata": {
        "id": "cnYzGq1YaJty"
      },
      "source": [
        "### Formatting Data: Windowing dataset"
      ]
    },
    {
      "cell_type": "code",
      "metadata": {
        "id": "7C4rbd2So8Bi"
      },
      "source": [
        "HORIZON = 1\n",
        "WINDOW_SIZE = 7"
      ],
      "execution_count": 166,
      "outputs": []
    },
    {
      "cell_type": "code",
      "metadata": {
        "colab": {
          "base_uri": "https://localhost:8080/"
        },
        "id": "jNpQAt5cpBEx",
        "outputId": "bf1380de-fed6-49e9-a07e-4280bfed7181"
      },
      "source": [
        "prices[:10]"
      ],
      "execution_count": 167,
      "outputs": [
        {
          "output_type": "execute_result",
          "data": {
            "text/plain": [
              "array([325.22633, 331.60083, 324.71833, 332.45666, 336.585  , 346.775  ,\n",
              "       344.81166, 343.065  , 358.50166, 368.07666])"
            ]
          },
          "metadata": {},
          "execution_count": 167
        }
      ]
    },
    {
      "cell_type": "code",
      "metadata": {
        "id": "iZmeThxopRK_"
      },
      "source": [
        "def get_labelled_windows(x, horizon=HORIZON):\n",
        "\n",
        "  return x[:, :-horizon], x[:, -horizon:]"
      ],
      "execution_count": 168,
      "outputs": []
    },
    {
      "cell_type": "code",
      "metadata": {
        "id": "4Ah8H0ufqq-1"
      },
      "source": [
        "test_window, test_label = get_labelled_windows(tf.expand_dims(tf.range(8), axis=0))"
      ],
      "execution_count": 169,
      "outputs": []
    },
    {
      "cell_type": "code",
      "metadata": {
        "colab": {
          "base_uri": "https://localhost:8080/"
        },
        "id": "b0kQTqwUq8Kb",
        "outputId": "e800f015-ad1b-494e-ecef-d897b7c3b513"
      },
      "source": [
        "tf.squeeze(test_window).numpy()"
      ],
      "execution_count": 170,
      "outputs": [
        {
          "output_type": "execute_result",
          "data": {
            "text/plain": [
              "array([0, 1, 2, 3, 4, 5, 6], dtype=int32)"
            ]
          },
          "metadata": {},
          "execution_count": 170
        }
      ]
    },
    {
      "cell_type": "code",
      "metadata": {
        "colab": {
          "base_uri": "https://localhost:8080/"
        },
        "id": "PFKboHvnq-07",
        "outputId": "c74f2a18-f072-46cb-e812-a2bcd6f44607"
      },
      "source": [
        "tf.squeeze(test_label).numpy()"
      ],
      "execution_count": 171,
      "outputs": [
        {
          "output_type": "execute_result",
          "data": {
            "text/plain": [
              "7"
            ]
          },
          "metadata": {},
          "execution_count": 171
        }
      ]
    },
    {
      "cell_type": "code",
      "metadata": {
        "id": "bFiZJly0wZRv"
      },
      "source": [
        "import numpy as np"
      ],
      "execution_count": 172,
      "outputs": []
    },
    {
      "cell_type": "code",
      "metadata": {
        "id": "ZLCnjqWSr9Ep"
      },
      "source": [
        "# create a function to view Numpy arrays as windows\n",
        "def make_windows(x, window_size=WINDOW_SIZE, horizon=HORIZON):\n",
        "\n",
        "  #1. create a window of specific window_size(add the horizon on the end for labelling later)\n",
        "  window_step = np.expand_dims(np.arange(window_size+horizon), axis=0)\n",
        "\n",
        "  #2. create a 2D array of multiple window steps (minus 1 to account for 0 indexing)\n",
        "  window_indexes = window_step + np.expand_dims(np.arange(len(x) - (window_size+horizon-1)), axis=0).T\n",
        "  #print(f\"{window_indexes, window_indexes.shape}\")\n",
        "\n",
        "  #3. Index on the target array (a time series) with 2D array of multiple window steps\n",
        "  windowed_array = x[window_indexes]\n",
        "  #print(f\"{window_indexes, window_indexes.shape}\")\n",
        "\n",
        "  #4. Get labelled windows\n",
        "  windows, labels = get_labelled_windows(windowed_array, horizon=horizon)\n",
        "\n",
        "  return windows, labels"
      ],
      "execution_count": 173,
      "outputs": []
    },
    {
      "cell_type": "code",
      "metadata": {
        "colab": {
          "base_uri": "https://localhost:8080/"
        },
        "id": "T5emp7LozCEI",
        "outputId": "04f4c360-2456-49b3-cd3f-e05701b3740c"
      },
      "source": [
        "full_windows, full_labels = make_windows(prices)\n",
        "len(full_windows), len(full_labels)"
      ],
      "execution_count": 174,
      "outputs": [
        {
          "output_type": "execute_result",
          "data": {
            "text/plain": [
              "(2455, 2455)"
            ]
          },
          "metadata": {},
          "execution_count": 174
        }
      ]
    },
    {
      "cell_type": "code",
      "metadata": {
        "colab": {
          "base_uri": "https://localhost:8080/"
        },
        "id": "QqspdS0Jzazq",
        "outputId": "ae1f1c38-343b-41c0-ef77-63e8aff0c739"
      },
      "source": [
        "# view 1st 3 windows/labels\n",
        "for i in range(3):\n",
        "  print(f\"Window: {full_windows[i]} --> Label {full_labels[i]}\")"
      ],
      "execution_count": 175,
      "outputs": [
        {
          "output_type": "stream",
          "name": "stdout",
          "text": [
            "Window: [325.22633 331.60083 324.71833 332.45666 336.585   346.775   344.81166] --> Label [343.065]\n",
            "Window: [331.60083 324.71833 332.45666 336.585   346.775   344.81166 343.065  ] --> Label [358.50166]\n",
            "Window: [324.71833 332.45666 336.585   346.775   344.81166 343.065   358.50166] --> Label [368.07666]\n"
          ]
        }
      ]
    },
    {
      "cell_type": "code",
      "metadata": {
        "colab": {
          "base_uri": "https://localhost:8080/"
        },
        "id": "EvDNARYF0IFn",
        "outputId": "fea4e777-7f69-4f76-a136-8b9b0d6ed63a"
      },
      "source": [
        "# view last 3 windows/labels\n",
        "for i in range(3):\n",
        "  print(f\"Window: {full_windows[i-3]} --> Label {full_labels[i-3]}\")"
      ],
      "execution_count": 176,
      "outputs": [
        {
          "output_type": "stream",
          "name": "stdout",
          "text": [
            "Window: [29608.59725347 32014.43603389 32203.3656377  33117.75146222\n",
            " 34014.618359   34574.67066093 37114.29662368] --> Label [38963.92285736]\n",
            "Window: [32014.43603389 32203.3656377  33117.75146222 34014.618359\n",
            " 34574.67066093 37114.29662368 38963.92285736] --> Label [39917.4493694]\n",
            "Window: [32203.3656377  33117.75146222 34014.618359   34574.67066093\n",
            " 37114.29662368 38963.92285736 39917.4493694 ] --> Label [39810.51797108]\n"
          ]
        }
      ]
    },
    {
      "cell_type": "code",
      "metadata": {
        "colab": {
          "base_uri": "https://localhost:8080/"
        },
        "id": "lO8E0-1P0ceF",
        "outputId": "380f2a3b-cf15-4e90-a7f1-f394319db56c"
      },
      "source": [
        "prices[-1]"
      ],
      "execution_count": 177,
      "outputs": [
        {
          "output_type": "execute_result",
          "data": {
            "text/plain": [
              "39810.5179710787"
            ]
          },
          "metadata": {},
          "execution_count": 177
        }
      ]
    },
    {
      "cell_type": "markdown",
      "metadata": {
        "id": "elRNbi_x0hlU"
      },
      "source": [
        "### Turining windows into training and test sets"
      ]
    },
    {
      "cell_type": "code",
      "metadata": {
        "id": "BJ9pH3FW22wP"
      },
      "source": [
        "def make_train_test_split(windows, labels, test_split=0.2):\n",
        " \n",
        "  splits_size = int(len(windows) * (1-test_split))\n",
        "  train_windows = windows[:split_size]\n",
        "  train_labels = labels[:split_size]\n",
        "  test_windows = windows[split_size:]\n",
        "  test_labels = labels[split_size:]\n",
        "  return train_windows, test_windows, train_labels, test_labels"
      ],
      "execution_count": 178,
      "outputs": []
    },
    {
      "cell_type": "code",
      "metadata": {
        "id": "iqF0bulL3sgd"
      },
      "source": [
        "train_windows, test_windows, train_labels, test_labels = make_train_test_split(full_windows, full_labels)"
      ],
      "execution_count": 179,
      "outputs": []
    },
    {
      "cell_type": "code",
      "metadata": {
        "colab": {
          "base_uri": "https://localhost:8080/"
        },
        "id": "3Txitp_U4V3L",
        "outputId": "81e19bcf-c00e-44f8-c8fc-f9b6eadd9ef8"
      },
      "source": [
        "len(train_windows), len(test_windows), len(train_labels), len(test_labels)"
      ],
      "execution_count": 180,
      "outputs": [
        {
          "output_type": "execute_result",
          "data": {
            "text/plain": [
              "(1969, 486, 1969, 486)"
            ]
          },
          "metadata": {},
          "execution_count": 180
        }
      ]
    },
    {
      "cell_type": "code",
      "metadata": {
        "colab": {
          "base_uri": "https://localhost:8080/"
        },
        "id": "3zWRYy0q6U9n",
        "outputId": "6def4ae2-6614-4423-e62f-aab2b17b33ae"
      },
      "source": [
        "train_windows[:5], train_labels[:5]"
      ],
      "execution_count": 181,
      "outputs": [
        {
          "output_type": "execute_result",
          "data": {
            "text/plain": [
              "(array([[325.22633, 331.60083, 324.71833, 332.45666, 336.585  , 346.775  ,\n",
              "         344.81166],\n",
              "        [331.60083, 324.71833, 332.45666, 336.585  , 346.775  , 344.81166,\n",
              "         343.065  ],\n",
              "        [324.71833, 332.45666, 336.585  , 346.775  , 344.81166, 343.065  ,\n",
              "         358.50166],\n",
              "        [332.45666, 336.585  , 346.775  , 344.81166, 343.065  , 358.50166,\n",
              "         368.07666],\n",
              "        [336.585  , 346.775  , 344.81166, 343.065  , 358.50166, 368.07666,\n",
              "         376.99666]]), array([[343.065  ],\n",
              "        [358.50166],\n",
              "        [368.07666],\n",
              "        [376.99666],\n",
              "        [442.10666]]))"
            ]
          },
          "metadata": {},
          "execution_count": 181
        }
      ]
    },
    {
      "cell_type": "code",
      "metadata": {
        "colab": {
          "base_uri": "https://localhost:8080/"
        },
        "id": "548EPcrB6ei2",
        "outputId": "ab1eb172-e7c4-4277-a692-c5e9f3f9b8c0"
      },
      "source": [
        "np.array_equal(np.squeeze(train_labels[:-HORIZON-1]), y_train[WINDOW_SIZE:])"
      ],
      "execution_count": 182,
      "outputs": [
        {
          "output_type": "execute_result",
          "data": {
            "text/plain": [
              "False"
            ]
          },
          "metadata": {},
          "execution_count": 182
        }
      ]
    },
    {
      "cell_type": "code",
      "metadata": {
        "colab": {
          "base_uri": "https://localhost:8080/"
        },
        "id": "t8R9uEfH8yyi",
        "outputId": "9a7863f4-192e-46ec-d382-ed87d2d767a8"
      },
      "source": [
        "len(train_labels[:-HORIZON-1]), len(y_train[WINDOW_SIZE:])"
      ],
      "execution_count": 183,
      "outputs": [
        {
          "output_type": "execute_result",
          "data": {
            "text/plain": [
              "(1967, 1962)"
            ]
          },
          "metadata": {},
          "execution_count": 183
        }
      ]
    },
    {
      "cell_type": "markdown",
      "metadata": {
        "id": "pzKKBH8N7HTl"
      },
      "source": [
        "### Make modelling checkpoint"
      ]
    },
    {
      "cell_type": "code",
      "metadata": {
        "id": "FL1HGfwf76b0"
      },
      "source": [
        "import os\n",
        "\n",
        "# Function to implement a Modelcheckpoint with a specific filename\n",
        "\n",
        "def create_model_checkpoint(model_name, save_path=\"model_experiments\"):\n",
        "  return tf.keras.callbacks.ModelCheckpoint(filepath=os.path.join(save_path, model_name),\n",
        "                                            verbose=0,\n",
        "                                            save_best_only=True)"
      ],
      "execution_count": 184,
      "outputs": []
    },
    {
      "cell_type": "code",
      "metadata": {
        "colab": {
          "base_uri": "https://localhost:8080/",
          "height": 35
        },
        "id": "O3u3Hqt_sAmh",
        "outputId": "c5aae088-cc18-4ea8-95ec-f300120b5d44"
      },
      "source": [
        "os.getcwd()"
      ],
      "execution_count": 185,
      "outputs": [
        {
          "output_type": "execute_result",
          "data": {
            "application/vnd.google.colaboratory.intrinsic+json": {
              "type": "string"
            },
            "text/plain": [
              "'/content/drive/MyDrive/Tensorflow'"
            ]
          },
          "metadata": {},
          "execution_count": 185
        }
      ]
    },
    {
      "cell_type": "markdown",
      "metadata": {
        "id": "WCOO5GcnsNWf"
      },
      "source": [
        "### Model 1: Dense Model (window=7, horizon=1)"
      ]
    },
    {
      "cell_type": "code",
      "metadata": {
        "colab": {
          "base_uri": "https://localhost:8080/"
        },
        "id": "xyKQiQzVsw1O",
        "outputId": "8862a40e-d46a-4104-88ac-ab68c8552125"
      },
      "source": [
        "# set random seed\n",
        "tf.random.set_seed(42)\n",
        "\n",
        "#1. construct model\n",
        "model_1 = tf.keras.Sequential([\n",
        "                               tf.keras.layers.Dense(128, activation=\"relu\"),\n",
        "                               tf.keras.layers.Dense(HORIZON, activation=\"linear\")\n",
        "],name=\"model_1_dense\")\n",
        "\n",
        "#2. Compile the model\n",
        "model_1.compile(loss=\"mae\",\n",
        "                optimizer=tf.keras.optimizers.Adam(),\n",
        "                metrics=[\"mae\", \"mse\"])\n",
        "\n",
        "#3.Fit the model\n",
        "history_1 = model_1.fit(train_windows,\n",
        "                        train_labels,\n",
        "                        epochs=100,\n",
        "                        verbose=1,\n",
        "                        batch_size=128,\n",
        "                        validation_data=(test_windows, test_labels),\n",
        "                        callbacks=[create_model_checkpoint(model_name=model_1.name)])\n"
      ],
      "execution_count": 186,
      "outputs": [
        {
          "output_type": "stream",
          "name": "stdout",
          "text": [
            "Epoch 1/100\n",
            " 1/16 [>.............................] - ETA: 6s - loss: 2301.8364 - mae: 2301.8364 - mse: 11071037.0000INFO:tensorflow:Assets written to: model_experiments/model_1_dense/assets\n"
          ]
        },
        {
          "output_type": "stream",
          "name": "stderr",
          "text": [
            "INFO:tensorflow:Assets written to: model_experiments/model_1_dense/assets\n"
          ]
        },
        {
          "output_type": "stream",
          "name": "stdout",
          "text": [
            "16/16 [==============================] - 1s 53ms/step - loss: 1032.8871 - mae: 1032.8871 - mse: 3229557.2500 - val_loss: 3140.8562 - val_mae: 3140.8562 - val_mse: 20273508.0000\n",
            "Epoch 2/100\n",
            " 1/16 [>.............................] - ETA: 0s - loss: 509.4172 - mae: 509.4172 - mse: 714162.7500INFO:tensorflow:Assets written to: model_experiments/model_1_dense/assets\n"
          ]
        },
        {
          "output_type": "stream",
          "name": "stderr",
          "text": [
            "INFO:tensorflow:Assets written to: model_experiments/model_1_dense/assets\n"
          ]
        },
        {
          "output_type": "stream",
          "name": "stdout",
          "text": [
            "16/16 [==============================] - 1s 42ms/step - loss: 351.4597 - mae: 351.4597 - mse: 394944.9375 - val_loss: 1664.2784 - val_mae: 1664.2784 - val_mse: 6150904.0000\n",
            "Epoch 3/100\n",
            " 1/16 [>.............................] - ETA: 0s - loss: 247.2664 - mae: 247.2664 - mse: 191027.8750INFO:tensorflow:Assets written to: model_experiments/model_1_dense/assets\n"
          ]
        },
        {
          "output_type": "stream",
          "name": "stderr",
          "text": [
            "INFO:tensorflow:Assets written to: model_experiments/model_1_dense/assets\n"
          ]
        },
        {
          "output_type": "stream",
          "name": "stdout",
          "text": [
            "16/16 [==============================] - 1s 43ms/step - loss: 241.4506 - mae: 241.4506 - mse: 235117.1406 - val_loss: 1541.5391 - val_mae: 1541.5391 - val_mse: 5382165.5000\n",
            "Epoch 4/100\n",
            " 1/16 [>.............................] - ETA: 0s - loss: 206.9273 - mae: 206.9273 - mse: 169508.0156INFO:tensorflow:Assets written to: model_experiments/model_1_dense/assets\n"
          ]
        },
        {
          "output_type": "stream",
          "name": "stderr",
          "text": [
            "INFO:tensorflow:Assets written to: model_experiments/model_1_dense/assets\n"
          ]
        },
        {
          "output_type": "stream",
          "name": "stdout",
          "text": [
            "16/16 [==============================] - 1s 49ms/step - loss: 222.5931 - mae: 222.5931 - mse: 210323.5000 - val_loss: 1364.6715 - val_mae: 1364.6715 - val_mse: 4591108.5000\n",
            "Epoch 5/100\n",
            " 1/16 [>.............................] - ETA: 0s - loss: 234.9257 - mae: 234.9257 - mse: 206263.0625INFO:tensorflow:Assets written to: model_experiments/model_1_dense/assets\n"
          ]
        },
        {
          "output_type": "stream",
          "name": "stderr",
          "text": [
            "INFO:tensorflow:Assets written to: model_experiments/model_1_dense/assets\n"
          ]
        },
        {
          "output_type": "stream",
          "name": "stdout",
          "text": [
            "16/16 [==============================] - 1s 46ms/step - loss: 211.6067 - mae: 211.6067 - mse: 193107.8281 - val_loss: 1275.9647 - val_mae: 1275.9647 - val_mse: 4290351.0000\n",
            "Epoch 6/100\n",
            " 1/16 [>.............................] - ETA: 0s - loss: 149.2388 - mae: 149.2388 - mse: 118260.0703INFO:tensorflow:Assets written to: model_experiments/model_1_dense/assets\n"
          ]
        },
        {
          "output_type": "stream",
          "name": "stderr",
          "text": [
            "INFO:tensorflow:Assets written to: model_experiments/model_1_dense/assets\n"
          ]
        },
        {
          "output_type": "stream",
          "name": "stdout",
          "text": [
            "16/16 [==============================] - 1s 47ms/step - loss: 210.0855 - mae: 210.0855 - mse: 190344.0156 - val_loss: 1244.6528 - val_mae: 1244.6528 - val_mse: 4229033.5000\n",
            "Epoch 7/100\n",
            " 1/16 [>.............................] - ETA: 0s - loss: 256.6895 - mae: 256.6895 - mse: 318959.6875INFO:tensorflow:Assets written to: model_experiments/model_1_dense/assets\n"
          ]
        },
        {
          "output_type": "stream",
          "name": "stderr",
          "text": [
            "INFO:tensorflow:Assets written to: model_experiments/model_1_dense/assets\n"
          ]
        },
        {
          "output_type": "stream",
          "name": "stdout",
          "text": [
            "16/16 [==============================] - 1s 46ms/step - loss: 202.6106 - mae: 202.6106 - mse: 179367.4062 - val_loss: 1208.5098 - val_mae: 1208.5098 - val_mse: 3856331.0000\n",
            "Epoch 8/100\n",
            " 1/16 [>.............................] - ETA: 0s - loss: 197.3291 - mae: 197.3291 - mse: 230791.5938INFO:tensorflow:Assets written to: model_experiments/model_1_dense/assets\n"
          ]
        },
        {
          "output_type": "stream",
          "name": "stderr",
          "text": [
            "INFO:tensorflow:Assets written to: model_experiments/model_1_dense/assets\n"
          ]
        },
        {
          "output_type": "stream",
          "name": "stdout",
          "text": [
            "16/16 [==============================] - 1s 45ms/step - loss: 193.5853 - mae: 193.5853 - mse: 165153.0312 - val_loss: 1180.5002 - val_mae: 1180.5002 - val_mse: 3567681.5000\n",
            "Epoch 9/100\n",
            " 1/16 [>.............................] - ETA: 0s - loss: 202.5970 - mae: 202.5970 - mse: 173851.5312INFO:tensorflow:Assets written to: model_experiments/model_1_dense/assets\n"
          ]
        },
        {
          "output_type": "stream",
          "name": "stderr",
          "text": [
            "INFO:tensorflow:Assets written to: model_experiments/model_1_dense/assets\n"
          ]
        },
        {
          "output_type": "stream",
          "name": "stdout",
          "text": [
            "16/16 [==============================] - 1s 45ms/step - loss: 187.5148 - mae: 187.5148 - mse: 157143.4688 - val_loss: 1158.8799 - val_mae: 1158.8799 - val_mse: 3376000.7500\n",
            "Epoch 10/100\n",
            " 1/16 [>.............................] - ETA: 0s - loss: 269.1226 - mae: 269.1226 - mse: 287417.1875INFO:tensorflow:Assets written to: model_experiments/model_1_dense/assets\n"
          ]
        },
        {
          "output_type": "stream",
          "name": "stderr",
          "text": [
            "INFO:tensorflow:Assets written to: model_experiments/model_1_dense/assets\n"
          ]
        },
        {
          "output_type": "stream",
          "name": "stdout",
          "text": [
            "16/16 [==============================] - 1s 44ms/step - loss: 183.8510 - mae: 183.8510 - mse: 150207.2344 - val_loss: 1115.7688 - val_mae: 1115.7688 - val_mse: 3187277.2500\n",
            "Epoch 11/100\n",
            "16/16 [==============================] - 0s 4ms/step - loss: 180.3753 - mae: 180.3753 - mse: 145800.9062 - val_loss: 1216.5732 - val_mae: 1216.5732 - val_mse: 3377517.5000\n",
            "Epoch 12/100\n",
            " 1/16 [>.............................] - ETA: 0s - loss: 220.1067 - mae: 220.1067 - mse: 161681.4688INFO:tensorflow:Assets written to: model_experiments/model_1_dense/assets\n"
          ]
        },
        {
          "output_type": "stream",
          "name": "stderr",
          "text": [
            "INFO:tensorflow:Assets written to: model_experiments/model_1_dense/assets\n"
          ]
        },
        {
          "output_type": "stream",
          "name": "stdout",
          "text": [
            "16/16 [==============================] - 1s 45ms/step - loss: 180.5310 - mae: 180.5310 - mse: 143815.7188 - val_loss: 1068.3212 - val_mae: 1068.3212 - val_mse: 2920267.5000\n",
            "Epoch 13/100\n",
            " 1/16 [>.............................] - ETA: 0s - loss: 176.3135 - mae: 176.3135 - mse: 130319.7344INFO:tensorflow:Assets written to: model_experiments/model_1_dense/assets\n"
          ]
        },
        {
          "output_type": "stream",
          "name": "stderr",
          "text": [
            "INFO:tensorflow:Assets written to: model_experiments/model_1_dense/assets\n"
          ]
        },
        {
          "output_type": "stream",
          "name": "stdout",
          "text": [
            "16/16 [==============================] - 1s 42ms/step - loss: 172.1990 - mae: 172.1990 - mse: 133957.5312 - val_loss: 1047.2976 - val_mae: 1047.2976 - val_mse: 2804620.0000\n",
            "Epoch 14/100\n",
            " 1/16 [>.............................] - ETA: 0s - loss: 135.9319 - mae: 135.9319 - mse: 103396.3750INFO:tensorflow:Assets written to: model_experiments/model_1_dense/assets\n"
          ]
        },
        {
          "output_type": "stream",
          "name": "stderr",
          "text": [
            "INFO:tensorflow:Assets written to: model_experiments/model_1_dense/assets\n"
          ]
        },
        {
          "output_type": "stream",
          "name": "stdout",
          "text": [
            "16/16 [==============================] - 1s 44ms/step - loss: 168.7647 - mae: 168.7647 - mse: 129164.1641 - val_loss: 1040.2698 - val_mae: 1040.2698 - val_mse: 2710291.5000\n",
            "Epoch 15/100\n",
            " 1/16 [>.............................] - ETA: 0s - loss: 137.1435 - mae: 137.1435 - mse: 82533.7188INFO:tensorflow:Assets written to: model_experiments/model_1_dense/assets\n"
          ]
        },
        {
          "output_type": "stream",
          "name": "stderr",
          "text": [
            "INFO:tensorflow:Assets written to: model_experiments/model_1_dense/assets\n"
          ]
        },
        {
          "output_type": "stream",
          "name": "stdout",
          "text": [
            "16/16 [==============================] - 1s 45ms/step - loss: 166.2012 - mae: 166.2012 - mse: 126267.9688 - val_loss: 1006.4968 - val_mae: 1006.4968 - val_mse: 2576775.2500\n",
            "Epoch 16/100\n",
            " 1/16 [>.............................] - ETA: 0s - loss: 222.3281 - mae: 222.3281 - mse: 184141.6875INFO:tensorflow:Assets written to: model_experiments/model_1_dense/assets\n"
          ]
        },
        {
          "output_type": "stream",
          "name": "stderr",
          "text": [
            "INFO:tensorflow:Assets written to: model_experiments/model_1_dense/assets\n"
          ]
        },
        {
          "output_type": "stream",
          "name": "stdout",
          "text": [
            "16/16 [==============================] - 1s 44ms/step - loss: 163.1069 - mae: 163.1069 - mse: 121766.9531 - val_loss: 985.7628 - val_mae: 985.7628 - val_mse: 2551765.2500\n",
            "Epoch 17/100\n",
            " 1/16 [>.............................] - ETA: 0s - loss: 140.4662 - mae: 140.4662 - mse: 84515.2266INFO:tensorflow:Assets written to: model_experiments/model_1_dense/assets\n"
          ]
        },
        {
          "output_type": "stream",
          "name": "stderr",
          "text": [
            "INFO:tensorflow:Assets written to: model_experiments/model_1_dense/assets\n"
          ]
        },
        {
          "output_type": "stream",
          "name": "stdout",
          "text": [
            "16/16 [==============================] - 1s 45ms/step - loss: 161.1544 - mae: 161.1544 - mse: 117245.5938 - val_loss: 973.5729 - val_mae: 973.5729 - val_mse: 2402676.5000\n",
            "Epoch 18/100\n",
            "16/16 [==============================] - 0s 4ms/step - loss: 159.9366 - mae: 159.9366 - mse: 116329.2812 - val_loss: 980.7292 - val_mae: 980.7292 - val_mse: 2384201.7500\n",
            "Epoch 19/100\n",
            " 1/16 [>.............................] - ETA: 0s - loss: 124.3622 - mae: 124.3622 - mse: 71167.5781INFO:tensorflow:Assets written to: model_experiments/model_1_dense/assets\n"
          ]
        },
        {
          "output_type": "stream",
          "name": "stderr",
          "text": [
            "INFO:tensorflow:Assets written to: model_experiments/model_1_dense/assets\n"
          ]
        },
        {
          "output_type": "stream",
          "name": "stdout",
          "text": [
            "16/16 [==============================] - 1s 42ms/step - loss: 162.2513 - mae: 162.2513 - mse: 119326.3828 - val_loss: 962.8463 - val_mae: 962.8463 - val_mse: 2451280.0000\n",
            "Epoch 20/100\n",
            " 1/16 [>.............................] - ETA: 0s - loss: 152.1717 - mae: 152.1717 - mse: 105939.1641INFO:tensorflow:Assets written to: model_experiments/model_1_dense/assets\n"
          ]
        },
        {
          "output_type": "stream",
          "name": "stderr",
          "text": [
            "INFO:tensorflow:Assets written to: model_experiments/model_1_dense/assets\n"
          ]
        },
        {
          "output_type": "stream",
          "name": "stdout",
          "text": [
            "16/16 [==============================] - 1s 46ms/step - loss: 158.8437 - mae: 158.8437 - mse: 115683.6328 - val_loss: 936.0085 - val_mae: 936.0085 - val_mse: 2246607.2500\n",
            "Epoch 21/100\n",
            " 1/16 [>.............................] - ETA: 0s - loss: 159.9890 - mae: 159.9890 - mse: 110513.2266INFO:tensorflow:Assets written to: model_experiments/model_1_dense/assets\n"
          ]
        },
        {
          "output_type": "stream",
          "name": "stderr",
          "text": [
            "INFO:tensorflow:Assets written to: model_experiments/model_1_dense/assets\n"
          ]
        },
        {
          "output_type": "stream",
          "name": "stdout",
          "text": [
            "16/16 [==============================] - 1s 67ms/step - loss: 155.3251 - mae: 155.3251 - mse: 109879.5781 - val_loss: 924.8110 - val_mae: 924.8110 - val_mse: 2202735.0000\n",
            "Epoch 22/100\n",
            " 1/16 [>.............................] - ETA: 0s - loss: 174.3616 - mae: 174.3616 - mse: 114874.3281INFO:tensorflow:Assets written to: model_experiments/model_1_dense/assets\n"
          ]
        },
        {
          "output_type": "stream",
          "name": "stderr",
          "text": [
            "INFO:tensorflow:Assets written to: model_experiments/model_1_dense/assets\n"
          ]
        },
        {
          "output_type": "stream",
          "name": "stdout",
          "text": [
            "16/16 [==============================] - 1s 45ms/step - loss: 157.2904 - mae: 157.2904 - mse: 110384.6562 - val_loss: 923.8629 - val_mae: 923.8629 - val_mse: 2265462.5000\n",
            "Epoch 23/100\n",
            "16/16 [==============================] - 0s 3ms/step - loss: 156.1037 - mae: 156.1037 - mse: 108788.1250 - val_loss: 937.4535 - val_mae: 937.4535 - val_mse: 2324877.7500\n",
            "Epoch 24/100\n",
            "16/16 [==============================] - 0s 3ms/step - loss: 153.9103 - mae: 153.9103 - mse: 106931.5859 - val_loss: 1039.6965 - val_mae: 1039.6965 - val_mse: 2771009.5000\n",
            "Epoch 25/100\n",
            " 1/16 [>.............................] - ETA: 0s - loss: 195.3960 - mae: 195.3960 - mse: 162318.8438INFO:tensorflow:Assets written to: model_experiments/model_1_dense/assets\n"
          ]
        },
        {
          "output_type": "stream",
          "name": "stderr",
          "text": [
            "INFO:tensorflow:Assets written to: model_experiments/model_1_dense/assets\n"
          ]
        },
        {
          "output_type": "stream",
          "name": "stdout",
          "text": [
            "16/16 [==============================] - 1s 48ms/step - loss: 163.4660 - mae: 163.4660 - mse: 115572.8047 - val_loss: 904.0978 - val_mae: 904.0978 - val_mse: 2183198.5000\n",
            "Epoch 26/100\n",
            " 1/16 [>.............................] - ETA: 0s - loss: 159.2774 - mae: 159.2774 - mse: 113660.2812INFO:tensorflow:Assets written to: model_experiments/model_1_dense/assets\n"
          ]
        },
        {
          "output_type": "stream",
          "name": "stderr",
          "text": [
            "INFO:tensorflow:Assets written to: model_experiments/model_1_dense/assets\n"
          ]
        },
        {
          "output_type": "stream",
          "name": "stdout",
          "text": [
            "16/16 [==============================] - 1s 45ms/step - loss: 149.0410 - mae: 149.0410 - mse: 103397.0781 - val_loss: 899.8920 - val_mae: 899.8920 - val_mse: 2072556.0000\n",
            "Epoch 27/100\n",
            " 1/16 [>.............................] - ETA: 0s - loss: 143.7080 - mae: 143.7080 - mse: 91600.6641INFO:tensorflow:Assets written to: model_experiments/model_1_dense/assets\n"
          ]
        },
        {
          "output_type": "stream",
          "name": "stderr",
          "text": [
            "INFO:tensorflow:Assets written to: model_experiments/model_1_dense/assets\n"
          ]
        },
        {
          "output_type": "stream",
          "name": "stdout",
          "text": [
            "16/16 [==============================] - 1s 45ms/step - loss: 147.7359 - mae: 147.7359 - mse: 102492.3438 - val_loss: 887.4896 - val_mae: 887.4896 - val_mse: 2039347.6250\n",
            "Epoch 28/100\n",
            "16/16 [==============================] - 0s 4ms/step - loss: 144.5267 - mae: 144.5267 - mse: 99501.1875 - val_loss: 937.5548 - val_mae: 937.5548 - val_mse: 2157091.7500\n",
            "Epoch 29/100\n",
            "16/16 [==============================] - 0s 4ms/step - loss: 149.3656 - mae: 149.3656 - mse: 101287.8750 - val_loss: 977.0312 - val_mae: 977.0312 - val_mse: 2278048.2500\n",
            "Epoch 30/100\n",
            "16/16 [==============================] - 0s 5ms/step - loss: 154.9521 - mae: 154.9521 - mse: 109153.7031 - val_loss: 944.4395 - val_mae: 944.4395 - val_mse: 2173180.2500\n",
            "Epoch 31/100\n",
            " 1/16 [>.............................] - ETA: 0s - loss: 147.0652 - mae: 147.0652 - mse: 85450.5469INFO:tensorflow:Assets written to: model_experiments/model_1_dense/assets\n"
          ]
        },
        {
          "output_type": "stream",
          "name": "stderr",
          "text": [
            "INFO:tensorflow:Assets written to: model_experiments/model_1_dense/assets\n"
          ]
        },
        {
          "output_type": "stream",
          "name": "stdout",
          "text": [
            "16/16 [==============================] - 1s 43ms/step - loss: 145.7323 - mae: 145.7323 - mse: 99192.5078 - val_loss: 884.9972 - val_mae: 884.9972 - val_mse: 2005892.5000\n",
            "Epoch 32/100\n",
            " 1/16 [>.............................] - ETA: 0s - loss: 141.4395 - mae: 141.4395 - mse: 92960.9531INFO:tensorflow:Assets written to: model_experiments/model_1_dense/assets\n"
          ]
        },
        {
          "output_type": "stream",
          "name": "stderr",
          "text": [
            "INFO:tensorflow:Assets written to: model_experiments/model_1_dense/assets\n"
          ]
        },
        {
          "output_type": "stream",
          "name": "stdout",
          "text": [
            "16/16 [==============================] - 1s 44ms/step - loss: 143.4305 - mae: 143.4305 - mse: 98579.7422 - val_loss: 859.6455 - val_mae: 859.6455 - val_mse: 1986932.6250\n",
            "Epoch 33/100\n",
            " 1/16 [>.............................] - ETA: 0s - loss: 163.3127 - mae: 163.3127 - mse: 110308.5625INFO:tensorflow:Assets written to: model_experiments/model_1_dense/assets\n"
          ]
        },
        {
          "output_type": "stream",
          "name": "stderr",
          "text": [
            "INFO:tensorflow:Assets written to: model_experiments/model_1_dense/assets\n"
          ]
        },
        {
          "output_type": "stream",
          "name": "stdout",
          "text": [
            "16/16 [==============================] - 1s 43ms/step - loss: 144.4794 - mae: 144.4794 - mse: 99546.4609 - val_loss: 855.9361 - val_mae: 855.9361 - val_mse: 1971653.8750\n",
            "Epoch 34/100\n",
            "16/16 [==============================] - 0s 3ms/step - loss: 145.7489 - mae: 145.7489 - mse: 98749.9141 - val_loss: 888.7703 - val_mae: 888.7703 - val_mse: 2005434.5000\n",
            "Epoch 35/100\n",
            " 1/16 [>.............................] - ETA: 0s - loss: 157.9901 - mae: 157.9901 - mse: 133933.6875INFO:tensorflow:Assets written to: model_experiments/model_1_dense/assets\n"
          ]
        },
        {
          "output_type": "stream",
          "name": "stderr",
          "text": [
            "INFO:tensorflow:Assets written to: model_experiments/model_1_dense/assets\n"
          ]
        },
        {
          "output_type": "stream",
          "name": "stdout",
          "text": [
            "16/16 [==============================] - 1s 43ms/step - loss: 145.7463 - mae: 145.7463 - mse: 99112.2734 - val_loss: 852.2140 - val_mae: 852.2140 - val_mse: 1918776.6250\n",
            "Epoch 36/100\n",
            "16/16 [==============================] - 0s 4ms/step - loss: 141.4846 - mae: 141.4846 - mse: 97366.9141 - val_loss: 862.0698 - val_mae: 862.0698 - val_mse: 1998364.1250\n",
            "Epoch 37/100\n",
            " 1/16 [>.............................] - ETA: 0s - loss: 148.2617 - mae: 148.2617 - mse: 70746.0000INFO:tensorflow:Assets written to: model_experiments/model_1_dense/assets\n"
          ]
        },
        {
          "output_type": "stream",
          "name": "stderr",
          "text": [
            "INFO:tensorflow:Assets written to: model_experiments/model_1_dense/assets\n"
          ]
        },
        {
          "output_type": "stream",
          "name": "stdout",
          "text": [
            "16/16 [==============================] - 1s 45ms/step - loss: 145.5778 - mae: 145.5778 - mse: 99493.7422 - val_loss: 839.3591 - val_mae: 839.3591 - val_mse: 1898357.2500\n",
            "Epoch 38/100\n",
            "16/16 [==============================] - 0s 3ms/step - loss: 149.1893 - mae: 149.1893 - mse: 101795.3125 - val_loss: 928.7697 - val_mae: 928.7697 - val_mse: 2113188.5000\n",
            "Epoch 39/100\n",
            " 1/16 [>.............................] - ETA: 0s - loss: 119.6289 - mae: 119.6289 - mse: 57417.5547INFO:tensorflow:Assets written to: model_experiments/model_1_dense/assets\n"
          ]
        },
        {
          "output_type": "stream",
          "name": "stderr",
          "text": [
            "INFO:tensorflow:Assets written to: model_experiments/model_1_dense/assets\n"
          ]
        },
        {
          "output_type": "stream",
          "name": "stdout",
          "text": [
            "16/16 [==============================] - 1s 45ms/step - loss: 146.5056 - mae: 146.5056 - mse: 98500.3984 - val_loss: 835.1110 - val_mae: 835.1110 - val_mse: 1877097.3750\n",
            "Epoch 40/100\n",
            " 1/16 [>.............................] - ETA: 0s - loss: 106.9254 - mae: 106.9254 - mse: 53715.7344INFO:tensorflow:Assets written to: model_experiments/model_1_dense/assets\n"
          ]
        },
        {
          "output_type": "stream",
          "name": "stderr",
          "text": [
            "INFO:tensorflow:Assets written to: model_experiments/model_1_dense/assets\n"
          ]
        },
        {
          "output_type": "stream",
          "name": "stdout",
          "text": [
            "16/16 [==============================] - 1s 46ms/step - loss: 141.5099 - mae: 141.5099 - mse: 95604.1328 - val_loss: 833.1370 - val_mae: 833.1370 - val_mse: 1868164.5000\n",
            "Epoch 41/100\n",
            "16/16 [==============================] - 0s 4ms/step - loss: 140.0921 - mae: 140.0921 - mse: 94498.2656 - val_loss: 845.3928 - val_mae: 845.3928 - val_mse: 1880102.2500\n",
            "Epoch 42/100\n",
            " 1/16 [>.............................] - ETA: 0s - loss: 164.3537 - mae: 164.3537 - mse: 130041.5312INFO:tensorflow:Assets written to: model_experiments/model_1_dense/assets\n"
          ]
        },
        {
          "output_type": "stream",
          "name": "stderr",
          "text": [
            "INFO:tensorflow:Assets written to: model_experiments/model_1_dense/assets\n"
          ]
        },
        {
          "output_type": "stream",
          "name": "stdout",
          "text": [
            "16/16 [==============================] - 1s 43ms/step - loss: 138.2833 - mae: 138.2833 - mse: 92622.9062 - val_loss: 826.9249 - val_mae: 826.9249 - val_mse: 1852407.6250\n",
            "Epoch 43/100\n",
            "16/16 [==============================] - 0s 4ms/step - loss: 138.2925 - mae: 138.2925 - mse: 93407.1172 - val_loss: 847.6710 - val_mae: 847.6710 - val_mse: 1936527.5000\n",
            "Epoch 44/100\n",
            "16/16 [==============================] - 0s 5ms/step - loss: 142.3690 - mae: 142.3690 - mse: 94410.8203 - val_loss: 829.5346 - val_mae: 829.5346 - val_mse: 1841291.6250\n",
            "Epoch 45/100\n",
            "16/16 [==============================] - 0s 4ms/step - loss: 138.0014 - mae: 138.0014 - mse: 92653.8594 - val_loss: 879.7257 - val_mae: 879.7257 - val_mse: 1955510.2500\n",
            "Epoch 46/100\n",
            "16/16 [==============================] - 0s 3ms/step - loss: 138.4547 - mae: 138.4547 - mse: 92250.6094 - val_loss: 833.3894 - val_mae: 833.3894 - val_mse: 1885843.5000\n",
            "Epoch 47/100\n",
            " 1/16 [>.............................] - ETA: 0s - loss: 129.3562 - mae: 129.3562 - mse: 65447.1406INFO:tensorflow:Assets written to: model_experiments/model_1_dense/assets\n"
          ]
        },
        {
          "output_type": "stream",
          "name": "stderr",
          "text": [
            "INFO:tensorflow:Assets written to: model_experiments/model_1_dense/assets\n"
          ]
        },
        {
          "output_type": "stream",
          "name": "stdout",
          "text": [
            "16/16 [==============================] - 1s 43ms/step - loss: 138.3948 - mae: 138.3948 - mse: 92413.1094 - val_loss: 815.9078 - val_mae: 815.9078 - val_mse: 1811669.0000\n",
            "Epoch 48/100\n",
            "16/16 [==============================] - 0s 4ms/step - loss: 137.3776 - mae: 137.3776 - mse: 91977.0625 - val_loss: 826.3243 - val_mae: 826.3243 - val_mse: 1822595.1250\n",
            "Epoch 49/100\n",
            "16/16 [==============================] - 0s 4ms/step - loss: 138.3587 - mae: 138.3587 - mse: 90923.7734 - val_loss: 865.0447 - val_mae: 865.0447 - val_mse: 1909271.0000\n",
            "Epoch 50/100\n",
            "16/16 [==============================] - 0s 4ms/step - loss: 139.6008 - mae: 139.6008 - mse: 91846.0234 - val_loss: 817.1131 - val_mae: 817.1131 - val_mse: 1832380.3750\n",
            "Epoch 51/100\n",
            "16/16 [==============================] - 0s 4ms/step - loss: 141.0456 - mae: 141.0456 - mse: 91873.6797 - val_loss: 834.8843 - val_mae: 834.8843 - val_mse: 1884621.1250\n",
            "Epoch 52/100\n",
            "16/16 [==============================] - 0s 3ms/step - loss: 142.3547 - mae: 142.3547 - mse: 94698.6641 - val_loss: 823.4514 - val_mae: 823.4514 - val_mse: 1810154.3750\n",
            "Epoch 53/100\n",
            " 1/16 [>.............................] - ETA: 0s - loss: 152.6182 - mae: 152.6182 - mse: 117686.9609INFO:tensorflow:Assets written to: model_experiments/model_1_dense/assets\n"
          ]
        },
        {
          "output_type": "stream",
          "name": "stderr",
          "text": [
            "INFO:tensorflow:Assets written to: model_experiments/model_1_dense/assets\n"
          ]
        },
        {
          "output_type": "stream",
          "name": "stdout",
          "text": [
            "16/16 [==============================] - 1s 45ms/step - loss: 139.6477 - mae: 139.6477 - mse: 93177.4844 - val_loss: 803.5254 - val_mae: 803.5254 - val_mse: 1788008.8750\n",
            "Epoch 54/100\n",
            "16/16 [==============================] - 0s 4ms/step - loss: 134.9893 - mae: 134.9893 - mse: 89600.0000 - val_loss: 991.3262 - val_mae: 991.3262 - val_mse: 2426316.7500\n",
            "Epoch 55/100\n",
            " 1/16 [>.............................] - ETA: 0s - loss: 178.0212 - mae: 178.0212 - mse: 110238.8594INFO:tensorflow:Assets written to: model_experiments/model_1_dense/assets\n"
          ]
        },
        {
          "output_type": "stream",
          "name": "stderr",
          "text": [
            "INFO:tensorflow:Assets written to: model_experiments/model_1_dense/assets\n"
          ]
        },
        {
          "output_type": "stream",
          "name": "stdout",
          "text": [
            "16/16 [==============================] - 1s 42ms/step - loss: 142.8886 - mae: 142.8886 - mse: 93439.1406 - val_loss: 802.3965 - val_mae: 802.3965 - val_mse: 1771465.6250\n",
            "Epoch 56/100\n",
            "16/16 [==============================] - 0s 3ms/step - loss: 138.3439 - mae: 138.3439 - mse: 88976.3906 - val_loss: 807.6014 - val_mae: 807.6014 - val_mse: 1801450.3750\n",
            "Epoch 57/100\n",
            "16/16 [==============================] - 0s 4ms/step - loss: 135.3309 - mae: 135.3309 - mse: 89256.4922 - val_loss: 915.3425 - val_mae: 915.3425 - val_mse: 2128595.0000\n",
            "Epoch 58/100\n",
            "16/16 [==============================] - 0s 4ms/step - loss: 147.6825 - mae: 147.6825 - mse: 96860.2656 - val_loss: 889.8040 - val_mae: 889.8040 - val_mse: 2037924.3750\n",
            "Epoch 59/100\n",
            "16/16 [==============================] - 0s 3ms/step - loss: 142.7408 - mae: 142.7408 - mse: 93788.7031 - val_loss: 835.5764 - val_mae: 835.5764 - val_mse: 1875838.3750\n",
            "Epoch 60/100\n",
            "16/16 [==============================] - 0s 3ms/step - loss: 138.5095 - mae: 138.5095 - mse: 90756.3828 - val_loss: 838.1911 - val_mae: 838.1911 - val_mse: 1832619.0000\n",
            "Epoch 61/100\n",
            " 1/16 [>.............................] - ETA: 0s - loss: 141.0266 - mae: 141.0266 - mse: 84692.1953INFO:tensorflow:Assets written to: model_experiments/model_1_dense/assets\n"
          ]
        },
        {
          "output_type": "stream",
          "name": "stderr",
          "text": [
            "INFO:tensorflow:Assets written to: model_experiments/model_1_dense/assets\n"
          ]
        },
        {
          "output_type": "stream",
          "name": "stdout",
          "text": [
            "16/16 [==============================] - 1s 46ms/step - loss: 137.3216 - mae: 137.3216 - mse: 89936.3750 - val_loss: 795.4156 - val_mae: 795.4156 - val_mse: 1763307.5000\n",
            "Epoch 62/100\n",
            " 1/16 [>.............................] - ETA: 0s - loss: 140.1223 - mae: 140.1223 - mse: 107664.0312INFO:tensorflow:Assets written to: model_experiments/model_1_dense/assets\n"
          ]
        },
        {
          "output_type": "stream",
          "name": "stderr",
          "text": [
            "INFO:tensorflow:Assets written to: model_experiments/model_1_dense/assets\n"
          ]
        },
        {
          "output_type": "stream",
          "name": "stdout",
          "text": [
            "16/16 [==============================] - 1s 45ms/step - loss: 134.8388 - mae: 134.8388 - mse: 90291.7188 - val_loss: 792.7587 - val_mae: 792.7587 - val_mse: 1755547.1250\n",
            "Epoch 63/100\n",
            "16/16 [==============================] - 0s 3ms/step - loss: 136.3613 - mae: 136.3613 - mse: 90437.0078 - val_loss: 853.0699 - val_mae: 853.0699 - val_mse: 1864406.8750\n",
            "Epoch 64/100\n",
            "16/16 [==============================] - 0s 4ms/step - loss: 141.1513 - mae: 141.1513 - mse: 91789.8203 - val_loss: 806.1766 - val_mae: 806.1766 - val_mse: 1763690.8750\n",
            "Epoch 65/100\n",
            " 1/16 [>.............................] - ETA: 0s - loss: 132.5745 - mae: 132.5745 - mse: 93599.3281INFO:tensorflow:Assets written to: model_experiments/model_1_dense/assets\n"
          ]
        },
        {
          "output_type": "stream",
          "name": "stderr",
          "text": [
            "INFO:tensorflow:Assets written to: model_experiments/model_1_dense/assets\n"
          ]
        },
        {
          "output_type": "stream",
          "name": "stdout",
          "text": [
            "16/16 [==============================] - 1s 43ms/step - loss: 133.5073 - mae: 133.5073 - mse: 88170.8281 - val_loss: 791.3454 - val_mae: 791.3454 - val_mse: 1740952.0000\n",
            "Epoch 66/100\n",
            "16/16 [==============================] - 0s 4ms/step - loss: 132.8781 - mae: 132.8781 - mse: 87388.7109 - val_loss: 794.2551 - val_mae: 794.2551 - val_mse: 1742641.3750\n",
            "Epoch 67/100\n",
            " 1/16 [>.............................] - ETA: 0s - loss: 118.4975 - mae: 118.4975 - mse: 55073.5195INFO:tensorflow:Assets written to: model_experiments/model_1_dense/assets\n"
          ]
        },
        {
          "output_type": "stream",
          "name": "stderr",
          "text": [
            "INFO:tensorflow:Assets written to: model_experiments/model_1_dense/assets\n"
          ]
        },
        {
          "output_type": "stream",
          "name": "stdout",
          "text": [
            "16/16 [==============================] - 1s 47ms/step - loss: 133.7434 - mae: 133.7434 - mse: 87837.1250 - val_loss: 789.2407 - val_mae: 789.2407 - val_mse: 1746684.0000\n",
            "Epoch 68/100\n",
            "16/16 [==============================] - 0s 3ms/step - loss: 143.4148 - mae: 143.4148 - mse: 92804.3359 - val_loss: 805.5637 - val_mae: 805.5637 - val_mse: 1791140.1250\n",
            "Epoch 69/100\n",
            "16/16 [==============================] - 0s 3ms/step - loss: 133.9799 - mae: 133.9799 - mse: 87487.4297 - val_loss: 800.4972 - val_mae: 800.4972 - val_mse: 1750302.2500\n",
            "Epoch 70/100\n",
            " 1/16 [>.............................] - ETA: 0s - loss: 129.1688 - mae: 129.1688 - mse: 69640.3281INFO:tensorflow:Assets written to: model_experiments/model_1_dense/assets\n"
          ]
        },
        {
          "output_type": "stream",
          "name": "stderr",
          "text": [
            "INFO:tensorflow:Assets written to: model_experiments/model_1_dense/assets\n"
          ]
        },
        {
          "output_type": "stream",
          "name": "stdout",
          "text": [
            "16/16 [==============================] - 1s 43ms/step - loss: 134.2558 - mae: 134.2558 - mse: 87516.4062 - val_loss: 787.2278 - val_mae: 787.2278 - val_mse: 1733910.3750\n",
            "Epoch 71/100\n",
            "16/16 [==============================] - 0s 4ms/step - loss: 132.4837 - mae: 132.4837 - mse: 86552.9688 - val_loss: 789.5493 - val_mae: 789.5493 - val_mse: 1748970.3750\n",
            "Epoch 72/100\n",
            "16/16 [==============================] - 0s 3ms/step - loss: 136.3186 - mae: 136.3186 - mse: 88365.8828 - val_loss: 790.3834 - val_mae: 790.3834 - val_mse: 1751783.5000\n",
            "Epoch 73/100\n",
            "16/16 [==============================] - 0s 4ms/step - loss: 134.7349 - mae: 134.7349 - mse: 87562.0000 - val_loss: 850.8448 - val_mae: 850.8448 - val_mse: 1855010.2500\n",
            "Epoch 74/100\n",
            "16/16 [==============================] - 0s 4ms/step - loss: 133.1693 - mae: 133.1693 - mse: 86890.5625 - val_loss: 887.8121 - val_mae: 887.8121 - val_mse: 1946039.0000\n",
            "Epoch 75/100\n",
            "16/16 [==============================] - 0s 4ms/step - loss: 137.9084 - mae: 137.9084 - mse: 88607.4688 - val_loss: 826.8475 - val_mae: 826.8475 - val_mse: 1797879.8750\n",
            "Epoch 76/100\n",
            "16/16 [==============================] - 0s 4ms/step - loss: 132.7579 - mae: 132.7579 - mse: 87071.8125 - val_loss: 840.6690 - val_mae: 840.6690 - val_mse: 1882138.6250\n",
            "Epoch 77/100\n",
            " 1/16 [>.............................] - ETA: 0s - loss: 179.5513 - mae: 179.5513 - mse: 161541.0156INFO:tensorflow:Assets written to: model_experiments/model_1_dense/assets\n"
          ]
        },
        {
          "output_type": "stream",
          "name": "stderr",
          "text": [
            "INFO:tensorflow:Assets written to: model_experiments/model_1_dense/assets\n"
          ]
        },
        {
          "output_type": "stream",
          "name": "stdout",
          "text": [
            "16/16 [==============================] - 1s 45ms/step - loss: 133.8362 - mae: 133.8362 - mse: 88757.8672 - val_loss: 784.8715 - val_mae: 784.8715 - val_mse: 1720949.0000\n",
            "Epoch 78/100\n",
            "16/16 [==============================] - 0s 3ms/step - loss: 133.5860 - mae: 133.5860 - mse: 86667.5312 - val_loss: 831.1951 - val_mae: 831.1951 - val_mse: 1807137.1250\n",
            "Epoch 79/100\n",
            "16/16 [==============================] - 0s 3ms/step - loss: 133.8132 - mae: 133.8132 - mse: 87369.0625 - val_loss: 841.1603 - val_mae: 841.1603 - val_mse: 1884546.8750\n",
            "Epoch 80/100\n",
            " 1/16 [>.............................] - ETA: 0s - loss: 145.7866 - mae: 145.7866 - mse: 86333.9062INFO:tensorflow:Assets written to: model_experiments/model_1_dense/assets\n"
          ]
        },
        {
          "output_type": "stream",
          "name": "stderr",
          "text": [
            "INFO:tensorflow:Assets written to: model_experiments/model_1_dense/assets\n"
          ]
        },
        {
          "output_type": "stream",
          "name": "stdout",
          "text": [
            "16/16 [==============================] - 1s 67ms/step - loss: 137.2893 - mae: 137.2893 - mse: 89552.4062 - val_loss: 784.3696 - val_mae: 784.3696 - val_mse: 1717470.8750\n",
            "Epoch 81/100\n",
            "16/16 [==============================] - 0s 4ms/step - loss: 135.5404 - mae: 135.5404 - mse: 88076.2969 - val_loss: 816.1312 - val_mae: 816.1312 - val_mse: 1814523.2500\n",
            "Epoch 82/100\n",
            "16/16 [==============================] - 0s 4ms/step - loss: 146.6078 - mae: 146.6078 - mse: 97534.1094 - val_loss: 940.3641 - val_mae: 940.3641 - val_mse: 2207245.7500\n",
            "Epoch 83/100\n",
            " 1/16 [>.............................] - ETA: 0s - loss: 157.5388 - mae: 157.5388 - mse: 144353.7969INFO:tensorflow:Assets written to: model_experiments/model_1_dense/assets\n"
          ]
        },
        {
          "output_type": "stream",
          "name": "stderr",
          "text": [
            "INFO:tensorflow:Assets written to: model_experiments/model_1_dense/assets\n"
          ]
        },
        {
          "output_type": "stream",
          "name": "stdout",
          "text": [
            "16/16 [==============================] - 1s 46ms/step - loss: 141.7420 - mae: 141.7420 - mse: 92542.9375 - val_loss: 782.9375 - val_mae: 782.9375 - val_mse: 1713029.0000\n",
            "Epoch 84/100\n",
            "16/16 [==============================] - 0s 4ms/step - loss: 132.7134 - mae: 132.7134 - mse: 86282.7734 - val_loss: 844.3607 - val_mae: 844.3607 - val_mse: 1836442.6250\n",
            "Epoch 85/100\n",
            " 1/16 [>.............................] - ETA: 0s - loss: 138.0824 - mae: 138.0824 - mse: 91592.5312INFO:tensorflow:Assets written to: model_experiments/model_1_dense/assets\n"
          ]
        },
        {
          "output_type": "stream",
          "name": "stderr",
          "text": [
            "INFO:tensorflow:Assets written to: model_experiments/model_1_dense/assets\n"
          ]
        },
        {
          "output_type": "stream",
          "name": "stdout",
          "text": [
            "16/16 [==============================] - 1s 45ms/step - loss: 133.8907 - mae: 133.8907 - mse: 87014.0234 - val_loss: 780.0975 - val_mae: 780.0975 - val_mse: 1709718.5000\n",
            "Epoch 86/100\n",
            "16/16 [==============================] - 0s 4ms/step - loss: 130.9746 - mae: 130.9746 - mse: 85656.7656 - val_loss: 835.2051 - val_mae: 835.2051 - val_mse: 1863463.6250\n",
            "Epoch 87/100\n",
            "16/16 [==============================] - 0s 4ms/step - loss: 135.3176 - mae: 135.3176 - mse: 88925.3516 - val_loss: 808.5755 - val_mae: 808.5755 - val_mse: 1794615.0000\n",
            "Epoch 88/100\n",
            " 1/16 [>.............................] - ETA: 0s - loss: 129.0064 - mae: 129.0064 - mse: 78769.2656INFO:tensorflow:Assets written to: model_experiments/model_1_dense/assets\n"
          ]
        },
        {
          "output_type": "stream",
          "name": "stderr",
          "text": [
            "INFO:tensorflow:Assets written to: model_experiments/model_1_dense/assets\n"
          ]
        },
        {
          "output_type": "stream",
          "name": "stdout",
          "text": [
            "16/16 [==============================] - 1s 45ms/step - loss: 135.4424 - mae: 135.4424 - mse: 86823.3281 - val_loss: 777.1447 - val_mae: 777.1447 - val_mse: 1708545.6250\n",
            "Epoch 89/100\n",
            "16/16 [==============================] - 0s 4ms/step - loss: 133.9549 - mae: 133.9549 - mse: 87783.0625 - val_loss: 810.3855 - val_mae: 810.3855 - val_mse: 1758859.3750\n",
            "Epoch 90/100\n",
            " 1/16 [>.............................] - ETA: 0s - loss: 131.6919 - mae: 131.6919 - mse: 118677.1094INFO:tensorflow:Assets written to: model_experiments/model_1_dense/assets\n"
          ]
        },
        {
          "output_type": "stream",
          "name": "stderr",
          "text": [
            "INFO:tensorflow:Assets written to: model_experiments/model_1_dense/assets\n"
          ]
        },
        {
          "output_type": "stream",
          "name": "stdout",
          "text": [
            "16/16 [==============================] - 1s 45ms/step - loss: 132.8404 - mae: 132.8404 - mse: 86315.7422 - val_loss: 776.6529 - val_mae: 776.6529 - val_mse: 1705817.7500\n",
            "Epoch 91/100\n",
            "16/16 [==============================] - 0s 5ms/step - loss: 132.7588 - mae: 132.7588 - mse: 87373.0000 - val_loss: 780.4913 - val_mae: 780.4913 - val_mse: 1706202.5000\n",
            "Epoch 92/100\n",
            "16/16 [==============================] - 0s 3ms/step - loss: 132.4175 - mae: 132.4175 - mse: 86010.4219 - val_loss: 776.7550 - val_mae: 776.7550 - val_mse: 1708466.1250\n",
            "Epoch 93/100\n",
            "16/16 [==============================] - 0s 4ms/step - loss: 130.4014 - mae: 130.4014 - mse: 85492.1719 - val_loss: 791.0267 - val_mae: 791.0267 - val_mse: 1721151.1250\n",
            "Epoch 94/100\n",
            "16/16 [==============================] - 0s 4ms/step - loss: 131.1177 - mae: 131.1177 - mse: 86258.5078 - val_loss: 815.5356 - val_mae: 815.5356 - val_mse: 1769819.8750\n",
            "Epoch 95/100\n",
            "16/16 [==============================] - 0s 4ms/step - loss: 134.1306 - mae: 134.1306 - mse: 85191.8203 - val_loss: 778.9985 - val_mae: 778.9985 - val_mse: 1716243.1250\n",
            "Epoch 96/100\n",
            "16/16 [==============================] - 0s 4ms/step - loss: 143.3331 - mae: 143.3331 - mse: 92471.4297 - val_loss: 856.2154 - val_mae: 856.2154 - val_mse: 1923459.0000\n",
            "Epoch 97/100\n",
            "16/16 [==============================] - 0s 4ms/step - loss: 136.3276 - mae: 136.3276 - mse: 89383.4219 - val_loss: 806.2154 - val_mae: 806.2154 - val_mse: 1748427.6250\n",
            "Epoch 98/100\n",
            "16/16 [==============================] - 0s 4ms/step - loss: 132.9931 - mae: 132.9931 - mse: 86023.5703 - val_loss: 798.2040 - val_mae: 798.2040 - val_mse: 1731486.2500\n",
            "Epoch 99/100\n",
            "16/16 [==============================] - 0s 3ms/step - loss: 132.4178 - mae: 132.4178 - mse: 86050.7812 - val_loss: 778.4742 - val_mae: 778.4742 - val_mse: 1700685.1250\n",
            "Epoch 100/100\n",
            "16/16 [==============================] - 0s 5ms/step - loss: 130.8179 - mae: 130.8179 - mse: 84683.8203 - val_loss: 777.1994 - val_mae: 777.1994 - val_mse: 1699917.7500\n"
          ]
        }
      ]
    },
    {
      "cell_type": "code",
      "metadata": {
        "colab": {
          "base_uri": "https://localhost:8080/"
        },
        "id": "Y_mJjS1J4L0F",
        "outputId": "76cd7fd6-a4af-4c32-bce8-537a2d60e9d2"
      },
      "source": [
        "model_1.evaluate(test_windows,test_labels)"
      ],
      "execution_count": 187,
      "outputs": [
        {
          "output_type": "stream",
          "name": "stdout",
          "text": [
            "16/16 [==============================] - 0s 1ms/step - loss: 777.1995 - mae: 777.1995 - mse: 1699917.8750\n"
          ]
        },
        {
          "output_type": "execute_result",
          "data": {
            "text/plain": [
              "[777.199462890625, 777.199462890625, 1699917.875]"
            ]
          },
          "metadata": {},
          "execution_count": 187
        }
      ]
    },
    {
      "cell_type": "code",
      "metadata": {
        "colab": {
          "base_uri": "https://localhost:8080/"
        },
        "id": "vQKjjqIN5FMi",
        "outputId": "f4ab4f4c-40ca-41fe-96e1-97893a131f2b"
      },
      "source": [
        "# load saved best model\n",
        "model_1 = tf.keras.models.load_model(\"model_experiments/model_1_dense/\")\n",
        "model_1.evaluate(test_windows,test_labels)"
      ],
      "execution_count": 188,
      "outputs": [
        {
          "output_type": "stream",
          "name": "stdout",
          "text": [
            "16/16 [==============================] - 0s 1ms/step - loss: 776.6528 - mae: 776.6528 - mse: 1705818.0000\n"
          ]
        },
        {
          "output_type": "execute_result",
          "data": {
            "text/plain": [
              "[776.6527709960938, 776.6527709960938, 1705818.0]"
            ]
          },
          "metadata": {},
          "execution_count": 188
        }
      ]
    },
    {
      "cell_type": "markdown",
      "metadata": {
        "id": "VeO6iUJE6_y9"
      },
      "source": [
        "### Making forecasting with a model"
      ]
    },
    {
      "cell_type": "code",
      "metadata": {
        "id": "rQr-1U7a771c"
      },
      "source": [
        "def make_preds(model, input_data):\n",
        "  forecast = model.predict(input_data)\n",
        "  return tf.squeeze(forecast)"
      ],
      "execution_count": 189,
      "outputs": []
    },
    {
      "cell_type": "code",
      "metadata": {
        "id": "Hacff_-D8IN7"
      },
      "source": [
        "model_1_preds = make_preds(model_1, test_windows)"
      ],
      "execution_count": 190,
      "outputs": []
    },
    {
      "cell_type": "code",
      "metadata": {
        "colab": {
          "base_uri": "https://localhost:8080/"
        },
        "id": "JpxVX5ui8X-Z",
        "outputId": "ca3ca0da-ab0a-48cb-9df8-da82d579b3ac"
      },
      "source": [
        "len(model_1_preds)"
      ],
      "execution_count": 191,
      "outputs": [
        {
          "output_type": "execute_result",
          "data": {
            "text/plain": [
              "486"
            ]
          },
          "metadata": {},
          "execution_count": 191
        }
      ]
    },
    {
      "cell_type": "code",
      "metadata": {
        "colab": {
          "base_uri": "https://localhost:8080/"
        },
        "id": "12SvcACR9PxR",
        "outputId": "e22be4a5-bb1b-44eb-9cb7-e5abada30699"
      },
      "source": [
        "test_labels.shape, model_1_preds.shape"
      ],
      "execution_count": 192,
      "outputs": [
        {
          "output_type": "execute_result",
          "data": {
            "text/plain": [
              "((486, 1), TensorShape([486]))"
            ]
          },
          "metadata": {},
          "execution_count": 192
        }
      ]
    },
    {
      "cell_type": "code",
      "metadata": {
        "colab": {
          "base_uri": "https://localhost:8080/"
        },
        "id": "4VnIQ7Ut8Z4Z",
        "outputId": "7f8af015-80ed-4d4e-ab7b-6c476366c34a"
      },
      "source": [
        "model_1_results = evaluate_pred(y_true=tf.squeeze(test_labels), \n",
        "                                y_pred=model_1_preds)\n",
        "model_1_results"
      ],
      "execution_count": 193,
      "outputs": [
        {
          "output_type": "execute_result",
          "data": {
            "text/plain": [
              "{'mae': 776.65283,\n",
              " 'mape': 2.626138,\n",
              " 'mase': 1.0024073,\n",
              " 'mse': 1705817.8,\n",
              " 'rmse': 1306.0696}"
            ]
          },
          "metadata": {},
          "execution_count": 193
        }
      ]
    },
    {
      "cell_type": "code",
      "metadata": {
        "colab": {
          "base_uri": "https://localhost:8080/"
        },
        "id": "inxKICzu8msp",
        "outputId": "7b5e765e-d191-484e-e3ea-8904422e981e"
      },
      "source": [
        "naive_result"
      ],
      "execution_count": 194,
      "outputs": [
        {
          "output_type": "execute_result",
          "data": {
            "text/plain": [
              "{'mae': 766.7916,\n",
              " 'mape': 2.6282535,\n",
              " 'mase': 0.9981721,\n",
              " 'mse': 1660526.2,\n",
              " 'rmse': 1288.6141}"
            ]
          },
          "metadata": {},
          "execution_count": 194
        }
      ]
    },
    {
      "cell_type": "code",
      "metadata": {
        "colab": {
          "base_uri": "https://localhost:8080/",
          "height": 445
        },
        "id": "n2dj0c4t9c9G",
        "outputId": "45ab46d1-d1d7-4544-bec5-3e71a9397b15"
      },
      "source": [
        "#plot prediction\n",
        "offset = 350\n",
        "plt.figure(figsize=(10,7))\n",
        "plot_time_series(timesteps=X_test[-len(test_windows):], \n",
        "                 values=test_labels[:, 0], \n",
        "                 start=offset,\n",
        "                 label=\"Test Data\")\n",
        "plot_time_series(timesteps=X_test[-len(test_windows):], \n",
        "                 values=model_1_preds, \n",
        "                 start=offset,\n",
        "                 format=\"-\",\n",
        "                 label=\"Model_1_preds\")"
      ],
      "execution_count": 195,
      "outputs": [
        {
          "output_type": "display_data",
          "data": {
            "image/png": "[encoded data removed]",
            "text/plain": [
              "<Figure size 720x504 with 1 Axes>"
            ]
          },
          "metadata": {
            "needs_background": "light"
          }
        }
      ]
    },
    {
      "cell_type": "markdown",
      "metadata": {
        "id": "mIrFBpMY-PBu"
      },
      "source": [
        "### Model 2: Dense (window=30, horizon=1)"
      ]
    },
    {
      "cell_type": "code",
      "metadata": {
        "id": "i2rUWvw6_mU7"
      },
      "source": [
        "HORIZON = 1 \n",
        "WINDOW_SIZE = 30"
      ],
      "execution_count": 196,
      "outputs": []
    },
    {
      "cell_type": "code",
      "metadata": {
        "colab": {
          "base_uri": "https://localhost:8080/"
        },
        "id": "hVACOflz_DVT",
        "outputId": "8d6d8483-cab0-4226-f6a7-db82122b2764"
      },
      "source": [
        "full_windows, full_labels = make_windows(prices, window_size=WINDOW_SIZE, horizon=HORIZON)\n",
        "len(full_windows), len(full_labels)"
      ],
      "execution_count": 197,
      "outputs": [
        {
          "output_type": "execute_result",
          "data": {
            "text/plain": [
              "(2432, 2432)"
            ]
          },
          "metadata": {},
          "execution_count": 197
        }
      ]
    },
    {
      "cell_type": "code",
      "metadata": {
        "colab": {
          "base_uri": "https://localhost:8080/"
        },
        "id": "5omJHIUS_cDb",
        "outputId": "c2f1b2b2-392d-4fbc-d309-873e31106f82"
      },
      "source": [
        "train_windows, test_windows, train_labels, test_labels = make_train_test_split(full_windows, full_labels)\n",
        "len(train_windows), len(test_windows), len(train_labels), len(test_labels)"
      ],
      "execution_count": 198,
      "outputs": [
        {
          "output_type": "execute_result",
          "data": {
            "text/plain": [
              "(1969, 463, 1969, 463)"
            ]
          },
          "metadata": {},
          "execution_count": 198
        }
      ]
    },
    {
      "cell_type": "code",
      "metadata": {
        "colab": {
          "base_uri": "https://localhost:8080/"
        },
        "id": "HZTyZNYb_hjK",
        "outputId": "74c247d5-6a3e-4b2d-c2f5-b43b84e5c86d"
      },
      "source": [
        "# Model 2\n",
        "# set random seed\n",
        "tf.random.set_seed(42)\n",
        "\n",
        "#1. construct model\n",
        "model_2 = tf.keras.Sequential([\n",
        "                               tf.keras.layers.Dense(128, activation=\"relu\"),\n",
        "                               tf.keras.layers.Dense(HORIZON, activation=\"linear\")\n",
        "],name=\"model_2_dense\")\n",
        "\n",
        "#2. Compile the model\n",
        "model_2.compile(loss=\"mae\",\n",
        "                optimizer=tf.keras.optimizers.Adam(),\n",
        "                metrics=[\"mae\", \"mse\"])\n",
        "\n",
        "#3.Fit the model\n",
        "history_2 = model_2.fit(train_windows,\n",
        "                        train_labels,\n",
        "                        epochs=100,\n",
        "                        verbose=0,\n",
        "                        batch_size=128,\n",
        "                        validation_data=(test_windows, test_labels),\n",
        "                        callbacks=[create_model_checkpoint(model_name=model_2.name)])"
      ],
      "execution_count": 199,
      "outputs": [
        {
          "output_type": "stream",
          "name": "stdout",
          "text": [
            "INFO:tensorflow:Assets written to: model_experiments/model_2_dense/assets\n"
          ]
        },
        {
          "output_type": "stream",
          "name": "stderr",
          "text": [
            "INFO:tensorflow:Assets written to: model_experiments/model_2_dense/assets\n"
          ]
        },
        {
          "output_type": "stream",
          "name": "stdout",
          "text": [
            "INFO:tensorflow:Assets written to: model_experiments/model_2_dense/assets\n"
          ]
        },
        {
          "output_type": "stream",
          "name": "stderr",
          "text": [
            "INFO:tensorflow:Assets written to: model_experiments/model_2_dense/assets\n"
          ]
        },
        {
          "output_type": "stream",
          "name": "stdout",
          "text": [
            "INFO:tensorflow:Assets written to: model_experiments/model_2_dense/assets\n"
          ]
        },
        {
          "output_type": "stream",
          "name": "stderr",
          "text": [
            "INFO:tensorflow:Assets written to: model_experiments/model_2_dense/assets\n"
          ]
        },
        {
          "output_type": "stream",
          "name": "stdout",
          "text": [
            "INFO:tensorflow:Assets written to: model_experiments/model_2_dense/assets\n"
          ]
        },
        {
          "output_type": "stream",
          "name": "stderr",
          "text": [
            "INFO:tensorflow:Assets written to: model_experiments/model_2_dense/assets\n"
          ]
        },
        {
          "output_type": "stream",
          "name": "stdout",
          "text": [
            "INFO:tensorflow:Assets written to: model_experiments/model_2_dense/assets\n"
          ]
        },
        {
          "output_type": "stream",
          "name": "stderr",
          "text": [
            "INFO:tensorflow:Assets written to: model_experiments/model_2_dense/assets\n"
          ]
        },
        {
          "output_type": "stream",
          "name": "stdout",
          "text": [
            "INFO:tensorflow:Assets written to: model_experiments/model_2_dense/assets\n"
          ]
        },
        {
          "output_type": "stream",
          "name": "stderr",
          "text": [
            "INFO:tensorflow:Assets written to: model_experiments/model_2_dense/assets\n"
          ]
        },
        {
          "output_type": "stream",
          "name": "stdout",
          "text": [
            "INFO:tensorflow:Assets written to: model_experiments/model_2_dense/assets\n"
          ]
        },
        {
          "output_type": "stream",
          "name": "stderr",
          "text": [
            "INFO:tensorflow:Assets written to: model_experiments/model_2_dense/assets\n"
          ]
        },
        {
          "output_type": "stream",
          "name": "stdout",
          "text": [
            "INFO:tensorflow:Assets written to: model_experiments/model_2_dense/assets\n"
          ]
        },
        {
          "output_type": "stream",
          "name": "stderr",
          "text": [
            "INFO:tensorflow:Assets written to: model_experiments/model_2_dense/assets\n"
          ]
        },
        {
          "output_type": "stream",
          "name": "stdout",
          "text": [
            "INFO:tensorflow:Assets written to: model_experiments/model_2_dense/assets\n"
          ]
        },
        {
          "output_type": "stream",
          "name": "stderr",
          "text": [
            "INFO:tensorflow:Assets written to: model_experiments/model_2_dense/assets\n"
          ]
        },
        {
          "output_type": "stream",
          "name": "stdout",
          "text": [
            "INFO:tensorflow:Assets written to: model_experiments/model_2_dense/assets\n"
          ]
        },
        {
          "output_type": "stream",
          "name": "stderr",
          "text": [
            "INFO:tensorflow:Assets written to: model_experiments/model_2_dense/assets\n"
          ]
        },
        {
          "output_type": "stream",
          "name": "stdout",
          "text": [
            "INFO:tensorflow:Assets written to: model_experiments/model_2_dense/assets\n"
          ]
        },
        {
          "output_type": "stream",
          "name": "stderr",
          "text": [
            "INFO:tensorflow:Assets written to: model_experiments/model_2_dense/assets\n"
          ]
        },
        {
          "output_type": "stream",
          "name": "stdout",
          "text": [
            "INFO:tensorflow:Assets written to: model_experiments/model_2_dense/assets\n"
          ]
        },
        {
          "output_type": "stream",
          "name": "stderr",
          "text": [
            "INFO:tensorflow:Assets written to: model_experiments/model_2_dense/assets\n"
          ]
        },
        {
          "output_type": "stream",
          "name": "stdout",
          "text": [
            "INFO:tensorflow:Assets written to: model_experiments/model_2_dense/assets\n"
          ]
        },
        {
          "output_type": "stream",
          "name": "stderr",
          "text": [
            "INFO:tensorflow:Assets written to: model_experiments/model_2_dense/assets\n"
          ]
        },
        {
          "output_type": "stream",
          "name": "stdout",
          "text": [
            "INFO:tensorflow:Assets written to: model_experiments/model_2_dense/assets\n"
          ]
        },
        {
          "output_type": "stream",
          "name": "stderr",
          "text": [
            "INFO:tensorflow:Assets written to: model_experiments/model_2_dense/assets\n"
          ]
        },
        {
          "output_type": "stream",
          "name": "stdout",
          "text": [
            "INFO:tensorflow:Assets written to: model_experiments/model_2_dense/assets\n"
          ]
        },
        {
          "output_type": "stream",
          "name": "stderr",
          "text": [
            "INFO:tensorflow:Assets written to: model_experiments/model_2_dense/assets\n"
          ]
        },
        {
          "output_type": "stream",
          "name": "stdout",
          "text": [
            "INFO:tensorflow:Assets written to: model_experiments/model_2_dense/assets\n"
          ]
        },
        {
          "output_type": "stream",
          "name": "stderr",
          "text": [
            "INFO:tensorflow:Assets written to: model_experiments/model_2_dense/assets\n"
          ]
        },
        {
          "output_type": "stream",
          "name": "stdout",
          "text": [
            "INFO:tensorflow:Assets written to: model_experiments/model_2_dense/assets\n"
          ]
        },
        {
          "output_type": "stream",
          "name": "stderr",
          "text": [
            "INFO:tensorflow:Assets written to: model_experiments/model_2_dense/assets\n"
          ]
        },
        {
          "output_type": "stream",
          "name": "stdout",
          "text": [
            "INFO:tensorflow:Assets written to: model_experiments/model_2_dense/assets\n"
          ]
        },
        {
          "output_type": "stream",
          "name": "stderr",
          "text": [
            "INFO:tensorflow:Assets written to: model_experiments/model_2_dense/assets\n"
          ]
        },
        {
          "output_type": "stream",
          "name": "stdout",
          "text": [
            "INFO:tensorflow:Assets written to: model_experiments/model_2_dense/assets\n"
          ]
        },
        {
          "output_type": "stream",
          "name": "stderr",
          "text": [
            "INFO:tensorflow:Assets written to: model_experiments/model_2_dense/assets\n"
          ]
        },
        {
          "output_type": "stream",
          "name": "stdout",
          "text": [
            "INFO:tensorflow:Assets written to: model_experiments/model_2_dense/assets\n"
          ]
        },
        {
          "output_type": "stream",
          "name": "stderr",
          "text": [
            "INFO:tensorflow:Assets written to: model_experiments/model_2_dense/assets\n"
          ]
        },
        {
          "output_type": "stream",
          "name": "stdout",
          "text": [
            "INFO:tensorflow:Assets written to: model_experiments/model_2_dense/assets\n"
          ]
        },
        {
          "output_type": "stream",
          "name": "stderr",
          "text": [
            "INFO:tensorflow:Assets written to: model_experiments/model_2_dense/assets\n"
          ]
        },
        {
          "output_type": "stream",
          "name": "stdout",
          "text": [
            "INFO:tensorflow:Assets written to: model_experiments/model_2_dense/assets\n"
          ]
        },
        {
          "output_type": "stream",
          "name": "stderr",
          "text": [
            "INFO:tensorflow:Assets written to: model_experiments/model_2_dense/assets\n"
          ]
        },
        {
          "output_type": "stream",
          "name": "stdout",
          "text": [
            "INFO:tensorflow:Assets written to: model_experiments/model_2_dense/assets\n"
          ]
        },
        {
          "output_type": "stream",
          "name": "stderr",
          "text": [
            "INFO:tensorflow:Assets written to: model_experiments/model_2_dense/assets\n"
          ]
        },
        {
          "output_type": "stream",
          "name": "stdout",
          "text": [
            "INFO:tensorflow:Assets written to: model_experiments/model_2_dense/assets\n"
          ]
        },
        {
          "output_type": "stream",
          "name": "stderr",
          "text": [
            "INFO:tensorflow:Assets written to: model_experiments/model_2_dense/assets\n"
          ]
        },
        {
          "output_type": "stream",
          "name": "stdout",
          "text": [
            "INFO:tensorflow:Assets written to: model_experiments/model_2_dense/assets\n"
          ]
        },
        {
          "output_type": "stream",
          "name": "stderr",
          "text": [
            "INFO:tensorflow:Assets written to: model_experiments/model_2_dense/assets\n"
          ]
        },
        {
          "output_type": "stream",
          "name": "stdout",
          "text": [
            "INFO:tensorflow:Assets written to: model_experiments/model_2_dense/assets\n"
          ]
        },
        {
          "output_type": "stream",
          "name": "stderr",
          "text": [
            "INFO:tensorflow:Assets written to: model_experiments/model_2_dense/assets\n"
          ]
        },
        {
          "output_type": "stream",
          "name": "stdout",
          "text": [
            "INFO:tensorflow:Assets written to: model_experiments/model_2_dense/assets\n"
          ]
        },
        {
          "output_type": "stream",
          "name": "stderr",
          "text": [
            "INFO:tensorflow:Assets written to: model_experiments/model_2_dense/assets\n"
          ]
        },
        {
          "output_type": "stream",
          "name": "stdout",
          "text": [
            "INFO:tensorflow:Assets written to: model_experiments/model_2_dense/assets\n"
          ]
        },
        {
          "output_type": "stream",
          "name": "stderr",
          "text": [
            "INFO:tensorflow:Assets written to: model_experiments/model_2_dense/assets\n"
          ]
        },
        {
          "output_type": "stream",
          "name": "stdout",
          "text": [
            "INFO:tensorflow:Assets written to: model_experiments/model_2_dense/assets\n"
          ]
        },
        {
          "output_type": "stream",
          "name": "stderr",
          "text": [
            "INFO:tensorflow:Assets written to: model_experiments/model_2_dense/assets\n"
          ]
        },
        {
          "output_type": "stream",
          "name": "stdout",
          "text": [
            "INFO:tensorflow:Assets written to: model_experiments/model_2_dense/assets\n"
          ]
        },
        {
          "output_type": "stream",
          "name": "stderr",
          "text": [
            "INFO:tensorflow:Assets written to: model_experiments/model_2_dense/assets\n"
          ]
        },
        {
          "output_type": "stream",
          "name": "stdout",
          "text": [
            "INFO:tensorflow:Assets written to: model_experiments/model_2_dense/assets\n"
          ]
        },
        {
          "output_type": "stream",
          "name": "stderr",
          "text": [
            "INFO:tensorflow:Assets written to: model_experiments/model_2_dense/assets\n"
          ]
        },
        {
          "output_type": "stream",
          "name": "stdout",
          "text": [
            "INFO:tensorflow:Assets written to: model_experiments/model_2_dense/assets\n"
          ]
        },
        {
          "output_type": "stream",
          "name": "stderr",
          "text": [
            "INFO:tensorflow:Assets written to: model_experiments/model_2_dense/assets\n"
          ]
        },
        {
          "output_type": "stream",
          "name": "stdout",
          "text": [
            "INFO:tensorflow:Assets written to: model_experiments/model_2_dense/assets\n"
          ]
        },
        {
          "output_type": "stream",
          "name": "stderr",
          "text": [
            "INFO:tensorflow:Assets written to: model_experiments/model_2_dense/assets\n"
          ]
        },
        {
          "output_type": "stream",
          "name": "stdout",
          "text": [
            "INFO:tensorflow:Assets written to: model_experiments/model_2_dense/assets\n"
          ]
        },
        {
          "output_type": "stream",
          "name": "stderr",
          "text": [
            "INFO:tensorflow:Assets written to: model_experiments/model_2_dense/assets\n"
          ]
        },
        {
          "output_type": "stream",
          "name": "stdout",
          "text": [
            "INFO:tensorflow:Assets written to: model_experiments/model_2_dense/assets\n"
          ]
        },
        {
          "output_type": "stream",
          "name": "stderr",
          "text": [
            "INFO:tensorflow:Assets written to: model_experiments/model_2_dense/assets\n"
          ]
        },
        {
          "output_type": "stream",
          "name": "stdout",
          "text": [
            "INFO:tensorflow:Assets written to: model_experiments/model_2_dense/assets\n"
          ]
        },
        {
          "output_type": "stream",
          "name": "stderr",
          "text": [
            "INFO:tensorflow:Assets written to: model_experiments/model_2_dense/assets\n"
          ]
        },
        {
          "output_type": "stream",
          "name": "stdout",
          "text": [
            "INFO:tensorflow:Assets written to: model_experiments/model_2_dense/assets\n"
          ]
        },
        {
          "output_type": "stream",
          "name": "stderr",
          "text": [
            "INFO:tensorflow:Assets written to: model_experiments/model_2_dense/assets\n"
          ]
        },
        {
          "output_type": "stream",
          "name": "stdout",
          "text": [
            "INFO:tensorflow:Assets written to: model_experiments/model_2_dense/assets\n"
          ]
        },
        {
          "output_type": "stream",
          "name": "stderr",
          "text": [
            "INFO:tensorflow:Assets written to: model_experiments/model_2_dense/assets\n"
          ]
        },
        {
          "output_type": "stream",
          "name": "stdout",
          "text": [
            "INFO:tensorflow:Assets written to: model_experiments/model_2_dense/assets\n"
          ]
        },
        {
          "output_type": "stream",
          "name": "stderr",
          "text": [
            "INFO:tensorflow:Assets written to: model_experiments/model_2_dense/assets\n"
          ]
        },
        {
          "output_type": "stream",
          "name": "stdout",
          "text": [
            "INFO:tensorflow:Assets written to: model_experiments/model_2_dense/assets\n"
          ]
        },
        {
          "output_type": "stream",
          "name": "stderr",
          "text": [
            "INFO:tensorflow:Assets written to: model_experiments/model_2_dense/assets\n"
          ]
        }
      ]
    },
    {
      "cell_type": "code",
      "metadata": {
        "colab": {
          "base_uri": "https://localhost:8080/"
        },
        "id": "cCaWFdl9_-C6",
        "outputId": "b18c83a2-413a-4d53-ffec-a3f8922b4fe9"
      },
      "source": [
        "model_2.evaluate(test_windows,test_labels)"
      ],
      "execution_count": 200,
      "outputs": [
        {
          "output_type": "stream",
          "name": "stdout",
          "text": [
            "15/15 [==============================] - 0s 1ms/step - loss: 865.0096 - mae: 865.0096 - mse: 1974435.3750\n"
          ]
        },
        {
          "output_type": "execute_result",
          "data": {
            "text/plain": [
              "[865.0095825195312, 865.0095825195312, 1974435.375]"
            ]
          },
          "metadata": {},
          "execution_count": 200
        }
      ]
    },
    {
      "cell_type": "code",
      "metadata": {
        "colab": {
          "base_uri": "https://localhost:8080/"
        },
        "id": "_2cnWD2cAHMq",
        "outputId": "285a07b5-f772-413c-864f-244eac644e79"
      },
      "source": [
        "# load saved best model\n",
        "model_2 = tf.keras.models.load_model(\"model_experiments/model_2_dense/\")\n",
        "model_2.evaluate(test_windows,test_labels)"
      ],
      "execution_count": 201,
      "outputs": [
        {
          "output_type": "stream",
          "name": "stdout",
          "text": [
            "15/15 [==============================] - 0s 2ms/step - loss: 865.0096 - mae: 865.0096 - mse: 1974435.3750\n"
          ]
        },
        {
          "output_type": "execute_result",
          "data": {
            "text/plain": [
              "[865.0095825195312, 865.0095825195312, 1974435.375]"
            ]
          },
          "metadata": {},
          "execution_count": 201
        }
      ]
    },
    {
      "cell_type": "code",
      "metadata": {
        "id": "yPeWcRihAmu-"
      },
      "source": [
        "model_2_preds = make_preds(model_2, test_windows)"
      ],
      "execution_count": 202,
      "outputs": []
    },
    {
      "cell_type": "code",
      "metadata": {
        "colab": {
          "base_uri": "https://localhost:8080/"
        },
        "id": "XVZJMVoqAQqh",
        "outputId": "069834f9-b02d-4f32-8467-34586c866d78"
      },
      "source": [
        "model_2_results = evaluate_pred(y_true=tf.squeeze(test_labels), \n",
        "                                y_pred=model_2_preds)\n",
        "model_2_results"
      ],
      "execution_count": 203,
      "outputs": [
        {
          "output_type": "execute_result",
          "data": {
            "text/plain": [
              "{'mae': 865.00946,\n",
              " 'mape': 2.835078,\n",
              " 'mase': 1.0757153,\n",
              " 'mse': 1974434.9,\n",
              " 'rmse': 1405.1459}"
            ]
          },
          "metadata": {},
          "execution_count": 203
        }
      ]
    },
    {
      "cell_type": "code",
      "metadata": {
        "colab": {
          "base_uri": "https://localhost:8080/"
        },
        "id": "oG18V_5rAXeg",
        "outputId": "bab051b6-4869-4e93-acb9-1daf8cbdaa24"
      },
      "source": [
        "naive_result"
      ],
      "execution_count": 204,
      "outputs": [
        {
          "output_type": "execute_result",
          "data": {
            "text/plain": [
              "{'mae': 766.7916,\n",
              " 'mape': 2.6282535,\n",
              " 'mase': 0.9981721,\n",
              " 'mse': 1660526.2,\n",
              " 'rmse': 1288.6141}"
            ]
          },
          "metadata": {},
          "execution_count": 204
        }
      ]
    },
    {
      "cell_type": "code",
      "metadata": {
        "colab": {
          "base_uri": "https://localhost:8080/"
        },
        "id": "YzE6saitAsSQ",
        "outputId": "8df60536-d82c-4695-cc43-37e3cd76411f"
      },
      "source": [
        "model_1_results"
      ],
      "execution_count": 205,
      "outputs": [
        {
          "output_type": "execute_result",
          "data": {
            "text/plain": [
              "{'mae': 776.65283,\n",
              " 'mape': 2.626138,\n",
              " 'mase': 1.0024073,\n",
              " 'mse': 1705817.8,\n",
              " 'rmse': 1306.0696}"
            ]
          },
          "metadata": {},
          "execution_count": 205
        }
      ]
    },
    {
      "cell_type": "code",
      "metadata": {
        "colab": {
          "base_uri": "https://localhost:8080/",
          "height": 446
        },
        "id": "h-AhCBNUAZPI",
        "outputId": "5c7a1ffe-dc41-4157-ece7-525384de4b65"
      },
      "source": [
        "#plot prediction\n",
        "offset = 350\n",
        "plt.figure(figsize=(10,7))\n",
        "plot_time_series(timesteps=X_test[-len(test_windows):], \n",
        "                 values=test_labels[:, 0], \n",
        "                 start=offset,\n",
        "                 label=\"Test Data\")\n",
        "plot_time_series(timesteps=X_test[-len(test_windows):], \n",
        "                 values=model_2_preds, \n",
        "                 start=offset,\n",
        "                 format=\"-\",\n",
        "                 label=\"Model_2_preds\")\n"
      ],
      "execution_count": 206,
      "outputs": [
        {
          "output_type": "display_data",
          "data": {
            "image/png": "[encoded data removed]",
            "text/plain": [
              "<Figure size 720x504 with 1 Axes>"
            ]
          },
          "metadata": {
            "needs_background": "light"
          }
        }
      ]
    },
    {
      "cell_type": "markdown",
      "metadata": {
        "id": "ugRjc3SWCNSl"
      },
      "source": [
        "### Model 3: Dense (Window size =30, horizon=1)"
      ]
    },
    {
      "cell_type": "code",
      "metadata": {
        "colab": {
          "base_uri": "https://localhost:8080/"
        },
        "id": "6aerFcJWCoPK",
        "outputId": "bdc4751d-577e-49f5-f2e0-21f0a25ed645"
      },
      "source": [
        "HORIZON = 7 \n",
        "WINDOW_SIZE = 30\n",
        "full_windows, full_labels = make_windows(prices, window_size=WINDOW_SIZE, horizon=HORIZON)\n",
        "len(full_windows), len(full_labels)"
      ],
      "execution_count": 207,
      "outputs": [
        {
          "output_type": "execute_result",
          "data": {
            "text/plain": [
              "(2426, 2426)"
            ]
          },
          "metadata": {},
          "execution_count": 207
        }
      ]
    },
    {
      "cell_type": "code",
      "metadata": {
        "colab": {
          "base_uri": "https://localhost:8080/"
        },
        "id": "IXfkTf8GCwIK",
        "outputId": "3533b71f-2787-45a8-d051-388ef9cf67c4"
      },
      "source": [
        "train_windows, test_windows, train_labels, test_labels = make_train_test_split(full_windows, full_labels)\n",
        "len(train_windows), len(test_windows), len(train_labels), len(test_labels)"
      ],
      "execution_count": 208,
      "outputs": [
        {
          "output_type": "execute_result",
          "data": {
            "text/plain": [
              "(1969, 457, 1969, 457)"
            ]
          },
          "metadata": {},
          "execution_count": 208
        }
      ]
    },
    {
      "cell_type": "code",
      "metadata": {
        "colab": {
          "base_uri": "https://localhost:8080/"
        },
        "id": "-68e7QaaC1QV",
        "outputId": "e7ee735b-8e16-4d4e-c95f-d25ccf1b8cbe"
      },
      "source": [
        "# Model 3\n",
        "# set random seed\n",
        "tf.random.set_seed(42)\n",
        "\n",
        "#1. construct model\n",
        "model_3 = tf.keras.Sequential([\n",
        "                               tf.keras.layers.Dense(128, activation=\"relu\"),\n",
        "                               tf.keras.layers.Dense(HORIZON, activation=\"linear\")\n",
        "],name=\"model_3_dense\")\n",
        "\n",
        "#2. Compile the model\n",
        "model_3.compile(loss=\"mae\",\n",
        "                optimizer=tf.keras.optimizers.Adam(),\n",
        "                metrics=[\"mae\", \"mse\"])\n",
        "\n",
        "#3.Fit the model\n",
        "history_3 = model_3.fit(train_windows,\n",
        "                        train_labels,\n",
        "                        epochs=100,\n",
        "                        verbose=0,\n",
        "                        batch_size=128,\n",
        "                        validation_data=(test_windows, test_labels),\n",
        "                        callbacks=[create_model_checkpoint(model_name=model_3.name)])"
      ],
      "execution_count": 209,
      "outputs": [
        {
          "output_type": "stream",
          "name": "stdout",
          "text": [
            "INFO:tensorflow:Assets written to: model_experiments/model_3_dense/assets\n"
          ]
        },
        {
          "output_type": "stream",
          "name": "stderr",
          "text": [
            "INFO:tensorflow:Assets written to: model_experiments/model_3_dense/assets\n"
          ]
        },
        {
          "output_type": "stream",
          "name": "stdout",
          "text": [
            "INFO:tensorflow:Assets written to: model_experiments/model_3_dense/assets\n"
          ]
        },
        {
          "output_type": "stream",
          "name": "stderr",
          "text": [
            "INFO:tensorflow:Assets written to: model_experiments/model_3_dense/assets\n"
          ]
        },
        {
          "output_type": "stream",
          "name": "stdout",
          "text": [
            "INFO:tensorflow:Assets written to: model_experiments/model_3_dense/assets\n"
          ]
        },
        {
          "output_type": "stream",
          "name": "stderr",
          "text": [
            "INFO:tensorflow:Assets written to: model_experiments/model_3_dense/assets\n"
          ]
        },
        {
          "output_type": "stream",
          "name": "stdout",
          "text": [
            "INFO:tensorflow:Assets written to: model_experiments/model_3_dense/assets\n"
          ]
        },
        {
          "output_type": "stream",
          "name": "stderr",
          "text": [
            "INFO:tensorflow:Assets written to: model_experiments/model_3_dense/assets\n"
          ]
        },
        {
          "output_type": "stream",
          "name": "stdout",
          "text": [
            "INFO:tensorflow:Assets written to: model_experiments/model_3_dense/assets\n"
          ]
        },
        {
          "output_type": "stream",
          "name": "stderr",
          "text": [
            "INFO:tensorflow:Assets written to: model_experiments/model_3_dense/assets\n"
          ]
        },
        {
          "output_type": "stream",
          "name": "stdout",
          "text": [
            "INFO:tensorflow:Assets written to: model_experiments/model_3_dense/assets\n"
          ]
        },
        {
          "output_type": "stream",
          "name": "stderr",
          "text": [
            "INFO:tensorflow:Assets written to: model_experiments/model_3_dense/assets\n"
          ]
        },
        {
          "output_type": "stream",
          "name": "stdout",
          "text": [
            "INFO:tensorflow:Assets written to: model_experiments/model_3_dense/assets\n"
          ]
        },
        {
          "output_type": "stream",
          "name": "stderr",
          "text": [
            "INFO:tensorflow:Assets written to: model_experiments/model_3_dense/assets\n"
          ]
        },
        {
          "output_type": "stream",
          "name": "stdout",
          "text": [
            "INFO:tensorflow:Assets written to: model_experiments/model_3_dense/assets\n"
          ]
        },
        {
          "output_type": "stream",
          "name": "stderr",
          "text": [
            "INFO:tensorflow:Assets written to: model_experiments/model_3_dense/assets\n"
          ]
        },
        {
          "output_type": "stream",
          "name": "stdout",
          "text": [
            "INFO:tensorflow:Assets written to: model_experiments/model_3_dense/assets\n"
          ]
        },
        {
          "output_type": "stream",
          "name": "stderr",
          "text": [
            "INFO:tensorflow:Assets written to: model_experiments/model_3_dense/assets\n"
          ]
        },
        {
          "output_type": "stream",
          "name": "stdout",
          "text": [
            "INFO:tensorflow:Assets written to: model_experiments/model_3_dense/assets\n"
          ]
        },
        {
          "output_type": "stream",
          "name": "stderr",
          "text": [
            "INFO:tensorflow:Assets written to: model_experiments/model_3_dense/assets\n"
          ]
        },
        {
          "output_type": "stream",
          "name": "stdout",
          "text": [
            "INFO:tensorflow:Assets written to: model_experiments/model_3_dense/assets\n"
          ]
        },
        {
          "output_type": "stream",
          "name": "stderr",
          "text": [
            "INFO:tensorflow:Assets written to: model_experiments/model_3_dense/assets\n"
          ]
        },
        {
          "output_type": "stream",
          "name": "stdout",
          "text": [
            "INFO:tensorflow:Assets written to: model_experiments/model_3_dense/assets\n"
          ]
        },
        {
          "output_type": "stream",
          "name": "stderr",
          "text": [
            "INFO:tensorflow:Assets written to: model_experiments/model_3_dense/assets\n"
          ]
        },
        {
          "output_type": "stream",
          "name": "stdout",
          "text": [
            "INFO:tensorflow:Assets written to: model_experiments/model_3_dense/assets\n"
          ]
        },
        {
          "output_type": "stream",
          "name": "stderr",
          "text": [
            "INFO:tensorflow:Assets written to: model_experiments/model_3_dense/assets\n"
          ]
        },
        {
          "output_type": "stream",
          "name": "stdout",
          "text": [
            "INFO:tensorflow:Assets written to: model_experiments/model_3_dense/assets\n"
          ]
        },
        {
          "output_type": "stream",
          "name": "stderr",
          "text": [
            "INFO:tensorflow:Assets written to: model_experiments/model_3_dense/assets\n"
          ]
        },
        {
          "output_type": "stream",
          "name": "stdout",
          "text": [
            "INFO:tensorflow:Assets written to: model_experiments/model_3_dense/assets\n"
          ]
        },
        {
          "output_type": "stream",
          "name": "stderr",
          "text": [
            "INFO:tensorflow:Assets written to: model_experiments/model_3_dense/assets\n"
          ]
        },
        {
          "output_type": "stream",
          "name": "stdout",
          "text": [
            "INFO:tensorflow:Assets written to: model_experiments/model_3_dense/assets\n"
          ]
        },
        {
          "output_type": "stream",
          "name": "stderr",
          "text": [
            "INFO:tensorflow:Assets written to: model_experiments/model_3_dense/assets\n"
          ]
        },
        {
          "output_type": "stream",
          "name": "stdout",
          "text": [
            "INFO:tensorflow:Assets written to: model_experiments/model_3_dense/assets\n"
          ]
        },
        {
          "output_type": "stream",
          "name": "stderr",
          "text": [
            "INFO:tensorflow:Assets written to: model_experiments/model_3_dense/assets\n"
          ]
        },
        {
          "output_type": "stream",
          "name": "stdout",
          "text": [
            "INFO:tensorflow:Assets written to: model_experiments/model_3_dense/assets\n"
          ]
        },
        {
          "output_type": "stream",
          "name": "stderr",
          "text": [
            "INFO:tensorflow:Assets written to: model_experiments/model_3_dense/assets\n"
          ]
        },
        {
          "output_type": "stream",
          "name": "stdout",
          "text": [
            "INFO:tensorflow:Assets written to: model_experiments/model_3_dense/assets\n"
          ]
        },
        {
          "output_type": "stream",
          "name": "stderr",
          "text": [
            "INFO:tensorflow:Assets written to: model_experiments/model_3_dense/assets\n"
          ]
        },
        {
          "output_type": "stream",
          "name": "stdout",
          "text": [
            "INFO:tensorflow:Assets written to: model_experiments/model_3_dense/assets\n"
          ]
        },
        {
          "output_type": "stream",
          "name": "stderr",
          "text": [
            "INFO:tensorflow:Assets written to: model_experiments/model_3_dense/assets\n"
          ]
        },
        {
          "output_type": "stream",
          "name": "stdout",
          "text": [
            "INFO:tensorflow:Assets written to: model_experiments/model_3_dense/assets\n"
          ]
        },
        {
          "output_type": "stream",
          "name": "stderr",
          "text": [
            "INFO:tensorflow:Assets written to: model_experiments/model_3_dense/assets\n"
          ]
        },
        {
          "output_type": "stream",
          "name": "stdout",
          "text": [
            "INFO:tensorflow:Assets written to: model_experiments/model_3_dense/assets\n"
          ]
        },
        {
          "output_type": "stream",
          "name": "stderr",
          "text": [
            "INFO:tensorflow:Assets written to: model_experiments/model_3_dense/assets\n"
          ]
        },
        {
          "output_type": "stream",
          "name": "stdout",
          "text": [
            "INFO:tensorflow:Assets written to: model_experiments/model_3_dense/assets\n"
          ]
        },
        {
          "output_type": "stream",
          "name": "stderr",
          "text": [
            "INFO:tensorflow:Assets written to: model_experiments/model_3_dense/assets\n"
          ]
        },
        {
          "output_type": "stream",
          "name": "stdout",
          "text": [
            "INFO:tensorflow:Assets written to: model_experiments/model_3_dense/assets\n"
          ]
        },
        {
          "output_type": "stream",
          "name": "stderr",
          "text": [
            "INFO:tensorflow:Assets written to: model_experiments/model_3_dense/assets\n"
          ]
        },
        {
          "output_type": "stream",
          "name": "stdout",
          "text": [
            "INFO:tensorflow:Assets written to: model_experiments/model_3_dense/assets\n"
          ]
        },
        {
          "output_type": "stream",
          "name": "stderr",
          "text": [
            "INFO:tensorflow:Assets written to: model_experiments/model_3_dense/assets\n"
          ]
        },
        {
          "output_type": "stream",
          "name": "stdout",
          "text": [
            "INFO:tensorflow:Assets written to: model_experiments/model_3_dense/assets\n"
          ]
        },
        {
          "output_type": "stream",
          "name": "stderr",
          "text": [
            "INFO:tensorflow:Assets written to: model_experiments/model_3_dense/assets\n"
          ]
        },
        {
          "output_type": "stream",
          "name": "stdout",
          "text": [
            "INFO:tensorflow:Assets written to: model_experiments/model_3_dense/assets\n"
          ]
        },
        {
          "output_type": "stream",
          "name": "stderr",
          "text": [
            "INFO:tensorflow:Assets written to: model_experiments/model_3_dense/assets\n"
          ]
        },
        {
          "output_type": "stream",
          "name": "stdout",
          "text": [
            "INFO:tensorflow:Assets written to: model_experiments/model_3_dense/assets\n"
          ]
        },
        {
          "output_type": "stream",
          "name": "stderr",
          "text": [
            "INFO:tensorflow:Assets written to: model_experiments/model_3_dense/assets\n"
          ]
        },
        {
          "output_type": "stream",
          "name": "stdout",
          "text": [
            "INFO:tensorflow:Assets written to: model_experiments/model_3_dense/assets\n"
          ]
        },
        {
          "output_type": "stream",
          "name": "stderr",
          "text": [
            "INFO:tensorflow:Assets written to: model_experiments/model_3_dense/assets\n"
          ]
        },
        {
          "output_type": "stream",
          "name": "stdout",
          "text": [
            "INFO:tensorflow:Assets written to: model_experiments/model_3_dense/assets\n"
          ]
        },
        {
          "output_type": "stream",
          "name": "stderr",
          "text": [
            "INFO:tensorflow:Assets written to: model_experiments/model_3_dense/assets\n"
          ]
        },
        {
          "output_type": "stream",
          "name": "stdout",
          "text": [
            "INFO:tensorflow:Assets written to: model_experiments/model_3_dense/assets\n"
          ]
        },
        {
          "output_type": "stream",
          "name": "stderr",
          "text": [
            "INFO:tensorflow:Assets written to: model_experiments/model_3_dense/assets\n"
          ]
        },
        {
          "output_type": "stream",
          "name": "stdout",
          "text": [
            "INFO:tensorflow:Assets written to: model_experiments/model_3_dense/assets\n"
          ]
        },
        {
          "output_type": "stream",
          "name": "stderr",
          "text": [
            "INFO:tensorflow:Assets written to: model_experiments/model_3_dense/assets\n"
          ]
        },
        {
          "output_type": "stream",
          "name": "stdout",
          "text": [
            "INFO:tensorflow:Assets written to: model_experiments/model_3_dense/assets\n"
          ]
        },
        {
          "output_type": "stream",
          "name": "stderr",
          "text": [
            "INFO:tensorflow:Assets written to: model_experiments/model_3_dense/assets\n"
          ]
        },
        {
          "output_type": "stream",
          "name": "stdout",
          "text": [
            "INFO:tensorflow:Assets written to: model_experiments/model_3_dense/assets\n"
          ]
        },
        {
          "output_type": "stream",
          "name": "stderr",
          "text": [
            "INFO:tensorflow:Assets written to: model_experiments/model_3_dense/assets\n"
          ]
        },
        {
          "output_type": "stream",
          "name": "stdout",
          "text": [
            "INFO:tensorflow:Assets written to: model_experiments/model_3_dense/assets\n"
          ]
        },
        {
          "output_type": "stream",
          "name": "stderr",
          "text": [
            "INFO:tensorflow:Assets written to: model_experiments/model_3_dense/assets\n"
          ]
        },
        {
          "output_type": "stream",
          "name": "stdout",
          "text": [
            "INFO:tensorflow:Assets written to: model_experiments/model_3_dense/assets\n"
          ]
        },
        {
          "output_type": "stream",
          "name": "stderr",
          "text": [
            "INFO:tensorflow:Assets written to: model_experiments/model_3_dense/assets\n"
          ]
        },
        {
          "output_type": "stream",
          "name": "stdout",
          "text": [
            "INFO:tensorflow:Assets written to: model_experiments/model_3_dense/assets\n"
          ]
        },
        {
          "output_type": "stream",
          "name": "stderr",
          "text": [
            "INFO:tensorflow:Assets written to: model_experiments/model_3_dense/assets\n"
          ]
        }
      ]
    },
    {
      "cell_type": "code",
      "metadata": {
        "colab": {
          "base_uri": "https://localhost:8080/"
        },
        "id": "yKQaMW7JDCGm",
        "outputId": "aa35f090-8092-4660-8d3a-3402ef4503ad"
      },
      "source": [
        "model_3.evaluate(test_windows,test_labels)"
      ],
      "execution_count": 210,
      "outputs": [
        {
          "output_type": "stream",
          "name": "stdout",
          "text": [
            "15/15 [==============================] - 0s 2ms/step - loss: 1798.6237 - mae: 1798.6237 - mse: 8763479.0000\n"
          ]
        },
        {
          "output_type": "execute_result",
          "data": {
            "text/plain": [
              "[1798.6236572265625, 1798.6236572265625, 8763479.0]"
            ]
          },
          "metadata": {},
          "execution_count": 210
        }
      ]
    },
    {
      "cell_type": "code",
      "metadata": {
        "colab": {
          "base_uri": "https://localhost:8080/"
        },
        "id": "aK5imMgbDCsC",
        "outputId": "2a275b90-d699-4e86-8f47-60ce602e50c7"
      },
      "source": [
        "# load saved best model\n",
        "model_3 = tf.keras.models.load_model(\"model_experiments/model_3_dense/\")\n",
        "model_3.evaluate(test_windows,test_labels)"
      ],
      "execution_count": 211,
      "outputs": [
        {
          "output_type": "stream",
          "name": "stdout",
          "text": [
            "15/15 [==============================] - 0s 1ms/step - loss: 1785.5605 - mae: 1785.5605 - mse: 8872233.0000\n"
          ]
        },
        {
          "output_type": "execute_result",
          "data": {
            "text/plain": [
              "[1785.560546875, 1785.560546875, 8872233.0]"
            ]
          },
          "metadata": {},
          "execution_count": 211
        }
      ]
    },
    {
      "cell_type": "code",
      "metadata": {
        "id": "A--Hu9KIDFv-"
      },
      "source": [
        "model_3_preds = make_preds(model_3, test_windows)"
      ],
      "execution_count": 212,
      "outputs": []
    },
    {
      "cell_type": "code",
      "metadata": {
        "colab": {
          "base_uri": "https://localhost:8080/"
        },
        "id": "0tXB1uckEM9n",
        "outputId": "b1ba5b99-be54-419f-a30b-d565844148c8"
      },
      "source": [
        "model_3_preds.shape"
      ],
      "execution_count": 213,
      "outputs": [
        {
          "output_type": "execute_result",
          "data": {
            "text/plain": [
              "TensorShape([457, 7])"
            ]
          },
          "metadata": {},
          "execution_count": 213
        }
      ]
    },
    {
      "cell_type": "code",
      "metadata": {
        "id": "cNn25winDpzY"
      },
      "source": [
        "def evaluate_preds(y_true, y_pred):\n",
        "  # Make sure float32 (for metric calculations)\n",
        "  y_true = tf.cast(y_true, dtype=tf.float32)\n",
        "  y_pred = tf.cast(y_pred, dtype=tf.float32)\n",
        "\n",
        "  # Calculate various metrics\n",
        "  mae = tf.keras.metrics.mean_absolute_error(y_true, y_pred)\n",
        "  mse = tf.keras.metrics.mean_squared_error(y_true, y_pred)\n",
        "  rmse = tf.sqrt(mse)\n",
        "  mape = tf.keras.metrics.mean_absolute_percentage_error(y_true, y_pred)\n",
        "  mase = mean_absolute_scaled_error(y_true, y_pred)\n",
        "\n",
        "  # Account for different sized metrics (for longer horizons, reduce to single number)\n",
        "  if mae.ndim > 0: # if mae isn't already a scalar, reduce it to one by aggregating tensors to mean\n",
        "    mae = tf.reduce_mean(mae)\n",
        "    mse = tf.reduce_mean(mse)\n",
        "    rmse = tf.reduce_mean(rmse)\n",
        "    mape = tf.reduce_mean(mape)\n",
        "    mase = tf.reduce_mean(mase)\n",
        "\n",
        "  return {\"mae\": mae.numpy(),\n",
        "          \"mse\": mse.numpy(),\n",
        "          \"rmse\": rmse.numpy(),\n",
        "          \"mape\": mape.numpy(),\n",
        "          \"mase\": mase.numpy()}"
      ],
      "execution_count": 214,
      "outputs": []
    },
    {
      "cell_type": "code",
      "metadata": {
        "colab": {
          "base_uri": "https://localhost:8080/"
        },
        "id": "mPWwyDbNDJAK",
        "outputId": "88f6a7ad-8363-4a7d-da98-db0008f16fbf"
      },
      "source": [
        "model_3_results = evaluate_preds(y_true=tf.squeeze(test_labels), \n",
        "                                y_pred=(model_3_preds))\n",
        "model_3_results"
      ],
      "execution_count": 215,
      "outputs": [
        {
          "output_type": "execute_result",
          "data": {
            "text/plain": [
              "{'mae': 1785.5605,\n",
              " 'mape': 5.7166805,\n",
              " 'mase': 2.212832,\n",
              " 'mse': 8872233.0,\n",
              " 'rmse': 2046.8735}"
            ]
          },
          "metadata": {},
          "execution_count": 215
        }
      ]
    },
    {
      "cell_type": "code",
      "metadata": {
        "colab": {
          "base_uri": "https://localhost:8080/"
        },
        "id": "IXfA1VPJFOBW",
        "outputId": "2667fb08-0c42-4778-9d35-98f4dd313f65"
      },
      "source": [
        "model_1_results, model_2_results"
      ],
      "execution_count": 216,
      "outputs": [
        {
          "output_type": "execute_result",
          "data": {
            "text/plain": [
              "({'mae': 776.65283,\n",
              "  'mape': 2.626138,\n",
              "  'mase': 1.0024073,\n",
              "  'mse': 1705817.8,\n",
              "  'rmse': 1306.0696},\n",
              " {'mae': 865.00946,\n",
              "  'mape': 2.835078,\n",
              "  'mase': 1.0757153,\n",
              "  'mse': 1974434.9,\n",
              "  'rmse': 1405.1459})"
            ]
          },
          "metadata": {},
          "execution_count": 216
        }
      ]
    },
    {
      "cell_type": "code",
      "metadata": {
        "colab": {
          "base_uri": "https://localhost:8080/",
          "height": 442
        },
        "id": "iyD-wPmxDNKK",
        "outputId": "a27aaf2a-987d-455f-dbf5-d0d2b7a0cd41"
      },
      "source": [
        "#plot prediction\n",
        "offset = 350\n",
        "plt.figure(figsize=(10,7))\n",
        "plot_time_series(timesteps=X_test[-len(test_windows):], \n",
        "                 values=test_labels[:, 0], \n",
        "                 start=offset,\n",
        "                 label=\"Test Data\")\n",
        "plot_time_series(timesteps=X_test[-len(test_windows):], \n",
        "                 values=model_3_preds, \n",
        "                 start=offset,\n",
        "                 format=\"-\",\n",
        "                 label=\"Model_3_preds\")"
      ],
      "execution_count": 217,
      "outputs": [
        {
          "output_type": "display_data",
          "data": {
            "image/png": "[encoded data removed]",
            "text/plain": [
              "<Figure size 720x504 with 1 Axes>"
            ]
          },
          "metadata": {
            "needs_background": "light"
          }
        }
      ]
    },
    {
      "cell_type": "code",
      "metadata": {
        "colab": {
          "base_uri": "https://localhost:8080/",
          "height": 442
        },
        "id": "P084XxvaFW9u",
        "outputId": "fa2adaab-b78b-4d54-f041-6dc1d691aaec"
      },
      "source": [
        "#plot prediction\n",
        "offset = 350\n",
        "plt.figure(figsize=(10,7))\n",
        "plot_time_series(timesteps=X_test[-len(test_windows):], \n",
        "                 values=test_labels[:, 0], \n",
        "                 start=offset,\n",
        "                 label=\"Test Data\")\n",
        "plot_time_series(timesteps=X_test[-len(test_windows):], \n",
        "                 values=tf.reduce_mean(model_3_preds, axis=1), \n",
        "                 start=offset,\n",
        "                 format=\"-\",\n",
        "                 label=\"Model_3_preds\")"
      ],
      "execution_count": 218,
      "outputs": [
        {
          "output_type": "display_data",
          "data": {
            "image/png": "[encoded data removed]",
            "text/plain": [
              "<Figure size 720x504 with 1 Axes>"
            ]
          },
          "metadata": {
            "needs_background": "light"
          }
        }
      ]
    },
    {
      "cell_type": "code",
      "metadata": {
        "colab": {
          "base_uri": "https://localhost:8080/",
          "height": 440
        },
        "id": "2oLplLTUFqy8",
        "outputId": "cc82fade-a3da-472e-db7b-e4f3fb433474"
      },
      "source": [
        "pd.DataFrame({\"naive\": naive_result[\"mae\"], \n",
        "              \"horizon_1_window_7\": model_1_results[\"mae\"], \n",
        "              \"horizon_1_window_30\": model_2_results[\"mae\"], \n",
        "              \"horizon_7_window_30\": model_3_results[\"mae\"]}, index=[\"mae\"]).plot(figsize=(10, 7), kind=\"bar\");"
      ],
      "execution_count": 219,
      "outputs": [
        {
          "output_type": "display_data",
          "data": {
            "image/png": "[encoded data removed]",
            "text/plain": [
              "<Figure size 720x504 with 1 Axes>"
            ]
          },
          "metadata": {
            "needs_background": "light"
          }
        }
      ]
    },
    {
      "cell_type": "markdown",
      "metadata": {
        "id": "0WdckgzAFzcz"
      },
      "source": [
        "### Model 4: Conv1D"
      ]
    },
    {
      "cell_type": "code",
      "metadata": {
        "colab": {
          "base_uri": "https://localhost:8080/"
        },
        "id": "K3M7tMmo1l7D",
        "outputId": "e169a139-afbc-4789-8a7b-d52ef284af4e"
      },
      "source": [
        "HORIZON = 1\n",
        "WINDOW_SIZE = 7\n",
        "full_windows, full_labels = make_windows(prices, window_size=WINDOW_SIZE, horizon=HORIZON)\n",
        "len(full_windows), len(full_labels)"
      ],
      "execution_count": 220,
      "outputs": [
        {
          "output_type": "execute_result",
          "data": {
            "text/plain": [
              "(2455, 2455)"
            ]
          },
          "metadata": {},
          "execution_count": 220
        }
      ]
    },
    {
      "cell_type": "code",
      "metadata": {
        "colab": {
          "base_uri": "https://localhost:8080/"
        },
        "id": "pWdtPfmu1q1i",
        "outputId": "5ad561c0-66d9-4264-8e09-dd2b4fd990be"
      },
      "source": [
        "train_windows, test_windows, train_labels, test_labels = make_train_test_split(full_windows, full_labels)\n",
        "len(train_windows), len(test_windows), len(train_labels), len(test_labels)"
      ],
      "execution_count": 221,
      "outputs": [
        {
          "output_type": "execute_result",
          "data": {
            "text/plain": [
              "(1969, 486, 1969, 486)"
            ]
          },
          "metadata": {},
          "execution_count": 221
        }
      ]
    },
    {
      "cell_type": "code",
      "metadata": {
        "colab": {
          "base_uri": "https://localhost:8080/"
        },
        "id": "aFTRYsfl1yKy",
        "outputId": "fe9935f1-c54f-46e7-bbc2-05ae8eacc443"
      },
      "source": [
        "train_windows[0].shape"
      ],
      "execution_count": 222,
      "outputs": [
        {
          "output_type": "execute_result",
          "data": {
            "text/plain": [
              "(7,)"
            ]
          },
          "metadata": {},
          "execution_count": 222
        }
      ]
    },
    {
      "cell_type": "code",
      "metadata": {
        "colab": {
          "base_uri": "https://localhost:8080/"
        },
        "id": "BzMgQrBT115z",
        "outputId": "d8d07d8e-b17e-4cd5-fc6b-4ecaf0ab4a1d"
      },
      "source": [
        "x = tf.constant(train_windows[0])\n",
        "x, x.shape"
      ],
      "execution_count": 223,
      "outputs": [
        {
          "output_type": "execute_result",
          "data": {
            "text/plain": [
              "(<tf.Tensor: shape=(7,), dtype=float64, numpy=\n",
              " array([325.22633, 331.60083, 324.71833, 332.45666, 336.585  , 346.775  ,\n",
              "        344.81166])>, TensorShape([7]))"
            ]
          },
          "metadata": {},
          "execution_count": 223
        }
      ]
    },
    {
      "cell_type": "code",
      "metadata": {
        "id": "6XH6wX4D3Gl_"
      },
      "source": [
        "expand_dims_layer = tf.keras.layers.Lambda(lambda x: tf.expand_dims(x, axis=1))"
      ],
      "execution_count": 224,
      "outputs": []
    },
    {
      "cell_type": "code",
      "metadata": {
        "colab": {
          "base_uri": "https://localhost:8080/"
        },
        "id": "xiyxY52S3ZS-",
        "outputId": "317a011e-1eac-47b2-c954-0b32df8de3a9"
      },
      "source": [
        "x.shape, expand_dims_layer(x).shape"
      ],
      "execution_count": 225,
      "outputs": [
        {
          "output_type": "execute_result",
          "data": {
            "text/plain": [
              "(TensorShape([7]), TensorShape([7, 1]))"
            ]
          },
          "metadata": {},
          "execution_count": 225
        }
      ]
    },
    {
      "cell_type": "code",
      "metadata": {
        "colab": {
          "base_uri": "https://localhost:8080/"
        },
        "id": "cu9LNdN-3dNu",
        "outputId": "20b5e062-0d44-4eb6-a3af-a989b184eb1d"
      },
      "source": [
        "# Model 4\n",
        "# set random seed\n",
        "tf.random.set_seed(42)\n",
        "\n",
        "#1. construct model\n",
        "model_4 = tf.keras.Sequential([\n",
        "                               tf.keras.layers.Lambda(lambda x: tf.expand_dims(x, axis=1)),\n",
        "                               tf.keras.layers.Conv1D(filters=128, kernel_size=5, padding=\"causal\", activation=\"relu\"),\n",
        "                               tf.keras.layers.Dense(HORIZON)\n",
        "],name=\"model_4_conv1d\")\n",
        "\n",
        "#2. Compile the model\n",
        "model_4.compile(loss=\"mae\",\n",
        "                optimizer=tf.keras.optimizers.Adam(),\n",
        "                metrics=[\"mae\", \"mse\"])\n",
        "#3.Fit the model\n",
        "history_4 = model_4.fit(train_windows,\n",
        "                        train_labels,\n",
        "                        epochs=100,\n",
        "                        verbose=1,\n",
        "                        batch_size=128,\n",
        "                        validation_data=(test_windows, test_labels),\n",
        "                        callbacks=[create_model_checkpoint(model_name=model_4.name)])"
      ],
      "execution_count": 226,
      "outputs": [
        {
          "output_type": "stream",
          "name": "stdout",
          "text": [
            "Epoch 1/100\n",
            " 1/16 [>.............................] - ETA: 7s - loss: 3125.8262 - mae: 3125.8262 - mse: 20258400.0000INFO:tensorflow:Assets written to: model_experiments/model_4_conv1d/assets\n"
          ]
        },
        {
          "output_type": "stream",
          "name": "stderr",
          "text": [
            "INFO:tensorflow:Assets written to: model_experiments/model_4_conv1d/assets\n"
          ]
        },
        {
          "output_type": "stream",
          "name": "stdout",
          "text": [
            "16/16 [==============================] - 2s 67ms/step - loss: 1708.5942 - mae: 1708.5942 - mse: 7589427.0000 - val_loss: 1732.5232 - val_mae: 1732.5232 - val_mse: 7710509.5000\n",
            "Epoch 2/100\n",
            "16/16 [==============================] - 0s 3ms/step - loss: 425.2935 - mae: 425.2935 - mse: 577168.1875 - val_loss: 2059.9023 - val_mae: 2059.9023 - val_mse: 8560785.0000\n",
            "Epoch 3/100\n",
            " 1/16 [>.............................] - ETA: 0s - loss: 309.6993 - mae: 309.6993 - mse: 266947.0625INFO:tensorflow:Assets written to: model_experiments/model_4_conv1d/assets\n"
          ]
        },
        {
          "output_type": "stream",
          "name": "stderr",
          "text": [
            "INFO:tensorflow:Assets written to: model_experiments/model_4_conv1d/assets\n"
          ]
        },
        {
          "output_type": "stream",
          "name": "stdout",
          "text": [
            "16/16 [==============================] - 1s 58ms/step - loss: 268.3050 - mae: 268.3050 - mse: 281739.1562 - val_loss: 1371.0123 - val_mae: 1371.0123 - val_mse: 5097040.0000\n",
            "Epoch 4/100\n",
            " 1/16 [>.............................] - ETA: 0s - loss: 202.3040 - mae: 202.3040 - mse: 173640.9688INFO:tensorflow:Assets written to: model_experiments/model_4_conv1d/assets\n"
          ]
        },
        {
          "output_type": "stream",
          "name": "stderr",
          "text": [
            "INFO:tensorflow:Assets written to: model_experiments/model_4_conv1d/assets\n"
          ]
        },
        {
          "output_type": "stream",
          "name": "stdout",
          "text": [
            "16/16 [==============================] - 1s 59ms/step - loss: 233.2774 - mae: 233.2774 - mse: 222884.9219 - val_loss: 1355.8490 - val_mae: 1355.8490 - val_mse: 4988261.0000\n",
            "Epoch 5/100\n",
            " 1/16 [>.............................] - ETA: 0s - loss: 257.5300 - mae: 257.5300 - mse: 264265.4688INFO:tensorflow:Assets written to: model_experiments/model_4_conv1d/assets\n"
          ]
        },
        {
          "output_type": "stream",
          "name": "stderr",
          "text": [
            "INFO:tensorflow:Assets written to: model_experiments/model_4_conv1d/assets\n"
          ]
        },
        {
          "output_type": "stream",
          "name": "stdout",
          "text": [
            "16/16 [==============================] - 1s 59ms/step - loss: 223.7746 - mae: 223.7746 - mse: 215755.9062 - val_loss: 1346.7900 - val_mae: 1346.7900 - val_mse: 4829217.0000\n",
            "Epoch 6/100\n",
            " 1/16 [>.............................] - ETA: 0s - loss: 153.4507 - mae: 153.4507 - mse: 121669.5469INFO:tensorflow:Assets written to: model_experiments/model_4_conv1d/assets\n"
          ]
        },
        {
          "output_type": "stream",
          "name": "stderr",
          "text": [
            "INFO:tensorflow:Assets written to: model_experiments/model_4_conv1d/assets\n"
          ]
        },
        {
          "output_type": "stream",
          "name": "stdout",
          "text": [
            "16/16 [==============================] - 1s 59ms/step - loss: 219.7586 - mae: 219.7586 - mse: 208560.2969 - val_loss: 1325.8375 - val_mae: 1325.8375 - val_mse: 4725820.0000\n",
            "Epoch 7/100\n",
            " 1/16 [>.............................] - ETA: 0s - loss: 266.1341 - mae: 266.1341 - mse: 338203.2500INFO:tensorflow:Assets written to: model_experiments/model_4_conv1d/assets\n"
          ]
        },
        {
          "output_type": "stream",
          "name": "stderr",
          "text": [
            "INFO:tensorflow:Assets written to: model_experiments/model_4_conv1d/assets\n"
          ]
        },
        {
          "output_type": "stream",
          "name": "stdout",
          "text": [
            "16/16 [==============================] - 1s 58ms/step - loss: 217.6124 - mae: 217.6124 - mse: 205131.8750 - val_loss: 1310.6278 - val_mae: 1310.6277 - val_mse: 4598492.0000\n",
            "Epoch 8/100\n",
            " 1/16 [>.............................] - ETA: 0s - loss: 211.6028 - mae: 211.6028 - mse: 259041.5625INFO:tensorflow:Assets written to: model_experiments/model_4_conv1d/assets\n"
          ]
        },
        {
          "output_type": "stream",
          "name": "stderr",
          "text": [
            "INFO:tensorflow:Assets written to: model_experiments/model_4_conv1d/assets\n"
          ]
        },
        {
          "output_type": "stream",
          "name": "stdout",
          "text": [
            "16/16 [==============================] - 1s 60ms/step - loss: 213.6935 - mae: 213.6935 - mse: 197866.9844 - val_loss: 1292.6304 - val_mae: 1292.6304 - val_mse: 4469377.5000\n",
            "Epoch 9/100\n",
            " 1/16 [>.............................] - ETA: 0s - loss: 231.1727 - mae: 231.1727 - mse: 225239.7656INFO:tensorflow:Assets written to: model_experiments/model_4_conv1d/assets\n"
          ]
        },
        {
          "output_type": "stream",
          "name": "stderr",
          "text": [
            "INFO:tensorflow:Assets written to: model_experiments/model_4_conv1d/assets\n"
          ]
        },
        {
          "output_type": "stream",
          "name": "stdout",
          "text": [
            "16/16 [==============================] - 1s 60ms/step - loss: 212.1714 - mae: 212.1714 - mse: 194325.7031 - val_loss: 1289.9064 - val_mae: 1289.9064 - val_mse: 4338447.5000\n",
            "Epoch 10/100\n",
            " 1/16 [>.............................] - ETA: 0s - loss: 298.7489 - mae: 298.7489 - mse: 354419.7500INFO:tensorflow:Assets written to: model_experiments/model_4_conv1d/assets\n"
          ]
        },
        {
          "output_type": "stream",
          "name": "stderr",
          "text": [
            "INFO:tensorflow:Assets written to: model_experiments/model_4_conv1d/assets\n"
          ]
        },
        {
          "output_type": "stream",
          "name": "stdout",
          "text": [
            "16/16 [==============================] - 1s 59ms/step - loss: 207.8949 - mae: 207.8949 - mse: 188149.1406 - val_loss: 1263.0854 - val_mae: 1263.0854 - val_mse: 4200721.0000\n",
            "Epoch 11/100\n",
            "16/16 [==============================] - 0s 4ms/step - loss: 204.2210 - mae: 204.2210 - mse: 182438.3750 - val_loss: 1283.7561 - val_mae: 1283.7561 - val_mse: 4142322.7500\n",
            "Epoch 12/100\n",
            " 1/16 [>.............................] - ETA: 0s - loss: 242.7014 - mae: 242.7014 - mse: 212800.0625INFO:tensorflow:Assets written to: model_experiments/model_4_conv1d/assets\n"
          ]
        },
        {
          "output_type": "stream",
          "name": "stderr",
          "text": [
            "INFO:tensorflow:Assets written to: model_experiments/model_4_conv1d/assets\n"
          ]
        },
        {
          "output_type": "stream",
          "name": "stdout",
          "text": [
            "16/16 [==============================] - 1s 62ms/step - loss: 202.9934 - mae: 202.9934 - mse: 179540.6094 - val_loss: 1225.9191 - val_mae: 1225.9191 - val_mse: 3944517.0000\n",
            "Epoch 13/100\n",
            " 1/16 [>.............................] - ETA: 0s - loss: 196.8223 - mae: 196.8223 - mse: 170494.6562INFO:tensorflow:Assets written to: model_experiments/model_4_conv1d/assets\n"
          ]
        },
        {
          "output_type": "stream",
          "name": "stderr",
          "text": [
            "INFO:tensorflow:Assets written to: model_experiments/model_4_conv1d/assets\n"
          ]
        },
        {
          "output_type": "stream",
          "name": "stdout",
          "text": [
            "16/16 [==============================] - 1s 81ms/step - loss: 198.5536 - mae: 198.5536 - mse: 172446.8750 - val_loss: 1212.7140 - val_mae: 1212.7140 - val_mse: 3815238.5000\n",
            "Epoch 14/100\n",
            " 1/16 [>.............................] - ETA: 0s - loss: 166.4981 - mae: 166.4981 - mse: 158954.2969INFO:tensorflow:Assets written to: model_experiments/model_4_conv1d/assets\n"
          ]
        },
        {
          "output_type": "stream",
          "name": "stderr",
          "text": [
            "INFO:tensorflow:Assets written to: model_experiments/model_4_conv1d/assets\n"
          ]
        },
        {
          "output_type": "stream",
          "name": "stdout",
          "text": [
            "16/16 [==============================] - 1s 59ms/step - loss: 194.6387 - mae: 194.6387 - mse: 166668.4062 - val_loss: 1183.3977 - val_mae: 1183.3977 - val_mse: 3678634.2500\n",
            "Epoch 15/100\n",
            " 1/16 [>.............................] - ETA: 0s - loss: 146.6378 - mae: 146.6378 - mse: 95038.5312INFO:tensorflow:Assets written to: model_experiments/model_4_conv1d/assets\n"
          ]
        },
        {
          "output_type": "stream",
          "name": "stderr",
          "text": [
            "INFO:tensorflow:Assets written to: model_experiments/model_4_conv1d/assets\n"
          ]
        },
        {
          "output_type": "stream",
          "name": "stdout",
          "text": [
            "16/16 [==============================] - 1s 62ms/step - loss: 192.4991 - mae: 192.4991 - mse: 162166.2656 - val_loss: 1158.2484 - val_mae: 1158.2484 - val_mse: 3557256.2500\n",
            "Epoch 16/100\n",
            " 1/16 [>.............................] - ETA: 0s - loss: 244.6544 - mae: 244.6544 - mse: 218933.7812INFO:tensorflow:Assets written to: model_experiments/model_4_conv1d/assets\n"
          ]
        },
        {
          "output_type": "stream",
          "name": "stderr",
          "text": [
            "INFO:tensorflow:Assets written to: model_experiments/model_4_conv1d/assets\n"
          ]
        },
        {
          "output_type": "stream",
          "name": "stdout",
          "text": [
            "16/16 [==============================] - 1s 60ms/step - loss: 189.0681 - mae: 189.0681 - mse: 157264.0312 - val_loss: 1139.4175 - val_mae: 1139.4175 - val_mse: 3431756.5000\n",
            "Epoch 17/100\n",
            "16/16 [==============================] - 0s 3ms/step - loss: 185.6471 - mae: 185.6471 - mse: 152676.0156 - val_loss: 1142.3489 - val_mae: 1142.3490 - val_mse: 3325740.0000\n",
            "Epoch 18/100\n",
            " 1/16 [>.............................] - ETA: 0s - loss: 190.4355 - mae: 190.4355 - mse: 156206.7969INFO:tensorflow:Assets written to: model_experiments/model_4_conv1d/assets\n"
          ]
        },
        {
          "output_type": "stream",
          "name": "stderr",
          "text": [
            "INFO:tensorflow:Assets written to: model_experiments/model_4_conv1d/assets\n"
          ]
        },
        {
          "output_type": "stream",
          "name": "stdout",
          "text": [
            "16/16 [==============================] - 1s 60ms/step - loss: 188.0310 - mae: 188.0310 - mse: 153287.9219 - val_loss: 1111.7089 - val_mae: 1111.7089 - val_mse: 3196953.5000\n",
            "Epoch 19/100\n",
            "16/16 [==============================] - 0s 3ms/step - loss: 188.7068 - mae: 188.7068 - mse: 152508.6406 - val_loss: 1123.7361 - val_mae: 1123.7361 - val_mse: 3144228.7500\n",
            "Epoch 20/100\n",
            " 1/16 [>.............................] - ETA: 0s - loss: 152.0679 - mae: 152.0679 - mse: 112146.5703INFO:tensorflow:Assets written to: model_experiments/model_4_conv1d/assets\n"
          ]
        },
        {
          "output_type": "stream",
          "name": "stderr",
          "text": [
            "INFO:tensorflow:Assets written to: model_experiments/model_4_conv1d/assets\n"
          ]
        },
        {
          "output_type": "stream",
          "name": "stdout",
          "text": [
            "16/16 [==============================] - 1s 58ms/step - loss: 181.9285 - mae: 181.9285 - mse: 140489.9375 - val_loss: 1084.1907 - val_mae: 1084.1907 - val_mse: 3002623.0000\n",
            "Epoch 21/100\n",
            " 1/16 [>.............................] - ETA: 0s - loss: 165.3533 - mae: 165.3533 - mse: 113476.0547INFO:tensorflow:Assets written to: model_experiments/model_4_conv1d/assets\n"
          ]
        },
        {
          "output_type": "stream",
          "name": "stderr",
          "text": [
            "INFO:tensorflow:Assets written to: model_experiments/model_4_conv1d/assets\n"
          ]
        },
        {
          "output_type": "stream",
          "name": "stdout",
          "text": [
            "16/16 [==============================] - 1s 59ms/step - loss: 181.6915 - mae: 181.6915 - mse: 141165.6406 - val_loss: 1052.6686 - val_mae: 1052.6686 - val_mse: 2974825.0000\n",
            "Epoch 22/100\n",
            "16/16 [==============================] - 0s 4ms/step - loss: 177.5594 - mae: 177.5594 - mse: 136831.0156 - val_loss: 1078.0790 - val_mae: 1078.0790 - val_mse: 2877691.7500\n",
            "Epoch 23/100\n",
            " 1/16 [>.............................] - ETA: 0s - loss: 180.3192 - mae: 180.3192 - mse: 150383.0938INFO:tensorflow:Assets written to: model_experiments/model_4_conv1d/assets\n"
          ]
        },
        {
          "output_type": "stream",
          "name": "stderr",
          "text": [
            "INFO:tensorflow:Assets written to: model_experiments/model_4_conv1d/assets\n"
          ]
        },
        {
          "output_type": "stream",
          "name": "stdout",
          "text": [
            "16/16 [==============================] - 1s 58ms/step - loss: 168.5046 - mae: 168.5046 - mse: 129000.5000 - val_loss: 1021.8651 - val_mae: 1021.8651 - val_mse: 2748450.0000\n",
            "Epoch 24/100\n",
            " 1/16 [>.............................] - ETA: 0s - loss: 148.2582 - mae: 148.2582 - mse: 89227.5703INFO:tensorflow:Assets written to: model_experiments/model_4_conv1d/assets\n"
          ]
        },
        {
          "output_type": "stream",
          "name": "stderr",
          "text": [
            "INFO:tensorflow:Assets written to: model_experiments/model_4_conv1d/assets\n"
          ]
        },
        {
          "output_type": "stream",
          "name": "stdout",
          "text": [
            "16/16 [==============================] - 1s 60ms/step - loss: 168.9877 - mae: 168.9877 - mse: 127976.8359 - val_loss: 1008.9404 - val_mae: 1008.9404 - val_mse: 2681408.0000\n",
            "Epoch 25/100\n",
            " 1/16 [>.............................] - ETA: 0s - loss: 174.0887 - mae: 174.0887 - mse: 123080.6250INFO:tensorflow:Assets written to: model_experiments/model_4_conv1d/assets\n"
          ]
        },
        {
          "output_type": "stream",
          "name": "stderr",
          "text": [
            "INFO:tensorflow:Assets written to: model_experiments/model_4_conv1d/assets\n"
          ]
        },
        {
          "output_type": "stream",
          "name": "stdout",
          "text": [
            "16/16 [==============================] - 1s 61ms/step - loss: 165.7496 - mae: 165.7496 - mse: 124560.7344 - val_loss: 996.7856 - val_mae: 996.7856 - val_mse: 2599948.5000\n",
            "Epoch 26/100\n",
            " 1/16 [>.............................] - ETA: 0s - loss: 179.6732 - mae: 179.6732 - mse: 150077.5312INFO:tensorflow:Assets written to: model_experiments/model_4_conv1d/assets\n"
          ]
        },
        {
          "output_type": "stream",
          "name": "stderr",
          "text": [
            "INFO:tensorflow:Assets written to: model_experiments/model_4_conv1d/assets\n"
          ]
        },
        {
          "output_type": "stream",
          "name": "stdout",
          "text": [
            "16/16 [==============================] - 1s 56ms/step - loss: 163.0756 - mae: 163.0756 - mse: 121608.9844 - val_loss: 992.1192 - val_mae: 992.1192 - val_mse: 2517845.5000\n",
            "Epoch 27/100\n",
            "16/16 [==============================] - 0s 5ms/step - loss: 160.8960 - mae: 160.8960 - mse: 117736.7344 - val_loss: 1004.0772 - val_mae: 1004.0772 - val_mse: 2502774.5000\n",
            "Epoch 28/100\n",
            "16/16 [==============================] - 0s 3ms/step - loss: 159.2259 - mae: 159.2259 - mse: 114220.3516 - val_loss: 1008.6929 - val_mae: 1008.6929 - val_mse: 2486994.7500\n",
            "Epoch 29/100\n",
            " 1/16 [>.............................] - ETA: 0s - loss: 157.2840 - mae: 157.2840 - mse: 88914.5000INFO:tensorflow:Assets written to: model_experiments/model_4_conv1d/assets\n"
          ]
        },
        {
          "output_type": "stream",
          "name": "stderr",
          "text": [
            "INFO:tensorflow:Assets written to: model_experiments/model_4_conv1d/assets\n"
          ]
        },
        {
          "output_type": "stream",
          "name": "stdout",
          "text": [
            "16/16 [==============================] - 1s 59ms/step - loss: 162.2737 - mae: 162.2737 - mse: 117174.2812 - val_loss: 971.3234 - val_mae: 971.3234 - val_mse: 2366429.2500\n",
            "Epoch 30/100\n",
            " 1/16 [>.............................] - ETA: 0s - loss: 179.8146 - mae: 179.8146 - mse: 157421.6875INFO:tensorflow:Assets written to: model_experiments/model_4_conv1d/assets\n"
          ]
        },
        {
          "output_type": "stream",
          "name": "stderr",
          "text": [
            "INFO:tensorflow:Assets written to: model_experiments/model_4_conv1d/assets\n"
          ]
        },
        {
          "output_type": "stream",
          "name": "stdout",
          "text": [
            "16/16 [==============================] - 1s 58ms/step - loss: 155.0658 - mae: 155.0657 - mse: 111233.7109 - val_loss: 940.7006 - val_mae: 940.7006 - val_mse: 2304936.7500\n",
            "Epoch 31/100\n",
            "16/16 [==============================] - 0s 5ms/step - loss: 155.1667 - mae: 155.1667 - mse: 109282.5547 - val_loss: 975.1465 - val_mae: 975.1465 - val_mse: 2337285.0000\n",
            "Epoch 32/100\n",
            " 1/16 [>.............................] - ETA: 0s - loss: 151.0329 - mae: 151.0329 - mse: 100305.8594INFO:tensorflow:Assets written to: model_experiments/model_4_conv1d/assets\n"
          ]
        },
        {
          "output_type": "stream",
          "name": "stderr",
          "text": [
            "INFO:tensorflow:Assets written to: model_experiments/model_4_conv1d/assets\n"
          ]
        },
        {
          "output_type": "stream",
          "name": "stdout",
          "text": [
            "16/16 [==============================] - 1s 62ms/step - loss: 152.1352 - mae: 152.1352 - mse: 108165.7969 - val_loss: 924.1945 - val_mae: 924.1945 - val_mse: 2266424.0000\n",
            "Epoch 33/100\n",
            " 1/16 [>.............................] - ETA: 0s - loss: 172.5975 - mae: 172.5975 - mse: 117083.4844INFO:tensorflow:Assets written to: model_experiments/model_4_conv1d/assets\n"
          ]
        },
        {
          "output_type": "stream",
          "name": "stderr",
          "text": [
            "INFO:tensorflow:Assets written to: model_experiments/model_4_conv1d/assets\n"
          ]
        },
        {
          "output_type": "stream",
          "name": "stdout",
          "text": [
            "16/16 [==============================] - 1s 58ms/step - loss: 153.5153 - mae: 153.5153 - mse: 108766.8203 - val_loss: 914.4948 - val_mae: 914.4948 - val_mse: 2205915.2500\n",
            "Epoch 34/100\n",
            "16/16 [==============================] - 0s 4ms/step - loss: 151.6044 - mae: 151.6044 - mse: 106395.9141 - val_loss: 925.8115 - val_mae: 925.8115 - val_mse: 2165485.5000\n",
            "Epoch 35/100\n",
            " 1/16 [>.............................] - ETA: 0s - loss: 157.6953 - mae: 157.6953 - mse: 132149.6875INFO:tensorflow:Assets written to: model_experiments/model_4_conv1d/assets\n"
          ]
        },
        {
          "output_type": "stream",
          "name": "stderr",
          "text": [
            "INFO:tensorflow:Assets written to: model_experiments/model_4_conv1d/assets\n"
          ]
        },
        {
          "output_type": "stream",
          "name": "stdout",
          "text": [
            "16/16 [==============================] - 1s 84ms/step - loss: 152.2787 - mae: 152.2787 - mse: 106260.2344 - val_loss: 910.3981 - val_mae: 910.3981 - val_mse: 2117867.7500\n",
            "Epoch 36/100\n",
            " 1/16 [>.............................] - ETA: 0s - loss: 153.8762 - mae: 153.8762 - mse: 93333.2891INFO:tensorflow:Assets written to: model_experiments/model_4_conv1d/assets\n"
          ]
        },
        {
          "output_type": "stream",
          "name": "stderr",
          "text": [
            "INFO:tensorflow:Assets written to: model_experiments/model_4_conv1d/assets\n"
          ]
        },
        {
          "output_type": "stream",
          "name": "stdout",
          "text": [
            "16/16 [==============================] - 1s 61ms/step - loss: 146.8560 - mae: 146.8560 - mse: 102840.9531 - val_loss: 894.7363 - val_mae: 894.7363 - val_mse: 2142079.2500\n",
            "Epoch 37/100\n",
            " 1/16 [>.............................] - ETA: 0s - loss: 158.0915 - mae: 158.0915 - mse: 80560.1406INFO:tensorflow:Assets written to: model_experiments/model_4_conv1d/assets\n"
          ]
        },
        {
          "output_type": "stream",
          "name": "stderr",
          "text": [
            "INFO:tensorflow:Assets written to: model_experiments/model_4_conv1d/assets\n"
          ]
        },
        {
          "output_type": "stream",
          "name": "stdout",
          "text": [
            "16/16 [==============================] - 1s 60ms/step - loss: 151.1482 - mae: 151.1482 - mse: 105770.3516 - val_loss: 887.7806 - val_mae: 887.7806 - val_mse: 2110169.0000\n",
            "Epoch 38/100\n",
            "16/16 [==============================] - 0s 4ms/step - loss: 154.6591 - mae: 154.6591 - mse: 106645.3281 - val_loss: 908.1343 - val_mae: 908.1343 - val_mse: 2084164.7500\n",
            "Epoch 39/100\n",
            " 1/16 [>.............................] - ETA: 0s - loss: 113.4535 - mae: 113.4535 - mse: 57410.5742INFO:tensorflow:Assets written to: model_experiments/model_4_conv1d/assets\n"
          ]
        },
        {
          "output_type": "stream",
          "name": "stderr",
          "text": [
            "INFO:tensorflow:Assets written to: model_experiments/model_4_conv1d/assets\n"
          ]
        },
        {
          "output_type": "stream",
          "name": "stdout",
          "text": [
            "16/16 [==============================] - 1s 65ms/step - loss: 149.0603 - mae: 149.0603 - mse: 102636.9453 - val_loss: 872.7212 - val_mae: 872.7212 - val_mse: 2023002.2500\n",
            "Epoch 40/100\n",
            "16/16 [==============================] - 0s 4ms/step - loss: 147.8287 - mae: 147.8287 - mse: 101688.1484 - val_loss: 886.5862 - val_mae: 886.5862 - val_mse: 2108291.2500\n",
            "Epoch 41/100\n",
            "16/16 [==============================] - 0s 3ms/step - loss: 148.8920 - mae: 148.8920 - mse: 101024.5391 - val_loss: 887.0046 - val_mae: 887.0046 - val_mse: 2107617.2500\n",
            "Epoch 42/100\n",
            "16/16 [==============================] - 0s 4ms/step - loss: 146.6764 - mae: 146.6764 - mse: 102126.8750 - val_loss: 903.9785 - val_mae: 903.9785 - val_mse: 2164168.7500\n",
            "Epoch 43/100\n",
            "16/16 [==============================] - 0s 5ms/step - loss: 146.1439 - mae: 146.1439 - mse: 101353.1719 - val_loss: 910.5792 - val_mae: 910.5792 - val_mse: 2185076.0000\n",
            "Epoch 44/100\n",
            " 1/16 [>.............................] - ETA: 0s - loss: 118.3832 - mae: 118.3832 - mse: 49572.9062INFO:tensorflow:Assets written to: model_experiments/model_4_conv1d/assets\n"
          ]
        },
        {
          "output_type": "stream",
          "name": "stderr",
          "text": [
            "INFO:tensorflow:Assets written to: model_experiments/model_4_conv1d/assets\n"
          ]
        },
        {
          "output_type": "stream",
          "name": "stdout",
          "text": [
            "16/16 [==============================] - 1s 58ms/step - loss: 151.6192 - mae: 151.6192 - mse: 102973.8906 - val_loss: 857.3073 - val_mae: 857.3073 - val_mse: 1986308.5000\n",
            "Epoch 45/100\n",
            "16/16 [==============================] - 0s 4ms/step - loss: 145.4990 - mae: 145.4990 - mse: 100890.4688 - val_loss: 909.5447 - val_mae: 909.5447 - val_mse: 2059421.2500\n",
            "Epoch 46/100\n",
            " 1/16 [>.............................] - ETA: 0s - loss: 147.4298 - mae: 147.4298 - mse: 68656.5781INFO:tensorflow:Assets written to: model_experiments/model_4_conv1d/assets\n"
          ]
        },
        {
          "output_type": "stream",
          "name": "stderr",
          "text": [
            "INFO:tensorflow:Assets written to: model_experiments/model_4_conv1d/assets\n"
          ]
        },
        {
          "output_type": "stream",
          "name": "stdout",
          "text": [
            "16/16 [==============================] - 1s 58ms/step - loss: 142.7397 - mae: 142.7397 - mse: 96495.8281 - val_loss: 844.3004 - val_mae: 844.3004 - val_mse: 1923423.7500\n",
            "Epoch 47/100\n",
            " 1/16 [>.............................] - ETA: 0s - loss: 126.8980 - mae: 126.8980 - mse: 64562.7070INFO:tensorflow:Assets written to: model_experiments/model_4_conv1d/assets\n"
          ]
        },
        {
          "output_type": "stream",
          "name": "stderr",
          "text": [
            "INFO:tensorflow:Assets written to: model_experiments/model_4_conv1d/assets\n"
          ]
        },
        {
          "output_type": "stream",
          "name": "stdout",
          "text": [
            "16/16 [==============================] - 1s 59ms/step - loss: 142.4148 - mae: 142.4148 - mse: 97082.9609 - val_loss: 841.8160 - val_mae: 841.8160 - val_mse: 1919598.6250\n",
            "Epoch 48/100\n",
            "16/16 [==============================] - 0s 3ms/step - loss: 140.9670 - mae: 140.9670 - mse: 96002.0859 - val_loss: 843.1539 - val_mae: 843.1539 - val_mse: 1892031.6250\n",
            "Epoch 49/100\n",
            " 1/16 [>.............................] - ETA: 0s - loss: 116.4006 - mae: 116.4006 - mse: 56174.4375INFO:tensorflow:Assets written to: model_experiments/model_4_conv1d/assets\n"
          ]
        },
        {
          "output_type": "stream",
          "name": "stderr",
          "text": [
            "INFO:tensorflow:Assets written to: model_experiments/model_4_conv1d/assets\n"
          ]
        },
        {
          "output_type": "stream",
          "name": "stdout",
          "text": [
            "16/16 [==============================] - 1s 59ms/step - loss: 140.8967 - mae: 140.8967 - mse: 94533.0781 - val_loss: 838.9982 - val_mae: 838.9982 - val_mse: 1882294.1250\n",
            "Epoch 50/100\n",
            "16/16 [==============================] - 0s 5ms/step - loss: 142.0085 - mae: 142.0085 - mse: 95487.8594 - val_loss: 844.2853 - val_mae: 844.2853 - val_mse: 1931301.1250\n",
            "Epoch 51/100\n",
            "16/16 [==============================] - 0s 4ms/step - loss: 140.1582 - mae: 140.1582 - mse: 94095.2266 - val_loss: 842.6795 - val_mae: 842.6795 - val_mse: 1924575.3750\n",
            "Epoch 52/100\n",
            " 1/16 [>.............................] - ETA: 0s - loss: 129.7572 - mae: 129.7572 - mse: 64756.7734INFO:tensorflow:Assets written to: model_experiments/model_4_conv1d/assets\n"
          ]
        },
        {
          "output_type": "stream",
          "name": "stderr",
          "text": [
            "INFO:tensorflow:Assets written to: model_experiments/model_4_conv1d/assets\n"
          ]
        },
        {
          "output_type": "stream",
          "name": "stdout",
          "text": [
            "16/16 [==============================] - 1s 61ms/step - loss: 140.8795 - mae: 140.8795 - mse: 95585.4609 - val_loss: 827.3381 - val_mae: 827.3381 - val_mse: 1869211.1250\n",
            "Epoch 53/100\n",
            "16/16 [==============================] - 0s 5ms/step - loss: 140.9980 - mae: 140.9980 - mse: 95999.2500 - val_loss: 830.5673 - val_mae: 830.5673 - val_mse: 1880275.0000\n",
            "Epoch 54/100\n",
            "16/16 [==============================] - 0s 4ms/step - loss: 138.7280 - mae: 138.7280 - mse: 93940.7969 - val_loss: 943.1268 - val_mae: 943.1268 - val_mse: 2267482.0000\n",
            "Epoch 55/100\n",
            "16/16 [==============================] - 0s 5ms/step - loss: 144.0410 - mae: 144.0410 - mse: 95990.6641 - val_loss: 827.5560 - val_mae: 827.5560 - val_mse: 1836787.3750\n",
            "Epoch 56/100\n",
            " 1/16 [>.............................] - ETA: 0s - loss: 132.9796 - mae: 132.9796 - mse: 116181.7812INFO:tensorflow:Assets written to: model_experiments/model_4_conv1d/assets\n"
          ]
        },
        {
          "output_type": "stream",
          "name": "stderr",
          "text": [
            "INFO:tensorflow:Assets written to: model_experiments/model_4_conv1d/assets\n"
          ]
        },
        {
          "output_type": "stream",
          "name": "stdout",
          "text": [
            "16/16 [==============================] - 1s 58ms/step - loss: 143.4251 - mae: 143.4251 - mse: 92747.5625 - val_loss: 822.1810 - val_mae: 822.1810 - val_mse: 1851529.7500\n",
            "Epoch 57/100\n",
            "16/16 [==============================] - 0s 4ms/step - loss: 138.7098 - mae: 138.7098 - mse: 93681.3984 - val_loss: 891.0688 - val_mae: 891.0688 - val_mse: 2072135.8750\n",
            "Epoch 58/100\n",
            "16/16 [==============================] - 0s 3ms/step - loss: 146.8635 - mae: 146.8635 - mse: 97944.8203 - val_loss: 912.0415 - val_mae: 912.0415 - val_mse: 2141185.5000\n",
            "Epoch 59/100\n",
            " 1/16 [>.............................] - ETA: 0s - loss: 168.2836 - mae: 168.2836 - mse: 192423.9375INFO:tensorflow:Assets written to: model_experiments/model_4_conv1d/assets\n"
          ]
        },
        {
          "output_type": "stream",
          "name": "stderr",
          "text": [
            "INFO:tensorflow:Assets written to: model_experiments/model_4_conv1d/assets\n"
          ]
        },
        {
          "output_type": "stream",
          "name": "stdout",
          "text": [
            "16/16 [==============================] - 1s 60ms/step - loss: 144.7249 - mae: 144.7249 - mse: 95785.3359 - val_loss: 821.4522 - val_mae: 821.4522 - val_mse: 1847641.0000\n",
            "Epoch 60/100\n",
            " 1/16 [>.............................] - ETA: 0s - loss: 128.7364 - mae: 128.7364 - mse: 77780.5703INFO:tensorflow:Assets written to: model_experiments/model_4_conv1d/assets\n"
          ]
        },
        {
          "output_type": "stream",
          "name": "stderr",
          "text": [
            "INFO:tensorflow:Assets written to: model_experiments/model_4_conv1d/assets\n"
          ]
        },
        {
          "output_type": "stream",
          "name": "stdout",
          "text": [
            "16/16 [==============================] - 1s 57ms/step - loss: 140.0819 - mae: 140.0819 - mse: 94634.5547 - val_loss: 812.5758 - val_mae: 812.5758 - val_mse: 1819032.0000\n",
            "Epoch 61/100\n",
            "16/16 [==============================] - 0s 4ms/step - loss: 137.7658 - mae: 137.7658 - mse: 91709.7812 - val_loss: 830.5626 - val_mae: 830.5626 - val_mse: 1874812.3750\n",
            "Epoch 62/100\n",
            "16/16 [==============================] - 0s 4ms/step - loss: 140.3625 - mae: 140.3625 - mse: 95071.0938 - val_loss: 834.2454 - val_mae: 834.2454 - val_mse: 1884943.6250\n",
            "Epoch 63/100\n",
            "16/16 [==============================] - 0s 3ms/step - loss: 143.8800 - mae: 143.8800 - mse: 97435.1406 - val_loss: 817.5231 - val_mae: 817.5231 - val_mse: 1802656.0000\n",
            "Epoch 64/100\n",
            "16/16 [==============================] - 0s 5ms/step - loss: 137.6964 - mae: 137.6964 - mse: 92351.7344 - val_loss: 813.3296 - val_mae: 813.3296 - val_mse: 1820458.1250\n",
            "Epoch 65/100\n",
            " 1/16 [>.............................] - ETA: 0s - loss: 142.2573 - mae: 142.2573 - mse: 94830.2969INFO:tensorflow:Assets written to: model_experiments/model_4_conv1d/assets\n"
          ]
        },
        {
          "output_type": "stream",
          "name": "stderr",
          "text": [
            "INFO:tensorflow:Assets written to: model_experiments/model_4_conv1d/assets\n"
          ]
        },
        {
          "output_type": "stream",
          "name": "stdout",
          "text": [
            "16/16 [==============================] - 1s 59ms/step - loss: 136.9903 - mae: 136.9903 - mse: 91848.1406 - val_loss: 804.6339 - val_mae: 804.6339 - val_mse: 1786526.2500\n",
            "Epoch 66/100\n",
            "16/16 [==============================] - 0s 4ms/step - loss: 138.1904 - mae: 138.1904 - mse: 93298.7266 - val_loss: 804.6919 - val_mae: 804.6919 - val_mse: 1783243.0000\n",
            "Epoch 67/100\n",
            "16/16 [==============================] - 0s 4ms/step - loss: 139.8370 - mae: 139.8370 - mse: 93051.3984 - val_loss: 835.0067 - val_mae: 835.0067 - val_mse: 1832141.8750\n",
            "Epoch 68/100\n",
            " 1/16 [>.............................] - ETA: 0s - loss: 161.7350 - mae: 161.7350 - mse: 123319.7656INFO:tensorflow:Assets written to: model_experiments/model_4_conv1d/assets\n"
          ]
        },
        {
          "output_type": "stream",
          "name": "stderr",
          "text": [
            "INFO:tensorflow:Assets written to: model_experiments/model_4_conv1d/assets\n"
          ]
        },
        {
          "output_type": "stream",
          "name": "stdout",
          "text": [
            "16/16 [==============================] - 1s 59ms/step - loss: 139.5380 - mae: 139.5380 - mse: 92024.7656 - val_loss: 802.4094 - val_mae: 802.4094 - val_mse: 1782137.3750\n",
            "Epoch 69/100\n",
            "16/16 [==============================] - 0s 5ms/step - loss: 135.6742 - mae: 135.6742 - mse: 90677.6094 - val_loss: 814.8882 - val_mae: 814.8882 - val_mse: 1789533.2500\n",
            "Epoch 70/100\n",
            "16/16 [==============================] - 0s 5ms/step - loss: 135.6396 - mae: 135.6396 - mse: 90691.3047 - val_loss: 802.7428 - val_mae: 802.7428 - val_mse: 1785888.0000\n",
            "Epoch 71/100\n",
            " 1/16 [>.............................] - ETA: 0s - loss: 119.9592 - mae: 119.9592 - mse: 43938.3555INFO:tensorflow:Assets written to: model_experiments/model_4_conv1d/assets\n"
          ]
        },
        {
          "output_type": "stream",
          "name": "stderr",
          "text": [
            "INFO:tensorflow:Assets written to: model_experiments/model_4_conv1d/assets\n"
          ]
        },
        {
          "output_type": "stream",
          "name": "stdout",
          "text": [
            "16/16 [==============================] - 1s 86ms/step - loss: 137.0824 - mae: 137.0824 - mse: 90338.6016 - val_loss: 801.7094 - val_mae: 801.7094 - val_mse: 1782618.2500\n",
            "Epoch 72/100\n",
            "16/16 [==============================] - 0s 3ms/step - loss: 137.1554 - mae: 137.1554 - mse: 90662.9062 - val_loss: 834.9670 - val_mae: 834.9670 - val_mse: 1878342.0000\n",
            "Epoch 73/100\n",
            "16/16 [==============================] - 0s 4ms/step - loss: 136.7645 - mae: 136.7645 - mse: 91221.1094 - val_loss: 820.6537 - val_mae: 820.6537 - val_mse: 1793677.0000\n",
            "Epoch 74/100\n",
            "16/16 [==============================] - 0s 5ms/step - loss: 135.6894 - mae: 135.6894 - mse: 90909.1484 - val_loss: 851.1661 - val_mae: 851.1661 - val_mse: 1861242.7500\n",
            "Epoch 75/100\n",
            "16/16 [==============================] - 0s 4ms/step - loss: 141.9757 - mae: 141.9757 - mse: 94348.3750 - val_loss: 809.2652 - val_mae: 809.2652 - val_mse: 1772193.0000\n",
            "Epoch 76/100\n",
            "16/16 [==============================] - 0s 4ms/step - loss: 134.3349 - mae: 134.3349 - mse: 88484.4297 - val_loss: 803.0789 - val_mae: 803.0789 - val_mse: 1786449.0000\n",
            "Epoch 77/100\n",
            " 1/16 [>.............................] - ETA: 0s - loss: 170.6404 - mae: 170.6404 - mse: 164116.5781INFO:tensorflow:Assets written to: model_experiments/model_4_conv1d/assets\n"
          ]
        },
        {
          "output_type": "stream",
          "name": "stderr",
          "text": [
            "INFO:tensorflow:Assets written to: model_experiments/model_4_conv1d/assets\n"
          ]
        },
        {
          "output_type": "stream",
          "name": "stdout",
          "text": [
            "16/16 [==============================] - 1s 59ms/step - loss: 134.6875 - mae: 134.6875 - mse: 90505.8516 - val_loss: 793.7151 - val_mae: 793.7151 - val_mse: 1753842.1250\n",
            "Epoch 78/100\n",
            "16/16 [==============================] - 0s 5ms/step - loss: 135.5941 - mae: 135.5941 - mse: 88512.1641 - val_loss: 867.7035 - val_mae: 867.7035 - val_mse: 1898823.1250\n",
            "Epoch 79/100\n",
            "16/16 [==============================] - 0s 4ms/step - loss: 134.3961 - mae: 134.3961 - mse: 88837.6406 - val_loss: 798.6500 - val_mae: 798.6500 - val_mse: 1773476.6250\n",
            "Epoch 80/100\n",
            "16/16 [==============================] - 0s 5ms/step - loss: 138.0644 - mae: 138.0644 - mse: 90994.3125 - val_loss: 804.1266 - val_mae: 804.1266 - val_mse: 1758574.7500\n",
            "Epoch 81/100\n",
            "16/16 [==============================] - 0s 3ms/step - loss: 135.9756 - mae: 135.9756 - mse: 90306.6406 - val_loss: 800.1955 - val_mae: 800.1955 - val_mse: 1777735.6250\n",
            "Epoch 82/100\n",
            "16/16 [==============================] - 0s 5ms/step - loss: 139.1013 - mae: 139.1013 - mse: 93960.0781 - val_loss: 854.7799 - val_mae: 854.7799 - val_mse: 1929186.5000\n",
            "Epoch 83/100\n",
            "16/16 [==============================] - 0s 5ms/step - loss: 135.0272 - mae: 135.0272 - mse: 89836.7734 - val_loss: 818.5647 - val_mae: 818.5647 - val_mse: 1783357.6250\n",
            "Epoch 84/100\n",
            "16/16 [==============================] - 0s 4ms/step - loss: 136.1903 - mae: 136.1903 - mse: 89778.0703 - val_loss: 851.8734 - val_mae: 851.8734 - val_mse: 1855967.5000\n",
            "Epoch 85/100\n",
            "16/16 [==============================] - 0s 5ms/step - loss: 134.3828 - mae: 134.3828 - mse: 88357.6484 - val_loss: 795.2032 - val_mae: 795.2032 - val_mse: 1739492.8750\n",
            "Epoch 86/100\n",
            "16/16 [==============================] - 0s 4ms/step - loss: 133.1968 - mae: 133.1968 - mse: 88459.4219 - val_loss: 798.3890 - val_mae: 798.3890 - val_mse: 1771015.6250\n",
            "Epoch 87/100\n",
            "16/16 [==============================] - 0s 4ms/step - loss: 133.1765 - mae: 133.1765 - mse: 88596.1562 - val_loss: 824.0004 - val_mae: 824.0004 - val_mse: 1836907.2500\n",
            "Epoch 88/100\n",
            " 1/16 [>.............................] - ETA: 0s - loss: 132.4362 - mae: 132.4362 - mse: 83391.3125INFO:tensorflow:Assets written to: model_experiments/model_4_conv1d/assets\n"
          ]
        },
        {
          "output_type": "stream",
          "name": "stderr",
          "text": [
            "INFO:tensorflow:Assets written to: model_experiments/model_4_conv1d/assets\n"
          ]
        },
        {
          "output_type": "stream",
          "name": "stdout",
          "text": [
            "16/16 [==============================] - 1s 60ms/step - loss: 134.6609 - mae: 134.6609 - mse: 87822.7031 - val_loss: 791.3494 - val_mae: 791.3494 - val_mse: 1731340.3750\n",
            "Epoch 89/100\n",
            "16/16 [==============================] - 0s 4ms/step - loss: 134.5020 - mae: 134.5020 - mse: 89465.8984 - val_loss: 796.9254 - val_mae: 796.9254 - val_mse: 1738477.2500\n",
            "Epoch 90/100\n",
            "16/16 [==============================] - 0s 4ms/step - loss: 134.2887 - mae: 134.2887 - mse: 89791.6250 - val_loss: 793.5689 - val_mae: 793.5689 - val_mse: 1758260.1250\n",
            "Epoch 91/100\n",
            "16/16 [==============================] - 0s 4ms/step - loss: 135.0768 - mae: 135.0768 - mse: 89908.2500 - val_loss: 791.3668 - val_mae: 791.3668 - val_mse: 1729994.5000\n",
            "Epoch 92/100\n",
            " 1/16 [>.............................] - ETA: 0s - loss: 162.9245 - mae: 162.9245 - mse: 146860.3438INFO:tensorflow:Assets written to: model_experiments/model_4_conv1d/assets\n"
          ]
        },
        {
          "output_type": "stream",
          "name": "stderr",
          "text": [
            "INFO:tensorflow:Assets written to: model_experiments/model_4_conv1d/assets\n"
          ]
        },
        {
          "output_type": "stream",
          "name": "stdout",
          "text": [
            "16/16 [==============================] - 1s 60ms/step - loss: 133.1476 - mae: 133.1476 - mse: 87815.4609 - val_loss: 787.6620 - val_mae: 787.6620 - val_mse: 1724441.5000\n",
            "Epoch 93/100\n",
            "16/16 [==============================] - 0s 4ms/step - loss: 132.1629 - mae: 132.1629 - mse: 87673.4453 - val_loss: 808.7603 - val_mae: 808.7603 - val_mse: 1758282.2500\n",
            "Epoch 94/100\n",
            "16/16 [==============================] - 0s 3ms/step - loss: 131.8956 - mae: 131.8956 - mse: 87916.1797 - val_loss: 789.2465 - val_mae: 789.2465 - val_mse: 1723080.3750\n",
            "Epoch 95/100\n",
            " 1/16 [>.............................] - ETA: 0s - loss: 109.2001 - mae: 109.2001 - mse: 68724.2578INFO:tensorflow:Assets written to: model_experiments/model_4_conv1d/assets\n"
          ]
        },
        {
          "output_type": "stream",
          "name": "stderr",
          "text": [
            "INFO:tensorflow:Assets written to: model_experiments/model_4_conv1d/assets\n"
          ]
        },
        {
          "output_type": "stream",
          "name": "stdout",
          "text": [
            "16/16 [==============================] - 1s 60ms/step - loss: 136.1039 - mae: 136.1039 - mse: 87979.2266 - val_loss: 782.6968 - val_mae: 782.6968 - val_mse: 1722924.2500\n",
            "Epoch 96/100\n",
            "16/16 [==============================] - 0s 3ms/step - loss: 140.2358 - mae: 140.2358 - mse: 91431.9219 - val_loss: 818.7465 - val_mae: 818.7465 - val_mse: 1822029.0000\n",
            "Epoch 97/100\n",
            "16/16 [==============================] - 0s 3ms/step - loss: 137.1452 - mae: 137.1452 - mse: 90410.9297 - val_loss: 845.4471 - val_mae: 845.4471 - val_mse: 1835878.2500\n",
            "Epoch 98/100\n",
            "16/16 [==============================] - 0s 4ms/step - loss: 141.5381 - mae: 141.5381 - mse: 92104.2578 - val_loss: 858.8604 - val_mae: 858.8604 - val_mse: 1867349.6250\n",
            "Epoch 99/100\n",
            "16/16 [==============================] - 0s 5ms/step - loss: 135.4813 - mae: 135.4813 - mse: 88213.7500 - val_loss: 834.7401 - val_mae: 834.7401 - val_mse: 1809582.8750\n",
            "Epoch 100/100\n",
            "16/16 [==============================] - 0s 4ms/step - loss: 133.2429 - mae: 133.2429 - mse: 87342.4688 - val_loss: 807.5435 - val_mae: 807.5435 - val_mse: 1752257.0000\n"
          ]
        }
      ]
    },
    {
      "cell_type": "code",
      "metadata": {
        "colab": {
          "base_uri": "https://localhost:8080/"
        },
        "id": "xgxSKjck7JXw",
        "outputId": "3585fbd8-0dc9-4a47-ea93-2cef7c497385"
      },
      "source": [
        "model_4.summary()"
      ],
      "execution_count": 227,
      "outputs": [
        {
          "output_type": "stream",
          "name": "stdout",
          "text": [
            "Model: \"model_4_conv1d\"\n",
            "_________________________________________________________________\n",
            " Layer (type)                Output Shape              Param #   \n",
            "=================================================================\n",
            " lambda_15 (Lambda)          (None, 1, 7)              0         \n",
            "                                                                 \n",
            " conv1d_10 (Conv1D)          (None, 1, 128)            4608      \n",
            "                                                                 \n",
            " dense_24 (Dense)            (None, 1, 1)              129       \n",
            "                                                                 \n",
            "=================================================================\n",
            "Total params: 4,737\n",
            "Trainable params: 4,737\n",
            "Non-trainable params: 0\n",
            "_________________________________________________________________\n"
          ]
        }
      ]
    },
    {
      "cell_type": "code",
      "metadata": {
        "colab": {
          "base_uri": "https://localhost:8080/"
        },
        "id": "1EU3mybf4tO0",
        "outputId": "c3a2b366-af2d-45ac-a7f4-9e01c3cd750d"
      },
      "source": [
        "model_4.evaluate(test_windows,test_labels)"
      ],
      "execution_count": 228,
      "outputs": [
        {
          "output_type": "stream",
          "name": "stdout",
          "text": [
            "16/16 [==============================] - 0s 1ms/step - loss: 807.5434 - mae: 807.5434 - mse: 1752256.8750\n"
          ]
        },
        {
          "output_type": "execute_result",
          "data": {
            "text/plain": [
              "[807.5433959960938, 807.5433959960938, 1752256.875]"
            ]
          },
          "metadata": {},
          "execution_count": 228
        }
      ]
    },
    {
      "cell_type": "code",
      "metadata": {
        "colab": {
          "base_uri": "https://localhost:8080/"
        },
        "id": "Hok1iTwa6K8y",
        "outputId": "2cba5dc8-f226-4efa-e1d4-a308dbcfede9"
      },
      "source": [
        "# load saved best model\n",
        "model_4 = tf.keras.models.load_model(\"model_experiments/model_4_conv1d/\")\n",
        "model_4.evaluate(test_windows,test_labels)"
      ],
      "execution_count": 229,
      "outputs": [
        {
          "output_type": "stream",
          "name": "stdout",
          "text": [
            "16/16 [==============================] - 0s 2ms/step - loss: 782.6968 - mae: 782.6968 - mse: 1722924.1250\n"
          ]
        },
        {
          "output_type": "execute_result",
          "data": {
            "text/plain": [
              "[782.6968383789062, 782.6968383789062, 1722924.125]"
            ]
          },
          "metadata": {},
          "execution_count": 229
        }
      ]
    },
    {
      "cell_type": "code",
      "metadata": {
        "id": "n1Y1mE4S6OSH"
      },
      "source": [
        "model_4_preds = make_preds(model_4, test_windows)"
      ],
      "execution_count": 230,
      "outputs": []
    },
    {
      "cell_type": "code",
      "metadata": {
        "colab": {
          "base_uri": "https://localhost:8080/"
        },
        "id": "v-KQZ9RQ6R33",
        "outputId": "6de00cdd-424d-4dd9-ed53-5fa1f7828bf6"
      },
      "source": [
        "model_4_results = evaluate_preds(y_true=tf.squeeze(test_labels), \n",
        "                                y_pred=(model_4_preds))\n",
        "model_4_results"
      ],
      "execution_count": 231,
      "outputs": [
        {
          "output_type": "execute_result",
          "data": {
            "text/plain": [
              "{'mae': 782.69684,\n",
              " 'mape': 2.6460981,\n",
              " 'mase': 1.0102082,\n",
              " 'mse': 1722924.0,\n",
              " 'rmse': 1312.602}"
            ]
          },
          "metadata": {},
          "execution_count": 231
        }
      ]
    },
    {
      "cell_type": "code",
      "metadata": {
        "colab": {
          "base_uri": "https://localhost:8080/"
        },
        "id": "QDQcmcCL6mwX",
        "outputId": "3a7109ba-e6a2-4ae3-acf3-be5b5897d4c6"
      },
      "source": [
        "model_1_results"
      ],
      "execution_count": 232,
      "outputs": [
        {
          "output_type": "execute_result",
          "data": {
            "text/plain": [
              "{'mae': 776.65283,\n",
              " 'mape': 2.626138,\n",
              " 'mase': 1.0024073,\n",
              " 'mse': 1705817.8,\n",
              " 'rmse': 1306.0696}"
            ]
          },
          "metadata": {},
          "execution_count": 232
        }
      ]
    },
    {
      "cell_type": "code",
      "metadata": {
        "colab": {
          "base_uri": "https://localhost:8080/",
          "height": 443
        },
        "id": "iB0T-ifx6rCW",
        "outputId": "e3c1b919-8629-41eb-bc07-723bd04ceb15"
      },
      "source": [
        "#plot prediction\n",
        "offset = 350\n",
        "plt.figure(figsize=(10,7))\n",
        "plot_time_series(timesteps=X_test[-len(test_windows):], \n",
        "                 values=test_labels[:, 0], \n",
        "                 start=offset,\n",
        "                 label=\"Test Data\")\n",
        "plot_time_series(timesteps=X_test[-len(test_windows):], \n",
        "                 values=(model_4_preds), \n",
        "                 start=offset,\n",
        "                 format=\"-\",\n",
        "                 label=\"Model_4_preds\")"
      ],
      "execution_count": 233,
      "outputs": [
        {
          "output_type": "display_data",
          "data": {
            "image/png": "[encoded data removed]",
            "text/plain": [
              "<Figure size 720x504 with 1 Axes>"
            ]
          },
          "metadata": {
            "needs_background": "light"
          }
        }
      ]
    },
    {
      "cell_type": "markdown",
      "metadata": {
        "id": "niuL2K2s66RW"
      },
      "source": [
        "### Model 5: LSTM"
      ]
    },
    {
      "cell_type": "code",
      "metadata": {
        "colab": {
          "base_uri": "https://localhost:8080/"
        },
        "id": "pjSyXrQF8zQD",
        "outputId": "2fdbb2f5-b690-4dba-bbe0-5809187b45a1"
      },
      "source": [
        "#Model 5\n",
        "\n",
        "inputs = tf.keras.layers.Input(shape=(WINDOW_SIZE))\n",
        "x = tf.keras.layers.Lambda(lambda x: tf.expand_dims(x, axis=1))(inputs)\n",
        "x = tf.keras.layers.LSTM(128, activation=\"relu\")(x)\n",
        "outputs = tf.keras.layers.Dense(HORIZON)(x)\n",
        "\n",
        "model_5 = tf.keras.Model(inputs, outputs,name=\"model_5_lstm\")\n",
        "\n",
        "#2. Compile the model\n",
        "model_5.compile(loss=\"mae\",\n",
        "                optimizer=tf.keras.optimizers.Adam(),\n",
        "                metrics=[\"mae\", \"mse\"])\n",
        "#3.Fit the model\n",
        "history_5 = model_5.fit(train_windows,\n",
        "                        train_labels,\n",
        "                        epochs=100,\n",
        "                        verbose=0,\n",
        "                        batch_size=128,\n",
        "                        validation_data=(test_windows, test_labels),\n",
        "                        callbacks=[create_model_checkpoint(model_name=model_5.name)])\n"
      ],
      "execution_count": 234,
      "outputs": [
        {
          "output_type": "stream",
          "name": "stdout",
          "text": [
            "INFO:tensorflow:Assets written to: model_experiments/model_5_lstm/assets\n"
          ]
        },
        {
          "output_type": "stream",
          "name": "stderr",
          "text": [
            "INFO:tensorflow:Assets written to: model_experiments/model_5_lstm/assets\n",
            "WARNING:absl:<keras.layers.recurrent.LSTMCell object at 0x7f48fca10590> has the same name 'LSTMCell' as a built-in Keras object. Consider renaming <class 'keras.layers.recurrent.LSTMCell'> to avoid naming conflicts when loading with `tf.keras.models.load_model`. If renaming is not possible, pass the object in the `custom_objects` parameter of the load function.\n"
          ]
        },
        {
          "output_type": "stream",
          "name": "stdout",
          "text": [
            "INFO:tensorflow:Assets written to: model_experiments/model_5_lstm/assets\n"
          ]
        },
        {
          "output_type": "stream",
          "name": "stderr",
          "text": [
            "INFO:tensorflow:Assets written to: model_experiments/model_5_lstm/assets\n",
            "WARNING:absl:<keras.layers.recurrent.LSTMCell object at 0x7f48fca10590> has the same name 'LSTMCell' as a built-in Keras object. Consider renaming <class 'keras.layers.recurrent.LSTMCell'> to avoid naming conflicts when loading with `tf.keras.models.load_model`. If renaming is not possible, pass the object in the `custom_objects` parameter of the load function.\n"
          ]
        },
        {
          "output_type": "stream",
          "name": "stdout",
          "text": [
            "INFO:tensorflow:Assets written to: model_experiments/model_5_lstm/assets\n"
          ]
        },
        {
          "output_type": "stream",
          "name": "stderr",
          "text": [
            "INFO:tensorflow:Assets written to: model_experiments/model_5_lstm/assets\n",
            "WARNING:absl:<keras.layers.recurrent.LSTMCell object at 0x7f48fca10590> has the same name 'LSTMCell' as a built-in Keras object. Consider renaming <class 'keras.layers.recurrent.LSTMCell'> to avoid naming conflicts when loading with `tf.keras.models.load_model`. If renaming is not possible, pass the object in the `custom_objects` parameter of the load function.\n"
          ]
        },
        {
          "output_type": "stream",
          "name": "stdout",
          "text": [
            "INFO:tensorflow:Assets written to: model_experiments/model_5_lstm/assets\n"
          ]
        },
        {
          "output_type": "stream",
          "name": "stderr",
          "text": [
            "INFO:tensorflow:Assets written to: model_experiments/model_5_lstm/assets\n",
            "WARNING:absl:<keras.layers.recurrent.LSTMCell object at 0x7f48fca10590> has the same name 'LSTMCell' as a built-in Keras object. Consider renaming <class 'keras.layers.recurrent.LSTMCell'> to avoid naming conflicts when loading with `tf.keras.models.load_model`. If renaming is not possible, pass the object in the `custom_objects` parameter of the load function.\n"
          ]
        },
        {
          "output_type": "stream",
          "name": "stdout",
          "text": [
            "INFO:tensorflow:Assets written to: model_experiments/model_5_lstm/assets\n"
          ]
        },
        {
          "output_type": "stream",
          "name": "stderr",
          "text": [
            "INFO:tensorflow:Assets written to: model_experiments/model_5_lstm/assets\n",
            "WARNING:absl:<keras.layers.recurrent.LSTMCell object at 0x7f48fca10590> has the same name 'LSTMCell' as a built-in Keras object. Consider renaming <class 'keras.layers.recurrent.LSTMCell'> to avoid naming conflicts when loading with `tf.keras.models.load_model`. If renaming is not possible, pass the object in the `custom_objects` parameter of the load function.\n"
          ]
        },
        {
          "output_type": "stream",
          "name": "stdout",
          "text": [
            "INFO:tensorflow:Assets written to: model_experiments/model_5_lstm/assets\n"
          ]
        },
        {
          "output_type": "stream",
          "name": "stderr",
          "text": [
            "INFO:tensorflow:Assets written to: model_experiments/model_5_lstm/assets\n",
            "WARNING:absl:<keras.layers.recurrent.LSTMCell object at 0x7f48fca10590> has the same name 'LSTMCell' as a built-in Keras object. Consider renaming <class 'keras.layers.recurrent.LSTMCell'> to avoid naming conflicts when loading with `tf.keras.models.load_model`. If renaming is not possible, pass the object in the `custom_objects` parameter of the load function.\n"
          ]
        },
        {
          "output_type": "stream",
          "name": "stdout",
          "text": [
            "INFO:tensorflow:Assets written to: model_experiments/model_5_lstm/assets\n"
          ]
        },
        {
          "output_type": "stream",
          "name": "stderr",
          "text": [
            "INFO:tensorflow:Assets written to: model_experiments/model_5_lstm/assets\n",
            "WARNING:absl:<keras.layers.recurrent.LSTMCell object at 0x7f48fca10590> has the same name 'LSTMCell' as a built-in Keras object. Consider renaming <class 'keras.layers.recurrent.LSTMCell'> to avoid naming conflicts when loading with `tf.keras.models.load_model`. If renaming is not possible, pass the object in the `custom_objects` parameter of the load function.\n"
          ]
        },
        {
          "output_type": "stream",
          "name": "stdout",
          "text": [
            "INFO:tensorflow:Assets written to: model_experiments/model_5_lstm/assets\n"
          ]
        },
        {
          "output_type": "stream",
          "name": "stderr",
          "text": [
            "INFO:tensorflow:Assets written to: model_experiments/model_5_lstm/assets\n",
            "WARNING:absl:<keras.layers.recurrent.LSTMCell object at 0x7f48fca10590> has the same name 'LSTMCell' as a built-in Keras object. Consider renaming <class 'keras.layers.recurrent.LSTMCell'> to avoid naming conflicts when loading with `tf.keras.models.load_model`. If renaming is not possible, pass the object in the `custom_objects` parameter of the load function.\n"
          ]
        },
        {
          "output_type": "stream",
          "name": "stdout",
          "text": [
            "INFO:tensorflow:Assets written to: model_experiments/model_5_lstm/assets\n"
          ]
        },
        {
          "output_type": "stream",
          "name": "stderr",
          "text": [
            "INFO:tensorflow:Assets written to: model_experiments/model_5_lstm/assets\n",
            "WARNING:absl:<keras.layers.recurrent.LSTMCell object at 0x7f48fca10590> has the same name 'LSTMCell' as a built-in Keras object. Consider renaming <class 'keras.layers.recurrent.LSTMCell'> to avoid naming conflicts when loading with `tf.keras.models.load_model`. If renaming is not possible, pass the object in the `custom_objects` parameter of the load function.\n"
          ]
        },
        {
          "output_type": "stream",
          "name": "stdout",
          "text": [
            "INFO:tensorflow:Assets written to: model_experiments/model_5_lstm/assets\n"
          ]
        },
        {
          "output_type": "stream",
          "name": "stderr",
          "text": [
            "INFO:tensorflow:Assets written to: model_experiments/model_5_lstm/assets\n",
            "WARNING:absl:<keras.layers.recurrent.LSTMCell object at 0x7f48fca10590> has the same name 'LSTMCell' as a built-in Keras object. Consider renaming <class 'keras.layers.recurrent.LSTMCell'> to avoid naming conflicts when loading with `tf.keras.models.load_model`. If renaming is not possible, pass the object in the `custom_objects` parameter of the load function.\n"
          ]
        },
        {
          "output_type": "stream",
          "name": "stdout",
          "text": [
            "INFO:tensorflow:Assets written to: model_experiments/model_5_lstm/assets\n"
          ]
        },
        {
          "output_type": "stream",
          "name": "stderr",
          "text": [
            "INFO:tensorflow:Assets written to: model_experiments/model_5_lstm/assets\n",
            "WARNING:absl:<keras.layers.recurrent.LSTMCell object at 0x7f48fca10590> has the same name 'LSTMCell' as a built-in Keras object. Consider renaming <class 'keras.layers.recurrent.LSTMCell'> to avoid naming conflicts when loading with `tf.keras.models.load_model`. If renaming is not possible, pass the object in the `custom_objects` parameter of the load function.\n"
          ]
        },
        {
          "output_type": "stream",
          "name": "stdout",
          "text": [
            "INFO:tensorflow:Assets written to: model_experiments/model_5_lstm/assets\n"
          ]
        },
        {
          "output_type": "stream",
          "name": "stderr",
          "text": [
            "INFO:tensorflow:Assets written to: model_experiments/model_5_lstm/assets\n",
            "WARNING:absl:<keras.layers.recurrent.LSTMCell object at 0x7f48fca10590> has the same name 'LSTMCell' as a built-in Keras object. Consider renaming <class 'keras.layers.recurrent.LSTMCell'> to avoid naming conflicts when loading with `tf.keras.models.load_model`. If renaming is not possible, pass the object in the `custom_objects` parameter of the load function.\n"
          ]
        },
        {
          "output_type": "stream",
          "name": "stdout",
          "text": [
            "INFO:tensorflow:Assets written to: model_experiments/model_5_lstm/assets\n"
          ]
        },
        {
          "output_type": "stream",
          "name": "stderr",
          "text": [
            "INFO:tensorflow:Assets written to: model_experiments/model_5_lstm/assets\n",
            "WARNING:absl:<keras.layers.recurrent.LSTMCell object at 0x7f48fca10590> has the same name 'LSTMCell' as a built-in Keras object. Consider renaming <class 'keras.layers.recurrent.LSTMCell'> to avoid naming conflicts when loading with `tf.keras.models.load_model`. If renaming is not possible, pass the object in the `custom_objects` parameter of the load function.\n"
          ]
        },
        {
          "output_type": "stream",
          "name": "stdout",
          "text": [
            "INFO:tensorflow:Assets written to: model_experiments/model_5_lstm/assets\n"
          ]
        },
        {
          "output_type": "stream",
          "name": "stderr",
          "text": [
            "INFO:tensorflow:Assets written to: model_experiments/model_5_lstm/assets\n",
            "WARNING:absl:<keras.layers.recurrent.LSTMCell object at 0x7f48fca10590> has the same name 'LSTMCell' as a built-in Keras object. Consider renaming <class 'keras.layers.recurrent.LSTMCell'> to avoid naming conflicts when loading with `tf.keras.models.load_model`. If renaming is not possible, pass the object in the `custom_objects` parameter of the load function.\n"
          ]
        },
        {
          "output_type": "stream",
          "name": "stdout",
          "text": [
            "INFO:tensorflow:Assets written to: model_experiments/model_5_lstm/assets\n"
          ]
        },
        {
          "output_type": "stream",
          "name": "stderr",
          "text": [
            "INFO:tensorflow:Assets written to: model_experiments/model_5_lstm/assets\n",
            "WARNING:absl:<keras.layers.recurrent.LSTMCell object at 0x7f48fca10590> has the same name 'LSTMCell' as a built-in Keras object. Consider renaming <class 'keras.layers.recurrent.LSTMCell'> to avoid naming conflicts when loading with `tf.keras.models.load_model`. If renaming is not possible, pass the object in the `custom_objects` parameter of the load function.\n"
          ]
        },
        {
          "output_type": "stream",
          "name": "stdout",
          "text": [
            "INFO:tensorflow:Assets written to: model_experiments/model_5_lstm/assets\n"
          ]
        },
        {
          "output_type": "stream",
          "name": "stderr",
          "text": [
            "INFO:tensorflow:Assets written to: model_experiments/model_5_lstm/assets\n",
            "WARNING:absl:<keras.layers.recurrent.LSTMCell object at 0x7f48fca10590> has the same name 'LSTMCell' as a built-in Keras object. Consider renaming <class 'keras.layers.recurrent.LSTMCell'> to avoid naming conflicts when loading with `tf.keras.models.load_model`. If renaming is not possible, pass the object in the `custom_objects` parameter of the load function.\n"
          ]
        },
        {
          "output_type": "stream",
          "name": "stdout",
          "text": [
            "INFO:tensorflow:Assets written to: model_experiments/model_5_lstm/assets\n"
          ]
        },
        {
          "output_type": "stream",
          "name": "stderr",
          "text": [
            "INFO:tensorflow:Assets written to: model_experiments/model_5_lstm/assets\n",
            "WARNING:absl:<keras.layers.recurrent.LSTMCell object at 0x7f48fca10590> has the same name 'LSTMCell' as a built-in Keras object. Consider renaming <class 'keras.layers.recurrent.LSTMCell'> to avoid naming conflicts when loading with `tf.keras.models.load_model`. If renaming is not possible, pass the object in the `custom_objects` parameter of the load function.\n"
          ]
        },
        {
          "output_type": "stream",
          "name": "stdout",
          "text": [
            "INFO:tensorflow:Assets written to: model_experiments/model_5_lstm/assets\n"
          ]
        },
        {
          "output_type": "stream",
          "name": "stderr",
          "text": [
            "INFO:tensorflow:Assets written to: model_experiments/model_5_lstm/assets\n",
            "WARNING:absl:<keras.layers.recurrent.LSTMCell object at 0x7f48fca10590> has the same name 'LSTMCell' as a built-in Keras object. Consider renaming <class 'keras.layers.recurrent.LSTMCell'> to avoid naming conflicts when loading with `tf.keras.models.load_model`. If renaming is not possible, pass the object in the `custom_objects` parameter of the load function.\n"
          ]
        },
        {
          "output_type": "stream",
          "name": "stdout",
          "text": [
            "INFO:tensorflow:Assets written to: model_experiments/model_5_lstm/assets\n"
          ]
        },
        {
          "output_type": "stream",
          "name": "stderr",
          "text": [
            "INFO:tensorflow:Assets written to: model_experiments/model_5_lstm/assets\n",
            "WARNING:absl:<keras.layers.recurrent.LSTMCell object at 0x7f48fca10590> has the same name 'LSTMCell' as a built-in Keras object. Consider renaming <class 'keras.layers.recurrent.LSTMCell'> to avoid naming conflicts when loading with `tf.keras.models.load_model`. If renaming is not possible, pass the object in the `custom_objects` parameter of the load function.\n"
          ]
        },
        {
          "output_type": "stream",
          "name": "stdout",
          "text": [
            "INFO:tensorflow:Assets written to: model_experiments/model_5_lstm/assets\n"
          ]
        },
        {
          "output_type": "stream",
          "name": "stderr",
          "text": [
            "INFO:tensorflow:Assets written to: model_experiments/model_5_lstm/assets\n",
            "WARNING:absl:<keras.layers.recurrent.LSTMCell object at 0x7f48fca10590> has the same name 'LSTMCell' as a built-in Keras object. Consider renaming <class 'keras.layers.recurrent.LSTMCell'> to avoid naming conflicts when loading with `tf.keras.models.load_model`. If renaming is not possible, pass the object in the `custom_objects` parameter of the load function.\n"
          ]
        },
        {
          "output_type": "stream",
          "name": "stdout",
          "text": [
            "INFO:tensorflow:Assets written to: model_experiments/model_5_lstm/assets\n"
          ]
        },
        {
          "output_type": "stream",
          "name": "stderr",
          "text": [
            "INFO:tensorflow:Assets written to: model_experiments/model_5_lstm/assets\n",
            "WARNING:absl:<keras.layers.recurrent.LSTMCell object at 0x7f48fca10590> has the same name 'LSTMCell' as a built-in Keras object. Consider renaming <class 'keras.layers.recurrent.LSTMCell'> to avoid naming conflicts when loading with `tf.keras.models.load_model`. If renaming is not possible, pass the object in the `custom_objects` parameter of the load function.\n"
          ]
        },
        {
          "output_type": "stream",
          "name": "stdout",
          "text": [
            "INFO:tensorflow:Assets written to: model_experiments/model_5_lstm/assets\n"
          ]
        },
        {
          "output_type": "stream",
          "name": "stderr",
          "text": [
            "INFO:tensorflow:Assets written to: model_experiments/model_5_lstm/assets\n",
            "WARNING:absl:<keras.layers.recurrent.LSTMCell object at 0x7f48fca10590> has the same name 'LSTMCell' as a built-in Keras object. Consider renaming <class 'keras.layers.recurrent.LSTMCell'> to avoid naming conflicts when loading with `tf.keras.models.load_model`. If renaming is not possible, pass the object in the `custom_objects` parameter of the load function.\n"
          ]
        },
        {
          "output_type": "stream",
          "name": "stdout",
          "text": [
            "INFO:tensorflow:Assets written to: model_experiments/model_5_lstm/assets\n"
          ]
        },
        {
          "output_type": "stream",
          "name": "stderr",
          "text": [
            "INFO:tensorflow:Assets written to: model_experiments/model_5_lstm/assets\n",
            "WARNING:absl:<keras.layers.recurrent.LSTMCell object at 0x7f48fca10590> has the same name 'LSTMCell' as a built-in Keras object. Consider renaming <class 'keras.layers.recurrent.LSTMCell'> to avoid naming conflicts when loading with `tf.keras.models.load_model`. If renaming is not possible, pass the object in the `custom_objects` parameter of the load function.\n"
          ]
        },
        {
          "output_type": "stream",
          "name": "stdout",
          "text": [
            "INFO:tensorflow:Assets written to: model_experiments/model_5_lstm/assets\n"
          ]
        },
        {
          "output_type": "stream",
          "name": "stderr",
          "text": [
            "INFO:tensorflow:Assets written to: model_experiments/model_5_lstm/assets\n",
            "WARNING:absl:<keras.layers.recurrent.LSTMCell object at 0x7f48fca10590> has the same name 'LSTMCell' as a built-in Keras object. Consider renaming <class 'keras.layers.recurrent.LSTMCell'> to avoid naming conflicts when loading with `tf.keras.models.load_model`. If renaming is not possible, pass the object in the `custom_objects` parameter of the load function.\n"
          ]
        },
        {
          "output_type": "stream",
          "name": "stdout",
          "text": [
            "INFO:tensorflow:Assets written to: model_experiments/model_5_lstm/assets\n"
          ]
        },
        {
          "output_type": "stream",
          "name": "stderr",
          "text": [
            "INFO:tensorflow:Assets written to: model_experiments/model_5_lstm/assets\n",
            "WARNING:absl:<keras.layers.recurrent.LSTMCell object at 0x7f48fca10590> has the same name 'LSTMCell' as a built-in Keras object. Consider renaming <class 'keras.layers.recurrent.LSTMCell'> to avoid naming conflicts when loading with `tf.keras.models.load_model`. If renaming is not possible, pass the object in the `custom_objects` parameter of the load function.\n"
          ]
        },
        {
          "output_type": "stream",
          "name": "stdout",
          "text": [
            "INFO:tensorflow:Assets written to: model_experiments/model_5_lstm/assets\n"
          ]
        },
        {
          "output_type": "stream",
          "name": "stderr",
          "text": [
            "INFO:tensorflow:Assets written to: model_experiments/model_5_lstm/assets\n",
            "WARNING:absl:<keras.layers.recurrent.LSTMCell object at 0x7f48fca10590> has the same name 'LSTMCell' as a built-in Keras object. Consider renaming <class 'keras.layers.recurrent.LSTMCell'> to avoid naming conflicts when loading with `tf.keras.models.load_model`. If renaming is not possible, pass the object in the `custom_objects` parameter of the load function.\n"
          ]
        },
        {
          "output_type": "stream",
          "name": "stdout",
          "text": [
            "INFO:tensorflow:Assets written to: model_experiments/model_5_lstm/assets\n"
          ]
        },
        {
          "output_type": "stream",
          "name": "stderr",
          "text": [
            "INFO:tensorflow:Assets written to: model_experiments/model_5_lstm/assets\n",
            "WARNING:absl:<keras.layers.recurrent.LSTMCell object at 0x7f48fca10590> has the same name 'LSTMCell' as a built-in Keras object. Consider renaming <class 'keras.layers.recurrent.LSTMCell'> to avoid naming conflicts when loading with `tf.keras.models.load_model`. If renaming is not possible, pass the object in the `custom_objects` parameter of the load function.\n"
          ]
        },
        {
          "output_type": "stream",
          "name": "stdout",
          "text": [
            "INFO:tensorflow:Assets written to: model_experiments/model_5_lstm/assets\n"
          ]
        },
        {
          "output_type": "stream",
          "name": "stderr",
          "text": [
            "INFO:tensorflow:Assets written to: model_experiments/model_5_lstm/assets\n",
            "WARNING:absl:<keras.layers.recurrent.LSTMCell object at 0x7f48fca10590> has the same name 'LSTMCell' as a built-in Keras object. Consider renaming <class 'keras.layers.recurrent.LSTMCell'> to avoid naming conflicts when loading with `tf.keras.models.load_model`. If renaming is not possible, pass the object in the `custom_objects` parameter of the load function.\n"
          ]
        },
        {
          "output_type": "stream",
          "name": "stdout",
          "text": [
            "INFO:tensorflow:Assets written to: model_experiments/model_5_lstm/assets\n"
          ]
        },
        {
          "output_type": "stream",
          "name": "stderr",
          "text": [
            "INFO:tensorflow:Assets written to: model_experiments/model_5_lstm/assets\n",
            "WARNING:absl:<keras.layers.recurrent.LSTMCell object at 0x7f48fca10590> has the same name 'LSTMCell' as a built-in Keras object. Consider renaming <class 'keras.layers.recurrent.LSTMCell'> to avoid naming conflicts when loading with `tf.keras.models.load_model`. If renaming is not possible, pass the object in the `custom_objects` parameter of the load function.\n"
          ]
        },
        {
          "output_type": "stream",
          "name": "stdout",
          "text": [
            "INFO:tensorflow:Assets written to: model_experiments/model_5_lstm/assets\n"
          ]
        },
        {
          "output_type": "stream",
          "name": "stderr",
          "text": [
            "INFO:tensorflow:Assets written to: model_experiments/model_5_lstm/assets\n",
            "WARNING:absl:<keras.layers.recurrent.LSTMCell object at 0x7f48fca10590> has the same name 'LSTMCell' as a built-in Keras object. Consider renaming <class 'keras.layers.recurrent.LSTMCell'> to avoid naming conflicts when loading with `tf.keras.models.load_model`. If renaming is not possible, pass the object in the `custom_objects` parameter of the load function.\n"
          ]
        },
        {
          "output_type": "stream",
          "name": "stdout",
          "text": [
            "INFO:tensorflow:Assets written to: model_experiments/model_5_lstm/assets\n"
          ]
        },
        {
          "output_type": "stream",
          "name": "stderr",
          "text": [
            "INFO:tensorflow:Assets written to: model_experiments/model_5_lstm/assets\n",
            "WARNING:absl:<keras.layers.recurrent.LSTMCell object at 0x7f48fca10590> has the same name 'LSTMCell' as a built-in Keras object. Consider renaming <class 'keras.layers.recurrent.LSTMCell'> to avoid naming conflicts when loading with `tf.keras.models.load_model`. If renaming is not possible, pass the object in the `custom_objects` parameter of the load function.\n"
          ]
        },
        {
          "output_type": "stream",
          "name": "stdout",
          "text": [
            "INFO:tensorflow:Assets written to: model_experiments/model_5_lstm/assets\n"
          ]
        },
        {
          "output_type": "stream",
          "name": "stderr",
          "text": [
            "INFO:tensorflow:Assets written to: model_experiments/model_5_lstm/assets\n",
            "WARNING:absl:<keras.layers.recurrent.LSTMCell object at 0x7f48fca10590> has the same name 'LSTMCell' as a built-in Keras object. Consider renaming <class 'keras.layers.recurrent.LSTMCell'> to avoid naming conflicts when loading with `tf.keras.models.load_model`. If renaming is not possible, pass the object in the `custom_objects` parameter of the load function.\n"
          ]
        },
        {
          "output_type": "stream",
          "name": "stdout",
          "text": [
            "INFO:tensorflow:Assets written to: model_experiments/model_5_lstm/assets\n"
          ]
        },
        {
          "output_type": "stream",
          "name": "stderr",
          "text": [
            "INFO:tensorflow:Assets written to: model_experiments/model_5_lstm/assets\n",
            "WARNING:absl:<keras.layers.recurrent.LSTMCell object at 0x7f48fca10590> has the same name 'LSTMCell' as a built-in Keras object. Consider renaming <class 'keras.layers.recurrent.LSTMCell'> to avoid naming conflicts when loading with `tf.keras.models.load_model`. If renaming is not possible, pass the object in the `custom_objects` parameter of the load function.\n"
          ]
        },
        {
          "output_type": "stream",
          "name": "stdout",
          "text": [
            "INFO:tensorflow:Assets written to: model_experiments/model_5_lstm/assets\n"
          ]
        },
        {
          "output_type": "stream",
          "name": "stderr",
          "text": [
            "INFO:tensorflow:Assets written to: model_experiments/model_5_lstm/assets\n",
            "WARNING:absl:<keras.layers.recurrent.LSTMCell object at 0x7f48fca10590> has the same name 'LSTMCell' as a built-in Keras object. Consider renaming <class 'keras.layers.recurrent.LSTMCell'> to avoid naming conflicts when loading with `tf.keras.models.load_model`. If renaming is not possible, pass the object in the `custom_objects` parameter of the load function.\n"
          ]
        },
        {
          "output_type": "stream",
          "name": "stdout",
          "text": [
            "INFO:tensorflow:Assets written to: model_experiments/model_5_lstm/assets\n"
          ]
        },
        {
          "output_type": "stream",
          "name": "stderr",
          "text": [
            "INFO:tensorflow:Assets written to: model_experiments/model_5_lstm/assets\n",
            "WARNING:absl:<keras.layers.recurrent.LSTMCell object at 0x7f48fca10590> has the same name 'LSTMCell' as a built-in Keras object. Consider renaming <class 'keras.layers.recurrent.LSTMCell'> to avoid naming conflicts when loading with `tf.keras.models.load_model`. If renaming is not possible, pass the object in the `custom_objects` parameter of the load function.\n"
          ]
        },
        {
          "output_type": "stream",
          "name": "stdout",
          "text": [
            "INFO:tensorflow:Assets written to: model_experiments/model_5_lstm/assets\n"
          ]
        },
        {
          "output_type": "stream",
          "name": "stderr",
          "text": [
            "INFO:tensorflow:Assets written to: model_experiments/model_5_lstm/assets\n",
            "WARNING:absl:<keras.layers.recurrent.LSTMCell object at 0x7f48fca10590> has the same name 'LSTMCell' as a built-in Keras object. Consider renaming <class 'keras.layers.recurrent.LSTMCell'> to avoid naming conflicts when loading with `tf.keras.models.load_model`. If renaming is not possible, pass the object in the `custom_objects` parameter of the load function.\n"
          ]
        },
        {
          "output_type": "stream",
          "name": "stdout",
          "text": [
            "INFO:tensorflow:Assets written to: model_experiments/model_5_lstm/assets\n"
          ]
        },
        {
          "output_type": "stream",
          "name": "stderr",
          "text": [
            "INFO:tensorflow:Assets written to: model_experiments/model_5_lstm/assets\n",
            "WARNING:absl:<keras.layers.recurrent.LSTMCell object at 0x7f48fca10590> has the same name 'LSTMCell' as a built-in Keras object. Consider renaming <class 'keras.layers.recurrent.LSTMCell'> to avoid naming conflicts when loading with `tf.keras.models.load_model`. If renaming is not possible, pass the object in the `custom_objects` parameter of the load function.\n"
          ]
        },
        {
          "output_type": "stream",
          "name": "stdout",
          "text": [
            "INFO:tensorflow:Assets written to: model_experiments/model_5_lstm/assets\n"
          ]
        },
        {
          "output_type": "stream",
          "name": "stderr",
          "text": [
            "INFO:tensorflow:Assets written to: model_experiments/model_5_lstm/assets\n",
            "WARNING:absl:<keras.layers.recurrent.LSTMCell object at 0x7f48fca10590> has the same name 'LSTMCell' as a built-in Keras object. Consider renaming <class 'keras.layers.recurrent.LSTMCell'> to avoid naming conflicts when loading with `tf.keras.models.load_model`. If renaming is not possible, pass the object in the `custom_objects` parameter of the load function.\n"
          ]
        },
        {
          "output_type": "stream",
          "name": "stdout",
          "text": [
            "INFO:tensorflow:Assets written to: model_experiments/model_5_lstm/assets\n"
          ]
        },
        {
          "output_type": "stream",
          "name": "stderr",
          "text": [
            "INFO:tensorflow:Assets written to: model_experiments/model_5_lstm/assets\n",
            "WARNING:absl:<keras.layers.recurrent.LSTMCell object at 0x7f48fca10590> has the same name 'LSTMCell' as a built-in Keras object. Consider renaming <class 'keras.layers.recurrent.LSTMCell'> to avoid naming conflicts when loading with `tf.keras.models.load_model`. If renaming is not possible, pass the object in the `custom_objects` parameter of the load function.\n"
          ]
        },
        {
          "output_type": "stream",
          "name": "stdout",
          "text": [
            "INFO:tensorflow:Assets written to: model_experiments/model_5_lstm/assets\n"
          ]
        },
        {
          "output_type": "stream",
          "name": "stderr",
          "text": [
            "INFO:tensorflow:Assets written to: model_experiments/model_5_lstm/assets\n",
            "WARNING:absl:<keras.layers.recurrent.LSTMCell object at 0x7f48fca10590> has the same name 'LSTMCell' as a built-in Keras object. Consider renaming <class 'keras.layers.recurrent.LSTMCell'> to avoid naming conflicts when loading with `tf.keras.models.load_model`. If renaming is not possible, pass the object in the `custom_objects` parameter of the load function.\n"
          ]
        },
        {
          "output_type": "stream",
          "name": "stdout",
          "text": [
            "INFO:tensorflow:Assets written to: model_experiments/model_5_lstm/assets\n"
          ]
        },
        {
          "output_type": "stream",
          "name": "stderr",
          "text": [
            "INFO:tensorflow:Assets written to: model_experiments/model_5_lstm/assets\n",
            "WARNING:absl:<keras.layers.recurrent.LSTMCell object at 0x7f48fca10590> has the same name 'LSTMCell' as a built-in Keras object. Consider renaming <class 'keras.layers.recurrent.LSTMCell'> to avoid naming conflicts when loading with `tf.keras.models.load_model`. If renaming is not possible, pass the object in the `custom_objects` parameter of the load function.\n"
          ]
        },
        {
          "output_type": "stream",
          "name": "stdout",
          "text": [
            "INFO:tensorflow:Assets written to: model_experiments/model_5_lstm/assets\n"
          ]
        },
        {
          "output_type": "stream",
          "name": "stderr",
          "text": [
            "INFO:tensorflow:Assets written to: model_experiments/model_5_lstm/assets\n",
            "WARNING:absl:<keras.layers.recurrent.LSTMCell object at 0x7f48fca10590> has the same name 'LSTMCell' as a built-in Keras object. Consider renaming <class 'keras.layers.recurrent.LSTMCell'> to avoid naming conflicts when loading with `tf.keras.models.load_model`. If renaming is not possible, pass the object in the `custom_objects` parameter of the load function.\n"
          ]
        },
        {
          "output_type": "stream",
          "name": "stdout",
          "text": [
            "INFO:tensorflow:Assets written to: model_experiments/model_5_lstm/assets\n"
          ]
        },
        {
          "output_type": "stream",
          "name": "stderr",
          "text": [
            "INFO:tensorflow:Assets written to: model_experiments/model_5_lstm/assets\n",
            "WARNING:absl:<keras.layers.recurrent.LSTMCell object at 0x7f48fca10590> has the same name 'LSTMCell' as a built-in Keras object. Consider renaming <class 'keras.layers.recurrent.LSTMCell'> to avoid naming conflicts when loading with `tf.keras.models.load_model`. If renaming is not possible, pass the object in the `custom_objects` parameter of the load function.\n"
          ]
        },
        {
          "output_type": "stream",
          "name": "stdout",
          "text": [
            "INFO:tensorflow:Assets written to: model_experiments/model_5_lstm/assets\n"
          ]
        },
        {
          "output_type": "stream",
          "name": "stderr",
          "text": [
            "INFO:tensorflow:Assets written to: model_experiments/model_5_lstm/assets\n",
            "WARNING:absl:<keras.layers.recurrent.LSTMCell object at 0x7f48fca10590> has the same name 'LSTMCell' as a built-in Keras object. Consider renaming <class 'keras.layers.recurrent.LSTMCell'> to avoid naming conflicts when loading with `tf.keras.models.load_model`. If renaming is not possible, pass the object in the `custom_objects` parameter of the load function.\n"
          ]
        },
        {
          "output_type": "stream",
          "name": "stdout",
          "text": [
            "INFO:tensorflow:Assets written to: model_experiments/model_5_lstm/assets\n"
          ]
        },
        {
          "output_type": "stream",
          "name": "stderr",
          "text": [
            "INFO:tensorflow:Assets written to: model_experiments/model_5_lstm/assets\n",
            "WARNING:absl:<keras.layers.recurrent.LSTMCell object at 0x7f48fca10590> has the same name 'LSTMCell' as a built-in Keras object. Consider renaming <class 'keras.layers.recurrent.LSTMCell'> to avoid naming conflicts when loading with `tf.keras.models.load_model`. If renaming is not possible, pass the object in the `custom_objects` parameter of the load function.\n"
          ]
        },
        {
          "output_type": "stream",
          "name": "stdout",
          "text": [
            "INFO:tensorflow:Assets written to: model_experiments/model_5_lstm/assets\n"
          ]
        },
        {
          "output_type": "stream",
          "name": "stderr",
          "text": [
            "INFO:tensorflow:Assets written to: model_experiments/model_5_lstm/assets\n",
            "WARNING:absl:<keras.layers.recurrent.LSTMCell object at 0x7f48fca10590> has the same name 'LSTMCell' as a built-in Keras object. Consider renaming <class 'keras.layers.recurrent.LSTMCell'> to avoid naming conflicts when loading with `tf.keras.models.load_model`. If renaming is not possible, pass the object in the `custom_objects` parameter of the load function.\n"
          ]
        },
        {
          "output_type": "stream",
          "name": "stdout",
          "text": [
            "INFO:tensorflow:Assets written to: model_experiments/model_5_lstm/assets\n"
          ]
        },
        {
          "output_type": "stream",
          "name": "stderr",
          "text": [
            "INFO:tensorflow:Assets written to: model_experiments/model_5_lstm/assets\n",
            "WARNING:absl:<keras.layers.recurrent.LSTMCell object at 0x7f48fca10590> has the same name 'LSTMCell' as a built-in Keras object. Consider renaming <class 'keras.layers.recurrent.LSTMCell'> to avoid naming conflicts when loading with `tf.keras.models.load_model`. If renaming is not possible, pass the object in the `custom_objects` parameter of the load function.\n"
          ]
        },
        {
          "output_type": "stream",
          "name": "stdout",
          "text": [
            "INFO:tensorflow:Assets written to: model_experiments/model_5_lstm/assets\n"
          ]
        },
        {
          "output_type": "stream",
          "name": "stderr",
          "text": [
            "INFO:tensorflow:Assets written to: model_experiments/model_5_lstm/assets\n",
            "WARNING:absl:<keras.layers.recurrent.LSTMCell object at 0x7f48fca10590> has the same name 'LSTMCell' as a built-in Keras object. Consider renaming <class 'keras.layers.recurrent.LSTMCell'> to avoid naming conflicts when loading with `tf.keras.models.load_model`. If renaming is not possible, pass the object in the `custom_objects` parameter of the load function.\n"
          ]
        },
        {
          "output_type": "stream",
          "name": "stdout",
          "text": [
            "INFO:tensorflow:Assets written to: model_experiments/model_5_lstm/assets\n"
          ]
        },
        {
          "output_type": "stream",
          "name": "stderr",
          "text": [
            "INFO:tensorflow:Assets written to: model_experiments/model_5_lstm/assets\n",
            "WARNING:absl:<keras.layers.recurrent.LSTMCell object at 0x7f48fca10590> has the same name 'LSTMCell' as a built-in Keras object. Consider renaming <class 'keras.layers.recurrent.LSTMCell'> to avoid naming conflicts when loading with `tf.keras.models.load_model`. If renaming is not possible, pass the object in the `custom_objects` parameter of the load function.\n"
          ]
        },
        {
          "output_type": "stream",
          "name": "stdout",
          "text": [
            "INFO:tensorflow:Assets written to: model_experiments/model_5_lstm/assets\n"
          ]
        },
        {
          "output_type": "stream",
          "name": "stderr",
          "text": [
            "INFO:tensorflow:Assets written to: model_experiments/model_5_lstm/assets\n",
            "WARNING:absl:<keras.layers.recurrent.LSTMCell object at 0x7f48fca10590> has the same name 'LSTMCell' as a built-in Keras object. Consider renaming <class 'keras.layers.recurrent.LSTMCell'> to avoid naming conflicts when loading with `tf.keras.models.load_model`. If renaming is not possible, pass the object in the `custom_objects` parameter of the load function.\n"
          ]
        },
        {
          "output_type": "stream",
          "name": "stdout",
          "text": [
            "INFO:tensorflow:Assets written to: model_experiments/model_5_lstm/assets\n"
          ]
        },
        {
          "output_type": "stream",
          "name": "stderr",
          "text": [
            "INFO:tensorflow:Assets written to: model_experiments/model_5_lstm/assets\n",
            "WARNING:absl:<keras.layers.recurrent.LSTMCell object at 0x7f48fca10590> has the same name 'LSTMCell' as a built-in Keras object. Consider renaming <class 'keras.layers.recurrent.LSTMCell'> to avoid naming conflicts when loading with `tf.keras.models.load_model`. If renaming is not possible, pass the object in the `custom_objects` parameter of the load function.\n"
          ]
        },
        {
          "output_type": "stream",
          "name": "stdout",
          "text": [
            "INFO:tensorflow:Assets written to: model_experiments/model_5_lstm/assets\n"
          ]
        },
        {
          "output_type": "stream",
          "name": "stderr",
          "text": [
            "INFO:tensorflow:Assets written to: model_experiments/model_5_lstm/assets\n",
            "WARNING:absl:<keras.layers.recurrent.LSTMCell object at 0x7f48fca10590> has the same name 'LSTMCell' as a built-in Keras object. Consider renaming <class 'keras.layers.recurrent.LSTMCell'> to avoid naming conflicts when loading with `tf.keras.models.load_model`. If renaming is not possible, pass the object in the `custom_objects` parameter of the load function.\n"
          ]
        },
        {
          "output_type": "stream",
          "name": "stdout",
          "text": [
            "INFO:tensorflow:Assets written to: model_experiments/model_5_lstm/assets\n"
          ]
        },
        {
          "output_type": "stream",
          "name": "stderr",
          "text": [
            "INFO:tensorflow:Assets written to: model_experiments/model_5_lstm/assets\n",
            "WARNING:absl:<keras.layers.recurrent.LSTMCell object at 0x7f48fca10590> has the same name 'LSTMCell' as a built-in Keras object. Consider renaming <class 'keras.layers.recurrent.LSTMCell'> to avoid naming conflicts when loading with `tf.keras.models.load_model`. If renaming is not possible, pass the object in the `custom_objects` parameter of the load function.\n"
          ]
        }
      ]
    },
    {
      "cell_type": "code",
      "metadata": {
        "colab": {
          "base_uri": "https://localhost:8080/"
        },
        "id": "zi-LLuWL9-wg",
        "outputId": "4e758088-ea69-43fa-b093-170ee90d2ca4"
      },
      "source": [
        "model_5.evaluate(test_windows,test_labels)"
      ],
      "execution_count": 235,
      "outputs": [
        {
          "output_type": "stream",
          "name": "stdout",
          "text": [
            "16/16 [==============================] - 0s 2ms/step - loss: 842.3524 - mae: 842.3524 - mse: 1865713.7500\n"
          ]
        },
        {
          "output_type": "execute_result",
          "data": {
            "text/plain": [
              "[842.3524169921875, 842.3524169921875, 1865713.75]"
            ]
          },
          "metadata": {},
          "execution_count": 235
        }
      ]
    },
    {
      "cell_type": "code",
      "metadata": {
        "colab": {
          "base_uri": "https://localhost:8080/"
        },
        "id": "ywHrDnkp-q3l",
        "outputId": "739f700b-abb2-44a7-e940-665a65e71957"
      },
      "source": [
        "# load saved best model\n",
        "model_5 = tf.keras.models.load_model(\"model_experiments/model_5_lstm/\")\n",
        "model_5.evaluate(test_windows,test_labels)"
      ],
      "execution_count": 236,
      "outputs": [
        {
          "output_type": "stream",
          "name": "stdout",
          "text": [
            "16/16 [==============================] - 0s 2ms/step - loss: 826.8691 - mae: 826.8691 - mse: 1859509.6250\n"
          ]
        },
        {
          "output_type": "execute_result",
          "data": {
            "text/plain": [
              "[826.869140625, 826.869140625, 1859509.625]"
            ]
          },
          "metadata": {},
          "execution_count": 236
        }
      ]
    },
    {
      "cell_type": "code",
      "metadata": {
        "colab": {
          "base_uri": "https://localhost:8080/"
        },
        "id": "sw3UskdZ-xrN",
        "outputId": "d0f3bc46-0a10-4c71-d7fd-5dacc4896587"
      },
      "source": [
        "model_5_preds = make_preds(model_5, test_windows)\n",
        "model_5_results = evaluate_preds(y_true=tf.squeeze(test_labels), \n",
        "                                y_pred=(model_5_preds))\n",
        "model_5_results"
      ],
      "execution_count": 237,
      "outputs": [
        {
          "output_type": "execute_result",
          "data": {
            "text/plain": [
              "{'mae': 826.86926,\n",
              " 'mape': 2.8030002,\n",
              " 'mase': 1.0672204,\n",
              " 'mse': 1859509.9,\n",
              " 'rmse': 1363.6384}"
            ]
          },
          "metadata": {},
          "execution_count": 237
        }
      ]
    },
    {
      "cell_type": "code",
      "metadata": {
        "colab": {
          "base_uri": "https://localhost:8080/"
        },
        "id": "rrj5NO8G_sh7",
        "outputId": "c26c4094-3335-4323-a361-871f136fab61"
      },
      "source": [
        "model_1_results, model_4_results"
      ],
      "execution_count": 238,
      "outputs": [
        {
          "output_type": "execute_result",
          "data": {
            "text/plain": [
              "({'mae': 776.65283,\n",
              "  'mape': 2.626138,\n",
              "  'mase': 1.0024073,\n",
              "  'mse': 1705817.8,\n",
              "  'rmse': 1306.0696},\n",
              " {'mae': 782.69684,\n",
              "  'mape': 2.6460981,\n",
              "  'mase': 1.0102082,\n",
              "  'mse': 1722924.0,\n",
              "  'rmse': 1312.602})"
            ]
          },
          "metadata": {},
          "execution_count": 238
        }
      ]
    },
    {
      "cell_type": "code",
      "metadata": {
        "colab": {
          "base_uri": "https://localhost:8080/",
          "height": 442
        },
        "id": "M7fVHStp_xED",
        "outputId": "c1acbe43-6b84-4af2-dedc-3f332d876db4"
      },
      "source": [
        "#plot prediction\n",
        "offset = 350\n",
        "plt.figure(figsize=(10,7))\n",
        "plot_time_series(timesteps=X_test[-len(test_windows):], \n",
        "                 values=test_labels[:, 0], \n",
        "                 start=offset,\n",
        "                 label=\"Test Data\")\n",
        "plot_time_series(timesteps=X_test[-len(test_windows):], \n",
        "                 values=(model_5_preds), \n",
        "                 start=offset,\n",
        "                 format=\"-\",\n",
        "                 label=\"Model_4_preds\")"
      ],
      "execution_count": 239,
      "outputs": [
        {
          "output_type": "display_data",
          "data": {
            "image/png": "[encoded data removed]",
            "text/plain": [
              "<Figure size 720x504 with 1 Axes>"
            ]
          },
          "metadata": {
            "needs_background": "light"
          }
        }
      ]
    },
    {
      "cell_type": "markdown",
      "metadata": {
        "id": "1yZEnkHc_yVa"
      },
      "source": [
        "### Multivariate time series data"
      ]
    },
    {
      "cell_type": "code",
      "metadata": {
        "colab": {
          "base_uri": "https://localhost:8080/",
          "height": 235
        },
        "id": "T5w28HcJuVgO",
        "outputId": "df0181e8-cd55-4dac-b110-bf05f0a2df9d"
      },
      "source": [
        "bitcoin_prices.head()"
      ],
      "execution_count": 241,
      "outputs": [
        {
          "output_type": "execute_result",
          "data": {
            "text/html": [
              "<div>\n",
              "<style scoped>\n",
              "    .dataframe tbody tr th:only-of-type {\n",
              "        vertical-align: middle;\n",
              "    }\n",
              "\n",
              "    .dataframe tbody tr th {\n",
              "        vertical-align: top;\n",
              "    }\n",
              "\n",
              "    .dataframe thead th {\n",
              "        text-align: right;\n",
              "    }\n",
              "</style>\n",
              "<table border=\"1\" class=\"dataframe\">\n",
              "  <thead>\n",
              "    <tr style=\"text-align: right;\">\n",
              "      <th></th>\n",
              "      <th>Price</th>\n",
              "    </tr>\n",
              "    <tr>\n",
              "      <th>Date</th>\n",
              "      <th></th>\n",
              "    </tr>\n",
              "  </thead>\n",
              "  <tbody>\n",
              "    <tr>\n",
              "      <th>2014-11-02</th>\n",
              "      <td>325.22633</td>\n",
              "    </tr>\n",
              "    <tr>\n",
              "      <th>2014-11-03</th>\n",
              "      <td>331.60083</td>\n",
              "    </tr>\n",
              "    <tr>\n",
              "      <th>2014-11-04</th>\n",
              "      <td>324.71833</td>\n",
              "    </tr>\n",
              "    <tr>\n",
              "      <th>2014-11-05</th>\n",
              "      <td>332.45666</td>\n",
              "    </tr>\n",
              "    <tr>\n",
              "      <th>2014-11-06</th>\n",
              "      <td>336.58500</td>\n",
              "    </tr>\n",
              "  </tbody>\n",
              "</table>\n",
              "</div>"
            ],
            "text/plain": [
              "                Price\n",
              "Date                 \n",
              "2014-11-02  325.22633\n",
              "2014-11-03  331.60083\n",
              "2014-11-04  324.71833\n",
              "2014-11-05  332.45666\n",
              "2014-11-06  336.58500"
            ]
          },
          "metadata": {},
          "execution_count": 241
        }
      ]
    },
    {
      "cell_type": "code",
      "metadata": {
        "id": "6yQpPRGavrWI"
      },
      "source": [
        "block_reward_1 = 50\n",
        "block_reward_2 = 25\n",
        "block_reward_3 = 12.5\n",
        "block_reward_4 = 6.25\n",
        "\n",
        "# Block reward dates\n",
        "block_reward_2_datetime = np.datetime64(\"2012-11-28\")\n",
        "block_reward_3_datetime = np.datetime64(\"2016-07-09\")\n",
        "block_reward_4_datetime = np.datetime64(\"2020-05-18\")"
      ],
      "execution_count": 242,
      "outputs": []
    },
    {
      "cell_type": "code",
      "metadata": {
        "colab": {
          "base_uri": "https://localhost:8080/"
        },
        "id": "ycuYOJoYwjHl",
        "outputId": "b5e55e52-72ec-45da-da50-7b0236b9b2af"
      },
      "source": [
        "# create date ranges of where specific block reward values shouldbe\n",
        "block_reward_2_days = (block_reward_3_datetime - bitcoin_prices.index[0]).days\n",
        "block_reward_3_days = (block_reward_4_datetime - bitcoin_prices.index[0]).days\n",
        "block_reward_2_days, block_reward_3_days"
      ],
      "execution_count": 245,
      "outputs": [
        {
          "output_type": "execute_result",
          "data": {
            "text/plain": [
              "(615, 2024)"
            ]
          },
          "metadata": {},
          "execution_count": 245
        }
      ]
    },
    {
      "cell_type": "code",
      "metadata": {
        "id": "VO7-uwDaxSyV"
      },
      "source": [
        "# Add in block reward values as a feature in the dataframe\n",
        "bitcoin_prices_block = bitcoin_prices.copy()\n",
        "bitcoin_prices_block[\"block_reward\"] = None\n",
        "\n",
        "bitcoin_prices_block.iloc[:block_reward_2_days,-1] = block_reward_2\n",
        "bitcoin_prices_block.iloc[block_reward_2_days: block_reward_3_days,-1] = block_reward_3\n",
        "bitcoin_prices_block.iloc[block_reward_3_days:,-1] = block_reward_4"
      ],
      "execution_count": 253,
      "outputs": []
    },
    {
      "cell_type": "code",
      "metadata": {
        "colab": {
          "base_uri": "https://localhost:8080/",
          "height": 235
        },
        "id": "gDGTm34Kx_5V",
        "outputId": "eacdb303-0f9f-4786-9f2e-1cc625ca1b94"
      },
      "source": [
        "bitcoin_prices_block.tail()"
      ],
      "execution_count": 254,
      "outputs": [
        {
          "output_type": "execute_result",
          "data": {
            "text/html": [
              "<div>\n",
              "<style scoped>\n",
              "    .dataframe tbody tr th:only-of-type {\n",
              "        vertical-align: middle;\n",
              "    }\n",
              "\n",
              "    .dataframe tbody tr th {\n",
              "        vertical-align: top;\n",
              "    }\n",
              "\n",
              "    .dataframe thead th {\n",
              "        text-align: right;\n",
              "    }\n",
              "</style>\n",
              "<table border=\"1\" class=\"dataframe\">\n",
              "  <thead>\n",
              "    <tr style=\"text-align: right;\">\n",
              "      <th></th>\n",
              "      <th>Price</th>\n",
              "      <th>block_reward</th>\n",
              "    </tr>\n",
              "    <tr>\n",
              "      <th>Date</th>\n",
              "      <th></th>\n",
              "      <th></th>\n",
              "    </tr>\n",
              "  </thead>\n",
              "  <tbody>\n",
              "    <tr>\n",
              "      <th>2021-07-26</th>\n",
              "      <td>34574.670661</td>\n",
              "      <td>6.25</td>\n",
              "    </tr>\n",
              "    <tr>\n",
              "      <th>2021-07-27</th>\n",
              "      <td>37114.296624</td>\n",
              "      <td>6.25</td>\n",
              "    </tr>\n",
              "    <tr>\n",
              "      <th>2021-07-28</th>\n",
              "      <td>38963.922857</td>\n",
              "      <td>6.25</td>\n",
              "    </tr>\n",
              "    <tr>\n",
              "      <th>2021-07-29</th>\n",
              "      <td>39917.449369</td>\n",
              "      <td>6.25</td>\n",
              "    </tr>\n",
              "    <tr>\n",
              "      <th>2021-07-30</th>\n",
              "      <td>39810.517971</td>\n",
              "      <td>6.25</td>\n",
              "    </tr>\n",
              "  </tbody>\n",
              "</table>\n",
              "</div>"
            ],
            "text/plain": [
              "                   Price block_reward\n",
              "Date                                 \n",
              "2021-07-26  34574.670661         6.25\n",
              "2021-07-27  37114.296624         6.25\n",
              "2021-07-28  38963.922857         6.25\n",
              "2021-07-29  39917.449369         6.25\n",
              "2021-07-30  39810.517971         6.25"
            ]
          },
          "metadata": {},
          "execution_count": 254
        }
      ]
    },
    {
      "cell_type": "code",
      "metadata": {
        "colab": {
          "base_uri": "https://localhost:8080/",
          "height": 433
        },
        "id": "bo27goXkyD7E",
        "outputId": "7aaf49f5-4ae2-420d-96ad-58d0249bbe1e"
      },
      "source": [
        "# plot\n",
        "from sklearn.preprocessing import minmax_scale\n",
        "scaled_prices_block_df = pd.DataFrame(minmax_scale(bitcoin_prices_block[[\"Price\", \"block_reward\"]]),\n",
        "                                                                        columns=bitcoin_prices_block.columns,\n",
        "                                                   index=bitcoin_prices_block.index)\n",
        "scaled_prices_block_df.plot(figsize=(10,7))"
      ],
      "execution_count": 259,
      "outputs": [
        {
          "output_type": "execute_result",
          "data": {
            "text/plain": [
              "<matplotlib.axes._subplots.AxesSubplot at 0x7f48ed549a50>"
            ]
          },
          "metadata": {},
          "execution_count": 259
        },
        {
          "output_type": "display_data",
          "data": {
            "image/png": "[encoded data removed]",
            "text/plain": [
              "<Figure size 720x504 with 1 Axes>"
            ]
          },
          "metadata": {
            "needs_background": "light"
          }
        }
      ]
    },
    {
      "cell_type": "code",
      "metadata": {
        "id": "bWMAwq_Jy98S"
      },
      "source": [
        ""
      ],
      "execution_count": null,
      "outputs": []
    }
  ]
}