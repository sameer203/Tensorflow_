{
  "nbformat": 4,
  "nbformat_minor": 0,
  "metadata": {
    "colab": {
      "name": "02A_Boston_Dataset_Regression.ipynb",
      "provenance": [],
      "collapsed_sections": [],
      "authorship_tag": "ABX9TyPyI9WuuaQ9w4TdWeu7vy+y",
      "include_colab_link": true
    },
    "kernelspec": {
      "name": "python3",
      "display_name": "Python 3"
    },
    "language_info": {
      "name": "python"
    }
  },
  "cells": [
    {
      "cell_type": "markdown",
      "metadata": {
        "id": "view-in-github",
        "colab_type": "text"
      },
      "source": [
        "<a href=\"https://colab.research.google.com/github/sameer203/Tensorflow_/blob/main/02A_Boston_Dataset_Regression.ipynb\" target=\"_parent\"><img src=\"https://colab.research.google.com/assets/colab-badge.svg\" alt=\"Open In Colab\"/></a>"
      ]
    },
    {
      "cell_type": "markdown",
      "metadata": {
        "id": "AfSM-5jjqEAD"
      },
      "source": [
        "### Boston Dataset Regression"
      ]
    },
    {
      "cell_type": "code",
      "metadata": {
        "id": "SyJKSMz2qUIG"
      },
      "source": [
        "import tensorflow as tf\n",
        "import pandas as pd\n",
        "import matplotlib.pyplot as plt\n",
        "import numpy as np"
      ],
      "execution_count": 1,
      "outputs": []
    },
    {
      "cell_type": "code",
      "metadata": {
        "id": "I0xehAsKqcxg"
      },
      "source": [
        "(x_train, y_train), (x_test, y_test) = tf.keras.datasets.boston_housing.load_data(test_split=0.3)"
      ],
      "execution_count": 9,
      "outputs": []
    },
    {
      "cell_type": "code",
      "metadata": {
        "colab": {
          "base_uri": "https://localhost:8080/"
        },
        "id": "TDE4KWERqlT1",
        "outputId": "50aad104-c609-4a24-e608-21170b8979c2"
      },
      "source": [
        "x_train"
      ],
      "execution_count": 13,
      "outputs": [
        {
          "output_type": "execute_result",
          "data": {
            "text/plain": [
              "array([[1.23247e+00, 0.00000e+00, 8.14000e+00, ..., 2.10000e+01,\n",
              "        3.96900e+02, 1.87200e+01],\n",
              "       [2.17700e-02, 8.25000e+01, 2.03000e+00, ..., 1.47000e+01,\n",
              "        3.95380e+02, 3.11000e+00],\n",
              "       [4.89822e+00, 0.00000e+00, 1.81000e+01, ..., 2.02000e+01,\n",
              "        3.75520e+02, 3.26000e+00],\n",
              "       ...,\n",
              "       [8.70700e-02, 0.00000e+00, 1.28300e+01, ..., 1.87000e+01,\n",
              "        3.86960e+02, 1.02700e+01],\n",
              "       [3.58400e-02, 8.00000e+01, 3.37000e+00, ..., 1.61000e+01,\n",
              "        3.96900e+02, 4.67000e+00],\n",
              "       [3.61500e-02, 8.00000e+01, 4.95000e+00, ..., 1.92000e+01,\n",
              "        3.96900e+02, 4.70000e+00]])"
            ]
          },
          "metadata": {},
          "execution_count": 13
        }
      ]
    },
    {
      "cell_type": "code",
      "metadata": {
        "colab": {
          "base_uri": "https://localhost:8080/"
        },
        "id": "lJMsHZyoqpwE",
        "outputId": "f56d2b73-cfb2-41e0-dc96-6e6167ce3349"
      },
      "source": [
        "len(x_train), len(y_train), len(x_test), len(y_test)"
      ],
      "execution_count": 14,
      "outputs": [
        {
          "output_type": "execute_result",
          "data": {
            "text/plain": [
              "(354, 354, 152, 152)"
            ]
          },
          "metadata": {},
          "execution_count": 14
        }
      ]
    },
    {
      "cell_type": "markdown",
      "metadata": {
        "id": "1vunhcDVsXhC"
      },
      "source": [
        "### Build a Neutal Net model"
      ]
    },
    {
      "cell_type": "code",
      "metadata": {
        "id": "6GJAwi6gsfKg"
      },
      "source": [
        "# Model 1\n",
        "\n",
        "#set random seed\n",
        "tf.random.set_seed(42)\n",
        "\n",
        "#build a model\n",
        "boston_model_1 = tf.keras.Sequential([\n",
        "                                      tf.keras.layers.Dense(100,activation=\"relu\"),\n",
        "                                      tf.keras.layers.Dense(1)\n",
        "])\n",
        "\n",
        "#compile the model\n",
        "boston_model_1.compile(loss=tf.keras.losses.mae,\n",
        "                       optimizer=tf.keras.optimizers.SGD(),\n",
        "                       metrics=[\"mae\"])\n",
        "\n",
        "#Fit the model\n",
        "history_1 = boston_model_1.fit(x_train,\n",
        "                               y_train,\n",
        "                               epochs=100,\n",
        "                               verbose=0)"
      ],
      "execution_count": 20,
      "outputs": []
    },
    {
      "cell_type": "code",
      "metadata": {
        "colab": {
          "base_uri": "https://localhost:8080/"
        },
        "id": "EQ60k1nMtqm_",
        "outputId": "b346b6f3-4ea4-410b-ff8d-9ac53d1d0624"
      },
      "source": [
        "boston_model_1.evaluate(x_test,y_test)"
      ],
      "execution_count": 21,
      "outputs": [
        {
          "output_type": "stream",
          "name": "stdout",
          "text": [
            "5/5 [==============================] - 0s 2ms/step - loss: 11.8085 - mae: 11.8085\n"
          ]
        },
        {
          "output_type": "execute_result",
          "data": {
            "text/plain": [
              "[11.808497428894043, 11.808497428894043]"
            ]
          },
          "metadata": {},
          "execution_count": 21
        }
      ]
    },
    {
      "cell_type": "code",
      "metadata": {
        "colab": {
          "base_uri": "https://localhost:8080/",
          "height": 282
        },
        "id": "rKcOYIE2txf-",
        "outputId": "a38d364e-e6d1-4b36-9870-12f17585ec11"
      },
      "source": [
        "pd.DataFrame(history_1.history).plot()"
      ],
      "execution_count": 24,
      "outputs": [
        {
          "output_type": "execute_result",
          "data": {
            "text/plain": [
              "<matplotlib.axes._subplots.AxesSubplot at 0x7f4e781815d0>"
            ]
          },
          "metadata": {},
          "execution_count": 24
        },
        {
          "output_type": "display_data",
          "data": {
            "image/png": "[encoded data removed]",
            "text/plain": [
              "<Figure size 432x288 with 1 Axes>"
            ]
          },
          "metadata": {
            "needs_background": "light"
          }
        }
      ]
    },
    {
      "cell_type": "markdown",
      "metadata": {
        "id": "NnCMdOk3ud-t"
      },
      "source": [
        "### Improve the Model"
      ]
    },
    {
      "cell_type": "code",
      "metadata": {
        "id": "P41yq4KVut28"
      },
      "source": [
        "# model 2\n",
        "\n",
        "#set random seed\n",
        "tf.random.set_seed(42)\n",
        "\n",
        "#Neuralnet model\n",
        "model_2 = tf.keras.Sequential([\n",
        "                               tf.keras.layers.Dense(100, activation=\"relu\"),\n",
        "                               tf.keras.layers.Dense(10, activation=\"relu\"),\n",
        "                               tf.keras.layers.Dense(1)\n",
        "])\n",
        "\n",
        "#compile the model\n",
        "model_2.compile(loss=tf.keras.losses.mae,\n",
        "                optimizer=tf.keras.optimizers.SGD(),\n",
        "                metrics=[\"mae\"])\n",
        "\n",
        "#fit the model\n",
        "history_2 = model_2.fit(x_train,y_train,\n",
        "                        epochs=100,\n",
        "                        verbose=0,\n",
        "                        )"
      ],
      "execution_count": 29,
      "outputs": []
    },
    {
      "cell_type": "code",
      "metadata": {
        "colab": {
          "base_uri": "https://localhost:8080/"
        },
        "id": "83TfNbtuv8W6",
        "outputId": "55d9e865-a7ca-492f-db83-89c1dc4aa01e"
      },
      "source": [
        "model_2.evaluate(x_test,y_test)"
      ],
      "execution_count": 30,
      "outputs": [
        {
          "output_type": "stream",
          "name": "stdout",
          "text": [
            "5/5 [==============================] - 0s 2ms/step - loss: 11.7569 - mae: 11.7569\n"
          ]
        },
        {
          "output_type": "execute_result",
          "data": {
            "text/plain": [
              "[11.756916046142578, 11.756916046142578]"
            ]
          },
          "metadata": {},
          "execution_count": 30
        }
      ]
    },
    {
      "cell_type": "code",
      "metadata": {
        "colab": {
          "base_uri": "https://localhost:8080/",
          "height": 296
        },
        "id": "gVS2eOGawK6I",
        "outputId": "f82a2901-42de-4514-bd37-c5c7455bda54"
      },
      "source": [
        "pd.DataFrame(history_2.history).plot()\n",
        "plt.xlabel(\"epochs\")\n",
        "plt.ylabel(\"loss\")"
      ],
      "execution_count": 31,
      "outputs": [
        {
          "output_type": "execute_result",
          "data": {
            "text/plain": [
              "Text(0, 0.5, 'loss')"
            ]
          },
          "metadata": {},
          "execution_count": 31
        },
        {
          "output_type": "display_data",
          "data": {
            "image/png": "[encoded data removed]",
            "text/plain": [
              "<Figure size 432x288 with 1 Axes>"
            ]
          },
          "metadata": {
            "needs_background": "light"
          }
        }
      ]
    },
    {
      "cell_type": "code",
      "metadata": {
        "id": "3zC0N5rIwdZp"
      },
      "source": [
        "# model 3\n",
        "\n",
        "#set random seed\n",
        "tf.random.set_seed(42)\n",
        "\n",
        "#Neural Net model\n",
        "model_3 = tf.keras.Sequential([\n",
        "                               tf.keras.layers.Dense(100,activation=\"relu\"),\n",
        "                               tf.keras.layers.Dense(10, activation=\"relu\"),\n",
        "                               tf.keras.layers.Dense(1)\n",
        "])\n",
        "\n",
        "#compile the model\n",
        "model_3.compile(loss=tf.keras.losses.mae,\n",
        "                optimizer=tf.keras.optimizers.Adam(),\n",
        "                metrics=[\"mae\"])\n",
        "\n",
        "#Fit the model\n",
        "history_3 = model_3.fit(x_train, y_train, epochs=100,verbose=0)"
      ],
      "execution_count": 33,
      "outputs": []
    },
    {
      "cell_type": "code",
      "metadata": {
        "colab": {
          "base_uri": "https://localhost:8080/"
        },
        "id": "j0k-8fYnxWGm",
        "outputId": "b91337c3-3bbe-42b3-da17-5ef93bddb0dc"
      },
      "source": [
        "model_3.evaluate(x_test, y_test)"
      ],
      "execution_count": 34,
      "outputs": [
        {
          "output_type": "stream",
          "name": "stdout",
          "text": [
            "5/5 [==============================] - 0s 2ms/step - loss: 4.0725 - mae: 4.0725\n"
          ]
        },
        {
          "output_type": "execute_result",
          "data": {
            "text/plain": [
              "[4.072457790374756, 4.072457790374756]"
            ]
          },
          "metadata": {},
          "execution_count": 34
        }
      ]
    },
    {
      "cell_type": "code",
      "metadata": {
        "colab": {
          "base_uri": "https://localhost:8080/",
          "height": 296
        },
        "id": "ICiSnZB-xgGE",
        "outputId": "17a3ca4d-c743-45f2-f110-f7bf1c8eae2c"
      },
      "source": [
        "pd.DataFrame(history_3.history).plot()\n",
        "plt.xlabel(\"Epochs\")\n",
        "plt.ylabel(\"Loss\")"
      ],
      "execution_count": 35,
      "outputs": [
        {
          "output_type": "execute_result",
          "data": {
            "text/plain": [
              "Text(0, 0.5, 'Loss')"
            ]
          },
          "metadata": {},
          "execution_count": 35
        },
        {
          "output_type": "display_data",
          "data": {
            "image/png": "[encoded data removed]",
            "text/plain": [
              "<Figure size 432x288 with 1 Axes>"
            ]
          },
          "metadata": {
            "needs_background": "light"
          }
        }
      ]
    },
    {
      "cell_type": "code",
      "metadata": {
        "colab": {
          "base_uri": "https://localhost:8080/"
        },
        "id": "vTk4OYzdyPqE",
        "outputId": "7bac8f1d-43b5-4169-c5dd-817dfb2d0ce2"
      },
      "source": [
        "model_3.summary()"
      ],
      "execution_count": 41,
      "outputs": [
        {
          "output_type": "stream",
          "name": "stdout",
          "text": [
            "Model: \"sequential_6\"\n",
            "_________________________________________________________________\n",
            "Layer (type)                 Output Shape              Param #   \n",
            "=================================================================\n",
            "dense_15 (Dense)             (None, 100)               1400      \n",
            "_________________________________________________________________\n",
            "dense_16 (Dense)             (None, 10)                1010      \n",
            "_________________________________________________________________\n",
            "dense_17 (Dense)             (None, 1)                 11        \n",
            "=================================================================\n",
            "Total params: 2,421\n",
            "Trainable params: 2,421\n",
            "Non-trainable params: 0\n",
            "_________________________________________________________________\n"
          ]
        }
      ]
    },
    {
      "cell_type": "code",
      "metadata": {
        "id": "VICDkXMgxtV1"
      },
      "source": [
        "y_pred = model_3.predict(x_test)"
      ],
      "execution_count": 36,
      "outputs": []
    },
    {
      "cell_type": "code",
      "metadata": {
        "colab": {
          "base_uri": "https://localhost:8080/",
          "height": 265
        },
        "id": "2GYcYnXYx6HW",
        "outputId": "680eb539-9e62-4efa-d435-ac878803d40e"
      },
      "source": [
        "plt.scatter(y_test, y_pred, c=\"g\", label=\"Prediction\")\n",
        "\n",
        "plt.legend();"
      ],
      "execution_count": 39,
      "outputs": [
        {
          "output_type": "display_data",
          "data": {
            "image/png": "[encoded data removed]",
            "text/plain": [
              "<Figure size 432x288 with 1 Axes>"
            ]
          },
          "metadata": {
            "needs_background": "light"
          }
        }
      ]
    },
    {
      "cell_type": "code",
      "metadata": {
        "id": "C0uo4q_zx-ME"
      },
      "source": [
        "# model 4\n",
        "\n",
        "#set random seed\n",
        "tf.random.set_seed(42)\n",
        "\n",
        "#Neural Net model\n",
        "model_4 = tf.keras.Sequential([\n",
        "                               tf.keras.layers.Dense(100,activation=\"relu\"),\n",
        "                               tf.keras.layers.Dense(10, activation=\"relu\"),\n",
        "                               tf.keras.layers.Dense(1)\n",
        "])\n",
        "\n",
        "#compile the model\n",
        "model_4.compile(loss=tf.keras.losses.mae,\n",
        "                optimizer=tf.keras.optimizers.Adam(),\n",
        "                metrics=[\"mae\"])\n",
        "\n",
        "#Fit the model\n",
        "history_4 = model_4.fit(x_train, y_train, epochs=500,verbose=0)"
      ],
      "execution_count": 42,
      "outputs": []
    },
    {
      "cell_type": "code",
      "metadata": {
        "colab": {
          "base_uri": "https://localhost:8080/"
        },
        "id": "gNE72Ls7zniK",
        "outputId": "8ceafe5e-520d-44a2-e3e8-24f534b39e56"
      },
      "source": [
        "model_4.evaluate(x_test,y_test)"
      ],
      "execution_count": 43,
      "outputs": [
        {
          "output_type": "stream",
          "name": "stdout",
          "text": [
            "5/5 [==============================] - 0s 2ms/step - loss: 3.2668 - mae: 3.2668\n"
          ]
        },
        {
          "output_type": "execute_result",
          "data": {
            "text/plain": [
              "[3.2668254375457764, 3.2668254375457764]"
            ]
          },
          "metadata": {},
          "execution_count": 43
        }
      ]
    },
    {
      "cell_type": "code",
      "metadata": {
        "colab": {
          "base_uri": "https://localhost:8080/",
          "height": 296
        },
        "id": "iZKsgETYzumg",
        "outputId": "61763511-486a-4f68-a462-ddb71407c2c8"
      },
      "source": [
        "pd.DataFrame(history_4.history).plot()\n",
        "plt.xlabel(\"Epochs\")\n",
        "plt.ylabel(\"Loss\")"
      ],
      "execution_count": 44,
      "outputs": [
        {
          "output_type": "execute_result",
          "data": {
            "text/plain": [
              "Text(0, 0.5, 'Loss')"
            ]
          },
          "metadata": {},
          "execution_count": 44
        },
        {
          "output_type": "display_data",
          "data": {
            "image/png": "[encoded data removed]",
            "text/plain": [
              "<Figure size 432x288 with 1 Axes>"
            ]
          },
          "metadata": {
            "needs_background": "light"
          }
        }
      ]
    },
    {
      "cell_type": "code",
      "metadata": {
        "id": "euOl0rTZz06Q"
      },
      "source": [
        "y_pred = model_3.predict(x_test)\n"
      ],
      "execution_count": 45,
      "outputs": []
    },
    {
      "cell_type": "code",
      "metadata": {
        "colab": {
          "base_uri": "https://localhost:8080/",
          "height": 265
        },
        "id": "Q-VfRvNsz5kP",
        "outputId": "c411cad0-8186-4f81-d671-201db36497ea"
      },
      "source": [
        "plt.scatter(y_test, y_pred, c=\"g\", label=\"Prediction\")\n",
        "\n",
        "plt.legend();"
      ],
      "execution_count": 46,
      "outputs": [
        {
          "output_type": "display_data",
          "data": {
            "image/png": "[encoded data removed]",
            "text/plain": [
              "<Figure size 432x288 with 1 Axes>"
            ]
          },
          "metadata": {
            "needs_background": "light"
          }
        }
      ]
    },
    {
      "cell_type": "code",
      "metadata": {
        "colab": {
          "base_uri": "https://localhost:8080/"
        },
        "id": "8PtTUj58z6MQ",
        "outputId": "294f1364-7dd5-48e8-83d7-0f9f586dc21b"
      },
      "source": [
        "# model 5\n",
        "\n",
        "#set random seed\n",
        "tf.random.set_seed(42)\n",
        "\n",
        "#Neural Net model\n",
        "model_5 = tf.keras.Sequential([\n",
        "                               tf.keras.layers.Dense(100,activation=\"relu\"),\n",
        "                               tf.keras.layers.Dense(10, activation=\"relu\"),\n",
        "                               tf.keras.layers.Dense(1)\n",
        "])\n",
        "\n",
        "#compile the model\n",
        "model_5.compile(loss=tf.keras.losses.mae,\n",
        "                optimizer=tf.keras.optimizers.Adam(lr=0.01),\n",
        "                metrics=[\"mae\"])\n",
        "\n",
        "#Fit the model\n",
        "history_5 = model_5.fit(x_train, y_train, epochs=1000,verbose=0, validation_data=(x_test,y_test))"
      ],
      "execution_count": 55,
      "outputs": [
        {
          "output_type": "stream",
          "name": "stderr",
          "text": [
            "/usr/local/lib/python3.7/dist-packages/keras/optimizer_v2/optimizer_v2.py:356: UserWarning: The `lr` argument is deprecated, use `learning_rate` instead.\n",
            "  \"The `lr` argument is deprecated, use `learning_rate` instead.\")\n"
          ]
        }
      ]
    },
    {
      "cell_type": "code",
      "metadata": {
        "colab": {
          "base_uri": "https://localhost:8080/"
        },
        "id": "qznvtw2a0TeY",
        "outputId": "616aa238-b708-4877-d0ac-457fc3d74eaf"
      },
      "source": [
        "model_5.evaluate(x_test,y_test)"
      ],
      "execution_count": 56,
      "outputs": [
        {
          "output_type": "stream",
          "name": "stdout",
          "text": [
            "5/5 [==============================] - 0s 2ms/step - loss: 3.5939 - mae: 3.5939\n"
          ]
        },
        {
          "output_type": "execute_result",
          "data": {
            "text/plain": [
              "[3.593919038772583, 3.593919038772583]"
            ]
          },
          "metadata": {},
          "execution_count": 56
        }
      ]
    },
    {
      "cell_type": "code",
      "metadata": {
        "colab": {
          "base_uri": "https://localhost:8080/",
          "height": 330
        },
        "id": "PVgWmR-B0ale",
        "outputId": "3daf80b0-5a47-4777-a6fc-a8a40f8ed244"
      },
      "source": [
        "mae = history_5.history[\"mae\"]\n",
        "loss = history_5.history[\"loss\"]\n",
        "\n",
        "val_mae = history_5.history[\"val_mae\"]\n",
        "val_loss = history_5.history[\"val_loss\"]\n",
        "\n",
        "# Make plots\n",
        "plt.figure(figsize=(8, 8))\n",
        "plt.subplot(2, 1, 1)\n",
        "plt.plot(loss, label='Training MAE')\n",
        "plt.title('Training Accuracy')\n",
        "plt.xlabel('epoch')\n",
        "plt.legend(loc='upper right')\n",
        "\n",
        "plt.subplot(2, 1, 1)\n",
        "plt.plot(val_loss, label='Validation MAE')\n",
        "plt.title('Validation Accuracy')\n",
        "plt.xlabel('epoch')\n",
        "plt.legend(loc='upper right')\n",
        "plt.show()\n",
        "  "
      ],
      "execution_count": 61,
      "outputs": [
        {
          "output_type": "stream",
          "name": "stderr",
          "text": [
            "/usr/local/lib/python3.7/dist-packages/ipykernel_launcher.py:15: MatplotlibDeprecationWarning: Adding an axes using the same arguments as a previous axes currently reuses the earlier instance.  In a future version, a new instance will always be created and returned.  Meanwhile, this warning can be suppressed, and the future behavior ensured, by passing a unique label to each axes instance.\n",
            "  from ipykernel import kernelapp as app\n"
          ]
        },
        {
          "output_type": "display_data",
          "data": {
            "image/png": "[encoded data removed]",
            "text/plain": [
              "<Figure size 576x576 with 1 Axes>"
            ]
          },
          "metadata": {
            "needs_background": "light"
          }
        }
      ]
    },
    {
      "cell_type": "code",
      "metadata": {
        "id": "hwNjfjwf2Q-c"
      },
      "source": [
        ""
      ],
      "execution_count": null,
      "outputs": []
    }
  ]
}