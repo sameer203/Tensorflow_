{
  "nbformat": 4,
  "nbformat_minor": 0,
  "metadata": {
    "colab": {
      "name": "02A_Boston_Dataset_Regression.ipynb",
      "provenance": [],
      "collapsed_sections": [],
      "authorship_tag": "ABX9TyMlcijMlUTG1ftwyOt+jZev",
      "include_colab_link": true
    },
    "kernelspec": {
      "name": "python3",
      "display_name": "Python 3"
    },
    "language_info": {
      "name": "python"
    }
  },
  "cells": [
    {
      "cell_type": "markdown",
      "metadata": {
        "id": "view-in-github",
        "colab_type": "text"
      },
      "source": [
        "<a href=\"https://colab.research.google.com/github/sameer203/Tensorflow_/blob/main/02A_Boston_Dataset_Regression.ipynb\" target=\"_parent\"><img src=\"https://colab.research.google.com/assets/colab-badge.svg\" alt=\"Open In Colab\"/></a>"
      ]
    },
    {
      "cell_type": "markdown",
      "metadata": {
        "id": "AfSM-5jjqEAD"
      },
      "source": [
        "### Boston Dataset Regression"
      ]
    },
    {
      "cell_type": "code",
      "metadata": {
        "id": "SyJKSMz2qUIG"
      },
      "source": [
        "import tensorflow as tf\n",
        "import pandas as pd\n",
        "import matplotlib.pyplot as plt\n",
        "import numpy as np"
      ],
      "execution_count": 1,
      "outputs": []
    },
    {
      "cell_type": "code",
      "metadata": {
        "id": "I0xehAsKqcxg"
      },
      "source": [
        "(x_train, y_train), (x_test, y_test) = tf.keras.datasets.boston_housing.load_data(test_split=0.3)"
      ],
      "execution_count": 9,
      "outputs": []
    },
    {
      "cell_type": "code",
      "metadata": {
        "colab": {
          "base_uri": "https://localhost:8080/"
        },
        "id": "TDE4KWERqlT1",
        "outputId": "50aad104-c609-4a24-e608-21170b8979c2"
      },
      "source": [
        "x_train"
      ],
      "execution_count": 13,
      "outputs": [
        {
          "output_type": "execute_result",
          "data": {
            "text/plain": [
              "array([[1.23247e+00, 0.00000e+00, 8.14000e+00, ..., 2.10000e+01,\n",
              "        3.96900e+02, 1.87200e+01],\n",
              "       [2.17700e-02, 8.25000e+01, 2.03000e+00, ..., 1.47000e+01,\n",
              "        3.95380e+02, 3.11000e+00],\n",
              "       [4.89822e+00, 0.00000e+00, 1.81000e+01, ..., 2.02000e+01,\n",
              "        3.75520e+02, 3.26000e+00],\n",
              "       ...,\n",
              "       [8.70700e-02, 0.00000e+00, 1.28300e+01, ..., 1.87000e+01,\n",
              "        3.86960e+02, 1.02700e+01],\n",
              "       [3.58400e-02, 8.00000e+01, 3.37000e+00, ..., 1.61000e+01,\n",
              "        3.96900e+02, 4.67000e+00],\n",
              "       [3.61500e-02, 8.00000e+01, 4.95000e+00, ..., 1.92000e+01,\n",
              "        3.96900e+02, 4.70000e+00]])"
            ]
          },
          "metadata": {},
          "execution_count": 13
        }
      ]
    },
    {
      "cell_type": "code",
      "metadata": {
        "colab": {
          "base_uri": "https://localhost:8080/"
        },
        "id": "lJMsHZyoqpwE",
        "outputId": "f56d2b73-cfb2-41e0-dc96-6e6167ce3349"
      },
      "source": [
        "len(x_train), len(y_train), len(x_test), len(y_test)"
      ],
      "execution_count": 14,
      "outputs": [
        {
          "output_type": "execute_result",
          "data": {
            "text/plain": [
              "(354, 354, 152, 152)"
            ]
          },
          "metadata": {},
          "execution_count": 14
        }
      ]
    },
    {
      "cell_type": "markdown",
      "metadata": {
        "id": "1vunhcDVsXhC"
      },
      "source": [
        "### Build a Neutal Net model"
      ]
    },
    {
      "cell_type": "code",
      "metadata": {
        "id": "6GJAwi6gsfKg"
      },
      "source": [
        "# Model 1\n",
        "\n",
        "#set random seed\n",
        "tf.random.set_seed(42)\n",
        "\n",
        "#build a model\n",
        "boston_model_1 = tf.keras.Sequential([\n",
        "                                      tf.keras.layers.Dense(100,activation=\"relu\"),\n",
        "                                      tf.keras.layers.Dense(1)\n",
        "])\n",
        "\n",
        "#compile the model\n",
        "boston_model_1.compile(loss=tf.keras.losses.mae,\n",
        "                       optimizer=tf.keras.optimizers.SGD(),\n",
        "                       metrics=[\"mae\"])\n",
        "\n",
        "#Fit the model\n",
        "history_1 = boston_model_1.fit(x_train,\n",
        "                               y_train,\n",
        "                               epochs=100,\n",
        "                               verbose=0)"
      ],
      "execution_count": 20,
      "outputs": []
    },
    {
      "cell_type": "code",
      "metadata": {
        "colab": {
          "base_uri": "https://localhost:8080/"
        },
        "id": "EQ60k1nMtqm_",
        "outputId": "b346b6f3-4ea4-410b-ff8d-9ac53d1d0624"
      },
      "source": [
        "boston_model_1.evaluate(x_test,y_test)"
      ],
      "execution_count": 21,
      "outputs": [
        {
          "output_type": "stream",
          "name": "stdout",
          "text": [
            "5/5 [==============================] - 0s 2ms/step - loss: 11.8085 - mae: 11.8085\n"
          ]
        },
        {
          "output_type": "execute_result",
          "data": {
            "text/plain": [
              "[11.808497428894043, 11.808497428894043]"
            ]
          },
          "metadata": {},
          "execution_count": 21
        }
      ]
    },
    {
      "cell_type": "code",
      "metadata": {
        "colab": {
          "base_uri": "https://localhost:8080/",
          "height": 282
        },
        "id": "rKcOYIE2txf-",
        "outputId": "a38d364e-e6d1-4b36-9870-12f17585ec11"
      },
      "source": [
        "pd.DataFrame(history_1.history).plot()"
      ],
      "execution_count": 24,
      "outputs": [
        {
          "output_type": "execute_result",
          "data": {
            "text/plain": [
              "<matplotlib.axes._subplots.AxesSubplot at 0x7f4e781815d0>"
            ]
          },
          "metadata": {},
          "execution_count": 24
        },
        {
          "output_type": "display_data",
          "data": {
            "image/png": "[encoded data removed]",
            "text/plain": [
              "<Figure size 432x288 with 1 Axes>"
            ]
          },
          "metadata": {
            "needs_background": "light"
          }
        }
      ]
    },
    {
      "cell_type": "markdown",
      "metadata": {
        "id": "NnCMdOk3ud-t"
      },
      "source": [
        "### Improve the Model"
      ]
    },
    {
      "cell_type": "code",
      "metadata": {
        "id": "P41yq4KVut28"
      },
      "source": [
        "# model 2\n",
        "\n",
        "#set random seed\n",
        "tf.random.set_seed(42)\n",
        "\n",
        "#Neuralnet model\n",
        "model_2 = tf.keras.Sequential([\n",
        "                               tf.keras.layers.Dense(100, activation=\"relu\"),\n",
        "                               tf.keras.layers.Dense(10, activation=\"relu\"),\n",
        "                               tf.keras.layers.Dense(1)\n",
        "])\n",
        "\n",
        "#compile the model\n",
        "model_2.compile(loss=tf.keras.losses.mae,\n",
        "                optimizer=tf.keras.optimizers.SGD(),\n",
        "                metrics=[\"mae\"])\n",
        "\n",
        "#fit the model\n",
        "history_2 = model_2.fit(x_train,y_train,\n",
        "                        epochs=100,\n",
        "                        verbose=0,\n",
        "                        )"
      ],
      "execution_count": 29,
      "outputs": []
    },
    {
      "cell_type": "code",
      "metadata": {
        "colab": {
          "base_uri": "https://localhost:8080/"
        },
        "id": "83TfNbtuv8W6",
        "outputId": "55d9e865-a7ca-492f-db83-89c1dc4aa01e"
      },
      "source": [
        "model_2.evaluate(x_test,y_test)"
      ],
      "execution_count": 30,
      "outputs": [
        {
          "output_type": "stream",
          "name": "stdout",
          "text": [
            "5/5 [==============================] - 0s 2ms/step - loss: 11.7569 - mae: 11.7569\n"
          ]
        },
        {
          "output_type": "execute_result",
          "data": {
            "text/plain": [
              "[11.756916046142578, 11.756916046142578]"
            ]
          },
          "metadata": {},
          "execution_count": 30
        }
      ]
    },
    {
      "cell_type": "code",
      "metadata": {
        "colab": {
          "base_uri": "https://localhost:8080/",
          "height": 296
        },
        "id": "gVS2eOGawK6I",
        "outputId": "f82a2901-42de-4514-bd37-c5c7455bda54"
      },
      "source": [
        "pd.DataFrame(history_2.history).plot()\n",
        "plt.xlabel(\"epochs\")\n",
        "plt.ylabel(\"loss\")"
      ],
      "execution_count": 31,
      "outputs": [
        {
          "output_type": "execute_result",
          "data": {
            "text/plain": [
              "Text(0, 0.5, 'loss')"
            ]
          },
          "metadata": {},
          "execution_count": 31
        },
        {
          "output_type": "display_data",
          "data": {
            "image/png": "[encoded data removed]",
            "text/plain": [
              "<Figure size 432x288 with 1 Axes>"
            ]
          },
          "metadata": {
            "needs_background": "light"
          }
        }
      ]
    },
    {
      "cell_type": "code",
      "metadata": {
        "id": "3zC0N5rIwdZp"
      },
      "source": [
        "# model 3\n",
        "\n",
        "#set random seed\n",
        "tf.random.set_seed(42)\n",
        "\n",
        "#Neural Net model\n",
        "model_3 = tf.keras.Sequential([\n",
        "                               tf.keras.layers.Dense(100,activation=\"relu\"),\n",
        "                               tf.keras.layers.Dense(10, activation=\"relu\"),\n",
        "                               tf.keras.layers.Dense(1)\n",
        "])\n",
        "\n",
        "#compile the model\n",
        "model_3.compile(loss=tf.keras.losses.mae,\n",
        "                optimizer=tf.keras.optimizers.Adam(),\n",
        "                metrics=[\"mae\"])\n",
        "\n",
        "#Fit the model\n",
        "history_3 = model_3.fit(x_train, y_train, epochs=100,verbose=0)"
      ],
      "execution_count": 33,
      "outputs": []
    },
    {
      "cell_type": "code",
      "metadata": {
        "colab": {
          "base_uri": "https://localhost:8080/"
        },
        "id": "j0k-8fYnxWGm",
        "outputId": "b91337c3-3bbe-42b3-da17-5ef93bddb0dc"
      },
      "source": [
        "model_3.evaluate(x_test, y_test)"
      ],
      "execution_count": 34,
      "outputs": [
        {
          "output_type": "stream",
          "name": "stdout",
          "text": [
            "5/5 [==============================] - 0s 2ms/step - loss: 4.0725 - mae: 4.0725\n"
          ]
        },
        {
          "output_type": "execute_result",
          "data": {
            "text/plain": [
              "[4.072457790374756, 4.072457790374756]"
            ]
          },
          "metadata": {},
          "execution_count": 34
        }
      ]
    },
    {
      "cell_type": "code",
      "metadata": {
        "colab": {
          "base_uri": "https://localhost:8080/",
          "height": 296
        },
        "id": "ICiSnZB-xgGE",
        "outputId": "17a3ca4d-c743-45f2-f110-f7bf1c8eae2c"
      },
      "source": [
        "pd.DataFrame(history_3.history).plot()\n",
        "plt.xlabel(\"Epochs\")\n",
        "plt.ylabel(\"Loss\")"
      ],
      "execution_count": 35,
      "outputs": [
        {
          "output_type": "execute_result",
          "data": {
            "text/plain": [
              "Text(0, 0.5, 'Loss')"
            ]
          },
          "metadata": {},
          "execution_count": 35
        },
        {
          "output_type": "display_data",
          "data": {
            "image/png": "[encoded data removed]",
            "text/plain": [
              "<Figure size 432x288 with 1 Axes>"
            ]
          },
          "metadata": {
            "needs_background": "light"
          }
        }
      ]
    },
    {
      "cell_type": "code",
      "metadata": {
        "id": "VICDkXMgxtV1"
      },
      "source": [
        ""
      ],
      "execution_count": null,
      "outputs": []
    }
  ]
}