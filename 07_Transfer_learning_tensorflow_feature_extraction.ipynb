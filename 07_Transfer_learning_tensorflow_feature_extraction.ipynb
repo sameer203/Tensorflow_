{
  "nbformat": 4,
  "nbformat_minor": 0,
  "metadata": {
    "colab": {
      "name": "07_Transfer_learning_tensorflow_feature_extraction.ipynb",
      "provenance": [],
      "collapsed_sections": [],
      "authorship_tag": "ABX9TyOEgJVn1lW/ybTHNBDXlzcq",
      "include_colab_link": true
    },
    "kernelspec": {
      "name": "python3",
      "display_name": "Python 3"
    },
    "language_info": {
      "name": "python"
    },
    "accelerator": "GPU"
  },
  "cells": [
    {
      "cell_type": "markdown",
      "metadata": {
        "id": "view-in-github",
        "colab_type": "text"
      },
      "source": [
        "<a href=\"https://colab.research.google.com/github/sameer203/Tensorflow_/blob/main/07_Transfer_learning_tensorflow_feature_extraction.ipynb\" target=\"_parent\"><img src=\"https://colab.research.google.com/assets/colab-badge.svg\" alt=\"Open In Colab\"/></a>"
      ]
    },
    {
      "cell_type": "markdown",
      "metadata": {
        "id": "fo3zMXdhMpar"
      },
      "source": [
        "# Transfer Learning with Tensorflow: Feature etraction"
      ]
    },
    {
      "cell_type": "code",
      "metadata": {
        "colab": {
          "base_uri": "https://localhost:8080/"
        },
        "id": "dl09RpLVNoBN",
        "outputId": "eca7af8f-a83c-480b-e2e3-e14c2fc261c8"
      },
      "source": [
        "!nvidia-smi"
      ],
      "execution_count": 1,
      "outputs": [
        {
          "output_type": "stream",
          "name": "stdout",
          "text": [
            "Sun Oct 24 12:12:44 2021       \n",
            "+-----------------------------------------------------------------------------+\n",
            "| NVIDIA-SMI 470.74       Driver Version: 460.32.03    CUDA Version: 11.2     |\n",
            "|-------------------------------+----------------------+----------------------+\n",
            "| GPU  Name        Persistence-M| Bus-Id        Disp.A | Volatile Uncorr. ECC |\n",
            "| Fan  Temp  Perf  Pwr:Usage/Cap|         Memory-Usage | GPU-Util  Compute M. |\n",
            "|                               |                      |               MIG M. |\n",
            "|===============================+======================+======================|\n",
            "|   0  Tesla K80           Off  | 00000000:00:04.0 Off |                    0 |\n",
            "| N/A   54C    P8    30W / 149W |      0MiB / 11441MiB |      0%      Default |\n",
            "|                               |                      |                  N/A |\n",
            "+-------------------------------+----------------------+----------------------+\n",
            "                                                                               \n",
            "+-----------------------------------------------------------------------------+\n",
            "| Processes:                                                                  |\n",
            "|  GPU   GI   CI        PID   Type   Process name                  GPU Memory |\n",
            "|        ID   ID                                                   Usage      |\n",
            "|=============================================================================|\n",
            "|  No running processes found                                                 |\n",
            "+-----------------------------------------------------------------------------+\n"
          ]
        }
      ]
    },
    {
      "cell_type": "markdown",
      "metadata": {
        "id": "GDqb16OaN5fd"
      },
      "source": [
        "### Downloading the Data"
      ]
    },
    {
      "cell_type": "code",
      "metadata": {
        "colab": {
          "base_uri": "https://localhost:8080/"
        },
        "id": "ykJKcYuPOJpL",
        "outputId": "a85cc445-c121-4c0f-fc87-f0288eabed68"
      },
      "source": [
        "import zipfile\n",
        "\n",
        "!wget https://storage.googleapis.com/ztm_tf_course/food_vision/10_food_classes_10_percent.zip\n"
      ],
      "execution_count": 2,
      "outputs": [
        {
          "output_type": "stream",
          "name": "stdout",
          "text": [
            "--2021-10-24 12:14:21--  https://storage.googleapis.com/ztm_tf_course/food_vision/10_food_classes_10_percent.zip\n",
            "Resolving storage.googleapis.com (storage.googleapis.com)... 64.233.188.128, 64.233.189.128, 108.177.125.128, ...\n",
            "Connecting to storage.googleapis.com (storage.googleapis.com)|64.233.188.128|:443... connected.\n",
            "HTTP request sent, awaiting response... 200 OK\n",
            "Length: 168546183 (161M) [application/zip]\n",
            "Saving to: ‘10_food_classes_10_percent.zip’\n",
            "\n",
            "10_food_classes_10_ 100%[===================>] 160.74M   158MB/s    in 1.0s    \n",
            "\n",
            "2021-10-24 12:14:22 (158 MB/s) - ‘10_food_classes_10_percent.zip’ saved [168546183/168546183]\n",
            "\n"
          ]
        }
      ]
    },
    {
      "cell_type": "code",
      "metadata": {
        "id": "qxxikxSQORtZ"
      },
      "source": [
        "zip_ref = zipfile.ZipFile(\"10_food_classes_10_percent.zip\")\n",
        "zip_ref.extractall()\n",
        "zip_ref.close()"
      ],
      "execution_count": 3,
      "outputs": []
    },
    {
      "cell_type": "code",
      "metadata": {
        "colab": {
          "base_uri": "https://localhost:8080/"
        },
        "id": "4Ez-q81gOgEJ",
        "outputId": "6ec4ec28-76b8-4cf0-a97b-02ba278ed4da"
      },
      "source": [
        "import os\n",
        "\n",
        "for dirpath, dirname, filenames in os.walk(\"10_food_classes_10_percent\"):\n",
        "  print(f\"There are {len(dirname)} directories and {len(filenames)} in {dirpath}\")"
      ],
      "execution_count": 6,
      "outputs": [
        {
          "output_type": "stream",
          "name": "stdout",
          "text": [
            "There are 2 directories and 0 in 10_food_classes_10_percent\n",
            "There are 10 directories and 0 in 10_food_classes_10_percent/train\n",
            "There are 0 directories and 75 in 10_food_classes_10_percent/train/chicken_wings\n",
            "There are 0 directories and 75 in 10_food_classes_10_percent/train/pizza\n",
            "There are 0 directories and 75 in 10_food_classes_10_percent/train/steak\n",
            "There are 0 directories and 75 in 10_food_classes_10_percent/train/ice_cream\n",
            "There are 0 directories and 75 in 10_food_classes_10_percent/train/ramen\n",
            "There are 0 directories and 75 in 10_food_classes_10_percent/train/chicken_curry\n",
            "There are 0 directories and 75 in 10_food_classes_10_percent/train/grilled_salmon\n",
            "There are 0 directories and 75 in 10_food_classes_10_percent/train/sushi\n",
            "There are 0 directories and 75 in 10_food_classes_10_percent/train/fried_rice\n",
            "There are 0 directories and 75 in 10_food_classes_10_percent/train/hamburger\n",
            "There are 10 directories and 0 in 10_food_classes_10_percent/test\n",
            "There are 0 directories and 250 in 10_food_classes_10_percent/test/chicken_wings\n",
            "There are 0 directories and 250 in 10_food_classes_10_percent/test/pizza\n",
            "There are 0 directories and 250 in 10_food_classes_10_percent/test/steak\n",
            "There are 0 directories and 250 in 10_food_classes_10_percent/test/ice_cream\n",
            "There are 0 directories and 250 in 10_food_classes_10_percent/test/ramen\n",
            "There are 0 directories and 250 in 10_food_classes_10_percent/test/chicken_curry\n",
            "There are 0 directories and 250 in 10_food_classes_10_percent/test/grilled_salmon\n",
            "There are 0 directories and 250 in 10_food_classes_10_percent/test/sushi\n",
            "There are 0 directories and 250 in 10_food_classes_10_percent/test/fried_rice\n",
            "There are 0 directories and 250 in 10_food_classes_10_percent/test/hamburger\n"
          ]
        }
      ]
    },
    {
      "cell_type": "markdown",
      "metadata": {
        "id": "Ja522x1SO_GH"
      },
      "source": [
        "## Creating the Data loaders"
      ]
    },
    {
      "cell_type": "code",
      "metadata": {
        "id": "-7AbMF5XPysV"
      },
      "source": [
        "# create train and test data generation and rescale the data\n",
        "from tensorflow.keras.preprocessing.image import ImageDataGenerator"
      ],
      "execution_count": 7,
      "outputs": []
    },
    {
      "cell_type": "code",
      "metadata": {
        "id": "663BRegJP2QF"
      },
      "source": [
        "IMAGE_SHAPE = (224, 224)\n",
        "BATCH_SIZE = 32"
      ],
      "execution_count": 8,
      "outputs": []
    },
    {
      "cell_type": "code",
      "metadata": {
        "colab": {
          "base_uri": "https://localhost:8080/"
        },
        "id": "rp_OJm4GQAwk",
        "outputId": "4f9ffb9f-e2cc-48d0-e5f6-e74f5e998c9d"
      },
      "source": [
        "train_dir = \"10_food_classes_10_percent/train/\"\n",
        "test_dir = \"10_food_classes_10_percent/test/\"\n",
        "\n",
        "train_datagen = ImageDataGenerator(rescale=1./255)\n",
        "test_datagen  = ImageDataGenerator(rescale=1./255.)\n",
        "\n",
        "print(\"Training Images:\")\n",
        "train_data_10_percent = train_datagen.flow_from_directory(train_dir,\n",
        "                                                          target_size=IMAGE_SHAPE,\n",
        "                                                          batch_size=BATCH_SIZE,\n",
        "                                                          class_mode=\"categorical\")\n",
        "print(\"Testing images:\")\n",
        "test_data = test_datagen.flow_from_directory(test_dir,\n",
        "                                             target_size=IMAGE_SHAPE,\n",
        "                                             batch_size=BATCH_SIZE,\n",
        "                                             class_mode=\"categorical\")"
      ],
      "execution_count": 9,
      "outputs": [
        {
          "output_type": "stream",
          "name": "stdout",
          "text": [
            "Training Images:\n",
            "Found 750 images belonging to 10 classes.\n",
            "Testing images:\n",
            "Found 2500 images belonging to 10 classes.\n"
          ]
        }
      ]
    },
    {
      "cell_type": "code",
      "metadata": {
        "colab": {
          "base_uri": "https://localhost:8080/"
        },
        "id": "j87wWoPbRIXc",
        "outputId": "a868f0ba-7a1b-4148-d84e-5d3f11782f13"
      },
      "source": [
        "images, labels = train_data_10_percent.next()\n",
        "len(images), len(labels)"
      ],
      "execution_count": 11,
      "outputs": [
        {
          "output_type": "execute_result",
          "data": {
            "text/plain": [
              "(32, 32)"
            ]
          },
          "metadata": {},
          "execution_count": 11
        }
      ]
    },
    {
      "cell_type": "markdown",
      "metadata": {
        "id": "dTfGo2J2RXqv"
      },
      "source": [
        "### Callbacks"
      ]
    },
    {
      "cell_type": "code",
      "metadata": {
        "id": "z85yzfm5RcEv"
      },
      "source": [
        "# Creating a TensorBoard callback function\n",
        "import datetime\n",
        "\n",
        "def create_tensorboard_callback(dir_name, experiment_name):\n",
        "  log_dir = dir_name + \"/\" + experiment_name + \"/\" + datetime.datetime.now().strftime(\"%Y%m%d-%H%M%S\")\n",
        "  tensorboard_callback = tf.keras.callbacks.TensorBoard(log_dir=log_dir)\n",
        "  print(f\"saving TensorBoard log files to :{log_dir}\")\n",
        "  return tensorboard_callback"
      ],
      "execution_count": 27,
      "outputs": []
    },
    {
      "cell_type": "markdown",
      "metadata": {
        "id": "LjiEBl4rT_wp"
      },
      "source": [
        "### Creating Model from tensorflow HUB\n",
        "\n",
        "* Efficient url :- \"https://tfhub.dev/tensorflow/efficientnet/b0/feature-vector/1\"\n",
        "* resnet url:- \"https://tfhub.dev/google/imagenet/resnet_v2_50/feature_vector/5\""
      ]
    },
    {
      "cell_type": "code",
      "metadata": {
        "id": "IeXOby7xfoFY"
      },
      "source": [
        "Efficient_url = \"https://tfhub.dev/tensorflow/efficientnet/b0/feature-vector/1\"\n",
        "resnet_url = \"https://tfhub.dev/google/imagenet/resnet_v2_50/feature_vector/5\""
      ],
      "execution_count": 19,
      "outputs": []
    },
    {
      "cell_type": "code",
      "metadata": {
        "id": "K4zDzyQici5K"
      },
      "source": [
        "# Import dependencies\n",
        "import tensorflow as tf\n",
        "import tensorflow_hub as hub\n",
        "from tensorflow.keras import layers"
      ],
      "execution_count": 16,
      "outputs": []
    },
    {
      "cell_type": "code",
      "metadata": {
        "id": "dBQZGtw3dloI"
      },
      "source": [
        "# modelfunction\n",
        "\n",
        "def create_model(model_url, num_classes=10):\n",
        "\n",
        "  feature_extraction_layer = hub.KerasLayer(model_url,\n",
        "                                           trainable=False,\n",
        "                                           name=\"feature_extraction_layer\",\n",
        "                                           input_shape=IMAGE_SHAPE+(3,))\n",
        "  \n",
        "  # Create the model\n",
        "  model = tf.keras.Sequential([\n",
        "                               feature_extraction_layer,\n",
        "                               layers.Dense(num_classes, activation=\"softmax\", name=\"output_layer\")\n",
        "  ])\n",
        "\n",
        "  return model\n",
        "  "
      ],
      "execution_count": 21,
      "outputs": []
    },
    {
      "cell_type": "code",
      "metadata": {
        "id": "rlGCnefQfJZj"
      },
      "source": [
        "# Create Resnet Model\n",
        "resnet_model = create_model(model_url=resnet_url,\n",
        "                            num_classes = train_data_10_percent.num_classes)"
      ],
      "execution_count": 22,
      "outputs": []
    },
    {
      "cell_type": "code",
      "metadata": {
        "colab": {
          "base_uri": "https://localhost:8080/"
        },
        "id": "F9XL-wynfw1g",
        "outputId": "20dd5210-59d1-4531-d590-63dce3f1fca2"
      },
      "source": [
        "resnet_model.summary()"
      ],
      "execution_count": 23,
      "outputs": [
        {
          "output_type": "stream",
          "name": "stdout",
          "text": [
            "Model: \"sequential\"\n",
            "_________________________________________________________________\n",
            "Layer (type)                 Output Shape              Param #   \n",
            "=================================================================\n",
            "feature_extraction_layer (Ke (None, 2048)              23564800  \n",
            "_________________________________________________________________\n",
            "output_layer (Dense)         (None, 10)                20490     \n",
            "=================================================================\n",
            "Total params: 23,585,290\n",
            "Trainable params: 20,490\n",
            "Non-trainable params: 23,564,800\n",
            "_________________________________________________________________\n"
          ]
        }
      ]
    },
    {
      "cell_type": "code",
      "metadata": {
        "id": "04zQKfmwf9wu"
      },
      "source": [
        "#Compile the model\n",
        "resnet_model.compile(loss=\"categorical_crossentropy\",\n",
        "                     optimizer=tf.keras.optimizers.Adam(),\n",
        "                     metrics=[\"accuracy\"])"
      ],
      "execution_count": 24,
      "outputs": []
    },
    {
      "cell_type": "code",
      "metadata": {
        "colab": {
          "base_uri": "https://localhost:8080/"
        },
        "id": "DDBBZ6Nngan_",
        "outputId": "74d16d09-fbc3-4532-d893-c0cff07d45ea"
      },
      "source": [
        "#Fit the model\n",
        "resnet_history = resnet_model.fit(train_data_10_percent,\n",
        "                                    epochs=5,\n",
        "                                    steps_per_epoch=len(train_data_10_percent),\n",
        "                                    validation_data=test_data,\n",
        "                                    validation_steps = len(test_data),\n",
        "                                    callbacks= [create_tensorboard_callback(dir_name=\"tensorflow_hub\",\n",
        "                                                                          experiment_name=\"resnet50V2\")])"
      ],
      "execution_count": 28,
      "outputs": [
        {
          "output_type": "stream",
          "name": "stdout",
          "text": [
            "saving TensorBoard log files to :tensorflow_hub/resnet50V2/20211024-133911\n",
            "Epoch 1/5\n",
            "24/24 [==============================] - 59s 1s/step - loss: 1.8652 - accuracy: 0.4013 - val_loss: 1.1626 - val_accuracy: 0.6348\n",
            "Epoch 2/5\n",
            "24/24 [==============================] - 22s 932ms/step - loss: 0.8933 - accuracy: 0.7240 - val_loss: 0.8620 - val_accuracy: 0.7352\n",
            "Epoch 3/5\n",
            "24/24 [==============================] - 21s 912ms/step - loss: 0.6166 - accuracy: 0.8240 - val_loss: 0.7582 - val_accuracy: 0.7596\n",
            "Epoch 4/5\n",
            "24/24 [==============================] - 21s 911ms/step - loss: 0.4764 - accuracy: 0.8747 - val_loss: 0.7135 - val_accuracy: 0.7712\n",
            "Epoch 5/5\n",
            "24/24 [==============================] - 21s 913ms/step - loss: 0.3818 - accuracy: 0.9093 - val_loss: 0.6835 - val_accuracy: 0.7764\n"
          ]
        }
      ]
    },
    {
      "cell_type": "code",
      "metadata": {
        "id": "weXDioFnhXAE"
      },
      "source": [
        ""
      ],
      "execution_count": null,
      "outputs": []
    }
  ]
}