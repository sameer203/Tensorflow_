{
  "nbformat": 4,
  "nbformat_minor": 0,
  "metadata": {
    "colab": {
      "name": "01_neural_network_regression_with_tensorflow.ipynb",
      "provenance": [],
      "collapsed_sections": [],
      "authorship_tag": "ABX9TyOy66UFRNMBeE1HGF4YT7pt",
      "include_colab_link": true
    },
    "kernelspec": {
      "name": "python3",
      "display_name": "Python 3"
    },
    "language_info": {
      "name": "python"
    },
    "accelerator": "GPU"
  },
  "cells": [
    {
      "cell_type": "markdown",
      "metadata": {
        "id": "view-in-github",
        "colab_type": "text"
      },
      "source": [
        "<a href=\"https://colab.research.google.com/github/sameer203/Tensorflow_/blob/main/01_neural_network_regression_with_tensorflow.ipynb\" target=\"_parent\"><img src=\"https://colab.research.google.com/assets/colab-badge.svg\" alt=\"Open In Colab\"/></a>"
      ]
    },
    {
      "cell_type": "markdown",
      "metadata": {
        "id": "M-SfNREclKiG"
      },
      "source": [
        "### Neural Network Regression with Tensorflow"
      ]
    },
    {
      "cell_type": "code",
      "metadata": {
        "colab": {
          "base_uri": "https://localhost:8080/"
        },
        "id": "IA1G5JSFlxDs",
        "outputId": "d5981318-faf7-47c0-b6bb-7babfed74c21"
      },
      "source": [
        "import tensorflow as tf\n",
        "print(tf.__version__)"
      ],
      "execution_count": 1,
      "outputs": [
        {
          "output_type": "stream",
          "name": "stdout",
          "text": [
            "2.6.0\n"
          ]
        }
      ]
    },
    {
      "cell_type": "code",
      "metadata": {
        "colab": {
          "base_uri": "https://localhost:8080/",
          "height": 286
        },
        "id": "jXYYx94Alzel",
        "outputId": "8429748f-2a99-4890-9772-6656292e0fa3"
      },
      "source": [
        "import numpy as np\n",
        "import matplotlib.pyplot as plt\n",
        "\n",
        "X = np.array([-7.0, -4.0, -1.0, 2.0, 5.0, 8.0, 11.0, 14.0])\n",
        "\n",
        "y = np.array([3.0, 6.0, 9.0, 12.0, 15.0, 18.0, 21.0, 24.0])\n",
        "\n",
        "plt.scatter(X,y)"
      ],
      "execution_count": 2,
      "outputs": [
        {
          "output_type": "execute_result",
          "data": {
            "text/plain": [
              "<matplotlib.collections.PathCollection at 0x7f11a25d0f50>"
            ]
          },
          "metadata": {},
          "execution_count": 2
        },
        {
          "output_type": "display_data",
          "data": {
            "image/png": "[encoded data removed]",
            "text/plain": [
              "<Figure size 432x288 with 1 Axes>"
            ]
          },
          "metadata": {
            "needs_background": "light"
          }
        }
      ]
    },
    {
      "cell_type": "markdown",
      "metadata": {
        "id": "vUgZt0NJmecJ"
      },
      "source": [
        "### Input and output shapes"
      ]
    },
    {
      "cell_type": "code",
      "metadata": {
        "colab": {
          "base_uri": "https://localhost:8080/"
        },
        "id": "rRFROTxSnBKH",
        "outputId": "9db452b5-9d4e-4472-faf9-e257ea553df6"
      },
      "source": [
        "house_info = tf.constant([\"bedroom\", \"bathroom\", \"garage\"])\n",
        "house_price = tf.constant([996700])\n",
        "\n",
        "house_info, house_price"
      ],
      "execution_count": 3,
      "outputs": [
        {
          "output_type": "execute_result",
          "data": {
            "text/plain": [
              "(<tf.Tensor: shape=(3,), dtype=string, numpy=array([b'bedroom', b'bathroom', b'garage'], dtype=object)>,\n",
              " <tf.Tensor: shape=(1,), dtype=int32, numpy=array([996700], dtype=int32)>)"
            ]
          },
          "metadata": {},
          "execution_count": 3
        }
      ]
    },
    {
      "cell_type": "code",
      "metadata": {
        "id": "9ZcwqxsCnVKI",
        "colab": {
          "base_uri": "https://localhost:8080/"
        },
        "outputId": "ff152863-fdd9-4b5c-bad0-e0e41db2c987"
      },
      "source": [
        "X = tf.constant(X)\n",
        "y = tf.constant(y)\n",
        "X,y"
      ],
      "execution_count": 4,
      "outputs": [
        {
          "output_type": "execute_result",
          "data": {
            "text/plain": [
              "(<tf.Tensor: shape=(8,), dtype=float64, numpy=array([-7., -4., -1.,  2.,  5.,  8., 11., 14.])>,\n",
              " <tf.Tensor: shape=(8,), dtype=float64, numpy=array([ 3.,  6.,  9., 12., 15., 18., 21., 24.])>)"
            ]
          },
          "metadata": {},
          "execution_count": 4
        }
      ]
    },
    {
      "cell_type": "code",
      "metadata": {
        "colab": {
          "base_uri": "https://localhost:8080/"
        },
        "id": "jhRHFIi_FTMH",
        "outputId": "46552a75-f4ec-475a-ddcc-c1aa999159f4"
      },
      "source": [
        "input_shape = X[0].shape\n",
        "output_shape = y[0].shape\n",
        "\n",
        "input_shape, output_shape"
      ],
      "execution_count": 5,
      "outputs": [
        {
          "output_type": "execute_result",
          "data": {
            "text/plain": [
              "(TensorShape([]), TensorShape([]))"
            ]
          },
          "metadata": {},
          "execution_count": 5
        }
      ]
    },
    {
      "cell_type": "code",
      "metadata": {
        "colab": {
          "base_uri": "https://localhost:8080/",
          "height": 286
        },
        "id": "x3mHd-shFm_E",
        "outputId": "24e23250-78c7-41af-8b6a-e9b64b19cfab"
      },
      "source": [
        "plt.scatter(X, y)"
      ],
      "execution_count": 6,
      "outputs": [
        {
          "output_type": "execute_result",
          "data": {
            "text/plain": [
              "<matplotlib.collections.PathCollection at 0x7f1125aad810>"
            ]
          },
          "metadata": {},
          "execution_count": 6
        },
        {
          "output_type": "display_data",
          "data": {
            "image/png": "[encoded data removed]",
            "text/plain": [
              "<Figure size 432x288 with 1 Axes>"
            ]
          },
          "metadata": {
            "needs_background": "light"
          }
        }
      ]
    },
    {
      "cell_type": "markdown",
      "metadata": {
        "id": "RxSK-EFqFpxU"
      },
      "source": [
        "### Steps in Modelling with Tensorflow"
      ]
    },
    {
      "cell_type": "code",
      "metadata": {
        "colab": {
          "base_uri": "https://localhost:8080/"
        },
        "id": "KHB2q-DZFwQT",
        "outputId": "73bd8f53-75a9-4f39-e2f1-8fe0fd9b588c"
      },
      "source": [
        "# Set random seed\n",
        "tf.random.set_seed(42)\n",
        "\n",
        "# 1. Create a model using the sequential API\n",
        "model= tf.keras.Sequential([\n",
        "                            tf.keras.layers.Dense(1)\n",
        "])\n",
        "\n",
        "# 2. compile the model\n",
        "\n",
        "model.compile(loss=tf.keras.losses.mae,\n",
        "              optimizer= tf.keras.optimizers.SGD(),\n",
        "              metrics=[\"mae\"])\n",
        "\n",
        "# 3. Fit the Model\n",
        "model.fit(X, y,epochs=5)\n",
        "\n"
      ],
      "execution_count": 7,
      "outputs": [
        {
          "output_type": "stream",
          "name": "stdout",
          "text": [
            "Epoch 1/5\n",
            "1/1 [==============================] - 3s 3s/step - loss: 11.5048 - mae: 11.5048\n",
            "Epoch 2/5\n",
            "1/1 [==============================] - 0s 7ms/step - loss: 11.3723 - mae: 11.3723\n",
            "Epoch 3/5\n",
            "1/1 [==============================] - 0s 8ms/step - loss: 11.2398 - mae: 11.2398\n",
            "Epoch 4/5\n",
            "1/1 [==============================] - 0s 9ms/step - loss: 11.1073 - mae: 11.1073\n",
            "Epoch 5/5\n",
            "1/1 [==============================] - 0s 14ms/step - loss: 10.9748 - mae: 10.9748\n"
          ]
        },
        {
          "output_type": "execute_result",
          "data": {
            "text/plain": [
              "<keras.callbacks.History at 0x7f1124d1bc50>"
            ]
          },
          "metadata": {},
          "execution_count": 7
        }
      ]
    },
    {
      "cell_type": "code",
      "metadata": {
        "colab": {
          "base_uri": "https://localhost:8080/"
        },
        "id": "I_Xc0eajJBv7",
        "outputId": "ae43ab0a-1258-4584-edc5-ea3ba329a67b"
      },
      "source": [
        "# Predict using the trained model\n",
        "y_pred = model.predict([17])\n",
        "y_pred"
      ],
      "execution_count": 9,
      "outputs": [
        {
          "output_type": "execute_result",
          "data": {
            "text/plain": [
              "array([[12.716021]], dtype=float32)"
            ]
          },
          "metadata": {},
          "execution_count": 9
        }
      ]
    },
    {
      "cell_type": "markdown",
      "metadata": {
        "id": "dGkeATtIK3wG"
      },
      "source": [
        "### Improving the Model"
      ]
    },
    {
      "cell_type": "code",
      "metadata": {
        "colab": {
          "base_uri": "https://localhost:8080/"
        },
        "id": "t94YI-DmLxOf",
        "outputId": "3ffd0527-bf55-4f71-e281-69534929bda0"
      },
      "source": [
        "# 1. increasing the Epocs\n",
        "model.fit(X, y,epochs=100)"
      ],
      "execution_count": 10,
      "outputs": [
        {
          "output_type": "stream",
          "name": "stdout",
          "text": [
            "Epoch 1/100\n",
            "1/1 [==============================] - 0s 8ms/step - loss: 10.8423 - mae: 10.8423\n",
            "Epoch 2/100\n",
            "1/1 [==============================] - 0s 10ms/step - loss: 10.7098 - mae: 10.7098\n",
            "Epoch 3/100\n",
            "1/1 [==============================] - 0s 7ms/step - loss: 10.5773 - mae: 10.5773\n",
            "Epoch 4/100\n",
            "1/1 [==============================] - 0s 8ms/step - loss: 10.4448 - mae: 10.4448\n",
            "Epoch 5/100\n",
            "1/1 [==============================] - 0s 15ms/step - loss: 10.3123 - mae: 10.3123\n",
            "Epoch 6/100\n",
            "1/1 [==============================] - 0s 5ms/step - loss: 10.1798 - mae: 10.1798\n",
            "Epoch 7/100\n",
            "1/1 [==============================] - 0s 8ms/step - loss: 10.0473 - mae: 10.0473\n",
            "Epoch 8/100\n",
            "1/1 [==============================] - 0s 9ms/step - loss: 9.9148 - mae: 9.9148\n",
            "Epoch 9/100\n",
            "1/1 [==============================] - 0s 5ms/step - loss: 9.7823 - mae: 9.7823\n",
            "Epoch 10/100\n",
            "1/1 [==============================] - 0s 13ms/step - loss: 9.6498 - mae: 9.6498\n",
            "Epoch 11/100\n",
            "1/1 [==============================] - 0s 5ms/step - loss: 9.5173 - mae: 9.5173\n",
            "Epoch 12/100\n",
            "1/1 [==============================] - 0s 8ms/step - loss: 9.3848 - mae: 9.3848\n",
            "Epoch 13/100\n",
            "1/1 [==============================] - 0s 7ms/step - loss: 9.2523 - mae: 9.2523\n",
            "Epoch 14/100\n",
            "1/1 [==============================] - 0s 13ms/step - loss: 9.1198 - mae: 9.1198\n",
            "Epoch 15/100\n",
            "1/1 [==============================] - 0s 8ms/step - loss: 8.9873 - mae: 8.9873\n",
            "Epoch 16/100\n",
            "1/1 [==============================] - 0s 6ms/step - loss: 8.8548 - mae: 8.8548\n",
            "Epoch 17/100\n",
            "1/1 [==============================] - 0s 6ms/step - loss: 8.7223 - mae: 8.7223\n",
            "Epoch 18/100\n",
            "1/1 [==============================] - 0s 8ms/step - loss: 8.5898 - mae: 8.5898\n",
            "Epoch 19/100\n",
            "1/1 [==============================] - 0s 9ms/step - loss: 8.4573 - mae: 8.4573\n",
            "Epoch 20/100\n",
            "1/1 [==============================] - 0s 8ms/step - loss: 8.3248 - mae: 8.3248\n",
            "Epoch 21/100\n",
            "1/1 [==============================] - 0s 9ms/step - loss: 8.1923 - mae: 8.1923\n",
            "Epoch 22/100\n",
            "1/1 [==============================] - 0s 7ms/step - loss: 8.0598 - mae: 8.0598\n",
            "Epoch 23/100\n",
            "1/1 [==============================] - 0s 15ms/step - loss: 7.9273 - mae: 7.9273\n",
            "Epoch 24/100\n",
            "1/1 [==============================] - 0s 27ms/step - loss: 7.7948 - mae: 7.7948\n",
            "Epoch 25/100\n",
            "1/1 [==============================] - 0s 9ms/step - loss: 7.6623 - mae: 7.6623\n",
            "Epoch 26/100\n",
            "1/1 [==============================] - 0s 7ms/step - loss: 7.5298 - mae: 7.5298\n",
            "Epoch 27/100\n",
            "1/1 [==============================] - 0s 10ms/step - loss: 7.3973 - mae: 7.3973\n",
            "Epoch 28/100\n",
            "1/1 [==============================] - 0s 15ms/step - loss: 7.2648 - mae: 7.2648\n",
            "Epoch 29/100\n",
            "1/1 [==============================] - 0s 11ms/step - loss: 7.2525 - mae: 7.2525\n",
            "Epoch 30/100\n",
            "1/1 [==============================] - 0s 13ms/step - loss: 7.2469 - mae: 7.2469\n",
            "Epoch 31/100\n",
            "1/1 [==============================] - 0s 14ms/step - loss: 7.2413 - mae: 7.2413\n",
            "Epoch 32/100\n",
            "1/1 [==============================] - 0s 10ms/step - loss: 7.2356 - mae: 7.2356\n",
            "Epoch 33/100\n",
            "1/1 [==============================] - 0s 11ms/step - loss: 7.2300 - mae: 7.2300\n",
            "Epoch 34/100\n",
            "1/1 [==============================] - 0s 13ms/step - loss: 7.2244 - mae: 7.2244\n",
            "Epoch 35/100\n",
            "1/1 [==============================] - 0s 10ms/step - loss: 7.2188 - mae: 7.2188\n",
            "Epoch 36/100\n",
            "1/1 [==============================] - 0s 9ms/step - loss: 7.2131 - mae: 7.2131\n",
            "Epoch 37/100\n",
            "1/1 [==============================] - 0s 9ms/step - loss: 7.2075 - mae: 7.2075\n",
            "Epoch 38/100\n",
            "1/1 [==============================] - 0s 9ms/step - loss: 7.2019 - mae: 7.2019\n",
            "Epoch 39/100\n",
            "1/1 [==============================] - 0s 6ms/step - loss: 7.1962 - mae: 7.1962\n",
            "Epoch 40/100\n",
            "1/1 [==============================] - 0s 12ms/step - loss: 7.1906 - mae: 7.1906\n",
            "Epoch 41/100\n",
            "1/1 [==============================] - 0s 21ms/step - loss: 7.1850 - mae: 7.1850\n",
            "Epoch 42/100\n",
            "1/1 [==============================] - 0s 10ms/step - loss: 7.1794 - mae: 7.1794\n",
            "Epoch 43/100\n",
            "1/1 [==============================] - 0s 10ms/step - loss: 7.1738 - mae: 7.1738\n",
            "Epoch 44/100\n",
            "1/1 [==============================] - 0s 5ms/step - loss: 7.1681 - mae: 7.1681\n",
            "Epoch 45/100\n",
            "1/1 [==============================] - 0s 8ms/step - loss: 7.1625 - mae: 7.1625\n",
            "Epoch 46/100\n",
            "1/1 [==============================] - 0s 8ms/step - loss: 7.1569 - mae: 7.1569\n",
            "Epoch 47/100\n",
            "1/1 [==============================] - 0s 18ms/step - loss: 7.1512 - mae: 7.1512\n",
            "Epoch 48/100\n",
            "1/1 [==============================] - 0s 7ms/step - loss: 7.1456 - mae: 7.1456\n",
            "Epoch 49/100\n",
            "1/1 [==============================] - 0s 12ms/step - loss: 7.1400 - mae: 7.1400\n",
            "Epoch 50/100\n",
            "1/1 [==============================] - 0s 11ms/step - loss: 7.1344 - mae: 7.1344\n",
            "Epoch 51/100\n",
            "1/1 [==============================] - 0s 6ms/step - loss: 7.1287 - mae: 7.1287\n",
            "Epoch 52/100\n",
            "1/1 [==============================] - 0s 6ms/step - loss: 7.1231 - mae: 7.1231\n",
            "Epoch 53/100\n",
            "1/1 [==============================] - 0s 7ms/step - loss: 7.1175 - mae: 7.1175\n",
            "Epoch 54/100\n",
            "1/1 [==============================] - 0s 13ms/step - loss: 7.1119 - mae: 7.1119\n",
            "Epoch 55/100\n",
            "1/1 [==============================] - 0s 7ms/step - loss: 7.1063 - mae: 7.1063\n",
            "Epoch 56/100\n",
            "1/1 [==============================] - 0s 6ms/step - loss: 7.1006 - mae: 7.1006\n",
            "Epoch 57/100\n",
            "1/1 [==============================] - 0s 9ms/step - loss: 7.0950 - mae: 7.0950\n",
            "Epoch 58/100\n",
            "1/1 [==============================] - 0s 7ms/step - loss: 7.0894 - mae: 7.0894\n",
            "Epoch 59/100\n",
            "1/1 [==============================] - 0s 7ms/step - loss: 7.0838 - mae: 7.0838\n",
            "Epoch 60/100\n",
            "1/1 [==============================] - 0s 8ms/step - loss: 7.0781 - mae: 7.0781\n",
            "Epoch 61/100\n",
            "1/1 [==============================] - 0s 8ms/step - loss: 7.0725 - mae: 7.0725\n",
            "Epoch 62/100\n",
            "1/1 [==============================] - 0s 15ms/step - loss: 7.0669 - mae: 7.0669\n",
            "Epoch 63/100\n",
            "1/1 [==============================] - 0s 9ms/step - loss: 7.0613 - mae: 7.0613\n",
            "Epoch 64/100\n",
            "1/1 [==============================] - 0s 9ms/step - loss: 7.0556 - mae: 7.0556\n",
            "Epoch 65/100\n",
            "1/1 [==============================] - 0s 12ms/step - loss: 7.0500 - mae: 7.0500\n",
            "Epoch 66/100\n",
            "1/1 [==============================] - 0s 10ms/step - loss: 7.0444 - mae: 7.0444\n",
            "Epoch 67/100\n",
            "1/1 [==============================] - 0s 11ms/step - loss: 7.0388 - mae: 7.0388\n",
            "Epoch 68/100\n",
            "1/1 [==============================] - 0s 7ms/step - loss: 7.0331 - mae: 7.0331\n",
            "Epoch 69/100\n",
            "1/1 [==============================] - 0s 9ms/step - loss: 7.0275 - mae: 7.0275\n",
            "Epoch 70/100\n",
            "1/1 [==============================] - 0s 10ms/step - loss: 7.0219 - mae: 7.0219\n",
            "Epoch 71/100\n",
            "1/1 [==============================] - 0s 11ms/step - loss: 7.0163 - mae: 7.0163\n",
            "Epoch 72/100\n",
            "1/1 [==============================] - 0s 10ms/step - loss: 7.0106 - mae: 7.0106\n",
            "Epoch 73/100\n",
            "1/1 [==============================] - 0s 13ms/step - loss: 7.0050 - mae: 7.0050\n",
            "Epoch 74/100\n",
            "1/1 [==============================] - 0s 12ms/step - loss: 6.9994 - mae: 6.9994\n",
            "Epoch 75/100\n",
            "1/1 [==============================] - 0s 8ms/step - loss: 6.9938 - mae: 6.9938\n",
            "Epoch 76/100\n",
            "1/1 [==============================] - 0s 12ms/step - loss: 6.9881 - mae: 6.9881\n",
            "Epoch 77/100\n",
            "1/1 [==============================] - 0s 12ms/step - loss: 6.9825 - mae: 6.9825\n",
            "Epoch 78/100\n",
            "1/1 [==============================] - 0s 8ms/step - loss: 6.9769 - mae: 6.9769\n",
            "Epoch 79/100\n",
            "1/1 [==============================] - 0s 8ms/step - loss: 6.9713 - mae: 6.9713\n",
            "Epoch 80/100\n",
            "1/1 [==============================] - 0s 8ms/step - loss: 6.9656 - mae: 6.9656\n",
            "Epoch 81/100\n",
            "1/1 [==============================] - 0s 10ms/step - loss: 6.9600 - mae: 6.9600\n",
            "Epoch 82/100\n",
            "1/1 [==============================] - 0s 7ms/step - loss: 6.9544 - mae: 6.9544\n",
            "Epoch 83/100\n",
            "1/1 [==============================] - 0s 8ms/step - loss: 6.9488 - mae: 6.9488\n",
            "Epoch 84/100\n",
            "1/1 [==============================] - 0s 8ms/step - loss: 6.9431 - mae: 6.9431\n",
            "Epoch 85/100\n",
            "1/1 [==============================] - 0s 10ms/step - loss: 6.9375 - mae: 6.9375\n",
            "Epoch 86/100\n",
            "1/1 [==============================] - 0s 18ms/step - loss: 6.9319 - mae: 6.9319\n",
            "Epoch 87/100\n",
            "1/1 [==============================] - 0s 6ms/step - loss: 6.9263 - mae: 6.9263\n",
            "Epoch 88/100\n",
            "1/1 [==============================] - 0s 7ms/step - loss: 6.9206 - mae: 6.9206\n",
            "Epoch 89/100\n",
            "1/1 [==============================] - 0s 8ms/step - loss: 6.9150 - mae: 6.9150\n",
            "Epoch 90/100\n",
            "1/1 [==============================] - 0s 6ms/step - loss: 6.9094 - mae: 6.9094\n",
            "Epoch 91/100\n",
            "1/1 [==============================] - 0s 8ms/step - loss: 6.9038 - mae: 6.9038\n",
            "Epoch 92/100\n",
            "1/1 [==============================] - 0s 8ms/step - loss: 6.8981 - mae: 6.8981\n",
            "Epoch 93/100\n",
            "1/1 [==============================] - 0s 7ms/step - loss: 6.8925 - mae: 6.8925\n",
            "Epoch 94/100\n",
            "1/1 [==============================] - 0s 12ms/step - loss: 6.8869 - mae: 6.8869\n",
            "Epoch 95/100\n",
            "1/1 [==============================] - 0s 13ms/step - loss: 6.8813 - mae: 6.8813\n",
            "Epoch 96/100\n",
            "1/1 [==============================] - 0s 19ms/step - loss: 6.8756 - mae: 6.8756\n",
            "Epoch 97/100\n",
            "1/1 [==============================] - 0s 12ms/step - loss: 6.8700 - mae: 6.8700\n",
            "Epoch 98/100\n",
            "1/1 [==============================] - 0s 22ms/step - loss: 6.8644 - mae: 6.8644\n",
            "Epoch 99/100\n",
            "1/1 [==============================] - 0s 22ms/step - loss: 6.8588 - mae: 6.8588\n",
            "Epoch 100/100\n",
            "1/1 [==============================] - 0s 17ms/step - loss: 6.8531 - mae: 6.8531\n"
          ]
        },
        {
          "output_type": "execute_result",
          "data": {
            "text/plain": [
              "<keras.callbacks.History at 0x7f1124c77350>"
            ]
          },
          "metadata": {},
          "execution_count": 10
        }
      ]
    },
    {
      "cell_type": "code",
      "metadata": {
        "colab": {
          "base_uri": "https://localhost:8080/"
        },
        "id": "m3W1dZapNbD6",
        "outputId": "7eb239e7-ea95-479a-ab78-9e16e7567a91"
      },
      "source": [
        "y_pred = model.predict([17.])\n",
        "y_pred"
      ],
      "execution_count": 13,
      "outputs": [
        {
          "output_type": "execute_result",
          "data": {
            "text/plain": [
              "array([[30.19601]], dtype=float32)"
            ]
          },
          "metadata": {},
          "execution_count": 13
        }
      ]
    },
    {
      "cell_type": "code",
      "metadata": {
        "colab": {
          "base_uri": "https://localhost:8080/"
        },
        "id": "0Wzny78ENmZb",
        "outputId": "e44f4414-3fbe-4f0e-bc30-d7ac120d5c0a"
      },
      "source": [
        "# Changing the optimizer\n",
        "\n",
        "# 1. Create a model using the sequential API\n",
        "model= tf.keras.Sequential([                    \n",
        "                            tf.keras.layers.Dense(1)\n",
        "])\n",
        "\n",
        "# 2. compile the model\n",
        "\n",
        "model.compile(loss=tf.keras.losses.mae,\n",
        "              optimizer= tf.keras.optimizers.Adam(lr=0.001),\n",
        "              metrics=[\"mae\"])\n",
        "\n",
        "# 3. Fit the Model\n",
        "model.fit(X, y,epochs=100)"
      ],
      "execution_count": 17,
      "outputs": [
        {
          "output_type": "stream",
          "name": "stderr",
          "text": [
            "/usr/local/lib/python3.7/dist-packages/keras/optimizer_v2/optimizer_v2.py:356: UserWarning: The `lr` argument is deprecated, use `learning_rate` instead.\n",
            "  \"The `lr` argument is deprecated, use `learning_rate` instead.\")\n"
          ]
        },
        {
          "output_type": "stream",
          "name": "stdout",
          "text": [
            "Epoch 1/100\n",
            "1/1 [==============================] - 0s 380ms/step - loss: 10.5874 - mae: 10.5874\n",
            "Epoch 2/100\n",
            "1/1 [==============================] - 0s 9ms/step - loss: 10.5829 - mae: 10.5829\n",
            "Epoch 3/100\n",
            "1/1 [==============================] - 0s 9ms/step - loss: 10.5784 - mae: 10.5784\n",
            "Epoch 4/100\n",
            "1/1 [==============================] - 0s 10ms/step - loss: 10.5739 - mae: 10.5739\n",
            "Epoch 5/100\n",
            "1/1 [==============================] - 0s 7ms/step - loss: 10.5694 - mae: 10.5694\n",
            "Epoch 6/100\n",
            "1/1 [==============================] - 0s 6ms/step - loss: 10.5649 - mae: 10.5649\n",
            "Epoch 7/100\n",
            "1/1 [==============================] - 0s 11ms/step - loss: 10.5604 - mae: 10.5604\n",
            "Epoch 8/100\n",
            "1/1 [==============================] - 0s 14ms/step - loss: 10.5559 - mae: 10.5559\n",
            "Epoch 9/100\n",
            "1/1 [==============================] - 0s 5ms/step - loss: 10.5514 - mae: 10.5514\n",
            "Epoch 10/100\n",
            "1/1 [==============================] - 0s 8ms/step - loss: 10.5469 - mae: 10.5469\n",
            "Epoch 11/100\n",
            "1/1 [==============================] - 0s 9ms/step - loss: 10.5424 - mae: 10.5424\n",
            "Epoch 12/100\n",
            "1/1 [==============================] - 0s 8ms/step - loss: 10.5379 - mae: 10.5379\n",
            "Epoch 13/100\n",
            "1/1 [==============================] - 0s 11ms/step - loss: 10.5334 - mae: 10.5334\n",
            "Epoch 14/100\n",
            "1/1 [==============================] - 0s 7ms/step - loss: 10.5289 - mae: 10.5289\n",
            "Epoch 15/100\n",
            "1/1 [==============================] - 0s 9ms/step - loss: 10.5244 - mae: 10.5244\n",
            "Epoch 16/100\n",
            "1/1 [==============================] - 0s 5ms/step - loss: 10.5199 - mae: 10.5199\n",
            "Epoch 17/100\n",
            "1/1 [==============================] - 0s 11ms/step - loss: 10.5154 - mae: 10.5154\n",
            "Epoch 18/100\n",
            "1/1 [==============================] - 0s 15ms/step - loss: 10.5109 - mae: 10.5109\n",
            "Epoch 19/100\n",
            "1/1 [==============================] - 0s 7ms/step - loss: 10.5064 - mae: 10.5064\n",
            "Epoch 20/100\n",
            "1/1 [==============================] - 0s 12ms/step - loss: 10.5019 - mae: 10.5019\n",
            "Epoch 21/100\n",
            "1/1 [==============================] - 0s 9ms/step - loss: 10.4974 - mae: 10.4974\n",
            "Epoch 22/100\n",
            "1/1 [==============================] - 0s 13ms/step - loss: 10.4929 - mae: 10.4929\n",
            "Epoch 23/100\n",
            "1/1 [==============================] - 0s 9ms/step - loss: 10.4884 - mae: 10.4884\n",
            "Epoch 24/100\n",
            "1/1 [==============================] - 0s 8ms/step - loss: 10.4839 - mae: 10.4839\n",
            "Epoch 25/100\n",
            "1/1 [==============================] - 0s 10ms/step - loss: 10.4794 - mae: 10.4794\n",
            "Epoch 26/100\n",
            "1/1 [==============================] - 0s 8ms/step - loss: 10.4749 - mae: 10.4749\n",
            "Epoch 27/100\n",
            "1/1 [==============================] - 0s 7ms/step - loss: 10.4704 - mae: 10.4704\n",
            "Epoch 28/100\n",
            "1/1 [==============================] - 0s 8ms/step - loss: 10.4659 - mae: 10.4659\n",
            "Epoch 29/100\n",
            "1/1 [==============================] - 0s 9ms/step - loss: 10.4614 - mae: 10.4614\n",
            "Epoch 30/100\n",
            "1/1 [==============================] - 0s 8ms/step - loss: 10.4569 - mae: 10.4569\n",
            "Epoch 31/100\n",
            "1/1 [==============================] - 0s 9ms/step - loss: 10.4524 - mae: 10.4524\n",
            "Epoch 32/100\n",
            "1/1 [==============================] - 0s 9ms/step - loss: 10.4479 - mae: 10.4479\n",
            "Epoch 33/100\n",
            "1/1 [==============================] - 0s 22ms/step - loss: 10.4434 - mae: 10.4434\n",
            "Epoch 34/100\n",
            "1/1 [==============================] - 0s 10ms/step - loss: 10.4389 - mae: 10.4389\n",
            "Epoch 35/100\n",
            "1/1 [==============================] - 0s 16ms/step - loss: 10.4344 - mae: 10.4344\n",
            "Epoch 36/100\n",
            "1/1 [==============================] - 0s 11ms/step - loss: 10.4299 - mae: 10.4299\n",
            "Epoch 37/100\n",
            "1/1 [==============================] - 0s 11ms/step - loss: 10.4254 - mae: 10.4254\n",
            "Epoch 38/100\n",
            "1/1 [==============================] - 0s 8ms/step - loss: 10.4209 - mae: 10.4209\n",
            "Epoch 39/100\n",
            "1/1 [==============================] - 0s 8ms/step - loss: 10.4164 - mae: 10.4164\n",
            "Epoch 40/100\n",
            "1/1 [==============================] - 0s 9ms/step - loss: 10.4119 - mae: 10.4119\n",
            "Epoch 41/100\n",
            "1/1 [==============================] - 0s 10ms/step - loss: 10.4074 - mae: 10.4074\n",
            "Epoch 42/100\n",
            "1/1 [==============================] - 0s 9ms/step - loss: 10.4029 - mae: 10.4029\n",
            "Epoch 43/100\n",
            "1/1 [==============================] - 0s 12ms/step - loss: 10.3984 - mae: 10.3984\n",
            "Epoch 44/100\n",
            "1/1 [==============================] - 0s 9ms/step - loss: 10.3939 - mae: 10.3939\n",
            "Epoch 45/100\n",
            "1/1 [==============================] - 0s 9ms/step - loss: 10.3894 - mae: 10.3894\n",
            "Epoch 46/100\n",
            "1/1 [==============================] - 0s 15ms/step - loss: 10.3849 - mae: 10.3849\n",
            "Epoch 47/100\n",
            "1/1 [==============================] - 0s 17ms/step - loss: 10.3804 - mae: 10.3804\n",
            "Epoch 48/100\n",
            "1/1 [==============================] - 0s 8ms/step - loss: 10.3759 - mae: 10.3759\n",
            "Epoch 49/100\n",
            "1/1 [==============================] - 0s 12ms/step - loss: 10.3714 - mae: 10.3714\n",
            "Epoch 50/100\n",
            "1/1 [==============================] - 0s 7ms/step - loss: 10.3669 - mae: 10.3669\n",
            "Epoch 51/100\n",
            "1/1 [==============================] - 0s 7ms/step - loss: 10.3624 - mae: 10.3624\n",
            "Epoch 52/100\n",
            "1/1 [==============================] - 0s 7ms/step - loss: 10.3579 - mae: 10.3579\n",
            "Epoch 53/100\n",
            "1/1 [==============================] - 0s 7ms/step - loss: 10.3534 - mae: 10.3534\n",
            "Epoch 54/100\n",
            "1/1 [==============================] - 0s 11ms/step - loss: 10.3489 - mae: 10.3489\n",
            "Epoch 55/100\n",
            "1/1 [==============================] - 0s 8ms/step - loss: 10.3444 - mae: 10.3444\n",
            "Epoch 56/100\n",
            "1/1 [==============================] - 0s 7ms/step - loss: 10.3399 - mae: 10.3399\n",
            "Epoch 57/100\n",
            "1/1 [==============================] - 0s 8ms/step - loss: 10.3354 - mae: 10.3354\n",
            "Epoch 58/100\n",
            "1/1 [==============================] - 0s 6ms/step - loss: 10.3309 - mae: 10.3309\n",
            "Epoch 59/100\n",
            "1/1 [==============================] - 0s 13ms/step - loss: 10.3264 - mae: 10.3264\n",
            "Epoch 60/100\n",
            "1/1 [==============================] - 0s 11ms/step - loss: 10.3219 - mae: 10.3219\n",
            "Epoch 61/100\n",
            "1/1 [==============================] - 0s 9ms/step - loss: 10.3174 - mae: 10.3174\n",
            "Epoch 62/100\n",
            "1/1 [==============================] - 0s 12ms/step - loss: 10.3129 - mae: 10.3129\n",
            "Epoch 63/100\n",
            "1/1 [==============================] - 0s 7ms/step - loss: 10.3084 - mae: 10.3084\n",
            "Epoch 64/100\n",
            "1/1 [==============================] - 0s 7ms/step - loss: 10.3039 - mae: 10.3039\n",
            "Epoch 65/100\n",
            "1/1 [==============================] - 0s 8ms/step - loss: 10.2994 - mae: 10.2994\n",
            "Epoch 66/100\n",
            "1/1 [==============================] - 0s 7ms/step - loss: 10.2949 - mae: 10.2949\n",
            "Epoch 67/100\n",
            "1/1 [==============================] - 0s 18ms/step - loss: 10.2904 - mae: 10.2904\n",
            "Epoch 68/100\n",
            "1/1 [==============================] - 0s 11ms/step - loss: 10.2859 - mae: 10.2859\n",
            "Epoch 69/100\n",
            "1/1 [==============================] - 0s 9ms/step - loss: 10.2814 - mae: 10.2814\n",
            "Epoch 70/100\n",
            "1/1 [==============================] - 0s 9ms/step - loss: 10.2769 - mae: 10.2769\n",
            "Epoch 71/100\n",
            "1/1 [==============================] - 0s 8ms/step - loss: 10.2724 - mae: 10.2724\n",
            "Epoch 72/100\n",
            "1/1 [==============================] - 0s 11ms/step - loss: 10.2679 - mae: 10.2679\n",
            "Epoch 73/100\n",
            "1/1 [==============================] - 0s 7ms/step - loss: 10.2634 - mae: 10.2634\n",
            "Epoch 74/100\n",
            "1/1 [==============================] - 0s 8ms/step - loss: 10.2589 - mae: 10.2589\n",
            "Epoch 75/100\n",
            "1/1 [==============================] - 0s 9ms/step - loss: 10.2544 - mae: 10.2544\n",
            "Epoch 76/100\n",
            "1/1 [==============================] - 0s 11ms/step - loss: 10.2499 - mae: 10.2499\n",
            "Epoch 77/100\n",
            "1/1 [==============================] - 0s 10ms/step - loss: 10.2454 - mae: 10.2454\n",
            "Epoch 78/100\n",
            "1/1 [==============================] - 0s 10ms/step - loss: 10.2409 - mae: 10.2409\n",
            "Epoch 79/100\n",
            "1/1 [==============================] - 0s 9ms/step - loss: 10.2364 - mae: 10.2364\n",
            "Epoch 80/100\n",
            "1/1 [==============================] - 0s 5ms/step - loss: 10.2319 - mae: 10.2319\n",
            "Epoch 81/100\n",
            "1/1 [==============================] - 0s 6ms/step - loss: 10.2274 - mae: 10.2274\n",
            "Epoch 82/100\n",
            "1/1 [==============================] - 0s 9ms/step - loss: 10.2229 - mae: 10.2229\n",
            "Epoch 83/100\n",
            "1/1 [==============================] - 0s 8ms/step - loss: 10.2184 - mae: 10.2184\n",
            "Epoch 84/100\n",
            "1/1 [==============================] - 0s 7ms/step - loss: 10.2139 - mae: 10.2139\n",
            "Epoch 85/100\n",
            "1/1 [==============================] - 0s 10ms/step - loss: 10.2094 - mae: 10.2094\n",
            "Epoch 86/100\n",
            "1/1 [==============================] - 0s 7ms/step - loss: 10.2049 - mae: 10.2049\n",
            "Epoch 87/100\n",
            "1/1 [==============================] - 0s 19ms/step - loss: 10.2004 - mae: 10.2004\n",
            "Epoch 88/100\n",
            "1/1 [==============================] - 0s 10ms/step - loss: 10.1959 - mae: 10.1959\n",
            "Epoch 89/100\n",
            "1/1 [==============================] - 0s 7ms/step - loss: 10.1914 - mae: 10.1914\n",
            "Epoch 90/100\n",
            "1/1 [==============================] - 0s 11ms/step - loss: 10.1869 - mae: 10.1869\n",
            "Epoch 91/100\n",
            "1/1 [==============================] - 0s 20ms/step - loss: 10.1824 - mae: 10.1824\n",
            "Epoch 92/100\n",
            "1/1 [==============================] - 0s 10ms/step - loss: 10.1779 - mae: 10.1779\n",
            "Epoch 93/100\n",
            "1/1 [==============================] - 0s 10ms/step - loss: 10.1734 - mae: 10.1734\n",
            "Epoch 94/100\n",
            "1/1 [==============================] - 0s 15ms/step - loss: 10.1689 - mae: 10.1689\n",
            "Epoch 95/100\n",
            "1/1 [==============================] - 0s 7ms/step - loss: 10.1644 - mae: 10.1644\n",
            "Epoch 96/100\n",
            "1/1 [==============================] - 0s 12ms/step - loss: 10.1599 - mae: 10.1599\n",
            "Epoch 97/100\n",
            "1/1 [==============================] - 0s 18ms/step - loss: 10.1554 - mae: 10.1554\n",
            "Epoch 98/100\n",
            "1/1 [==============================] - 0s 21ms/step - loss: 10.1509 - mae: 10.1509\n",
            "Epoch 99/100\n",
            "1/1 [==============================] - 0s 9ms/step - loss: 10.1464 - mae: 10.1464\n",
            "Epoch 100/100\n",
            "1/1 [==============================] - 0s 6ms/step - loss: 10.1419 - mae: 10.1419\n"
          ]
        },
        {
          "output_type": "execute_result",
          "data": {
            "text/plain": [
              "<keras.callbacks.History at 0x7f11242b1590>"
            ]
          },
          "metadata": {},
          "execution_count": 17
        }
      ]
    },
    {
      "cell_type": "code",
      "metadata": {
        "colab": {
          "base_uri": "https://localhost:8080/"
        },
        "id": "XuYpbbDmOUx3",
        "outputId": "5f5588a9-42de-4fb5-d8bf-fd96900ac2de"
      },
      "source": [
        "y_pred = model.predict([17.])\n",
        "y_pred"
      ],
      "execution_count": 18,
      "outputs": [
        {
          "output_type": "execute_result",
          "data": {
            "text/plain": [
              "array([[15.947106]], dtype=float32)"
            ]
          },
          "metadata": {},
          "execution_count": 18
        }
      ]
    },
    {
      "cell_type": "code",
      "metadata": {
        "colab": {
          "base_uri": "https://localhost:8080/"
        },
        "id": "cql6eUUBOZkm",
        "outputId": "38d63bf3-8054-41fc-9dfb-9a98a950dcc5"
      },
      "source": [
        "# Adding the hidden layer\n",
        "\n",
        "# 1. Create a model using the sequential API\n",
        "model= tf.keras.Sequential([                    \n",
        "                            tf.keras.layers.Dense(100, activation=\"relu\"),\n",
        "                            tf.keras.layers.Dense(1)\n",
        "])\n",
        "\n",
        "# 2. compile the model\n",
        "\n",
        "model.compile(loss=\"mae\",\n",
        "              optimizer= tf.keras.optimizers.SGD(),\n",
        "              metrics=[\"mae\"])\n",
        "\n",
        "# 3. Fit the Model\n",
        "model.fit(X, y,epochs=100)"
      ],
      "execution_count": 21,
      "outputs": [
        {
          "output_type": "stream",
          "name": "stdout",
          "text": [
            "Epoch 1/100\n",
            "1/1 [==============================] - 0s 340ms/step - loss: 13.0842 - mae: 13.0842\n",
            "Epoch 2/100\n",
            "1/1 [==============================] - 0s 12ms/step - loss: 12.4448 - mae: 12.4448\n",
            "Epoch 3/100\n",
            "1/1 [==============================] - 0s 6ms/step - loss: 11.7987 - mae: 11.7987\n",
            "Epoch 4/100\n",
            "1/1 [==============================] - 0s 6ms/step - loss: 11.1382 - mae: 11.1382\n",
            "Epoch 5/100\n",
            "1/1 [==============================] - 0s 5ms/step - loss: 10.4613 - mae: 10.4613\n",
            "Epoch 6/100\n",
            "1/1 [==============================] - 0s 8ms/step - loss: 9.7674 - mae: 9.7674\n",
            "Epoch 7/100\n",
            "1/1 [==============================] - 0s 7ms/step - loss: 9.0461 - mae: 9.0461\n",
            "Epoch 8/100\n",
            "1/1 [==============================] - 0s 13ms/step - loss: 8.2828 - mae: 8.2828\n",
            "Epoch 9/100\n",
            "1/1 [==============================] - 0s 14ms/step - loss: 7.4796 - mae: 7.4796\n",
            "Epoch 10/100\n",
            "1/1 [==============================] - 0s 8ms/step - loss: 6.6388 - mae: 6.6388\n",
            "Epoch 11/100\n",
            "1/1 [==============================] - 0s 7ms/step - loss: 5.7411 - mae: 5.7411\n",
            "Epoch 12/100\n",
            "1/1 [==============================] - 0s 14ms/step - loss: 4.7739 - mae: 4.7739\n",
            "Epoch 13/100\n",
            "1/1 [==============================] - 0s 14ms/step - loss: 4.0585 - mae: 4.0585\n",
            "Epoch 14/100\n",
            "1/1 [==============================] - 0s 15ms/step - loss: 3.9581 - mae: 3.9581\n",
            "Epoch 15/100\n",
            "1/1 [==============================] - 0s 9ms/step - loss: 3.9489 - mae: 3.9489\n",
            "Epoch 16/100\n",
            "1/1 [==============================] - 0s 6ms/step - loss: 3.9378 - mae: 3.9378\n",
            "Epoch 17/100\n",
            "1/1 [==============================] - 0s 8ms/step - loss: 3.9562 - mae: 3.9562\n",
            "Epoch 18/100\n",
            "1/1 [==============================] - 0s 7ms/step - loss: 3.9113 - mae: 3.9113\n",
            "Epoch 19/100\n",
            "1/1 [==============================] - 0s 8ms/step - loss: 3.9637 - mae: 3.9637\n",
            "Epoch 20/100\n",
            "1/1 [==============================] - 0s 12ms/step - loss: 3.8933 - mae: 3.8933\n",
            "Epoch 21/100\n",
            "1/1 [==============================] - 0s 11ms/step - loss: 3.9617 - mae: 3.9617\n",
            "Epoch 22/100\n",
            "1/1 [==============================] - 0s 8ms/step - loss: 3.9007 - mae: 3.9007\n",
            "Epoch 23/100\n",
            "1/1 [==============================] - 0s 11ms/step - loss: 3.9425 - mae: 3.9425\n",
            "Epoch 24/100\n",
            "1/1 [==============================] - 0s 10ms/step - loss: 3.9162 - mae: 3.9162\n",
            "Epoch 25/100\n",
            "1/1 [==============================] - 0s 8ms/step - loss: 3.9161 - mae: 3.9161\n",
            "Epoch 26/100\n",
            "1/1 [==============================] - 0s 18ms/step - loss: 3.9237 - mae: 3.9237\n",
            "Epoch 27/100\n",
            "1/1 [==============================] - 0s 9ms/step - loss: 3.8893 - mae: 3.8893\n",
            "Epoch 28/100\n",
            "1/1 [==============================] - 0s 9ms/step - loss: 3.9314 - mae: 3.9314\n",
            "Epoch 29/100\n",
            "1/1 [==============================] - 0s 9ms/step - loss: 3.8625 - mae: 3.8625\n",
            "Epoch 30/100\n",
            "1/1 [==============================] - 0s 11ms/step - loss: 3.9391 - mae: 3.9391\n",
            "Epoch 31/100\n",
            "1/1 [==============================] - 0s 8ms/step - loss: 3.8740 - mae: 3.8740\n",
            "Epoch 32/100\n",
            "1/1 [==============================] - 0s 7ms/step - loss: 3.9202 - mae: 3.9202\n",
            "Epoch 33/100\n",
            "1/1 [==============================] - 0s 15ms/step - loss: 3.8844 - mae: 3.8844\n",
            "Epoch 34/100\n",
            "1/1 [==============================] - 0s 10ms/step - loss: 3.8932 - mae: 3.8932\n",
            "Epoch 35/100\n",
            "1/1 [==============================] - 0s 9ms/step - loss: 3.8921 - mae: 3.8921\n",
            "Epoch 36/100\n",
            "1/1 [==============================] - 0s 10ms/step - loss: 3.8663 - mae: 3.8663\n",
            "Epoch 37/100\n",
            "1/1 [==============================] - 0s 8ms/step - loss: 3.8999 - mae: 3.8999\n",
            "Epoch 38/100\n",
            "1/1 [==============================] - 0s 6ms/step - loss: 3.8392 - mae: 3.8392\n",
            "Epoch 39/100\n",
            "1/1 [==============================] - 0s 13ms/step - loss: 3.9112 - mae: 3.9112\n",
            "Epoch 40/100\n",
            "1/1 [==============================] - 0s 7ms/step - loss: 3.8459 - mae: 3.8459\n",
            "Epoch 41/100\n",
            "1/1 [==============================] - 0s 10ms/step - loss: 3.8964 - mae: 3.8964\n",
            "Epoch 42/100\n",
            "1/1 [==============================] - 0s 13ms/step - loss: 3.8537 - mae: 3.8537\n",
            "Epoch 43/100\n",
            "1/1 [==============================] - 0s 11ms/step - loss: 3.8692 - mae: 3.8692\n",
            "Epoch 44/100\n",
            "1/1 [==============================] - 0s 26ms/step - loss: 3.8616 - mae: 3.8616\n",
            "Epoch 45/100\n",
            "1/1 [==============================] - 0s 5ms/step - loss: 3.8419 - mae: 3.8419\n",
            "Epoch 46/100\n",
            "1/1 [==============================] - 0s 14ms/step - loss: 3.8697 - mae: 3.8697\n",
            "Epoch 47/100\n",
            "1/1 [==============================] - 0s 13ms/step - loss: 3.8165 - mae: 3.8165\n",
            "Epoch 48/100\n",
            "1/1 [==============================] - 0s 12ms/step - loss: 3.8858 - mae: 3.8858\n",
            "Epoch 49/100\n",
            "1/1 [==============================] - 0s 12ms/step - loss: 3.8162 - mae: 3.8162\n",
            "Epoch 50/100\n",
            "1/1 [==============================] - 0s 10ms/step - loss: 3.8713 - mae: 3.8713\n",
            "Epoch 51/100\n",
            "1/1 [==============================] - 0s 10ms/step - loss: 3.8241 - mae: 3.8241\n",
            "Epoch 52/100\n",
            "1/1 [==============================] - 0s 14ms/step - loss: 3.8438 - mae: 3.8438\n",
            "Epoch 53/100\n",
            "1/1 [==============================] - 0s 9ms/step - loss: 3.8323 - mae: 3.8323\n",
            "Epoch 54/100\n",
            "1/1 [==============================] - 0s 8ms/step - loss: 3.8163 - mae: 3.8163\n",
            "Epoch 55/100\n",
            "1/1 [==============================] - 0s 11ms/step - loss: 3.8405 - mae: 3.8405\n",
            "Epoch 56/100\n",
            "1/1 [==============================] - 0s 10ms/step - loss: 3.7965 - mae: 3.7965\n",
            "Epoch 57/100\n",
            "1/1 [==============================] - 0s 9ms/step - loss: 3.8568 - mae: 3.8568\n",
            "Epoch 58/100\n",
            "1/1 [==============================] - 0s 13ms/step - loss: 3.7874 - mae: 3.7874\n",
            "Epoch 59/100\n",
            "1/1 [==============================] - 0s 9ms/step - loss: 3.8450 - mae: 3.8450\n",
            "Epoch 60/100\n",
            "1/1 [==============================] - 0s 15ms/step - loss: 3.7956 - mae: 3.7956\n",
            "Epoch 61/100\n",
            "1/1 [==============================] - 0s 12ms/step - loss: 3.8172 - mae: 3.8172\n",
            "Epoch 62/100\n",
            "1/1 [==============================] - 0s 13ms/step - loss: 3.8040 - mae: 3.8040\n",
            "Epoch 63/100\n",
            "1/1 [==============================] - 0s 11ms/step - loss: 3.7895 - mae: 3.7895\n",
            "Epoch 64/100\n",
            "1/1 [==============================] - 0s 21ms/step - loss: 3.8178 - mae: 3.8178\n",
            "Epoch 65/100\n",
            "1/1 [==============================] - 0s 21ms/step - loss: 3.7689 - mae: 3.7689\n",
            "Epoch 66/100\n",
            "1/1 [==============================] - 0s 9ms/step - loss: 3.8289 - mae: 3.8289\n",
            "Epoch 67/100\n",
            "1/1 [==============================] - 0s 11ms/step - loss: 3.7598 - mae: 3.7598\n",
            "Epoch 68/100\n",
            "1/1 [==============================] - 0s 8ms/step - loss: 3.8174 - mae: 3.8174\n",
            "Epoch 69/100\n",
            "1/1 [==============================] - 0s 7ms/step - loss: 3.7682 - mae: 3.7682\n",
            "Epoch 70/100\n",
            "1/1 [==============================] - 0s 5ms/step - loss: 3.7893 - mae: 3.7893\n",
            "Epoch 71/100\n",
            "1/1 [==============================] - 0s 10ms/step - loss: 3.7767 - mae: 3.7767\n",
            "Epoch 72/100\n",
            "1/1 [==============================] - 0s 9ms/step - loss: 3.7649 - mae: 3.7649\n",
            "Epoch 73/100\n",
            "1/1 [==============================] - 0s 10ms/step - loss: 3.7934 - mae: 3.7934\n",
            "Epoch 74/100\n",
            "1/1 [==============================] - 0s 11ms/step - loss: 3.7402 - mae: 3.7402\n",
            "Epoch 75/100\n",
            "1/1 [==============================] - 0s 6ms/step - loss: 3.8020 - mae: 3.8020\n",
            "Epoch 76/100\n",
            "1/1 [==============================] - 0s 14ms/step - loss: 3.7332 - mae: 3.7332\n",
            "Epoch 77/100\n",
            "1/1 [==============================] - 0s 11ms/step - loss: 3.7883 - mae: 3.7883\n",
            "Epoch 78/100\n",
            "1/1 [==============================] - 0s 14ms/step - loss: 3.7418 - mae: 3.7418\n",
            "Epoch 79/100\n",
            "1/1 [==============================] - 0s 8ms/step - loss: 3.7600 - mae: 3.7600\n",
            "Epoch 80/100\n",
            "1/1 [==============================] - 0s 15ms/step - loss: 3.7519 - mae: 3.7519\n",
            "Epoch 81/100\n",
            "1/1 [==============================] - 0s 9ms/step - loss: 3.7389 - mae: 3.7389\n",
            "Epoch 82/100\n",
            "1/1 [==============================] - 0s 8ms/step - loss: 3.7673 - mae: 3.7673\n",
            "Epoch 83/100\n",
            "1/1 [==============================] - 0s 9ms/step - loss: 3.7103 - mae: 3.7103\n",
            "Epoch 84/100\n",
            "1/1 [==============================] - 0s 9ms/step - loss: 3.7761 - mae: 3.7761\n",
            "Epoch 85/100\n",
            "1/1 [==============================] - 0s 8ms/step - loss: 3.7075 - mae: 3.7075\n",
            "Epoch 86/100\n",
            "1/1 [==============================] - 0s 9ms/step - loss: 3.7581 - mae: 3.7581\n",
            "Epoch 87/100\n",
            "1/1 [==============================] - 0s 11ms/step - loss: 3.7164 - mae: 3.7164\n",
            "Epoch 88/100\n",
            "1/1 [==============================] - 0s 10ms/step - loss: 3.7295 - mae: 3.7295\n",
            "Epoch 89/100\n",
            "1/1 [==============================] - 0s 9ms/step - loss: 3.7320 - mae: 3.7320\n",
            "Epoch 90/100\n",
            "1/1 [==============================] - 0s 12ms/step - loss: 3.7080 - mae: 3.7080\n",
            "Epoch 91/100\n",
            "1/1 [==============================] - 0s 6ms/step - loss: 3.7422 - mae: 3.7422\n",
            "Epoch 92/100\n",
            "1/1 [==============================] - 0s 9ms/step - loss: 3.6790 - mae: 3.6790\n",
            "Epoch 93/100\n",
            "1/1 [==============================] - 0s 9ms/step - loss: 3.7513 - mae: 3.7513\n",
            "Epoch 94/100\n",
            "1/1 [==============================] - 0s 8ms/step - loss: 3.6829 - mae: 3.6829\n",
            "Epoch 95/100\n",
            "1/1 [==============================] - 0s 9ms/step - loss: 3.7265 - mae: 3.7265\n",
            "Epoch 96/100\n",
            "1/1 [==============================] - 0s 11ms/step - loss: 3.6919 - mae: 3.6919\n",
            "Epoch 97/100\n",
            "1/1 [==============================] - 0s 7ms/step - loss: 3.7022 - mae: 3.7022\n",
            "Epoch 98/100\n",
            "1/1 [==============================] - 0s 11ms/step - loss: 3.7090 - mae: 3.7090\n",
            "Epoch 99/100\n",
            "1/1 [==============================] - 0s 11ms/step - loss: 3.6756 - mae: 3.6756\n",
            "Epoch 100/100\n",
            "1/1 [==============================] - 0s 7ms/step - loss: 3.7182 - mae: 3.7182\n"
          ]
        },
        {
          "output_type": "execute_result",
          "data": {
            "text/plain": [
              "<keras.callbacks.History at 0x7f1124a5a450>"
            ]
          },
          "metadata": {},
          "execution_count": 21
        }
      ]
    },
    {
      "cell_type": "code",
      "metadata": {
        "colab": {
          "base_uri": "https://localhost:8080/"
        },
        "id": "lM2wea-LPMt9",
        "outputId": "be4fe12b-f1cd-42f2-831c-f15be4faba6e"
      },
      "source": [
        "y_pred = model.predict([17.])\n",
        "y_pred"
      ],
      "execution_count": 22,
      "outputs": [
        {
          "output_type": "stream",
          "name": "stdout",
          "text": [
            "WARNING:tensorflow:6 out of the last 9 calls to <function Model.make_predict_function.<locals>.predict_function at 0x7f11256a8c20> triggered tf.function retracing. Tracing is expensive and the excessive number of tracings could be due to (1) creating @tf.function repeatedly in a loop, (2) passing tensors with different shapes, (3) passing Python objects instead of tensors. For (1), please define your @tf.function outside of the loop. For (2), @tf.function has experimental_relax_shapes=True option that relaxes argument shapes that can avoid unnecessary retracing. For (3), please refer to https://www.tensorflow.org/guide/function#controlling_retracing and https://www.tensorflow.org/api_docs/python/tf/function for  more details.\n"
          ]
        },
        {
          "output_type": "execute_result",
          "data": {
            "text/plain": [
              "array([[31.910429]], dtype=float32)"
            ]
          },
          "metadata": {},
          "execution_count": 22
        }
      ]
    },
    {
      "cell_type": "code",
      "metadata": {
        "colab": {
          "base_uri": "https://localhost:8080/"
        },
        "id": "asRh5ZVgPRRk",
        "outputId": "a65de011-d86e-4b66-d3c2-247b955e4600"
      },
      "source": [
        "# Adding the hidden layer and changing the optimizer\n",
        "\n",
        "# 1. Create a model using the sequential API\n",
        "model= tf.keras.Sequential([                    \n",
        "                            tf.keras.layers.Dense(100, activation=\"relu\"),\n",
        "                            tf.keras.layers.Dense(1)\n",
        "])\n",
        "\n",
        "# 2. compile the model\n",
        "\n",
        "model.compile(loss=\"mae\",\n",
        "              optimizer= tf.keras.optimizers.Adam(lr=0.001),\n",
        "              metrics=[\"mae\"])\n",
        "\n",
        "# 3. Fit the Model\n",
        "model.fit(X, y,epochs=100)"
      ],
      "execution_count": 25,
      "outputs": [
        {
          "output_type": "stream",
          "name": "stderr",
          "text": [
            "/usr/local/lib/python3.7/dist-packages/keras/optimizer_v2/optimizer_v2.py:356: UserWarning: The `lr` argument is deprecated, use `learning_rate` instead.\n",
            "  \"The `lr` argument is deprecated, use `learning_rate` instead.\")\n"
          ]
        },
        {
          "output_type": "stream",
          "name": "stdout",
          "text": [
            "Epoch 1/100\n",
            "1/1 [==============================] - 0s 409ms/step - loss: 12.7968 - mae: 12.7968\n",
            "Epoch 2/100\n",
            "1/1 [==============================] - 0s 7ms/step - loss: 12.7113 - mae: 12.7113\n",
            "Epoch 3/100\n",
            "1/1 [==============================] - 0s 7ms/step - loss: 12.6256 - mae: 12.6256\n",
            "Epoch 4/100\n",
            "1/1 [==============================] - 0s 8ms/step - loss: 12.5400 - mae: 12.5400\n",
            "Epoch 5/100\n",
            "1/1 [==============================] - 0s 6ms/step - loss: 12.4543 - mae: 12.4543\n",
            "Epoch 6/100\n",
            "1/1 [==============================] - 0s 10ms/step - loss: 12.3685 - mae: 12.3685\n",
            "Epoch 7/100\n",
            "1/1 [==============================] - 0s 11ms/step - loss: 12.2827 - mae: 12.2827\n",
            "Epoch 8/100\n",
            "1/1 [==============================] - 0s 11ms/step - loss: 12.1968 - mae: 12.1968\n",
            "Epoch 9/100\n",
            "1/1 [==============================] - 0s 17ms/step - loss: 12.1109 - mae: 12.1109\n",
            "Epoch 10/100\n",
            "1/1 [==============================] - 0s 6ms/step - loss: 12.0250 - mae: 12.0250\n",
            "Epoch 11/100\n",
            "1/1 [==============================] - 0s 10ms/step - loss: 11.9390 - mae: 11.9390\n",
            "Epoch 12/100\n",
            "1/1 [==============================] - 0s 8ms/step - loss: 11.8530 - mae: 11.8530\n",
            "Epoch 13/100\n",
            "1/1 [==============================] - 0s 11ms/step - loss: 11.7669 - mae: 11.7669\n",
            "Epoch 14/100\n",
            "1/1 [==============================] - 0s 8ms/step - loss: 11.6808 - mae: 11.6808\n",
            "Epoch 15/100\n",
            "1/1 [==============================] - 0s 16ms/step - loss: 11.5946 - mae: 11.5946\n",
            "Epoch 16/100\n",
            "1/1 [==============================] - 0s 6ms/step - loss: 11.5087 - mae: 11.5087\n",
            "Epoch 17/100\n",
            "1/1 [==============================] - 0s 10ms/step - loss: 11.4228 - mae: 11.4228\n",
            "Epoch 18/100\n",
            "1/1 [==============================] - 0s 8ms/step - loss: 11.3369 - mae: 11.3369\n",
            "Epoch 19/100\n",
            "1/1 [==============================] - 0s 12ms/step - loss: 11.2514 - mae: 11.2514\n",
            "Epoch 20/100\n",
            "1/1 [==============================] - 0s 7ms/step - loss: 11.1665 - mae: 11.1665\n",
            "Epoch 21/100\n",
            "1/1 [==============================] - 0s 9ms/step - loss: 11.0827 - mae: 11.0827\n",
            "Epoch 22/100\n",
            "1/1 [==============================] - 0s 17ms/step - loss: 10.9994 - mae: 10.9994\n",
            "Epoch 23/100\n",
            "1/1 [==============================] - 0s 10ms/step - loss: 10.9160 - mae: 10.9160\n",
            "Epoch 24/100\n",
            "1/1 [==============================] - 0s 9ms/step - loss: 10.8326 - mae: 10.8326\n",
            "Epoch 25/100\n",
            "1/1 [==============================] - 0s 14ms/step - loss: 10.7496 - mae: 10.7496\n",
            "Epoch 26/100\n",
            "1/1 [==============================] - 0s 8ms/step - loss: 10.6664 - mae: 10.6664\n",
            "Epoch 27/100\n",
            "1/1 [==============================] - 0s 8ms/step - loss: 10.5831 - mae: 10.5831\n",
            "Epoch 28/100\n",
            "1/1 [==============================] - 0s 9ms/step - loss: 10.4996 - mae: 10.4996\n",
            "Epoch 29/100\n",
            "1/1 [==============================] - 0s 9ms/step - loss: 10.4158 - mae: 10.4158\n",
            "Epoch 30/100\n",
            "1/1 [==============================] - 0s 13ms/step - loss: 10.3317 - mae: 10.3317\n",
            "Epoch 31/100\n",
            "1/1 [==============================] - 0s 14ms/step - loss: 10.2474 - mae: 10.2474\n",
            "Epoch 32/100\n",
            "1/1 [==============================] - 0s 12ms/step - loss: 10.1628 - mae: 10.1628\n",
            "Epoch 33/100\n",
            "1/1 [==============================] - 0s 8ms/step - loss: 10.0887 - mae: 10.0887\n",
            "Epoch 34/100\n",
            "1/1 [==============================] - 0s 9ms/step - loss: 10.0282 - mae: 10.0282\n",
            "Epoch 35/100\n",
            "1/1 [==============================] - 0s 11ms/step - loss: 9.9673 - mae: 9.9673\n",
            "Epoch 36/100\n",
            "1/1 [==============================] - 0s 6ms/step - loss: 9.9059 - mae: 9.9059\n",
            "Epoch 37/100\n",
            "1/1 [==============================] - 0s 10ms/step - loss: 9.8441 - mae: 9.8441\n",
            "Epoch 38/100\n",
            "1/1 [==============================] - 0s 13ms/step - loss: 9.7818 - mae: 9.7818\n",
            "Epoch 39/100\n",
            "1/1 [==============================] - 0s 11ms/step - loss: 9.7192 - mae: 9.7192\n",
            "Epoch 40/100\n",
            "1/1 [==============================] - 0s 11ms/step - loss: 9.6559 - mae: 9.6559\n",
            "Epoch 41/100\n",
            "1/1 [==============================] - 0s 14ms/step - loss: 9.5924 - mae: 9.5924\n",
            "Epoch 42/100\n",
            "1/1 [==============================] - 0s 13ms/step - loss: 9.5285 - mae: 9.5285\n",
            "Epoch 43/100\n",
            "1/1 [==============================] - 0s 39ms/step - loss: 9.4644 - mae: 9.4644\n",
            "Epoch 44/100\n",
            "1/1 [==============================] - 0s 23ms/step - loss: 9.3999 - mae: 9.3999\n",
            "Epoch 45/100\n",
            "1/1 [==============================] - 0s 7ms/step - loss: 9.3350 - mae: 9.3350\n",
            "Epoch 46/100\n",
            "1/1 [==============================] - 0s 17ms/step - loss: 9.2697 - mae: 9.2697\n",
            "Epoch 47/100\n",
            "1/1 [==============================] - 0s 15ms/step - loss: 9.2038 - mae: 9.2038\n",
            "Epoch 48/100\n",
            "1/1 [==============================] - 0s 6ms/step - loss: 9.1375 - mae: 9.1375\n",
            "Epoch 49/100\n",
            "1/1 [==============================] - 0s 12ms/step - loss: 9.0707 - mae: 9.0707\n",
            "Epoch 50/100\n",
            "1/1 [==============================] - 0s 15ms/step - loss: 9.0034 - mae: 9.0034\n",
            "Epoch 51/100\n",
            "1/1 [==============================] - 0s 11ms/step - loss: 8.9356 - mae: 8.9356\n",
            "Epoch 52/100\n",
            "1/1 [==============================] - 0s 15ms/step - loss: 8.8674 - mae: 8.8674\n",
            "Epoch 53/100\n",
            "1/1 [==============================] - 0s 7ms/step - loss: 8.7987 - mae: 8.7987\n",
            "Epoch 54/100\n",
            "1/1 [==============================] - 0s 19ms/step - loss: 8.7294 - mae: 8.7294\n",
            "Epoch 55/100\n",
            "1/1 [==============================] - 0s 15ms/step - loss: 8.6597 - mae: 8.6597\n",
            "Epoch 56/100\n",
            "1/1 [==============================] - 0s 12ms/step - loss: 8.5895 - mae: 8.5895\n",
            "Epoch 57/100\n",
            "1/1 [==============================] - 0s 13ms/step - loss: 8.5188 - mae: 8.5188\n",
            "Epoch 58/100\n",
            "1/1 [==============================] - 0s 12ms/step - loss: 8.4476 - mae: 8.4476\n",
            "Epoch 59/100\n",
            "1/1 [==============================] - 0s 9ms/step - loss: 8.3758 - mae: 8.3758\n",
            "Epoch 60/100\n",
            "1/1 [==============================] - 0s 16ms/step - loss: 8.3036 - mae: 8.3036\n",
            "Epoch 61/100\n",
            "1/1 [==============================] - 0s 10ms/step - loss: 8.2308 - mae: 8.2308\n",
            "Epoch 62/100\n",
            "1/1 [==============================] - 0s 16ms/step - loss: 8.1575 - mae: 8.1575\n",
            "Epoch 63/100\n",
            "1/1 [==============================] - 0s 17ms/step - loss: 8.0837 - mae: 8.0837\n",
            "Epoch 64/100\n",
            "1/1 [==============================] - 0s 8ms/step - loss: 8.0094 - mae: 8.0094\n",
            "Epoch 65/100\n",
            "1/1 [==============================] - 0s 10ms/step - loss: 7.9345 - mae: 7.9345\n",
            "Epoch 66/100\n",
            "1/1 [==============================] - 0s 11ms/step - loss: 7.8590 - mae: 7.8590\n",
            "Epoch 67/100\n",
            "1/1 [==============================] - 0s 8ms/step - loss: 7.7830 - mae: 7.7830\n",
            "Epoch 68/100\n",
            "1/1 [==============================] - 0s 8ms/step - loss: 7.7064 - mae: 7.7064\n",
            "Epoch 69/100\n",
            "1/1 [==============================] - 0s 8ms/step - loss: 7.6293 - mae: 7.6293\n",
            "Epoch 70/100\n",
            "1/1 [==============================] - 0s 10ms/step - loss: 7.5516 - mae: 7.5516\n",
            "Epoch 71/100\n",
            "1/1 [==============================] - 0s 9ms/step - loss: 7.4733 - mae: 7.4733\n",
            "Epoch 72/100\n",
            "1/1 [==============================] - 0s 11ms/step - loss: 7.3945 - mae: 7.3945\n",
            "Epoch 73/100\n",
            "1/1 [==============================] - 0s 10ms/step - loss: 7.3151 - mae: 7.3151\n",
            "Epoch 74/100\n",
            "1/1 [==============================] - 0s 11ms/step - loss: 7.2350 - mae: 7.2350\n",
            "Epoch 75/100\n",
            "1/1 [==============================] - 0s 9ms/step - loss: 7.1544 - mae: 7.1544\n",
            "Epoch 76/100\n",
            "1/1 [==============================] - 0s 9ms/step - loss: 7.0731 - mae: 7.0731\n",
            "Epoch 77/100\n",
            "1/1 [==============================] - 0s 9ms/step - loss: 6.9913 - mae: 6.9913\n",
            "Epoch 78/100\n",
            "1/1 [==============================] - 0s 9ms/step - loss: 6.9088 - mae: 6.9088\n",
            "Epoch 79/100\n",
            "1/1 [==============================] - 0s 8ms/step - loss: 6.8256 - mae: 6.8256\n",
            "Epoch 80/100\n",
            "1/1 [==============================] - 0s 8ms/step - loss: 6.7419 - mae: 6.7419\n",
            "Epoch 81/100\n",
            "1/1 [==============================] - 0s 12ms/step - loss: 6.6575 - mae: 6.6575\n",
            "Epoch 82/100\n",
            "1/1 [==============================] - 0s 20ms/step - loss: 6.5724 - mae: 6.5724\n",
            "Epoch 83/100\n",
            "1/1 [==============================] - 0s 13ms/step - loss: 6.4867 - mae: 6.4867\n",
            "Epoch 84/100\n",
            "1/1 [==============================] - 0s 10ms/step - loss: 6.4003 - mae: 6.4003\n",
            "Epoch 85/100\n",
            "1/1 [==============================] - 0s 8ms/step - loss: 6.3133 - mae: 6.3133\n",
            "Epoch 86/100\n",
            "1/1 [==============================] - 0s 20ms/step - loss: 6.2255 - mae: 6.2255\n",
            "Epoch 87/100\n",
            "1/1 [==============================] - 0s 11ms/step - loss: 6.1371 - mae: 6.1371\n",
            "Epoch 88/100\n",
            "1/1 [==============================] - 0s 9ms/step - loss: 6.0481 - mae: 6.0481\n",
            "Epoch 89/100\n",
            "1/1 [==============================] - 0s 8ms/step - loss: 5.9584 - mae: 5.9584\n",
            "Epoch 90/100\n",
            "1/1 [==============================] - 0s 10ms/step - loss: 5.8680 - mae: 5.8680\n",
            "Epoch 91/100\n",
            "1/1 [==============================] - 0s 7ms/step - loss: 5.7769 - mae: 5.7769\n",
            "Epoch 92/100\n",
            "1/1 [==============================] - 0s 11ms/step - loss: 5.6851 - mae: 5.6851\n",
            "Epoch 93/100\n",
            "1/1 [==============================] - 0s 17ms/step - loss: 5.5926 - mae: 5.5926\n",
            "Epoch 94/100\n",
            "1/1 [==============================] - 0s 17ms/step - loss: 5.4994 - mae: 5.4994\n",
            "Epoch 95/100\n",
            "1/1 [==============================] - 0s 13ms/step - loss: 5.4056 - mae: 5.4056\n",
            "Epoch 96/100\n",
            "1/1 [==============================] - 0s 14ms/step - loss: 5.3115 - mae: 5.3115\n",
            "Epoch 97/100\n",
            "1/1 [==============================] - 0s 15ms/step - loss: 5.2173 - mae: 5.2173\n",
            "Epoch 98/100\n",
            "1/1 [==============================] - 0s 16ms/step - loss: 5.1213 - mae: 5.1213\n",
            "Epoch 99/100\n",
            "1/1 [==============================] - 0s 10ms/step - loss: 5.0256 - mae: 5.0256\n",
            "Epoch 100/100\n",
            "1/1 [==============================] - 0s 8ms/step - loss: 4.9291 - mae: 4.9291\n"
          ]
        },
        {
          "output_type": "execute_result",
          "data": {
            "text/plain": [
              "<keras.callbacks.History at 0x7f1124871690>"
            ]
          },
          "metadata": {},
          "execution_count": 25
        }
      ]
    },
    {
      "cell_type": "code",
      "metadata": {
        "colab": {
          "base_uri": "https://localhost:8080/"
        },
        "id": "tZWSIiYJPxyC",
        "outputId": "20c965a7-4e96-4c0c-f38d-05200d4f3301"
      },
      "source": [
        "y_pred = model.predict([24.])\n",
        "y_pred"
      ],
      "execution_count": 29,
      "outputs": [
        {
          "output_type": "execute_result",
          "data": {
            "text/plain": [
              "array([[36.414692]], dtype=float32)"
            ]
          },
          "metadata": {},
          "execution_count": 29
        }
      ]
    },
    {
      "cell_type": "code",
      "metadata": {
        "id": "kqK3m0YwP2ey"
      },
      "source": [
        ""
      ],
      "execution_count": null,
      "outputs": []
    }
  ]
}