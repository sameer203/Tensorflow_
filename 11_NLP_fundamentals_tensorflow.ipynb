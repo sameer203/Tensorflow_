{
  "nbformat": 4,
  "nbformat_minor": 0,
  "metadata": {
    "colab": {
      "name": "11_NLP_fundamentals_tensorflow.ipynb",
      "provenance": [],
      "collapsed_sections": [],
      "authorship_tag": "ABX9TyPqfnVG/t8OmMfkAf8R7TqG",
      "include_colab_link": true
    },
    "kernelspec": {
      "name": "python3",
      "display_name": "Python 3"
    },
    "language_info": {
      "name": "python"
    }
  },
  "cells": [
    {
      "cell_type": "markdown",
      "metadata": {
        "id": "view-in-github",
        "colab_type": "text"
      },
      "source": [
        "<a href=\"https://colab.research.google.com/github/sameer203/Tensorflow_/blob/main/11_NLP_fundamentals_tensorflow.ipynb\" target=\"_parent\"><img src=\"https://colab.research.google.com/assets/colab-badge.svg\" alt=\"Open In Colab\"/></a>"
      ]
    },
    {
      "cell_type": "code",
      "metadata": {
        "colab": {
          "base_uri": "https://localhost:8080/"
        },
        "id": "WMyvSMxwYCet",
        "outputId": "88e14e40-821a-477b-9cd1-7760b6468ee7"
      },
      "source": [
        "!wget https://storage.googleapis.com/ztm_tf_course/nlp_getting_started.zip"
      ],
      "execution_count": 1,
      "outputs": [
        {
          "output_type": "stream",
          "name": "stdout",
          "text": [
            "--2021-11-02 12:50:51--  https://storage.googleapis.com/ztm_tf_course/nlp_getting_started.zip\n",
            "Resolving storage.googleapis.com (storage.googleapis.com)... 64.233.187.128, 64.233.188.128, 64.233.189.128, ...\n",
            "Connecting to storage.googleapis.com (storage.googleapis.com)|64.233.187.128|:443... connected.\n",
            "HTTP request sent, awaiting response... 200 OK\n",
            "Length: 607343 (593K) [application/zip]\n",
            "Saving to: ‘nlp_getting_started.zip’\n",
            "\n",
            "\rnlp_getting_started   0%[                    ]       0  --.-KB/s               \rnlp_getting_started 100%[===================>] 593.11K  --.-KB/s    in 0.006s  \n",
            "\n",
            "2021-11-02 12:50:51 (99.1 MB/s) - ‘nlp_getting_started.zip’ saved [607343/607343]\n",
            "\n"
          ]
        }
      ]
    },
    {
      "cell_type": "code",
      "metadata": {
        "colab": {
          "base_uri": "https://localhost:8080/"
        },
        "id": "M-eqJdaAYWlm",
        "outputId": "24106167-afd1-4c3d-818c-c175f6218f39"
      },
      "source": [
        "!wget https://raw.githubusercontent.com/mrdbourke/tensorflow-deep-learning/main/extras/helper_functions.py"
      ],
      "execution_count": 2,
      "outputs": [
        {
          "output_type": "stream",
          "name": "stdout",
          "text": [
            "--2021-11-02 12:50:51--  https://raw.githubusercontent.com/mrdbourke/tensorflow-deep-learning/main/extras/helper_functions.py\n",
            "Resolving raw.githubusercontent.com (raw.githubusercontent.com)... 185.199.110.133, 185.199.109.133, 185.199.111.133, ...\n",
            "Connecting to raw.githubusercontent.com (raw.githubusercontent.com)|185.199.110.133|:443... connected.\n",
            "HTTP request sent, awaiting response... 200 OK\n",
            "Length: 10246 (10K) [text/plain]\n",
            "Saving to: ‘helper_functions.py’\n",
            "\n",
            "helper_functions.py 100%[===================>]  10.01K  --.-KB/s    in 0s      \n",
            "\n",
            "2021-11-02 12:50:51 (87.0 MB/s) - ‘helper_functions.py’ saved [10246/10246]\n",
            "\n"
          ]
        }
      ]
    },
    {
      "cell_type": "code",
      "metadata": {
        "id": "6zKMs1zGYeoU"
      },
      "source": [
        "from helper_functions import create_tensorboard_callback, plot_loss_curves, compare_historys,unzip_data"
      ],
      "execution_count": 3,
      "outputs": []
    },
    {
      "cell_type": "code",
      "metadata": {
        "id": "CokNTHOxYyUU"
      },
      "source": [
        "unzip_data(\"nlp_getting_started.zip\")"
      ],
      "execution_count": 4,
      "outputs": []
    },
    {
      "cell_type": "markdown",
      "metadata": {
        "id": "lpp53Wd5Y28y"
      },
      "source": [
        "### Visualizing Test data\n",
        "1. pandas\n",
        "2. tensorflowload text"
      ]
    },
    {
      "cell_type": "code",
      "metadata": {
        "id": "83JDxejRaF-a"
      },
      "source": [
        "import pandas as pd"
      ],
      "execution_count": 5,
      "outputs": []
    },
    {
      "cell_type": "code",
      "metadata": {
        "colab": {
          "base_uri": "https://localhost:8080/",
          "height": 204
        },
        "id": "DBmLjfpWalqd",
        "outputId": "8420a4a0-66ad-4df0-849c-0e5cb97817f9"
      },
      "source": [
        "train_df = pd.read_csv(\"train.csv\")\n",
        "test_df = pd.read_csv(\"test.csv\")\n",
        "\n",
        "train_df.head()"
      ],
      "execution_count": 6,
      "outputs": [
        {
          "output_type": "execute_result",
          "data": {
            "text/html": [
              "<div>\n",
              "<style scoped>\n",
              "    .dataframe tbody tr th:only-of-type {\n",
              "        vertical-align: middle;\n",
              "    }\n",
              "\n",
              "    .dataframe tbody tr th {\n",
              "        vertical-align: top;\n",
              "    }\n",
              "\n",
              "    .dataframe thead th {\n",
              "        text-align: right;\n",
              "    }\n",
              "</style>\n",
              "<table border=\"1\" class=\"dataframe\">\n",
              "  <thead>\n",
              "    <tr style=\"text-align: right;\">\n",
              "      <th></th>\n",
              "      <th>id</th>\n",
              "      <th>keyword</th>\n",
              "      <th>location</th>\n",
              "      <th>text</th>\n",
              "      <th>target</th>\n",
              "    </tr>\n",
              "  </thead>\n",
              "  <tbody>\n",
              "    <tr>\n",
              "      <th>0</th>\n",
              "      <td>1</td>\n",
              "      <td>NaN</td>\n",
              "      <td>NaN</td>\n",
              "      <td>Our Deeds are the Reason of this #earthquake M...</td>\n",
              "      <td>1</td>\n",
              "    </tr>\n",
              "    <tr>\n",
              "      <th>1</th>\n",
              "      <td>4</td>\n",
              "      <td>NaN</td>\n",
              "      <td>NaN</td>\n",
              "      <td>Forest fire near La Ronge Sask. Canada</td>\n",
              "      <td>1</td>\n",
              "    </tr>\n",
              "    <tr>\n",
              "      <th>2</th>\n",
              "      <td>5</td>\n",
              "      <td>NaN</td>\n",
              "      <td>NaN</td>\n",
              "      <td>All residents asked to 'shelter in place' are ...</td>\n",
              "      <td>1</td>\n",
              "    </tr>\n",
              "    <tr>\n",
              "      <th>3</th>\n",
              "      <td>6</td>\n",
              "      <td>NaN</td>\n",
              "      <td>NaN</td>\n",
              "      <td>13,000 people receive #wildfires evacuation or...</td>\n",
              "      <td>1</td>\n",
              "    </tr>\n",
              "    <tr>\n",
              "      <th>4</th>\n",
              "      <td>7</td>\n",
              "      <td>NaN</td>\n",
              "      <td>NaN</td>\n",
              "      <td>Just got sent this photo from Ruby #Alaska as ...</td>\n",
              "      <td>1</td>\n",
              "    </tr>\n",
              "  </tbody>\n",
              "</table>\n",
              "</div>"
            ],
            "text/plain": [
              "   id keyword  ...                                               text target\n",
              "0   1     NaN  ...  Our Deeds are the Reason of this #earthquake M...      1\n",
              "1   4     NaN  ...             Forest fire near La Ronge Sask. Canada      1\n",
              "2   5     NaN  ...  All residents asked to 'shelter in place' are ...      1\n",
              "3   6     NaN  ...  13,000 people receive #wildfires evacuation or...      1\n",
              "4   7     NaN  ...  Just got sent this photo from Ruby #Alaska as ...      1\n",
              "\n",
              "[5 rows x 5 columns]"
            ]
          },
          "metadata": {},
          "execution_count": 6
        }
      ]
    },
    {
      "cell_type": "code",
      "metadata": {
        "colab": {
          "base_uri": "https://localhost:8080/",
          "height": 204
        },
        "id": "Cxh2wQQ0a0Od",
        "outputId": "d1621c7b-98ec-487e-be6f-c8c4f739e31d"
      },
      "source": [
        "# Shuffle training data\n",
        "train_df_shuffled = train_df.sample(frac=1, random_state=42)\n",
        "train_df_shuffled.head()"
      ],
      "execution_count": 7,
      "outputs": [
        {
          "output_type": "execute_result",
          "data": {
            "text/html": [
              "<div>\n",
              "<style scoped>\n",
              "    .dataframe tbody tr th:only-of-type {\n",
              "        vertical-align: middle;\n",
              "    }\n",
              "\n",
              "    .dataframe tbody tr th {\n",
              "        vertical-align: top;\n",
              "    }\n",
              "\n",
              "    .dataframe thead th {\n",
              "        text-align: right;\n",
              "    }\n",
              "</style>\n",
              "<table border=\"1\" class=\"dataframe\">\n",
              "  <thead>\n",
              "    <tr style=\"text-align: right;\">\n",
              "      <th></th>\n",
              "      <th>id</th>\n",
              "      <th>keyword</th>\n",
              "      <th>location</th>\n",
              "      <th>text</th>\n",
              "      <th>target</th>\n",
              "    </tr>\n",
              "  </thead>\n",
              "  <tbody>\n",
              "    <tr>\n",
              "      <th>2644</th>\n",
              "      <td>3796</td>\n",
              "      <td>destruction</td>\n",
              "      <td>NaN</td>\n",
              "      <td>So you have a new weapon that can cause un-ima...</td>\n",
              "      <td>1</td>\n",
              "    </tr>\n",
              "    <tr>\n",
              "      <th>2227</th>\n",
              "      <td>3185</td>\n",
              "      <td>deluge</td>\n",
              "      <td>NaN</td>\n",
              "      <td>The f$&amp;amp;@ing things I do for #GISHWHES Just...</td>\n",
              "      <td>0</td>\n",
              "    </tr>\n",
              "    <tr>\n",
              "      <th>5448</th>\n",
              "      <td>7769</td>\n",
              "      <td>police</td>\n",
              "      <td>UK</td>\n",
              "      <td>DT @georgegalloway: RT @Galloway4Mayor: ÛÏThe...</td>\n",
              "      <td>1</td>\n",
              "    </tr>\n",
              "    <tr>\n",
              "      <th>132</th>\n",
              "      <td>191</td>\n",
              "      <td>aftershock</td>\n",
              "      <td>NaN</td>\n",
              "      <td>Aftershock back to school kick off was great. ...</td>\n",
              "      <td>0</td>\n",
              "    </tr>\n",
              "    <tr>\n",
              "      <th>6845</th>\n",
              "      <td>9810</td>\n",
              "      <td>trauma</td>\n",
              "      <td>Montgomery County, MD</td>\n",
              "      <td>in response to trauma Children of Addicts deve...</td>\n",
              "      <td>0</td>\n",
              "    </tr>\n",
              "  </tbody>\n",
              "</table>\n",
              "</div>"
            ],
            "text/plain": [
              "        id  ... target\n",
              "2644  3796  ...      1\n",
              "2227  3185  ...      0\n",
              "5448  7769  ...      1\n",
              "132    191  ...      0\n",
              "6845  9810  ...      0\n",
              "\n",
              "[5 rows x 5 columns]"
            ]
          },
          "metadata": {},
          "execution_count": 7
        }
      ]
    },
    {
      "cell_type": "code",
      "metadata": {
        "colab": {
          "base_uri": "https://localhost:8080/",
          "height": 204
        },
        "id": "n74oRr6gbP7b",
        "outputId": "22c2d1c6-d6a9-45f0-8e99-a76e6661b375"
      },
      "source": [
        "test_df.head()"
      ],
      "execution_count": 8,
      "outputs": [
        {
          "output_type": "execute_result",
          "data": {
            "text/html": [
              "<div>\n",
              "<style scoped>\n",
              "    .dataframe tbody tr th:only-of-type {\n",
              "        vertical-align: middle;\n",
              "    }\n",
              "\n",
              "    .dataframe tbody tr th {\n",
              "        vertical-align: top;\n",
              "    }\n",
              "\n",
              "    .dataframe thead th {\n",
              "        text-align: right;\n",
              "    }\n",
              "</style>\n",
              "<table border=\"1\" class=\"dataframe\">\n",
              "  <thead>\n",
              "    <tr style=\"text-align: right;\">\n",
              "      <th></th>\n",
              "      <th>id</th>\n",
              "      <th>keyword</th>\n",
              "      <th>location</th>\n",
              "      <th>text</th>\n",
              "    </tr>\n",
              "  </thead>\n",
              "  <tbody>\n",
              "    <tr>\n",
              "      <th>0</th>\n",
              "      <td>0</td>\n",
              "      <td>NaN</td>\n",
              "      <td>NaN</td>\n",
              "      <td>Just happened a terrible car crash</td>\n",
              "    </tr>\n",
              "    <tr>\n",
              "      <th>1</th>\n",
              "      <td>2</td>\n",
              "      <td>NaN</td>\n",
              "      <td>NaN</td>\n",
              "      <td>Heard about #earthquake is different cities, s...</td>\n",
              "    </tr>\n",
              "    <tr>\n",
              "      <th>2</th>\n",
              "      <td>3</td>\n",
              "      <td>NaN</td>\n",
              "      <td>NaN</td>\n",
              "      <td>there is a forest fire at spot pond, geese are...</td>\n",
              "    </tr>\n",
              "    <tr>\n",
              "      <th>3</th>\n",
              "      <td>9</td>\n",
              "      <td>NaN</td>\n",
              "      <td>NaN</td>\n",
              "      <td>Apocalypse lighting. #Spokane #wildfires</td>\n",
              "    </tr>\n",
              "    <tr>\n",
              "      <th>4</th>\n",
              "      <td>11</td>\n",
              "      <td>NaN</td>\n",
              "      <td>NaN</td>\n",
              "      <td>Typhoon Soudelor kills 28 in China and Taiwan</td>\n",
              "    </tr>\n",
              "  </tbody>\n",
              "</table>\n",
              "</div>"
            ],
            "text/plain": [
              "   id keyword location                                               text\n",
              "0   0     NaN      NaN                 Just happened a terrible car crash\n",
              "1   2     NaN      NaN  Heard about #earthquake is different cities, s...\n",
              "2   3     NaN      NaN  there is a forest fire at spot pond, geese are...\n",
              "3   9     NaN      NaN           Apocalypse lighting. #Spokane #wildfires\n",
              "4  11     NaN      NaN      Typhoon Soudelor kills 28 in China and Taiwan"
            ]
          },
          "metadata": {},
          "execution_count": 8
        }
      ]
    },
    {
      "cell_type": "code",
      "metadata": {
        "colab": {
          "base_uri": "https://localhost:8080/"
        },
        "id": "3Rs-A2L8bX8a",
        "outputId": "7be80085-7305-4e8a-a674-ccc0149d5c3a"
      },
      "source": [
        "train_df_shuffled.target.value_counts()"
      ],
      "execution_count": 9,
      "outputs": [
        {
          "output_type": "execute_result",
          "data": {
            "text/plain": [
              "0    4342\n",
              "1    3271\n",
              "Name: target, dtype: int64"
            ]
          },
          "metadata": {},
          "execution_count": 9
        }
      ]
    },
    {
      "cell_type": "code",
      "metadata": {
        "colab": {
          "base_uri": "https://localhost:8080/"
        },
        "id": "a9u00yeZbmAZ",
        "outputId": "635ed4eb-b664-45e5-e058-45f08d640b59"
      },
      "source": [
        "len(train_df), len(test_df)"
      ],
      "execution_count": 10,
      "outputs": [
        {
          "output_type": "execute_result",
          "data": {
            "text/plain": [
              "(7613, 3263)"
            ]
          },
          "metadata": {},
          "execution_count": 10
        }
      ]
    },
    {
      "cell_type": "code",
      "metadata": {
        "colab": {
          "base_uri": "https://localhost:8080/"
        },
        "id": "Hs3h_8_JcSaY",
        "outputId": "ebef1291-7eca-4ae3-b481-ae4c7daa3642"
      },
      "source": [
        "import random\n",
        "random_index = random.randint(0, len(train_df)-5)\n",
        "for row in train_df_shuffled[[\"text\", \"target\"]][random_index:random_index+5].itertuples():\n",
        "  _, text, target = row\n",
        "  print(f\"Target: {target}\", \"(real diaster)\" if target > 0 else \"(not real diaster)\")\n",
        "  print(f\"Text:\\n {text}\\n\")"
      ],
      "execution_count": 11,
      "outputs": [
        {
          "output_type": "stream",
          "name": "stdout",
          "text": [
            "Target: 1 (real diaster)\n",
            "Text:\n",
            " @KapoKekito on northgate by the taco truck that's fire.\n",
            "\n",
            "Target: 1 (real diaster)\n",
            "Text:\n",
            " DLH issues Hazardous Weather Outlook (HWO) http://t.co/WOzuBXRi2p\n",
            "\n",
            "Target: 1 (real diaster)\n",
            "Text:\n",
            " #reuters Twelve feared killed in Pakistani air ambulance helicopter crash http://t.co/ShzPyIQok5\n",
            "\n",
            "Target: 1 (real diaster)\n",
            "Text:\n",
            " China's Stock Market Crash: Are There Gems In The Rubble? http://t.co/j4ggmKINEy #forbesasia\n",
            "\n",
            "Target: 0 (not real diaster)\n",
            "Text:\n",
            " @Safyuan just a minor citation for possesion of a decriminalized substance im not facing any time\n",
            "\n"
          ]
        }
      ]
    },
    {
      "cell_type": "code",
      "metadata": {
        "id": "rHQARrnrddhe"
      },
      "source": [
        "from sklearn.model_selection import train_test_split"
      ],
      "execution_count": 12,
      "outputs": []
    },
    {
      "cell_type": "code",
      "metadata": {
        "id": "vnvzPPZkenTh"
      },
      "source": [
        "train_sentences, test_sentences, train_labels, test_labels = train_test_split(train_df_shuffled[\"text\"].to_numpy(), \n",
        "                                                                              train_df_shuffled[\"target\"].to_numpy(), \n",
        "                                                                              test_size=0.1, \n",
        "                                                                              random_state=42)"
      ],
      "execution_count": 13,
      "outputs": []
    },
    {
      "cell_type": "code",
      "metadata": {
        "colab": {
          "base_uri": "https://localhost:8080/"
        },
        "id": "pOL638awfPCJ",
        "outputId": "5c285e42-5276-4b7d-84cb-a532fe6971b5"
      },
      "source": [
        "len(train_sentences), len(test_sentences)"
      ],
      "execution_count": 14,
      "outputs": [
        {
          "output_type": "execute_result",
          "data": {
            "text/plain": [
              "(6851, 762)"
            ]
          },
          "metadata": {},
          "execution_count": 14
        }
      ]
    },
    {
      "cell_type": "code",
      "metadata": {
        "colab": {
          "base_uri": "https://localhost:8080/"
        },
        "id": "5VBPPvz8fV9-",
        "outputId": "f143b457-daff-44b8-965b-01b0ea036cfe"
      },
      "source": [
        "train_sentences[:10], train_labels[:10]"
      ],
      "execution_count": 15,
      "outputs": [
        {
          "output_type": "execute_result",
          "data": {
            "text/plain": [
              "(array(['@mogacola @zamtriossu i screamed after hitting tweet',\n",
              "        'Imagine getting flattened by Kurt Zouma',\n",
              "        '@Gurmeetramrahim #MSGDoing111WelfareWorks Green S welfare force ke appx 65000 members har time disaster victim ki help ke liye tyar hai....',\n",
              "        \"@shakjn @C7 @Magnums im shaking in fear he's gonna hack the planet\",\n",
              "        'Somehow find you and I collide http://t.co/Ee8RpOahPk',\n",
              "        '@EvaHanderek @MarleyKnysh great times until the bus driver held us hostage in the mall parking lot lmfao',\n",
              "        'destroy the free fandom honestly',\n",
              "        'Weapons stolen from National Guard Armory in New Albany still missing #Gunsense http://t.co/lKNU8902JE',\n",
              "        '@wfaaweather Pete when will the heat wave pass? Is it really going to be mid month? Frisco Boy Scouts have a canoe trip in Okla.',\n",
              "        'Patient-reported outcomes in long-term survivors of metastatic colorectal cancer - British Journal of Surgery http://t.co/5Yl4DC1Tqt'],\n",
              "       dtype=object), array([0, 0, 1, 0, 0, 1, 1, 0, 1, 1]))"
            ]
          },
          "metadata": {},
          "execution_count": 15
        }
      ]
    },
    {
      "cell_type": "markdown",
      "metadata": {
        "id": "HBNbFDUgflre"
      },
      "source": [
        "### Text Vectorization"
      ]
    },
    {
      "cell_type": "code",
      "metadata": {
        "id": "wC1Ez42Ci2CE"
      },
      "source": [
        "import tensorflow as tf\n",
        "from tensorflow.keras.layers.experimental.preprocessing import TextVectorization"
      ],
      "execution_count": 16,
      "outputs": []
    },
    {
      "cell_type": "code",
      "metadata": {
        "id": "1YGmrP1VjFED"
      },
      "source": [
        "# use the defaultTextVectorization parameters\n",
        "text_vectorization = TextVectorization(max_tokens=None,\n",
        "                                       standardize=\"lower_and_strip_punctuation\",\n",
        "                                       split=\"whitespace\",\n",
        "                                       ngrams=None,\n",
        "                                       output_mode=\"int\",\n",
        "                                       output_sequence_length=None,\n",
        "                                       pad_to_max_tokens=False)\n"
      ],
      "execution_count": 29,
      "outputs": []
    },
    {
      "cell_type": "code",
      "metadata": {
        "colab": {
          "base_uri": "https://localhost:8080/"
        },
        "id": "2hxnrQgAv2DS",
        "outputId": "27b544dd-b108-44d9-c7b4-71af93be1e2e"
      },
      "source": [
        "# Find the average number of tokens in the training tweets\n",
        "sum = 0\n",
        "for i in train_sentences:\n",
        "  sum = sum + len(i.split())\n",
        "round(sum)\n",
        "average = round(sum/len(train_sentences))\n",
        "average"
      ],
      "execution_count": 27,
      "outputs": [
        {
          "output_type": "execute_result",
          "data": {
            "text/plain": [
              "15"
            ]
          },
          "metadata": {},
          "execution_count": 27
        }
      ]
    },
    {
      "cell_type": "code",
      "metadata": {
        "id": "cp6b5GGQwmHm"
      },
      "source": [
        "# Setup text vectorization variables\n",
        "max_vocab_length = 10000\n",
        "max_length = 15\n",
        "text_vectorizer = TextVectorization(max_tokens=max_vocab_length,\n",
        "                                       output_sequence_length=max_length,\n",
        "                                       output_mode=\"int\")"
      ],
      "execution_count": 30,
      "outputs": []
    },
    {
      "cell_type": "code",
      "metadata": {
        "id": "bFSDH_Gpx9KT"
      },
      "source": [
        "# Fit the text vectorizer to the training data\n",
        "text_vectorizer.adapt(train_sentences)"
      ],
      "execution_count": 31,
      "outputs": []
    },
    {
      "cell_type": "code",
      "metadata": {
        "colab": {
          "base_uri": "https://localhost:8080/"
        },
        "id": "SmhsKGT3zbnn",
        "outputId": "656636eb-3be7-4ba7-e4c0-dc230d673112"
      },
      "source": [
        "# Create a samplesentence and tokenize it\n",
        "sample_sentence= \"My name is sameer\"\n",
        "text_vectorizer([sample_sentence])"
      ],
      "execution_count": 33,
      "outputs": [
        {
          "output_type": "execute_result",
          "data": {
            "text/plain": [
              "<tf.Tensor: shape=(1, 15), dtype=int64, numpy=\n",
              "array([[ 13, 735,   9,   1,   0,   0,   0,   0,   0,   0,   0,   0,   0,\n",
              "          0,   0]])>"
            ]
          },
          "metadata": {},
          "execution_count": 33
        }
      ]
    },
    {
      "cell_type": "code",
      "metadata": {
        "colab": {
          "base_uri": "https://localhost:8080/"
        },
        "id": "8fqJX260zm3c",
        "outputId": "e710baa7-5678-40bc-9178-2d46ca5300f5"
      },
      "source": [
        "# Vectorize a random sentence from training set\n",
        "random_sentence = random.choice(train_sentences)\n",
        "\n",
        "random_sentence, text_vectorizer([random_sentence])"
      ],
      "execution_count": 41,
      "outputs": [
        {
          "output_type": "execute_result",
          "data": {
            "text/plain": [
              "(\"VIDEO: 'We're picking up bodies from water': Rescuers are searching for hundreds of migrants in the Mediterranean after a boat carryi...\",\n",
              " <tf.Tensor: shape=(1, 15), dtype=int64, numpy=\n",
              " array([[ 72,  67, 728,  27, 713,  20, 190, 341,  22, 669,  10, 482,   6,\n",
              "         330,   4]])>)"
            ]
          },
          "metadata": {},
          "execution_count": 41
        }
      ]
    },
    {
      "cell_type": "code",
      "metadata": {
        "colab": {
          "base_uri": "https://localhost:8080/"
        },
        "id": "V7rrI0QAz_Lr",
        "outputId": "8262606c-bc0c-41b1-f303-021f588ea18e"
      },
      "source": [
        "# Get the unique words in the vocabulary\n",
        "words_in_vocab = text_vectorizer.get_vocabulary()\n",
        "words_in_vocab[:5]"
      ],
      "execution_count": 42,
      "outputs": [
        {
          "output_type": "execute_result",
          "data": {
            "text/plain": [
              "['', '[UNK]', 'the', 'a', 'in']"
            ]
          },
          "metadata": {},
          "execution_count": 42
        }
      ]
    },
    {
      "cell_type": "code",
      "metadata": {
        "colab": {
          "base_uri": "https://localhost:8080/"
        },
        "id": "mHaHJn_X0qxZ",
        "outputId": "b27670ec-17a3-4b1e-b75b-beaa471c6d52"
      },
      "source": [
        "words_in_vocab[-5:]"
      ],
      "execution_count": 44,
      "outputs": [
        {
          "output_type": "execute_result",
          "data": {
            "text/plain": [
              "['pages', 'paeds', 'pads', 'padres', 'paddytomlinson1']"
            ]
          },
          "metadata": {},
          "execution_count": 44
        }
      ]
    },
    {
      "cell_type": "code",
      "metadata": {
        "id": "aqKwDg4D03-5"
      },
      "source": [
        "from tensorflow.keras import layers"
      ],
      "execution_count": 45,
      "outputs": []
    },
    {
      "cell_type": "code",
      "metadata": {
        "colab": {
          "base_uri": "https://localhost:8080/"
        },
        "id": "yyRMkmHv2ncU",
        "outputId": "eea86723-0f8b-4d3d-c05d-f0a9b9b0b803"
      },
      "source": [
        "embedding = layers.Embedding(input_dim=max_vocab_length,\n",
        "                             output_dim=128,\n",
        "                             input_length=max_length)\n",
        "embedding"
      ],
      "execution_count": 47,
      "outputs": [
        {
          "output_type": "execute_result",
          "data": {
            "text/plain": [
              "<keras.layers.embeddings.Embedding at 0x7f78972fafd0>"
            ]
          },
          "metadata": {},
          "execution_count": 47
        }
      ]
    },
    {
      "cell_type": "code",
      "metadata": {
        "colab": {
          "base_uri": "https://localhost:8080/"
        },
        "id": "lWcn8f8m23SC",
        "outputId": "6da9b5f9-9134-4736-8cf0-b37e9915a029"
      },
      "source": [
        "# turn sentences into dense vector of fixed size\n",
        "random_sentence = random.choice(train_sentences)\n",
        "\n",
        "sample_embed = embedding(text_vectorizer([random_sentence]))\n",
        "\n",
        "random_sentence, sample_embed"
      ],
      "execution_count": 59,
      "outputs": [
        {
          "output_type": "execute_result",
          "data": {
            "text/plain": [
              "('The 1st time someone blew up my phone 30 times they would be blocked. Believe it.  #Catfish',\n",
              " <tf.Tensor: shape=(1, 15, 128), dtype=float32, numpy=\n",
              " array([[[-0.02685957, -0.03080517,  0.02918035, ...,  0.03240104,\n",
              "           0.00635713, -0.04190356],\n",
              "         [-0.01509138,  0.01604826,  0.01223372, ...,  0.00265713,\n",
              "          -0.01252048, -0.01793432],\n",
              "         [-0.0138314 , -0.032279  , -0.04438777, ..., -0.01701869,\n",
              "           0.03050486,  0.04014689],\n",
              "         ...,\n",
              "         [-0.01591193, -0.0492851 , -0.02717621, ...,  0.01960199,\n",
              "           0.00083675,  0.04196235],\n",
              "         [-0.01902555, -0.03997222,  0.00824126, ..., -0.00774685,\n",
              "           0.03982954,  0.01922565],\n",
              "         [ 0.01618004, -0.03209539, -0.03981844, ..., -0.01378219,\n",
              "           0.00779831, -0.00998688]]], dtype=float32)>)"
            ]
          },
          "metadata": {},
          "execution_count": 59
        }
      ]
    },
    {
      "cell_type": "code",
      "metadata": {
        "colab": {
          "base_uri": "https://localhost:8080/"
        },
        "id": "aqolS4xS3nZA",
        "outputId": "c95810fd-1779-4526-c0cc-eb94396192eb"
      },
      "source": [
        "# checkout single tokens embedding\n",
        "sample_embed[0][0], sample_embed[0][0].shape, random_sentence"
      ],
      "execution_count": 61,
      "outputs": [
        {
          "output_type": "execute_result",
          "data": {
            "text/plain": [
              "(<tf.Tensor: shape=(128,), dtype=float32, numpy=\n",
              " array([-2.6859570e-02, -3.0805171e-02,  2.9180352e-02,  4.4149313e-02,\n",
              "        -1.8269084e-02, -1.1323262e-02,  8.4857121e-03,  1.0335587e-02,\n",
              "        -2.2263622e-02,  2.8672148e-02, -9.1390684e-04, -4.9862154e-03,\n",
              "        -2.1045078e-02, -1.3359405e-02,  4.6336856e-02, -3.3977389e-02,\n",
              "         3.5530139e-02, -4.6359695e-02,  1.9985173e-02, -4.0678870e-02,\n",
              "         2.6725937e-02,  5.2471384e-03, -1.4476694e-02,  2.4292994e-02,\n",
              "         5.0733313e-03, -1.2376703e-02, -1.5046060e-02, -1.4928687e-02,\n",
              "        -4.9035955e-02, -9.3955286e-03, -3.6249973e-02,  6.1243288e-03,\n",
              "         3.0003414e-03, -4.6361890e-02,  4.8455309e-02,  4.3506514e-02,\n",
              "         2.4883304e-02,  6.6457279e-03, -1.5491329e-02, -4.9855985e-02,\n",
              "         3.3085179e-02,  5.2198991e-03, -3.0762220e-02,  4.2414632e-02,\n",
              "        -4.7236122e-02, -4.8773527e-02,  2.0107273e-02, -8.2265586e-05,\n",
              "         3.7731614e-02,  2.7522054e-02, -4.6931755e-02, -2.0820618e-02,\n",
              "         4.5509186e-02,  4.7465410e-02, -2.4640251e-02, -4.8047364e-02,\n",
              "        -3.9907407e-02,  4.0995169e-02, -4.4846632e-02,  4.2867437e-03,\n",
              "         2.2291351e-02,  4.3271054e-02,  2.8817009e-02,  5.8360323e-03,\n",
              "         2.7264122e-02,  4.4001792e-02, -3.2889821e-02,  5.9821978e-03,\n",
              "        -2.9529000e-02, -1.9971704e-02, -3.8671613e-02, -8.8903680e-03,\n",
              "        -1.1723436e-02,  1.2940917e-02, -9.1360435e-03,  4.7877207e-03,\n",
              "         9.7213164e-03, -6.1532371e-03, -4.5293249e-02,  5.4999590e-03,\n",
              "         4.1976165e-02, -7.4140802e-03,  6.6997185e-03, -3.4638584e-02,\n",
              "        -1.8542457e-02, -1.7786134e-02, -4.8883416e-02, -2.2623790e-02,\n",
              "         4.4082627e-03, -5.0310977e-03, -2.8517414e-02, -2.1519437e-03,\n",
              "        -1.5541099e-02, -2.5640083e-02,  1.3545822e-02, -3.5054199e-03,\n",
              "        -3.2438137e-02, -1.7103624e-02,  2.2991922e-02, -1.3209034e-02,\n",
              "         7.2269812e-03, -9.7539797e-03,  3.8358439e-02, -3.7733205e-03,\n",
              "        -2.5135173e-02, -8.7378249e-03, -4.7821499e-02,  2.0527508e-02,\n",
              "        -7.5085647e-03, -1.7111193e-02, -2.5987769e-02,  4.3026123e-02,\n",
              "        -1.9650534e-04,  2.8306756e-02,  4.6746623e-02,  9.8544843e-03,\n",
              "        -2.2926426e-02,  1.5068259e-02,  2.5138047e-02, -4.0647972e-02,\n",
              "         2.8451625e-02,  1.4545444e-02, -1.3599619e-03,  4.6043430e-02,\n",
              "         4.5748685e-02,  3.2401036e-02,  6.3571334e-03, -4.1903555e-02],\n",
              "       dtype=float32)>,\n",
              " TensorShape([128]),\n",
              " 'The 1st time someone blew up my phone 30 times they would be blocked. Believe it.  #Catfish')"
            ]
          },
          "metadata": {},
          "execution_count": 61
        }
      ]
    },
    {
      "cell_type": "code",
      "metadata": {
        "id": "J4gq_7lE4Kx-"
      },
      "source": [
        ""
      ],
      "execution_count": null,
      "outputs": []
    }
  ]
}